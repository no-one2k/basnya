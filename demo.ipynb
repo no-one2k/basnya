{
 "cells": [
  {
   "cell_type": "code",
   "execution_count": 1,
   "id": "413fe343-e34d-46bc-ab40-235746547626",
   "metadata": {},
   "outputs": [],
   "source": [
    "import pandas as pd\n",
    "import numpy as np\n",
    "import os\n",
    "from dotenv import load_dotenv\n",
    "load_dotenv('openai.env')\n",
    "\n",
    "import datetime as dt\n",
    "\n",
    "pd.set_option('display.max_columns', None)\n",
    "pd.set_option('display.max_colwidth', 150)\n",
    "\n",
    "%load_ext autoreload\n",
    "%autoreload 2\n",
    "from back_fill_games import *"
   ]
  },
  {
   "cell_type": "markdown",
   "id": "619e39f4-c9ce-4c82-a0b2-9939ef6e0aca",
   "metadata": {},
   "source": [
    "# Get games"
   ]
  },
  {
   "cell_type": "code",
   "execution_count": 2,
   "id": "22bc2ee0-80e7-4ff5-8b07-b740eb2d0ebe",
   "metadata": {},
   "outputs": [
    {
     "data": {
      "text/html": [
       "<pre style=\"white-space:pre;overflow-x:auto;line-height:normal;font-family:Menlo,'DejaVu Sans Mono',consolas,'Courier New',monospace\">18:42:56.324 | <span style=\"color: #008080; text-decoration-color: #008080\">INFO</span>    | prefect.engine - Created flow run<span style=\"color: #800080; text-decoration-color: #800080\"> 'caped-parrot'</span> for flow<span style=\"color: #800080; text-decoration-color: #800080; font-weight: bold\"> 'fetch-games-for-date'</span>\n",
       "</pre>\n"
      ],
      "text/plain": [
       "18:42:56.324 | \u001b[36mINFO\u001b[0m    | prefect.engine - Created flow run\u001b[35m 'caped-parrot'\u001b[0m for flow\u001b[1;35m 'fetch-games-for-date'\u001b[0m\n"
      ]
     },
     "metadata": {},
     "output_type": "display_data"
    },
    {
     "data": {
      "text/html": [
       "<pre style=\"white-space:pre;overflow-x:auto;line-height:normal;font-family:Menlo,'DejaVu Sans Mono',consolas,'Courier New',monospace\">18:42:56.327 | <span style=\"color: #008080; text-decoration-color: #008080\">INFO</span>    | Flow run<span style=\"color: #800080; text-decoration-color: #800080\"> 'caped-parrot'</span> - View at <span style=\"color: #0000ff; text-decoration-color: #0000ff\">https://app.prefect.cloud/account/0915a191-39df-42e2-b744-13090d8bef96/workspace/aad552d2-34e7-48d3-b19e-69d06cf19a83/flow-runs/flow-run/e9fb1f9c-ee45-499c-8aff-b819b2cb15b6</span>\n",
       "</pre>\n"
      ],
      "text/plain": [
       "18:42:56.327 | \u001b[36mINFO\u001b[0m    | Flow run\u001b[35m 'caped-parrot'\u001b[0m - View at \u001b[94mhttps://app.prefect.cloud/account/0915a191-39df-42e2-b744-13090d8bef96/workspace/aad552d2-34e7-48d3-b19e-69d06cf19a83/flow-runs/flow-run/e9fb1f9c-ee45-499c-8aff-b819b2cb15b6\u001b[0m\n"
      ]
     },
     "metadata": {},
     "output_type": "display_data"
    },
    {
     "data": {
      "text/html": [
       "<pre style=\"white-space:pre;overflow-x:auto;line-height:normal;font-family:Menlo,'DejaVu Sans Mono',consolas,'Courier New',monospace\">18:42:57.245 | <span style=\"color: #008080; text-decoration-color: #008080\">INFO</span>    | Flow run<span style=\"color: #800080; text-decoration-color: #800080\"> 'caped-parrot'</span> - Created task run 'get_db_path-0' for task 'get_db_path'\n",
       "</pre>\n"
      ],
      "text/plain": [
       "18:42:57.245 | \u001b[36mINFO\u001b[0m    | Flow run\u001b[35m 'caped-parrot'\u001b[0m - Created task run 'get_db_path-0' for task 'get_db_path'\n"
      ]
     },
     "metadata": {},
     "output_type": "display_data"
    },
    {
     "data": {
      "text/html": [
       "<pre style=\"white-space:pre;overflow-x:auto;line-height:normal;font-family:Menlo,'DejaVu Sans Mono',consolas,'Courier New',monospace\">18:42:57.248 | <span style=\"color: #008080; text-decoration-color: #008080\">INFO</span>    | Flow run<span style=\"color: #800080; text-decoration-color: #800080\"> 'caped-parrot'</span> - Executing 'get_db_path-0' immediately...\n",
       "</pre>\n"
      ],
      "text/plain": [
       "18:42:57.248 | \u001b[36mINFO\u001b[0m    | Flow run\u001b[35m 'caped-parrot'\u001b[0m - Executing 'get_db_path-0' immediately...\n"
      ]
     },
     "metadata": {},
     "output_type": "display_data"
    },
    {
     "data": {
      "text/html": [
       "<pre style=\"white-space:pre;overflow-x:auto;line-height:normal;font-family:Menlo,'DejaVu Sans Mono',consolas,'Courier New',monospace\">18:42:58.577 | <span style=\"color: #008080; text-decoration-color: #008080\">INFO</span>    | Task run 'get_db_path-0' - DB path: 'basnya.db'\n",
       "</pre>\n"
      ],
      "text/plain": [
       "18:42:58.577 | \u001b[36mINFO\u001b[0m    | Task run 'get_db_path-0' - DB path: 'basnya.db'\n"
      ]
     },
     "metadata": {},
     "output_type": "display_data"
    },
    {
     "data": {
      "text/html": [
       "<pre style=\"white-space:pre;overflow-x:auto;line-height:normal;font-family:Menlo,'DejaVu Sans Mono',consolas,'Courier New',monospace\">18:42:58.883 | <span style=\"color: #008080; text-decoration-color: #008080\">INFO</span>    | Task run 'get_db_path-0' - Finished in state <span style=\"color: #008000; text-decoration-color: #008000\">Completed</span>()\n",
       "</pre>\n"
      ],
      "text/plain": [
       "18:42:58.883 | \u001b[36mINFO\u001b[0m    | Task run 'get_db_path-0' - Finished in state \u001b[32mCompleted\u001b[0m()\n"
      ]
     },
     "metadata": {},
     "output_type": "display_data"
    },
    {
     "data": {
      "text/html": [
       "<pre style=\"white-space:pre;overflow-x:auto;line-height:normal;font-family:Menlo,'DejaVu Sans Mono',consolas,'Courier New',monospace\">18:42:59.191 | <span style=\"color: #008080; text-decoration-color: #008080\">INFO</span>    | Flow run<span style=\"color: #800080; text-decoration-color: #800080\"> 'caped-parrot'</span> - Created task run 'get_game_ids_for_date-0' for task 'get_game_ids_for_date'\n",
       "</pre>\n"
      ],
      "text/plain": [
       "18:42:59.191 | \u001b[36mINFO\u001b[0m    | Flow run\u001b[35m 'caped-parrot'\u001b[0m - Created task run 'get_game_ids_for_date-0' for task 'get_game_ids_for_date'\n"
      ]
     },
     "metadata": {},
     "output_type": "display_data"
    },
    {
     "data": {
      "text/html": [
       "<pre style=\"white-space:pre;overflow-x:auto;line-height:normal;font-family:Menlo,'DejaVu Sans Mono',consolas,'Courier New',monospace\">18:42:59.193 | <span style=\"color: #008080; text-decoration-color: #008080\">INFO</span>    | Flow run<span style=\"color: #800080; text-decoration-color: #800080\"> 'caped-parrot'</span> - Executing 'get_game_ids_for_date-0' immediately...\n",
       "</pre>\n"
      ],
      "text/plain": [
       "18:42:59.193 | \u001b[36mINFO\u001b[0m    | Flow run\u001b[35m 'caped-parrot'\u001b[0m - Executing 'get_game_ids_for_date-0' immediately...\n"
      ]
     },
     "metadata": {},
     "output_type": "display_data"
    },
    {
     "data": {
      "text/html": [
       "<pre style=\"white-space:pre;overflow-x:auto;line-height:normal;font-family:Menlo,'DejaVu Sans Mono',consolas,'Courier New',monospace\">18:42:59.806 | <span style=\"color: #008080; text-decoration-color: #008080\">INFO</span>    | Task run 'get_game_ids_for_date-0' - calling GameFinder for 2023-12-12\n",
       "</pre>\n"
      ],
      "text/plain": [
       "18:42:59.806 | \u001b[36mINFO\u001b[0m    | Task run 'get_game_ids_for_date-0' - calling GameFinder for 2023-12-12\n"
      ]
     },
     "metadata": {},
     "output_type": "display_data"
    },
    {
     "data": {
      "text/html": [
       "<pre style=\"white-space:pre;overflow-x:auto;line-height:normal;font-family:Menlo,'DejaVu Sans Mono',consolas,'Courier New',monospace\">18:43:00.934 | <span style=\"color: #008080; text-decoration-color: #008080\">INFO</span>    | Task run 'get_game_ids_for_date-0' - found games for this date: 5\n",
       "</pre>\n"
      ],
      "text/plain": [
       "18:43:00.934 | \u001b[36mINFO\u001b[0m    | Task run 'get_game_ids_for_date-0' - found games for this date: 5\n"
      ]
     },
     "metadata": {},
     "output_type": "display_data"
    },
    {
     "data": {
      "text/html": [
       "<pre style=\"white-space:pre;overflow-x:auto;line-height:normal;font-family:Menlo,'DejaVu Sans Mono',consolas,'Courier New',monospace\">18:43:01.237 | <span style=\"color: #008080; text-decoration-color: #008080\">INFO</span>    | Task run 'get_game_ids_for_date-0' - Finished in state <span style=\"color: #008000; text-decoration-color: #008000\">Completed</span>()\n",
       "</pre>\n"
      ],
      "text/plain": [
       "18:43:01.237 | \u001b[36mINFO\u001b[0m    | Task run 'get_game_ids_for_date-0' - Finished in state \u001b[32mCompleted\u001b[0m()\n"
      ]
     },
     "metadata": {},
     "output_type": "display_data"
    },
    {
     "data": {
      "text/html": [
       "<pre style=\"white-space:pre;overflow-x:auto;line-height:normal;font-family:Menlo,'DejaVu Sans Mono',consolas,'Courier New',monospace\">18:43:02.261 | <span style=\"color: #008080; text-decoration-color: #008080\">INFO</span>    | Flow run<span style=\"color: #800080; text-decoration-color: #800080\"> 'caped-parrot'</span> - Created subflow run<span style=\"color: #800080; text-decoration-color: #800080\"> 'benign-husky'</span> for flow<span style=\"color: #800080; text-decoration-color: #800080; font-weight: bold\"> 'back-fill-games'</span>\n",
       "</pre>\n"
      ],
      "text/plain": [
       "18:43:02.261 | \u001b[36mINFO\u001b[0m    | Flow run\u001b[35m 'caped-parrot'\u001b[0m - Created subflow run\u001b[35m 'benign-husky'\u001b[0m for flow\u001b[1;35m 'back-fill-games'\u001b[0m\n"
      ]
     },
     "metadata": {},
     "output_type": "display_data"
    },
    {
     "data": {
      "text/html": [
       "<pre style=\"white-space:pre;overflow-x:auto;line-height:normal;font-family:Menlo,'DejaVu Sans Mono',consolas,'Courier New',monospace\">18:43:02.263 | <span style=\"color: #008080; text-decoration-color: #008080\">INFO</span>    | Flow run<span style=\"color: #800080; text-decoration-color: #800080\"> 'benign-husky'</span> - View at <span style=\"color: #0000ff; text-decoration-color: #0000ff\">https://app.prefect.cloud/account/0915a191-39df-42e2-b744-13090d8bef96/workspace/aad552d2-34e7-48d3-b19e-69d06cf19a83/flow-runs/flow-run/db1658cd-2598-48d9-bb96-489ec028e494</span>\n",
       "</pre>\n"
      ],
      "text/plain": [
       "18:43:02.263 | \u001b[36mINFO\u001b[0m    | Flow run\u001b[35m 'benign-husky'\u001b[0m - View at \u001b[94mhttps://app.prefect.cloud/account/0915a191-39df-42e2-b744-13090d8bef96/workspace/aad552d2-34e7-48d3-b19e-69d06cf19a83/flow-runs/flow-run/db1658cd-2598-48d9-bb96-489ec028e494\u001b[0m\n"
      ]
     },
     "metadata": {},
     "output_type": "display_data"
    },
    {
     "data": {
      "text/html": [
       "<pre style=\"white-space:pre;overflow-x:auto;line-height:normal;font-family:Menlo,'DejaVu Sans Mono',consolas,'Courier New',monospace\">18:43:03.183 | <span style=\"color: #008080; text-decoration-color: #008080\">INFO</span>    | Flow run<span style=\"color: #800080; text-decoration-color: #800080\"> 'benign-husky'</span> - Created task run 'get_latest_game-0' for task 'get_latest_game'\n",
       "</pre>\n"
      ],
      "text/plain": [
       "18:43:03.183 | \u001b[36mINFO\u001b[0m    | Flow run\u001b[35m 'benign-husky'\u001b[0m - Created task run 'get_latest_game-0' for task 'get_latest_game'\n"
      ]
     },
     "metadata": {},
     "output_type": "display_data"
    },
    {
     "data": {
      "text/html": [
       "<pre style=\"white-space:pre;overflow-x:auto;line-height:normal;font-family:Menlo,'DejaVu Sans Mono',consolas,'Courier New',monospace\">18:43:03.185 | <span style=\"color: #008080; text-decoration-color: #008080\">INFO</span>    | Flow run<span style=\"color: #800080; text-decoration-color: #800080\"> 'benign-husky'</span> - Executing 'get_latest_game-0' immediately...\n",
       "</pre>\n"
      ],
      "text/plain": [
       "18:43:03.185 | \u001b[36mINFO\u001b[0m    | Flow run\u001b[35m 'benign-husky'\u001b[0m - Executing 'get_latest_game-0' immediately...\n"
      ]
     },
     "metadata": {},
     "output_type": "display_data"
    },
    {
     "data": {
      "text/html": [
       "<pre style=\"white-space:pre;overflow-x:auto;line-height:normal;font-family:Menlo,'DejaVu Sans Mono',consolas,'Courier New',monospace\">18:43:03.748 | <span style=\"color: #008080; text-decoration-color: #008080\">INFO</span>    | Task run 'get_latest_game-0' - Found games on latest date of '2023-12-17T00:00:00': 5\n",
       "</pre>\n"
      ],
      "text/plain": [
       "18:43:03.748 | \u001b[36mINFO\u001b[0m    | Task run 'get_latest_game-0' - Found games on latest date of '2023-12-17T00:00:00': 5\n"
      ]
     },
     "metadata": {},
     "output_type": "display_data"
    },
    {
     "data": {
      "text/html": [
       "<pre style=\"white-space:pre;overflow-x:auto;line-height:normal;font-family:Menlo,'DejaVu Sans Mono',consolas,'Courier New',monospace\">18:43:04.107 | <span style=\"color: #008080; text-decoration-color: #008080\">INFO</span>    | Task run 'get_latest_game-0' - Finished in state <span style=\"color: #008000; text-decoration-color: #008000\">Completed</span>()\n",
       "</pre>\n"
      ],
      "text/plain": [
       "18:43:04.107 | \u001b[36mINFO\u001b[0m    | Task run 'get_latest_game-0' - Finished in state \u001b[32mCompleted\u001b[0m()\n"
      ]
     },
     "metadata": {},
     "output_type": "display_data"
    },
    {
     "data": {
      "text/html": [
       "<pre style=\"white-space:pre;overflow-x:auto;line-height:normal;font-family:Menlo,'DejaVu Sans Mono',consolas,'Courier New',monospace\">18:43:04.424 | <span style=\"color: #008080; text-decoration-color: #008080\">INFO</span>    | Flow run<span style=\"color: #800080; text-decoration-color: #800080\"> 'benign-husky'</span> - Created task run 'get_current_players-0' for task 'get_current_players'\n",
       "</pre>\n"
      ],
      "text/plain": [
       "18:43:04.424 | \u001b[36mINFO\u001b[0m    | Flow run\u001b[35m 'benign-husky'\u001b[0m - Created task run 'get_current_players-0' for task 'get_current_players'\n"
      ]
     },
     "metadata": {},
     "output_type": "display_data"
    },
    {
     "data": {
      "text/html": [
       "<pre style=\"white-space:pre;overflow-x:auto;line-height:normal;font-family:Menlo,'DejaVu Sans Mono',consolas,'Courier New',monospace\">18:43:04.426 | <span style=\"color: #008080; text-decoration-color: #008080\">INFO</span>    | Flow run<span style=\"color: #800080; text-decoration-color: #800080\"> 'benign-husky'</span> - Executing 'get_current_players-0' immediately...\n",
       "</pre>\n"
      ],
      "text/plain": [
       "18:43:04.426 | \u001b[36mINFO\u001b[0m    | Flow run\u001b[35m 'benign-husky'\u001b[0m - Executing 'get_current_players-0' immediately...\n"
      ]
     },
     "metadata": {},
     "output_type": "display_data"
    },
    {
     "data": {
      "text/html": [
       "<pre style=\"white-space:pre;overflow-x:auto;line-height:normal;font-family:Menlo,'DejaVu Sans Mono',consolas,'Courier New',monospace\">18:43:04.957 | <span style=\"color: #008080; text-decoration-color: #008080\">INFO</span>    | Task run 'get_current_players-0' - Found players: 4873\n",
       "</pre>\n"
      ],
      "text/plain": [
       "18:43:04.957 | \u001b[36mINFO\u001b[0m    | Task run 'get_current_players-0' - Found players: 4873\n"
      ]
     },
     "metadata": {},
     "output_type": "display_data"
    },
    {
     "data": {
      "text/html": [
       "<pre style=\"white-space:pre;overflow-x:auto;line-height:normal;font-family:Menlo,'DejaVu Sans Mono',consolas,'Courier New',monospace\">18:43:05.333 | <span style=\"color: #008080; text-decoration-color: #008080\">INFO</span>    | Task run 'get_current_players-0' - Finished in state <span style=\"color: #008000; text-decoration-color: #008000\">Completed</span>()\n",
       "</pre>\n"
      ],
      "text/plain": [
       "18:43:05.333 | \u001b[36mINFO\u001b[0m    | Task run 'get_current_players-0' - Finished in state \u001b[32mCompleted\u001b[0m()\n"
      ]
     },
     "metadata": {},
     "output_type": "display_data"
    },
    {
     "data": {
      "text/html": [
       "<pre style=\"white-space:pre;overflow-x:auto;line-height:normal;font-family:Menlo,'DejaVu Sans Mono',consolas,'Courier New',monospace\">18:43:06.357 | <span style=\"color: #008080; text-decoration-color: #008080\">INFO</span>    | Flow run<span style=\"color: #800080; text-decoration-color: #800080\"> 'benign-husky'</span> - Created subflow run<span style=\"color: #800080; text-decoration-color: #800080\"> 'crazy-quoll'</span> for flow<span style=\"color: #800080; text-decoration-color: #800080; font-weight: bold\"> 'get-games-ids-to-append'</span>\n",
       "</pre>\n"
      ],
      "text/plain": [
       "18:43:06.357 | \u001b[36mINFO\u001b[0m    | Flow run\u001b[35m 'benign-husky'\u001b[0m - Created subflow run\u001b[35m 'crazy-quoll'\u001b[0m for flow\u001b[1;35m 'get-games-ids-to-append'\u001b[0m\n"
      ]
     },
     "metadata": {},
     "output_type": "display_data"
    },
    {
     "data": {
      "text/html": [
       "<pre style=\"white-space:pre;overflow-x:auto;line-height:normal;font-family:Menlo,'DejaVu Sans Mono',consolas,'Courier New',monospace\">18:43:06.358 | <span style=\"color: #008080; text-decoration-color: #008080\">INFO</span>    | Flow run<span style=\"color: #800080; text-decoration-color: #800080\"> 'crazy-quoll'</span> - View at <span style=\"color: #0000ff; text-decoration-color: #0000ff\">https://app.prefect.cloud/account/0915a191-39df-42e2-b744-13090d8bef96/workspace/aad552d2-34e7-48d3-b19e-69d06cf19a83/flow-runs/flow-run/e1412491-5e5b-4605-aa95-a5ef66afb9e5</span>\n",
       "</pre>\n"
      ],
      "text/plain": [
       "18:43:06.358 | \u001b[36mINFO\u001b[0m    | Flow run\u001b[35m 'crazy-quoll'\u001b[0m - View at \u001b[94mhttps://app.prefect.cloud/account/0915a191-39df-42e2-b744-13090d8bef96/workspace/aad552d2-34e7-48d3-b19e-69d06cf19a83/flow-runs/flow-run/e1412491-5e5b-4605-aa95-a5ef66afb9e5\u001b[0m\n"
      ]
     },
     "metadata": {},
     "output_type": "display_data"
    },
    {
     "data": {
      "text/html": [
       "<pre style=\"white-space:pre;overflow-x:auto;line-height:normal;font-family:Menlo,'DejaVu Sans Mono',consolas,'Courier New',monospace\">18:43:07.279 | <span style=\"color: #008080; text-decoration-color: #008080\">INFO</span>    | Flow run<span style=\"color: #800080; text-decoration-color: #800080\"> 'crazy-quoll'</span> - Created task run 'get_games_by_ids-0' for task 'get_games_by_ids'\n",
       "</pre>\n"
      ],
      "text/plain": [
       "18:43:07.279 | \u001b[36mINFO\u001b[0m    | Flow run\u001b[35m 'crazy-quoll'\u001b[0m - Created task run 'get_games_by_ids-0' for task 'get_games_by_ids'\n"
      ]
     },
     "metadata": {},
     "output_type": "display_data"
    },
    {
     "data": {
      "text/html": [
       "<pre style=\"white-space:pre;overflow-x:auto;line-height:normal;font-family:Menlo,'DejaVu Sans Mono',consolas,'Courier New',monospace\">18:43:07.281 | <span style=\"color: #008080; text-decoration-color: #008080\">INFO</span>    | Flow run<span style=\"color: #800080; text-decoration-color: #800080\"> 'crazy-quoll'</span> - Executing 'get_games_by_ids-0' immediately...\n",
       "</pre>\n"
      ],
      "text/plain": [
       "18:43:07.281 | \u001b[36mINFO\u001b[0m    | Flow run\u001b[35m 'crazy-quoll'\u001b[0m - Executing 'get_games_by_ids-0' immediately...\n"
      ]
     },
     "metadata": {},
     "output_type": "display_data"
    },
    {
     "data": {
      "text/html": [
       "<pre style=\"white-space:pre;overflow-x:auto;line-height:normal;font-family:Menlo,'DejaVu Sans Mono',consolas,'Courier New',monospace\">18:43:11.785 | <span style=\"color: #008080; text-decoration-color: #008080\">INFO</span>    | Task run 'get_games_by_ids-0' - Finished in state <span style=\"color: #008000; text-decoration-color: #008000\">Completed</span>()\n",
       "</pre>\n"
      ],
      "text/plain": [
       "18:43:11.785 | \u001b[36mINFO\u001b[0m    | Task run 'get_games_by_ids-0' - Finished in state \u001b[32mCompleted\u001b[0m()\n"
      ]
     },
     "metadata": {},
     "output_type": "display_data"
    },
    {
     "data": {
      "text/html": [
       "<pre style=\"white-space:pre;overflow-x:auto;line-height:normal;font-family:Menlo,'DejaVu Sans Mono',consolas,'Courier New',monospace\">18:43:11.843 | <span style=\"color: #008080; text-decoration-color: #008080\">INFO</span>    | Flow run<span style=\"color: #800080; text-decoration-color: #800080\"> 'crazy-quoll'</span> - Searching for games from 12/17/2023 to 12/12/2023\n",
       "</pre>\n"
      ],
      "text/plain": [
       "18:43:11.843 | \u001b[36mINFO\u001b[0m    | Flow run\u001b[35m 'crazy-quoll'\u001b[0m - Searching for games from 12/17/2023 to 12/12/2023\n"
      ]
     },
     "metadata": {},
     "output_type": "display_data"
    },
    {
     "data": {
      "text/html": [
       "<pre style=\"white-space:pre;overflow-x:auto;line-height:normal;font-family:Menlo,'DejaVu Sans Mono',consolas,'Courier New',monospace\">18:43:12.195 | <span style=\"color: #008080; text-decoration-color: #008080\">INFO</span>    | Flow run<span style=\"color: #800080; text-decoration-color: #800080\"> 'crazy-quoll'</span> - Created task run 'get_games_from_to-0' for task 'get_games_from_to'\n",
       "</pre>\n"
      ],
      "text/plain": [
       "18:43:12.195 | \u001b[36mINFO\u001b[0m    | Flow run\u001b[35m 'crazy-quoll'\u001b[0m - Created task run 'get_games_from_to-0' for task 'get_games_from_to'\n"
      ]
     },
     "metadata": {},
     "output_type": "display_data"
    },
    {
     "data": {
      "text/html": [
       "<pre style=\"white-space:pre;overflow-x:auto;line-height:normal;font-family:Menlo,'DejaVu Sans Mono',consolas,'Courier New',monospace\">18:43:12.196 | <span style=\"color: #008080; text-decoration-color: #008080\">INFO</span>    | Flow run<span style=\"color: #800080; text-decoration-color: #800080\"> 'crazy-quoll'</span> - Executing 'get_games_from_to-0' immediately...\n",
       "</pre>\n"
      ],
      "text/plain": [
       "18:43:12.196 | \u001b[36mINFO\u001b[0m    | Flow run\u001b[35m 'crazy-quoll'\u001b[0m - Executing 'get_games_from_to-0' immediately...\n"
      ]
     },
     "metadata": {},
     "output_type": "display_data"
    },
    {
     "data": {
      "text/html": [
       "<pre style=\"white-space:pre;overflow-x:auto;line-height:normal;font-family:Menlo,'DejaVu Sans Mono',consolas,'Courier New',monospace\">18:43:15.267 | <span style=\"color: #008080; text-decoration-color: #008080\">INFO</span>    | Task run 'get_games_from_to-0' - Finished in state <span style=\"color: #008000; text-decoration-color: #008000\">Completed</span>()\n",
       "</pre>\n"
      ],
      "text/plain": [
       "18:43:15.267 | \u001b[36mINFO\u001b[0m    | Task run 'get_games_from_to-0' - Finished in state \u001b[32mCompleted\u001b[0m()\n"
      ]
     },
     "metadata": {},
     "output_type": "display_data"
    },
    {
     "data": {
      "text/html": [
       "<pre style=\"white-space:pre;overflow-x:auto;line-height:normal;font-family:Menlo,'DejaVu Sans Mono',consolas,'Courier New',monospace\">18:43:15.301 | <span style=\"color: #008080; text-decoration-color: #008080\">INFO</span>    | Flow run<span style=\"color: #800080; text-decoration-color: #800080\"> 'crazy-quoll'</span> - need to append games: 5\n",
       "</pre>\n"
      ],
      "text/plain": [
       "18:43:15.301 | \u001b[36mINFO\u001b[0m    | Flow run\u001b[35m 'crazy-quoll'\u001b[0m - need to append games: 5\n"
      ]
     },
     "metadata": {},
     "output_type": "display_data"
    },
    {
     "data": {
      "text/html": [
       "<pre style=\"white-space:pre;overflow-x:auto;line-height:normal;font-family:Menlo,'DejaVu Sans Mono',consolas,'Courier New',monospace\">18:43:15.676 | <span style=\"color: #008080; text-decoration-color: #008080\">INFO</span>    | Flow run<span style=\"color: #800080; text-decoration-color: #800080\"> 'crazy-quoll'</span> - Finished in state <span style=\"color: #008000; text-decoration-color: #008000\">Completed</span>()\n",
       "</pre>\n"
      ],
      "text/plain": [
       "18:43:15.676 | \u001b[36mINFO\u001b[0m    | Flow run\u001b[35m 'crazy-quoll'\u001b[0m - Finished in state \u001b[32mCompleted\u001b[0m()\n"
      ]
     },
     "metadata": {},
     "output_type": "display_data"
    },
    {
     "data": {
      "text/html": [
       "<pre style=\"white-space:pre;overflow-x:auto;line-height:normal;font-family:Menlo,'DejaVu Sans Mono',consolas,'Courier New',monospace\">18:43:15.901 | <span style=\"color: #008080; text-decoration-color: #008080\">INFO</span>    | Flow run<span style=\"color: #800080; text-decoration-color: #800080\"> 'benign-husky'</span> - Created task run 'prepare_games_to_append-0' for task 'prepare_games_to_append'\n",
       "</pre>\n"
      ],
      "text/plain": [
       "18:43:15.901 | \u001b[36mINFO\u001b[0m    | Flow run\u001b[35m 'benign-husky'\u001b[0m - Created task run 'prepare_games_to_append-0' for task 'prepare_games_to_append'\n"
      ]
     },
     "metadata": {},
     "output_type": "display_data"
    },
    {
     "data": {
      "text/html": [
       "<pre style=\"white-space:pre;overflow-x:auto;line-height:normal;font-family:Menlo,'DejaVu Sans Mono',consolas,'Courier New',monospace\">18:43:15.903 | <span style=\"color: #008080; text-decoration-color: #008080\">INFO</span>    | Flow run<span style=\"color: #800080; text-decoration-color: #800080\"> 'benign-husky'</span> - Executing 'prepare_games_to_append-0' immediately...\n",
       "</pre>\n"
      ],
      "text/plain": [
       "18:43:15.903 | \u001b[36mINFO\u001b[0m    | Flow run\u001b[35m 'benign-husky'\u001b[0m - Executing 'prepare_games_to_append-0' immediately...\n"
      ]
     },
     "metadata": {},
     "output_type": "display_data"
    },
    {
     "data": {
      "text/html": [
       "<pre style=\"white-space:pre;overflow-x:auto;line-height:normal;font-family:Menlo,'DejaVu Sans Mono',consolas,'Courier New',monospace\">18:43:22.129 | <span style=\"color: #008080; text-decoration-color: #008080\">INFO</span>    | Task run 'prepare_games_to_append-0' - Finished in state <span style=\"color: #008000; text-decoration-color: #008000\">Completed</span>()\n",
       "</pre>\n"
      ],
      "text/plain": [
       "18:43:22.129 | \u001b[36mINFO\u001b[0m    | Task run 'prepare_games_to_append-0' - Finished in state \u001b[32mCompleted\u001b[0m()\n"
      ]
     },
     "metadata": {},
     "output_type": "display_data"
    },
    {
     "data": {
      "text/html": [
       "<pre style=\"white-space:pre;overflow-x:auto;line-height:normal;font-family:Menlo,'DejaVu Sans Mono',consolas,'Courier New',monospace\">18:43:22.539 | <span style=\"color: #008080; text-decoration-color: #008080\">INFO</span>    | Flow run<span style=\"color: #800080; text-decoration-color: #800080\"> 'benign-husky'</span> - Created task run 'prepare_players_to_append-0' for task 'prepare_players_to_append'\n",
       "</pre>\n"
      ],
      "text/plain": [
       "18:43:22.539 | \u001b[36mINFO\u001b[0m    | Flow run\u001b[35m 'benign-husky'\u001b[0m - Created task run 'prepare_players_to_append-0' for task 'prepare_players_to_append'\n"
      ]
     },
     "metadata": {},
     "output_type": "display_data"
    },
    {
     "data": {
      "text/html": [
       "<pre style=\"white-space:pre;overflow-x:auto;line-height:normal;font-family:Menlo,'DejaVu Sans Mono',consolas,'Courier New',monospace\">18:43:22.541 | <span style=\"color: #008080; text-decoration-color: #008080\">INFO</span>    | Flow run<span style=\"color: #800080; text-decoration-color: #800080\"> 'benign-husky'</span> - Executing 'prepare_players_to_append-0' immediately...\n",
       "</pre>\n"
      ],
      "text/plain": [
       "18:43:22.541 | \u001b[36mINFO\u001b[0m    | Flow run\u001b[35m 'benign-husky'\u001b[0m - Executing 'prepare_players_to_append-0' immediately...\n"
      ]
     },
     "metadata": {},
     "output_type": "display_data"
    },
    {
     "data": {
      "text/html": [
       "<pre style=\"white-space:pre;overflow-x:auto;line-height:normal;font-family:Menlo,'DejaVu Sans Mono',consolas,'Courier New',monospace\">18:43:23.255 | <span style=\"color: #008080; text-decoration-color: #008080\">INFO</span>    | Task run 'prepare_players_to_append-0' - no need to append players\n",
       "</pre>\n"
      ],
      "text/plain": [
       "18:43:23.255 | \u001b[36mINFO\u001b[0m    | Task run 'prepare_players_to_append-0' - no need to append players\n"
      ]
     },
     "metadata": {},
     "output_type": "display_data"
    },
    {
     "data": {
      "text/html": [
       "<pre style=\"white-space:pre;overflow-x:auto;line-height:normal;font-family:Menlo,'DejaVu Sans Mono',consolas,'Courier New',monospace\">18:43:23.561 | <span style=\"color: #008080; text-decoration-color: #008080\">INFO</span>    | Task run 'prepare_players_to_append-0' - Finished in state <span style=\"color: #008000; text-decoration-color: #008000\">Completed</span>()\n",
       "</pre>\n"
      ],
      "text/plain": [
       "18:43:23.561 | \u001b[36mINFO\u001b[0m    | Task run 'prepare_players_to_append-0' - Finished in state \u001b[32mCompleted\u001b[0m()\n"
      ]
     },
     "metadata": {},
     "output_type": "display_data"
    },
    {
     "data": {
      "text/html": [
       "<pre style=\"white-space:pre;overflow-x:auto;line-height:normal;font-family:Menlo,'DejaVu Sans Mono',consolas,'Courier New',monospace\">18:43:23.970 | <span style=\"color: #008080; text-decoration-color: #008080\">INFO</span>    | Flow run<span style=\"color: #800080; text-decoration-color: #800080\"> 'benign-husky'</span> - Created task run 'append_tables-0' for task 'append_tables'\n",
       "</pre>\n"
      ],
      "text/plain": [
       "18:43:23.970 | \u001b[36mINFO\u001b[0m    | Flow run\u001b[35m 'benign-husky'\u001b[0m - Created task run 'append_tables-0' for task 'append_tables'\n"
      ]
     },
     "metadata": {},
     "output_type": "display_data"
    },
    {
     "data": {
      "text/html": [
       "<pre style=\"white-space:pre;overflow-x:auto;line-height:normal;font-family:Menlo,'DejaVu Sans Mono',consolas,'Courier New',monospace\">18:43:23.971 | <span style=\"color: #008080; text-decoration-color: #008080\">INFO</span>    | Flow run<span style=\"color: #800080; text-decoration-color: #800080\"> 'benign-husky'</span> - Executing 'append_tables-0' immediately...\n",
       "</pre>\n"
      ],
      "text/plain": [
       "18:43:23.971 | \u001b[36mINFO\u001b[0m    | Flow run\u001b[35m 'benign-husky'\u001b[0m - Executing 'append_tables-0' immediately...\n"
      ]
     },
     "metadata": {},
     "output_type": "display_data"
    },
    {
     "data": {
      "text/html": [
       "<pre style=\"white-space:pre;overflow-x:auto;line-height:normal;font-family:Menlo,'DejaVu Sans Mono',consolas,'Courier New',monospace\">18:43:24.688 | <span style=\"color: #008080; text-decoration-color: #008080\">INFO</span>    | Task run 'append_tables-0' - writing 0 records to games\n",
       "</pre>\n"
      ],
      "text/plain": [
       "18:43:24.688 | \u001b[36mINFO\u001b[0m    | Task run 'append_tables-0' - writing 0 records to games\n"
      ]
     },
     "metadata": {},
     "output_type": "display_data"
    },
    {
     "data": {
      "text/html": [
       "<pre style=\"white-space:pre;overflow-x:auto;line-height:normal;font-family:Menlo,'DejaVu Sans Mono',consolas,'Courier New',monospace\">18:43:24.690 | <span style=\"color: #008080; text-decoration-color: #008080\">INFO</span>    | Task run 'append_tables-0' - writing 5 records to boxscoresummaryv2_0\n",
       "</pre>\n"
      ],
      "text/plain": [
       "18:43:24.690 | \u001b[36mINFO\u001b[0m    | Task run 'append_tables-0' - writing 5 records to boxscoresummaryv2_0\n"
      ]
     },
     "metadata": {},
     "output_type": "display_data"
    },
    {
     "data": {
      "text/html": [
       "<pre style=\"white-space:pre;overflow-x:auto;line-height:normal;font-family:Menlo,'DejaVu Sans Mono',consolas,'Courier New',monospace\">18:43:24.710 | <span style=\"color: #008080; text-decoration-color: #008080\">INFO</span>    | Task run 'append_tables-0' - writing 10 records to boxscoresummaryv2_1\n",
       "</pre>\n"
      ],
      "text/plain": [
       "18:43:24.710 | \u001b[36mINFO\u001b[0m    | Task run 'append_tables-0' - writing 10 records to boxscoresummaryv2_1\n"
      ]
     },
     "metadata": {},
     "output_type": "display_data"
    },
    {
     "data": {
      "text/html": [
       "<pre style=\"white-space:pre;overflow-x:auto;line-height:normal;font-family:Menlo,'DejaVu Sans Mono',consolas,'Courier New',monospace\">18:43:24.722 | <span style=\"color: #008080; text-decoration-color: #008080\">INFO</span>    | Task run 'append_tables-0' - writing 15 records to boxscoresummaryv2_2\n",
       "</pre>\n"
      ],
      "text/plain": [
       "18:43:24.722 | \u001b[36mINFO\u001b[0m    | Task run 'append_tables-0' - writing 15 records to boxscoresummaryv2_2\n"
      ]
     },
     "metadata": {},
     "output_type": "display_data"
    },
    {
     "data": {
      "text/html": [
       "<pre style=\"white-space:pre;overflow-x:auto;line-height:normal;font-family:Menlo,'DejaVu Sans Mono',consolas,'Courier New',monospace\">18:43:24.733 | <span style=\"color: #008080; text-decoration-color: #008080\">INFO</span>    | Task run 'append_tables-0' - writing 43 records to boxscoresummaryv2_3\n",
       "</pre>\n"
      ],
      "text/plain": [
       "18:43:24.733 | \u001b[36mINFO\u001b[0m    | Task run 'append_tables-0' - writing 43 records to boxscoresummaryv2_3\n"
      ]
     },
     "metadata": {},
     "output_type": "display_data"
    },
    {
     "data": {
      "text/html": [
       "<pre style=\"white-space:pre;overflow-x:auto;line-height:normal;font-family:Menlo,'DejaVu Sans Mono',consolas,'Courier New',monospace\">18:43:24.746 | <span style=\"color: #008080; text-decoration-color: #008080\">INFO</span>    | Task run 'append_tables-0' - writing 5 records to boxscoresummaryv2_4\n",
       "</pre>\n"
      ],
      "text/plain": [
       "18:43:24.746 | \u001b[36mINFO\u001b[0m    | Task run 'append_tables-0' - writing 5 records to boxscoresummaryv2_4\n"
      ]
     },
     "metadata": {},
     "output_type": "display_data"
    },
    {
     "data": {
      "text/html": [
       "<pre style=\"white-space:pre;overflow-x:auto;line-height:normal;font-family:Menlo,'DejaVu Sans Mono',consolas,'Courier New',monospace\">18:43:24.758 | <span style=\"color: #008080; text-decoration-color: #008080\">INFO</span>    | Task run 'append_tables-0' - writing 10 records to boxscoresummaryv2_5\n",
       "</pre>\n"
      ],
      "text/plain": [
       "18:43:24.758 | \u001b[36mINFO\u001b[0m    | Task run 'append_tables-0' - writing 10 records to boxscoresummaryv2_5\n"
      ]
     },
     "metadata": {},
     "output_type": "display_data"
    },
    {
     "data": {
      "text/html": [
       "<pre style=\"white-space:pre;overflow-x:auto;line-height:normal;font-family:Menlo,'DejaVu Sans Mono',consolas,'Courier New',monospace\">18:43:24.770 | <span style=\"color: #008080; text-decoration-color: #008080\">INFO</span>    | Task run 'append_tables-0' - writing 5 records to boxscoresummaryv2_6\n",
       "</pre>\n"
      ],
      "text/plain": [
       "18:43:24.770 | \u001b[36mINFO\u001b[0m    | Task run 'append_tables-0' - writing 5 records to boxscoresummaryv2_6\n"
      ]
     },
     "metadata": {},
     "output_type": "display_data"
    },
    {
     "data": {
      "text/html": [
       "<pre style=\"white-space:pre;overflow-x:auto;line-height:normal;font-family:Menlo,'DejaVu Sans Mono',consolas,'Courier New',monospace\">18:43:24.782 | <span style=\"color: #008080; text-decoration-color: #008080\">INFO</span>    | Task run 'append_tables-0' - writing 5 records to boxscoresummaryv2_7\n",
       "</pre>\n"
      ],
      "text/plain": [
       "18:43:24.782 | \u001b[36mINFO\u001b[0m    | Task run 'append_tables-0' - writing 5 records to boxscoresummaryv2_7\n"
      ]
     },
     "metadata": {},
     "output_type": "display_data"
    },
    {
     "data": {
      "text/html": [
       "<pre style=\"white-space:pre;overflow-x:auto;line-height:normal;font-family:Menlo,'DejaVu Sans Mono',consolas,'Courier New',monospace\">18:43:24.793 | <span style=\"color: #008080; text-decoration-color: #008080\">INFO</span>    | Task run 'append_tables-0' - writing 5 records to boxscoresummaryv2_8\n",
       "</pre>\n"
      ],
      "text/plain": [
       "18:43:24.793 | \u001b[36mINFO\u001b[0m    | Task run 'append_tables-0' - writing 5 records to boxscoresummaryv2_8\n"
      ]
     },
     "metadata": {},
     "output_type": "display_data"
    },
    {
     "data": {
      "text/html": [
       "<pre style=\"white-space:pre;overflow-x:auto;line-height:normal;font-family:Menlo,'DejaVu Sans Mono',consolas,'Courier New',monospace\">18:43:24.805 | <span style=\"color: #008080; text-decoration-color: #008080\">INFO</span>    | Task run 'append_tables-0' - writing 129 records to boxscoretraditionalv2_0\n",
       "</pre>\n"
      ],
      "text/plain": [
       "18:43:24.805 | \u001b[36mINFO\u001b[0m    | Task run 'append_tables-0' - writing 129 records to boxscoretraditionalv2_0\n"
      ]
     },
     "metadata": {},
     "output_type": "display_data"
    },
    {
     "data": {
      "text/html": [
       "<pre style=\"white-space:pre;overflow-x:auto;line-height:normal;font-family:Menlo,'DejaVu Sans Mono',consolas,'Courier New',monospace\">18:43:24.823 | <span style=\"color: #008080; text-decoration-color: #008080\">INFO</span>    | Task run 'append_tables-0' - writing 10 records to boxscoretraditionalv2_1\n",
       "</pre>\n"
      ],
      "text/plain": [
       "18:43:24.823 | \u001b[36mINFO\u001b[0m    | Task run 'append_tables-0' - writing 10 records to boxscoretraditionalv2_1\n"
      ]
     },
     "metadata": {},
     "output_type": "display_data"
    },
    {
     "data": {
      "text/html": [
       "<pre style=\"white-space:pre;overflow-x:auto;line-height:normal;font-family:Menlo,'DejaVu Sans Mono',consolas,'Courier New',monospace\">18:43:24.835 | <span style=\"color: #008080; text-decoration-color: #008080\">INFO</span>    | Task run 'append_tables-0' - writing 20 records to boxscoretraditionalv2_2\n",
       "</pre>\n"
      ],
      "text/plain": [
       "18:43:24.835 | \u001b[36mINFO\u001b[0m    | Task run 'append_tables-0' - writing 20 records to boxscoretraditionalv2_2\n"
      ]
     },
     "metadata": {},
     "output_type": "display_data"
    },
    {
     "data": {
      "text/html": [
       "<pre style=\"white-space:pre;overflow-x:auto;line-height:normal;font-family:Menlo,'DejaVu Sans Mono',consolas,'Courier New',monospace\">18:43:24.852 | <span style=\"color: #008080; text-decoration-color: #008080\">INFO</span>    | Task run 'append_tables-0' - DB basnya push in repo\n",
       "</pre>\n"
      ],
      "text/plain": [
       "18:43:24.852 | \u001b[36mINFO\u001b[0m    | Task run 'append_tables-0' - DB basnya push in repo\n"
      ]
     },
     "metadata": {},
     "output_type": "display_data"
    },
    {
     "data": {
      "text/html": [
       "<pre style=\"white-space:pre;overflow-x:auto;line-height:normal;font-family:Menlo,'DejaVu Sans Mono',consolas,'Courier New',monospace\">18:43:25.114 | <span style=\"color: #008080; text-decoration-color: #008080\">INFO</span>    | Task run 'append_tables-0' - Finished in state <span style=\"color: #008000; text-decoration-color: #008000\">Completed</span>()\n",
       "</pre>\n"
      ],
      "text/plain": [
       "18:43:25.114 | \u001b[36mINFO\u001b[0m    | Task run 'append_tables-0' - Finished in state \u001b[32mCompleted\u001b[0m()\n"
      ]
     },
     "metadata": {},
     "output_type": "display_data"
    },
    {
     "data": {
      "text/html": [
       "<pre style=\"white-space:pre;overflow-x:auto;line-height:normal;font-family:Menlo,'DejaVu Sans Mono',consolas,'Courier New',monospace\">18:43:25.507 | <span style=\"color: #008080; text-decoration-color: #008080\">INFO</span>    | Flow run<span style=\"color: #800080; text-decoration-color: #800080\"> 'benign-husky'</span> - Finished in state <span style=\"color: #008000; text-decoration-color: #008000\">Completed</span>()\n",
       "</pre>\n"
      ],
      "text/plain": [
       "18:43:25.507 | \u001b[36mINFO\u001b[0m    | Flow run\u001b[35m 'benign-husky'\u001b[0m - Finished in state \u001b[32mCompleted\u001b[0m()\n"
      ]
     },
     "metadata": {},
     "output_type": "display_data"
    },
    {
     "data": {
      "text/html": [
       "<pre style=\"white-space:pre;overflow-x:auto;line-height:normal;font-family:Menlo,'DejaVu Sans Mono',consolas,'Courier New',monospace\">18:43:25.917 | <span style=\"color: #008080; text-decoration-color: #008080\">INFO</span>    | Flow run<span style=\"color: #800080; text-decoration-color: #800080\"> 'caped-parrot'</span> - Finished in state <span style=\"color: #008000; text-decoration-color: #008000\">Completed</span>()\n",
       "</pre>\n"
      ],
      "text/plain": [
       "18:43:25.917 | \u001b[36mINFO\u001b[0m    | Flow run\u001b[35m 'caped-parrot'\u001b[0m - Finished in state \u001b[32mCompleted\u001b[0m()\n"
      ]
     },
     "metadata": {},
     "output_type": "display_data"
    }
   ],
   "source": [
    "res = fetch_games_for_date(dt.date(2023, 12, 12))"
   ]
  },
  {
   "cell_type": "code",
   "execution_count": 17,
   "id": "a18fcf6e-5106-4802-a596-098f62681262",
   "metadata": {},
   "outputs": [
    {
     "data": {
      "text/html": [
       "<div>\n",
       "<style scoped>\n",
       "    .dataframe tbody tr th:only-of-type {\n",
       "        vertical-align: middle;\n",
       "    }\n",
       "\n",
       "    .dataframe tbody tr th {\n",
       "        vertical-align: top;\n",
       "    }\n",
       "\n",
       "    .dataframe thead th {\n",
       "        text-align: right;\n",
       "    }\n",
       "</style>\n",
       "<table border=\"1\" class=\"dataframe\">\n",
       "  <thead>\n",
       "    <tr style=\"text-align: right;\">\n",
       "      <th></th>\n",
       "      <th>unseen_game</th>\n",
       "      <th>game_id</th>\n",
       "      <th>game_date</th>\n",
       "      <th>teams</th>\n",
       "      <th>score</th>\n",
       "    </tr>\n",
       "  </thead>\n",
       "  <tbody>\n",
       "    <tr>\n",
       "      <th>0</th>\n",
       "      <td>True</td>\n",
       "      <td>0022300305</td>\n",
       "      <td>12/12/2023</td>\n",
       "      <td>Boston Celtics - Cleveland Cavaliers</td>\n",
       "      <td>120 - 113</td>\n",
       "    </tr>\n",
       "    <tr>\n",
       "      <th>1</th>\n",
       "      <td>True</td>\n",
       "      <td>0022300306</td>\n",
       "      <td>12/12/2023</td>\n",
       "      <td>Dallas Mavericks - Los Angeles Lakers</td>\n",
       "      <td>127 - 125</td>\n",
       "    </tr>\n",
       "    <tr>\n",
       "      <th>2</th>\n",
       "      <td>True</td>\n",
       "      <td>0022300307</td>\n",
       "      <td>12/12/2023</td>\n",
       "      <td>Chicago Bulls - Denver Nuggets</td>\n",
       "      <td>106 - 114</td>\n",
       "    </tr>\n",
       "    <tr>\n",
       "      <th>3</th>\n",
       "      <td>True</td>\n",
       "      <td>0022300308</td>\n",
       "      <td>12/12/2023</td>\n",
       "      <td>Phoenix Suns - Golden State Warriors</td>\n",
       "      <td>119 - 116</td>\n",
       "    </tr>\n",
       "    <tr>\n",
       "      <th>4</th>\n",
       "      <td>True</td>\n",
       "      <td>0022300309</td>\n",
       "      <td>12/12/2023</td>\n",
       "      <td>LA Clippers - Sacramento Kings</td>\n",
       "      <td>119 - 99</td>\n",
       "    </tr>\n",
       "  </tbody>\n",
       "</table>\n",
       "</div>"
      ],
      "text/plain": [
       "   unseen_game     game_id   game_date                                  teams  \\\n",
       "0         True  0022300305  12/12/2023   Boston Celtics - Cleveland Cavaliers   \n",
       "1         True  0022300306  12/12/2023  Dallas Mavericks - Los Angeles Lakers   \n",
       "2         True  0022300307  12/12/2023         Chicago Bulls - Denver Nuggets   \n",
       "3         True  0022300308  12/12/2023   Phoenix Suns - Golden State Warriors   \n",
       "4         True  0022300309  12/12/2023         LA Clippers - Sacramento Kings   \n",
       "\n",
       "       score  \n",
       "0  120 - 113  \n",
       "1  127 - 125  \n",
       "2  106 - 114  \n",
       "3  119 - 116  \n",
       "4   119 - 99  "
      ]
     },
     "execution_count": 17,
     "metadata": {},
     "output_type": "execute_result"
    }
   ],
   "source": [
    "res#.sort_values('GAME_ID')"
   ]
  },
  {
   "cell_type": "code",
   "execution_count": 3,
   "id": "86d98308-bb41-4724-bf11-d766d4efd24d",
   "metadata": {},
   "outputs": [
    {
     "name": "stdout",
     "output_type": "stream",
     "text": [
      "calling GameFinder for 2023-12-12\n",
      "found games for this date: 5\n"
     ]
    },
    {
     "data": {
      "text/plain": [
       "['0022300305', '0022300306', '0022300307', '0022300308', '0022300309']"
      ]
     },
     "execution_count": 3,
     "metadata": {},
     "output_type": "execute_result"
    }
   ],
   "source": [
    "sorted(get_game_ids_for_date.fn(dt.date(2023, 12, 12)))"
   ]
  },
  {
   "cell_type": "markdown",
   "id": "a4ef4ca1-df75-4bd6-a28f-d745126a5796",
   "metadata": {},
   "source": [
    "# Gen tweets by stats"
   ]
  },
  {
   "cell_type": "code",
   "execution_count": 4,
   "id": "a21a7fd9-29d4-420b-b06e-bfe697fdb981",
   "metadata": {},
   "outputs": [],
   "source": [
    "from signal_indicator.resource.prompts_template import prompt\n",
    "from signal_indicator.resource.strategies import *\n",
    "from signal_indicator.resource.utils import *\n",
    "\n",
    "import logging\n",
    "import os\n",
    "from pprint import pprint\n",
    "\n",
    "DB_PATH = 'basnya.db'\n",
    "selected_game_ids = ['0022300305', '0022300306', '0022300307', '0022300308', '0022300309']"
   ]
  },
  {
   "cell_type": "code",
   "execution_count": 5,
   "id": "5d0d01f3-4f2d-4f7e-b9d5-c5accb973402",
   "metadata": {},
   "outputs": [],
   "source": [
    "stats = StatsHolder.from_sql(db_path=DB_PATH, prompt=prompt)\n",
    "strategy_top_10 = StrategyRating(top=10, player_id_to_name_dict=stats.player_id_to_name_dict)\n",
    "stats.add_strategy(strategy_top_10)"
   ]
  },
  {
   "cell_type": "code",
   "execution_count": 6,
   "id": "1b72b792-b0ef-4f9a-b138-9b6a27e82ee9",
   "metadata": {},
   "outputs": [],
   "source": [
    "rating_change = stats.run_strategies(selected_game_ids=selected_game_ids[:])"
   ]
  },
  {
   "cell_type": "code",
   "execution_count": 8,
   "id": "0c057cb6-5e51-446a-aade-40a60a7d36d1",
   "metadata": {},
   "outputs": [
    {
     "data": {
      "text/plain": [
       "[Tweet(game_ids=['0022300305', '0022300306', '0022300307', '0022300308', '0022300309'], player_ids=[1629029, 1629622, 203944, 1628969], tweet_text='\\n🚨🏀 BREAKING NEWS 🚨 Two new players have entered the top 10 for Season Top 10 players by MIN! 🎉 Congratulations to Luka Doncic and Max Strus for their impressive performances. 👏 Sadly, Julius Randle and Mikal Bridges have been knocked out of the top 10. 😔 #NBA #Top10Players #SeasonLeaders', tweet_type=<TweetType.RATING_CHANGE_SEASON_SUM: 'rating_change_season_sum'>)]"
      ]
     },
     "execution_count": 8,
     "metadata": {},
     "output_type": "execute_result"
    }
   ],
   "source": [
    "# openai.api_key  = os.getenv('OPENAI_API_KEY')\n",
    "stats.get_tweets(selected_game_ids=selected_game_ids)"
   ]
  },
  {
   "cell_type": "code",
   "execution_count": null,
   "id": "1e7918ce-3f79-423e-8b1d-b52e9c03bf58",
   "metadata": {},
   "outputs": [],
   "source": []
  },
  {
   "cell_type": "markdown",
   "id": "0d49b2ef-92e2-4dad-9bc9-01c6dfa51f22",
   "metadata": {},
   "source": [
    "# Gen tweets by AD"
   ]
  },
  {
   "cell_type": "code",
   "execution_count": 2,
   "id": "6bbb2672-e7e3-468d-8846-4180614467f4",
   "metadata": {},
   "outputs": [
    {
     "name": "stderr",
     "output_type": "stream",
     "text": [
      "Using `tqdm.autonotebook.tqdm` in notebook mode. Use `tqdm.tqdm` instead to force console mode (e.g. in jupyter console)\n"
     ]
    }
   ],
   "source": [
    "from anomaly.resource.utils import AnomalyCalculation"
   ]
  },
  {
   "cell_type": "code",
   "execution_count": 5,
   "id": "3e128768-c1f2-4df0-b979-0b48c5fa73fd",
   "metadata": {},
   "outputs": [],
   "source": [
    "anomaly = AnomalyCalculation(db_path=DB_PATH, path_model_weights='isolation_forest_model_2021-10-19_2023-10-23.joblib')"
   ]
  },
  {
   "cell_type": "code",
   "execution_count": 11,
   "id": "c472dc4c-1078-4d87-aca6-184cfb9e3da8",
   "metadata": {},
   "outputs": [
    {
     "name": "stderr",
     "output_type": "stream",
     "text": [
      "X does not have valid feature names, but StandardScaler was fitted with feature names\n",
      "X does not have valid feature names, but StandardScaler was fitted with feature names\n"
     ]
    },
    {
     "name": "stdout",
     "output_type": "stream",
     "text": [
      "(129, 34) (129, 34)\n",
      "1\n"
     ]
    },
    {
     "data": {
      "text/html": [
       "<div>\n",
       "<style scoped>\n",
       "    .dataframe tbody tr th:only-of-type {\n",
       "        vertical-align: middle;\n",
       "    }\n",
       "\n",
       "    .dataframe tbody tr th {\n",
       "        vertical-align: top;\n",
       "    }\n",
       "\n",
       "    .dataframe thead th {\n",
       "        text-align: right;\n",
       "    }\n",
       "</style>\n",
       "<table border=\"1\" class=\"dataframe\">\n",
       "  <thead>\n",
       "    <tr style=\"text-align: right;\">\n",
       "      <th></th>\n",
       "      <th>GAME_ID_STR</th>\n",
       "      <th>PLAYER_ID</th>\n",
       "      <th>PLAYER_NAME</th>\n",
       "      <th>TEAM_ABBREVIATION</th>\n",
       "      <th>_stat_line</th>\n",
       "    </tr>\n",
       "  </thead>\n",
       "  <tbody>\n",
       "    <tr>\n",
       "      <th>0</th>\n",
       "      <td>0022300306</td>\n",
       "      <td>1629029</td>\n",
       "      <td>Luka Doncic</td>\n",
       "      <td>DAL</td>\n",
       "      <td>AST = 17.0, FGA = 28.0, PTS = 33.0, FGM = 12.0, FG3A = 10.0</td>\n",
       "    </tr>\n",
       "  </tbody>\n",
       "</table>\n",
       "</div>"
      ],
      "text/plain": [
       "  GAME_ID_STR  PLAYER_ID  PLAYER_NAME TEAM_ABBREVIATION  \\\n",
       "0  0022300306    1629029  Luka Doncic               DAL   \n",
       "\n",
       "                                                    _stat_line  \n",
       "0  AST = 17.0, FGA = 28.0, PTS = 33.0, FGM = 12.0, FG3A = 10.0  "
      ]
     },
     "execution_count": 11,
     "metadata": {},
     "output_type": "execute_result"
    }
   ],
   "source": [
    "def _get_anomaly(anomaly, selected_game_ids: List[str]) -> List[Tweet]:\n",
    "    int_selected_game_ids = [int(_g) for _g in selected_game_ids]\n",
    "    df_train, df_test = anomaly._get_train_test_df(game_ids=int_selected_game_ids)\n",
    "    anomaly_stats = anomaly.get_anomaly_stats_with_context(df_test=df_test)\n",
    "    # print(df_test.head(2).to_markdown(index=False))\n",
    "    return anomaly_stats\n",
    "\n",
    "_get_anomaly(anomaly, selected_game_ids)"
   ]
  },
  {
   "cell_type": "code",
   "execution_count": 14,
   "id": "0d833900-8591-4824-823a-6899edc155b1",
   "metadata": {},
   "outputs": [
    {
     "name": "stderr",
     "output_type": "stream",
     "text": [
      "X does not have valid feature names, but StandardScaler was fitted with feature names\n",
      "X does not have valid feature names, but StandardScaler was fitted with feature names\n"
     ]
    },
    {
     "name": "stdout",
     "output_type": "stream",
     "text": [
      "(129, 34) (129, 34)\n",
      "1\n",
      "use analog: False\n"
     ]
    },
    {
     "data": {
      "text/plain": [
       "[Tweet(game_ids=['0022300306'], player_ids=[1629029], tweet_text='\\n🔥 Luka Doncic was on 🔝 of his game tonight for DAL! With a whopping 17 AST and 33 PTS, he dominated the court and led his team to victory. 🏀 #MVP #NBA #LukaMagic 🎩', tweet_type=<TweetType.ANOMALY_UNIQUE: 'anomaly_unique'>)]"
      ]
     },
     "execution_count": 14,
     "metadata": {},
     "output_type": "execute_result"
    }
   ],
   "source": [
    "tweets_anomaly = anomaly.get_tweets(selected_game_ids=selected_game_ids)\n",
    "tweets_anomaly"
   ]
  },
  {
   "cell_type": "code",
   "execution_count": null,
   "id": "cd2fd3f9-5fc2-4636-a14a-cbba2da63640",
   "metadata": {},
   "outputs": [],
   "source": []
  },
  {
   "cell_type": "code",
   "execution_count": null,
   "id": "d71b8d04-4527-42e2-b474-e32b5df33a50",
   "metadata": {},
   "outputs": [],
   "source": []
  }
 ],
 "metadata": {
  "kernelspec": {
   "display_name": "Python 3 (ipykernel)",
   "language": "python",
   "name": "python3"
  },
  "language_info": {
   "codemirror_mode": {
    "name": "ipython",
    "version": 3
   },
   "file_extension": ".py",
   "mimetype": "text/x-python",
   "name": "python",
   "nbconvert_exporter": "python",
   "pygments_lexer": "ipython3",
   "version": "3.8.18"
  }
 },
 "nbformat": 4,
 "nbformat_minor": 5
}
