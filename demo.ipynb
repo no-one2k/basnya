{
 "cells": [
  {
   "cell_type": "code",
   "execution_count": 2,
   "id": "413fe343-e34d-46bc-ab40-235746547626",
   "metadata": {},
   "outputs": [
    {
     "name": "stdout",
     "output_type": "stream",
     "text": [
      "The autoreload extension is already loaded. To reload it, use:\n",
      "  %reload_ext autoreload\n"
     ]
    }
   ],
   "source": [
    "import pandas as pd\n",
    "import numpy as np\n",
    "import os\n",
    "from dotenv import load_dotenv\n",
    "load_dotenv('openai.env')\n",
    "\n",
    "import datetime as dt\n",
    "\n",
    "pd.set_option('display.max_columns', None)\n",
    "pd.set_option('display.max_colwidth', 150)\n",
    "\n",
    "%load_ext autoreload\n",
    "%autoreload 2\n",
    "from back_fill_games import *"
   ]
  },
  {
   "cell_type": "markdown",
   "id": "619e39f4-c9ce-4c82-a0b2-9939ef6e0aca",
   "metadata": {},
   "source": [
    "# Get games"
   ]
  },
  {
   "cell_type": "code",
   "execution_count": 3,
   "id": "22bc2ee0-80e7-4ff5-8b07-b740eb2d0ebe",
   "metadata": {},
   "outputs": [
    {
     "name": "stdout",
     "output_type": "stream",
     "text": [
      "DB path: 'basnya.db'\n",
      "calling GameFinder for 2023-12-12\n",
      "found games for this date: 5\n",
      "Found games on latest date of '2023-12-12T00:00:00': 5\n",
      "Found players: 4902\n",
      "Searching for games from 12/12/2023 to 12/12/2023\n",
      "need to append games: 0\n",
      "no need to append players\n",
      "writing 0 records to games\n"
     ]
    }
   ],
   "source": [
    "res = fetch_games_for_date(dt.date(2023, 12, 12))"
   ]
  },
  {
   "cell_type": "code",
   "execution_count": 4,
   "id": "a18fcf6e-5106-4802-a596-098f62681262",
   "metadata": {},
   "outputs": [
    {
     "data": {
      "text/html": [
       "<div>\n",
       "<style scoped>\n",
       "    .dataframe tbody tr th:only-of-type {\n",
       "        vertical-align: middle;\n",
       "    }\n",
       "\n",
       "    .dataframe tbody tr th {\n",
       "        vertical-align: top;\n",
       "    }\n",
       "\n",
       "    .dataframe thead th {\n",
       "        text-align: right;\n",
       "    }\n",
       "</style>\n",
       "<table border=\"1\" class=\"dataframe\">\n",
       "  <thead>\n",
       "    <tr style=\"text-align: right;\">\n",
       "      <th></th>\n",
       "      <th>unseen_game</th>\n",
       "      <th>game_id</th>\n",
       "      <th>game_date</th>\n",
       "      <th>teams</th>\n",
       "      <th>score</th>\n",
       "    </tr>\n",
       "  </thead>\n",
       "  <tbody>\n",
       "    <tr>\n",
       "      <th>0</th>\n",
       "      <td>False</td>\n",
       "      <td>0022300305</td>\n",
       "      <td>12/12/2023</td>\n",
       "      <td>Boston Celtics - Cleveland Cavaliers</td>\n",
       "      <td>120 - 113</td>\n",
       "    </tr>\n",
       "    <tr>\n",
       "      <th>1</th>\n",
       "      <td>False</td>\n",
       "      <td>0022300306</td>\n",
       "      <td>12/12/2023</td>\n",
       "      <td>Dallas Mavericks - Los Angeles Lakers</td>\n",
       "      <td>127 - 125</td>\n",
       "    </tr>\n",
       "    <tr>\n",
       "      <th>2</th>\n",
       "      <td>False</td>\n",
       "      <td>0022300307</td>\n",
       "      <td>12/12/2023</td>\n",
       "      <td>Chicago Bulls - Denver Nuggets</td>\n",
       "      <td>106 - 114</td>\n",
       "    </tr>\n",
       "    <tr>\n",
       "      <th>3</th>\n",
       "      <td>False</td>\n",
       "      <td>0022300308</td>\n",
       "      <td>12/12/2023</td>\n",
       "      <td>Phoenix Suns - Golden State Warriors</td>\n",
       "      <td>119 - 116</td>\n",
       "    </tr>\n",
       "    <tr>\n",
       "      <th>4</th>\n",
       "      <td>False</td>\n",
       "      <td>0022300309</td>\n",
       "      <td>12/12/2023</td>\n",
       "      <td>LA Clippers - Sacramento Kings</td>\n",
       "      <td>119 - 99</td>\n",
       "    </tr>\n",
       "  </tbody>\n",
       "</table>\n",
       "</div>"
      ],
      "text/plain": [
       "   unseen_game     game_id   game_date                                  teams  \\\n",
       "0        False  0022300305  12/12/2023   Boston Celtics - Cleveland Cavaliers   \n",
       "1        False  0022300306  12/12/2023  Dallas Mavericks - Los Angeles Lakers   \n",
       "2        False  0022300307  12/12/2023         Chicago Bulls - Denver Nuggets   \n",
       "3        False  0022300308  12/12/2023   Phoenix Suns - Golden State Warriors   \n",
       "4        False  0022300309  12/12/2023         LA Clippers - Sacramento Kings   \n",
       "\n",
       "       score  \n",
       "0  120 - 113  \n",
       "1  127 - 125  \n",
       "2  106 - 114  \n",
       "3  119 - 116  \n",
       "4   119 - 99  "
      ]
     },
     "execution_count": 4,
     "metadata": {},
     "output_type": "execute_result"
    }
   ],
   "source": [
    "res#.sort_values('GAME_ID')"
   ]
  },
  {
   "cell_type": "code",
   "execution_count": 5,
   "id": "86d98308-bb41-4724-bf11-d766d4efd24d",
   "metadata": {},
   "outputs": [
    {
     "name": "stdout",
     "output_type": "stream",
     "text": [
      "calling GameFinder for 2023-12-12\n",
      "found games for this date: 5\n"
     ]
    },
    {
     "data": {
      "text/plain": [
       "['0022300305', '0022300306', '0022300307', '0022300308', '0022300309']"
      ]
     },
     "execution_count": 5,
     "metadata": {},
     "output_type": "execute_result"
    }
   ],
   "source": [
    "sorted(get_game_ids_for_date(dt.date(2023, 12, 12)))"
   ]
  },
  {
   "cell_type": "markdown",
   "id": "a4ef4ca1-df75-4bd6-a28f-d745126a5796",
   "metadata": {},
   "source": [
    "# Gen tweets by stats"
   ]
  },
  {
   "cell_type": "code",
   "execution_count": 6,
   "id": "a21a7fd9-29d4-420b-b06e-bfe697fdb981",
   "metadata": {},
   "outputs": [],
   "source": [
    "from signal_indicator.resource.prompts_template import prompt\n",
    "from signal_indicator.resource.strategies import *\n",
    "from signal_indicator.resource.utils import *\n",
    "\n",
    "import logging\n",
    "import os\n",
    "from pprint import pprint\n",
    "\n",
    "DB_PATH = 'basnya.db'\n",
    "selected_game_ids = ['0022300305', '0022300306', '0022300307', '0022300308', '0022300309']"
   ]
  },
  {
   "cell_type": "code",
   "execution_count": null,
   "id": "02d380e4-47fd-4ffd-8ec2-34d529410b3a",
   "metadata": {},
   "outputs": [],
   "source": []
  },
  {
   "cell_type": "code",
   "execution_count": 7,
   "id": "5d0d01f3-4f2d-4f7e-b9d5-c5accb973402",
   "metadata": {},
   "outputs": [],
   "source": [
    "stats = StatsHolder.from_sql(db_path=DB_PATH, prompt=prompt)\n",
    "strategy_top_10 = StrategyRating(top=10, player_id_to_name_dict=stats.player_id_to_name_dict)\n",
    "stats.add_strategy(strategy_top_10)"
   ]
  },
  {
   "cell_type": "code",
   "execution_count": 8,
   "id": "1b72b792-b0ef-4f9a-b138-9b6a27e82ee9",
   "metadata": {},
   "outputs": [
    {
     "data": {
      "text/plain": [
       "{'title': \"For ['0022300305', '0022300306', '0022300307', '0022300308', '0022300309'] games\",\n",
       " 'result': [{'description': 'Top 10 players',\n",
       "   'values': {'in_top': {'MIN': [{'NAME': 'Max Strus', 'COUNTRY': 'USA'}],\n",
       "     'FGA': [{'NAME': 'LeBron James', 'COUNTRY': 'USA'},\n",
       "      {'NAME': 'DeMar DeRozan', 'COUNTRY': 'USA'}],\n",
       "     'FT_PCT': [{'NAME': 'Paul George', 'COUNTRY': 'USA'}],\n",
       "     'OREB': [{'NAME': 'Nikola Vucevic', 'COUNTRY': 'Montenegro'}],\n",
       "     'BLK': [{'NAME': 'Dereck Lively II', 'COUNTRY': 'USA'}],\n",
       "     'PTS': [{'NAME': 'LeBron James', 'COUNTRY': 'USA'},\n",
       "      {'NAME': 'Anthony Davis', 'COUNTRY': 'USA'}]},\n",
       "    'out_top': {'MIN': [{'NAME': 'Pascal Siakam', 'COUNTRY': 'Cameroon'}],\n",
       "     'FGA': [{'NAME': 'Trae Young', 'COUNTRY': 'USA'},\n",
       "      {'NAME': 'Kyle Kuzma', 'COUNTRY': 'USA'}],\n",
       "     'FT_PCT': [{'NAME': 'Damian Lillard', 'COUNTRY': 'USA'}],\n",
       "     'OREB': [{'NAME': 'Ivica Zubac', 'COUNTRY': 'Croatia'}],\n",
       "     'BLK': [{'NAME': 'Goga Bitadze', 'COUNTRY': 'Georgia'}],\n",
       "     'PTS': [{'NAME': 'Desmond Bane', 'COUNTRY': 'USA'},\n",
       "      {'NAME': 'Tyrese Maxey', 'COUNTRY': 'USA'}]}}}]}"
      ]
     },
     "execution_count": 8,
     "metadata": {},
     "output_type": "execute_result"
    }
   ],
   "source": [
    "stats.run_strategies(selected_game_ids=selected_game_ids)"
   ]
  },
  {
   "cell_type": "code",
   "execution_count": 14,
   "id": "0c057cb6-5e51-446a-aade-40a60a7d36d1",
   "metadata": {},
   "outputs": [
    {
     "data": {
      "text/plain": [
       "[Tweet(game_id=None, player_id=None, tweet_text='\\n🚨 BREAKING NEWS 🚨 Big changes in the', tweet_type=<TweetType.RATING_CHANGE_SEASON_SUM: 'rating_change_season_sum'>)]"
      ]
     },
     "execution_count": 14,
     "metadata": {},
     "output_type": "execute_result"
    }
   ],
   "source": [
    "# openai.api_key  = os.getenv('OPENAI_API_KEY')\n",
    "stats.get_tweets(selected_game_ids=selected_game_ids)"
   ]
  },
  {
   "cell_type": "code",
   "execution_count": null,
   "id": "63b96848-537b-4c5e-bb53-0ddce1f8c5d7",
   "metadata": {},
   "outputs": [],
   "source": []
  },
  {
   "cell_type": "code",
   "execution_count": 31,
   "id": "619a89e4-3d08-4a0d-af6e-4a3a7a4bd2d2",
   "metadata": {},
   "outputs": [
    {
     "name": "stderr",
     "output_type": "stream",
     "text": [
      "100%|█████████████████████████████████████████████| 5/5 [00:01<00:00,  3.07it/s]\n",
      "100%|█████████████████████████████████████████████| 1/1 [00:00<00:00,  1.13it/s]\n",
      "0it [00:00, ?it/s]\n"
     ]
    }
   ],
   "source": [
    "# strategy_top_100 = StrategyRating(top=100, playerID2name=stats.playerId2name)\n",
    "strategy_top_50 = StrategyRating(top=50, playerID2name=stats.playerId2name)\n",
    "# strategy_top_10= StrategyRating(top=10, playerID2name=stats.playerId2name)\n",
    "# stats.add_strategy(strategy_top_10)\n",
    "stats.add_strategy(strategy_top_50)\n",
    "# # stats.add_strategy(strategy_top_100)\n",
    "# # result signal\n",
    "twits_signal = stats.get_twits(N_last_game=5)\n",
    "\n",
    "for twit in twits_signal:\n",
    "    print('===============================================================================================')\n",
    "    pprint(twit)"
   ]
  },
  {
   "cell_type": "code",
   "execution_count": null,
   "id": "1e7918ce-3f79-423e-8b1d-b52e9c03bf58",
   "metadata": {},
   "outputs": [],
   "source": []
  },
  {
   "cell_type": "markdown",
   "id": "0d49b2ef-92e2-4dad-9bc9-01c6dfa51f22",
   "metadata": {},
   "source": [
    "# Gen tweets by AD"
   ]
  },
  {
   "cell_type": "code",
   "execution_count": 19,
   "id": "6bbb2672-e7e3-468d-8846-4180614467f4",
   "metadata": {},
   "outputs": [],
   "source": [
    "from anomaly.resource.utils import AnomalyCalculation"
   ]
  },
  {
   "cell_type": "code",
   "execution_count": 29,
   "id": "3e128768-c1f2-4df0-b979-0b48c5fa73fd",
   "metadata": {},
   "outputs": [],
   "source": [
    "anomaly = AnomalyCalculation(db_path=DB_PATH, path_model_weights='isolation_forest_model_2021-10-19_2023-10-23.joblib')"
   ]
  },
  {
   "cell_type": "code",
   "execution_count": 37,
   "id": "0d833900-8591-4824-823a-6899edc155b1",
   "metadata": {},
   "outputs": [
    {
     "name": "stderr",
     "output_type": "stream",
     "text": [
      "X does not have valid feature names, but StandardScaler was fitted with feature names\n",
      "X does not have valid feature names, but StandardScaler was fitted with feature names\n"
     ]
    },
    {
     "name": "stdout",
     "output_type": "stream",
     "text": [
      "use analog: False\n"
     ]
    },
    {
     "data": {
      "text/plain": [
       "[Tweet(game_id=None, player_id=None, tweet_text=\"\\n    Luka Doncic is a beast on the court! With 17 assists and 33 points, he led Dallas to victory. And let's not forget his 12 made shots and 10 three-point attempts. Simply incredible. #MVP #Dallas #Basketball\", tweet_type=<TweetType.ANOMALY_UNIQUE: 'anomaly_unique'>)]"
      ]
     },
     "execution_count": 37,
     "metadata": {},
     "output_type": "execute_result"
    }
   ],
   "source": [
    "tweets_anomaly = anomaly.get_tweets(selected_game_ids=selected_game_ids)\n",
    "tweets_anomaly"
   ]
  },
  {
   "cell_type": "code",
   "execution_count": 33,
   "id": "bccda9f5-6145-413a-a3c4-016b5fb7f93d",
   "metadata": {},
   "outputs": [
    {
     "name": "stdout",
     "output_type": "stream",
     "text": [
      "> \u001b[0;32m/home/noone/.virtualenvs/env_83/lib/python3.8/site-packages/shap/explainers/_tree.py\u001b[0m(1133)\u001b[0;36m__init__\u001b[0;34m()\u001b[0m\n",
      "\u001b[0;32m   1131 \u001b[0;31m            \u001b[0mself\u001b[0m\u001b[0;34m.\u001b[0m\u001b[0mbase_offset\u001b[0m \u001b[0;34m=\u001b[0m \u001b[0mmodel\u001b[0m\u001b[0;34m.\u001b[0m\u001b[0minit_params\u001b[0m\u001b[0;34m[\u001b[0m\u001b[0mparam_idx\u001b[0m\u001b[0;34m]\u001b[0m\u001b[0;34m\u001b[0m\u001b[0;34m\u001b[0m\u001b[0m\n",
      "\u001b[0m\u001b[0;32m   1132 \u001b[0;31m        \u001b[0;32melse\u001b[0m\u001b[0;34m:\u001b[0m\u001b[0;34m\u001b[0m\u001b[0;34m\u001b[0m\u001b[0m\n",
      "\u001b[0m\u001b[0;32m-> 1133 \u001b[0;31m            \u001b[0;32mraise\u001b[0m \u001b[0mInvalidModelError\u001b[0m\u001b[0;34m(\u001b[0m\u001b[0;34m\"Model type not yet supported by TreeExplainer: \"\u001b[0m \u001b[0;34m+\u001b[0m \u001b[0mstr\u001b[0m\u001b[0;34m(\u001b[0m\u001b[0mtype\u001b[0m\u001b[0;34m(\u001b[0m\u001b[0mmodel\u001b[0m\u001b[0;34m)\u001b[0m\u001b[0;34m)\u001b[0m\u001b[0;34m)\u001b[0m\u001b[0;34m\u001b[0m\u001b[0;34m\u001b[0m\u001b[0m\n",
      "\u001b[0m\u001b[0;32m   1134 \u001b[0;31m\u001b[0;34m\u001b[0m\u001b[0m\n",
      "\u001b[0m\u001b[0;32m   1135 \u001b[0;31m        \u001b[0;31m# build a dense numpy version of all the tree objects\u001b[0m\u001b[0;34m\u001b[0m\u001b[0;34m\u001b[0m\u001b[0;34m\u001b[0m\u001b[0m\n",
      "\u001b[0m\n"
     ]
    },
    {
     "name": "stdin",
     "output_type": "stream",
     "text": [
      "ipdb>  u\n"
     ]
    },
    {
     "name": "stdout",
     "output_type": "stream",
     "text": [
      "> \u001b[0;32m/home/noone/.virtualenvs/env_83/lib/python3.8/site-packages/shap/explainers/_tree.py\u001b[0m(166)\u001b[0;36m__init__\u001b[0;34m()\u001b[0m\n",
      "\u001b[0;32m    164 \u001b[0;31m        \u001b[0mself\u001b[0m\u001b[0;34m.\u001b[0m\u001b[0mfeature_perturbation\u001b[0m \u001b[0;34m=\u001b[0m \u001b[0mfeature_perturbation\u001b[0m\u001b[0;34m\u001b[0m\u001b[0;34m\u001b[0m\u001b[0m\n",
      "\u001b[0m\u001b[0;32m    165 \u001b[0;31m        \u001b[0mself\u001b[0m\u001b[0;34m.\u001b[0m\u001b[0mexpected_value\u001b[0m \u001b[0;34m=\u001b[0m \u001b[0;32mNone\u001b[0m\u001b[0;34m\u001b[0m\u001b[0;34m\u001b[0m\u001b[0m\n",
      "\u001b[0m\u001b[0;32m--> 166 \u001b[0;31m        \u001b[0mself\u001b[0m\u001b[0;34m.\u001b[0m\u001b[0mmodel\u001b[0m \u001b[0;34m=\u001b[0m \u001b[0mTreeEnsemble\u001b[0m\u001b[0;34m(\u001b[0m\u001b[0mmodel\u001b[0m\u001b[0;34m,\u001b[0m \u001b[0mself\u001b[0m\u001b[0;34m.\u001b[0m\u001b[0mdata\u001b[0m\u001b[0;34m,\u001b[0m \u001b[0mself\u001b[0m\u001b[0;34m.\u001b[0m\u001b[0mdata_missing\u001b[0m\u001b[0;34m,\u001b[0m \u001b[0mmodel_output\u001b[0m\u001b[0;34m)\u001b[0m\u001b[0;34m\u001b[0m\u001b[0;34m\u001b[0m\u001b[0m\n",
      "\u001b[0m\u001b[0;32m    167 \u001b[0;31m        \u001b[0mself\u001b[0m\u001b[0;34m.\u001b[0m\u001b[0mmodel_output\u001b[0m \u001b[0;34m=\u001b[0m \u001b[0mmodel_output\u001b[0m\u001b[0;34m\u001b[0m\u001b[0;34m\u001b[0m\u001b[0m\n",
      "\u001b[0m\u001b[0;32m    168 \u001b[0;31m        \u001b[0;31m#self.model_output = self.model.model_output # this allows the TreeEnsemble to translate model outputs types by how it loads the model\u001b[0m\u001b[0;34m\u001b[0m\u001b[0;34m\u001b[0m\u001b[0;34m\u001b[0m\u001b[0m\n",
      "\u001b[0m\n"
     ]
    },
    {
     "name": "stdin",
     "output_type": "stream",
     "text": [
      "ipdb>  model\n"
     ]
    },
    {
     "name": "stdout",
     "output_type": "stream",
     "text": [
      "Pipeline(steps=[('scaler', StandardScaler()),\n",
      "                ('isolation_forest',\n",
      "                 IsolationForest(contamination=0.01, random_state=42))])\n"
     ]
    },
    {
     "name": "stdin",
     "output_type": "stream",
     "text": [
      "ipdb>  dir(model.steps)\n"
     ]
    },
    {
     "name": "stdout",
     "output_type": "stream",
     "text": [
      "['__add__', '__class__', '__contains__', '__delattr__', '__delitem__', '__dir__', '__doc__', '__eq__', '__format__', '__ge__', '__getattribute__', '__getitem__', '__gt__', '__hash__', '__iadd__', '__imul__', '__init__', '__init_subclass__', '__iter__', '__le__', '__len__', '__lt__', '__mul__', '__ne__', '__new__', '__reduce__', '__reduce_ex__', '__repr__', '__reversed__', '__rmul__', '__setattr__', '__setitem__', '__sizeof__', '__str__', '__subclasshook__', 'append', 'clear', 'copy', 'count', 'extend', 'index', 'insert', 'pop', 'remove', 'reverse', 'sort']\n"
     ]
    },
    {
     "name": "stdin",
     "output_type": "stream",
     "text": [
      "ipdb>  q\n"
     ]
    }
   ],
   "source": [
    "%debug"
   ]
  },
  {
   "cell_type": "code",
   "execution_count": null,
   "id": "f3decd1b-dccc-4de0-b309-6b267a2bbafe",
   "metadata": {},
   "outputs": [],
   "source": []
  },
  {
   "cell_type": "code",
   "execution_count": null,
   "id": "64f3af6d-6f2a-46e5-8916-e8fd0217ec00",
   "metadata": {},
   "outputs": [],
   "source": []
  },
  {
   "cell_type": "code",
   "execution_count": null,
   "id": "cd2fd3f9-5fc2-4636-a14a-cbba2da63640",
   "metadata": {},
   "outputs": [],
   "source": []
  },
  {
   "cell_type": "code",
   "execution_count": null,
   "id": "d71b8d04-4527-42e2-b474-e32b5df33a50",
   "metadata": {},
   "outputs": [],
   "source": []
  }
 ],
 "metadata": {
  "kernelspec": {
   "display_name": "Python 3 (ipykernel)",
   "language": "python",
   "name": "python3"
  },
  "language_info": {
   "codemirror_mode": {
    "name": "ipython",
    "version": 3
   },
   "file_extension": ".py",
   "mimetype": "text/x-python",
   "name": "python",
   "nbconvert_exporter": "python",
   "pygments_lexer": "ipython3",
   "version": "3.8.18"
  }
 },
 "nbformat": 4,
 "nbformat_minor": 5
}
