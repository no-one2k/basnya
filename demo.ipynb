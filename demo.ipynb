{
 "cells": [
  {
   "cell_type": "code",
   "execution_count": 1,
   "id": "413fe343-e34d-46bc-ab40-235746547626",
   "metadata": {},
   "outputs": [],
   "source": [
    "import pandas as pd\n",
    "import numpy as np\n",
    "import os\n",
    "from dotenv import load_dotenv\n",
    "load_dotenv('openai.env')\n",
    "\n",
    "import datetime as dt\n",
    "\n",
    "pd.set_option('display.max_columns', None)\n",
    "pd.set_option('display.max_colwidth', 150)\n",
    "\n",
    "%load_ext autoreload\n",
    "%autoreload 2\n",
    "from back_fill_games import *"
   ]
  },
  {
   "cell_type": "markdown",
   "id": "619e39f4-c9ce-4c82-a0b2-9939ef6e0aca",
   "metadata": {},
   "source": [
    "# Get games"
   ]
  },
  {
   "cell_type": "code",
   "execution_count": 2,
   "id": "22bc2ee0-80e7-4ff5-8b07-b740eb2d0ebe",
   "metadata": {},
   "outputs": [
    {
     "data": {
      "text/html": [
       "<pre style=\"white-space:pre;overflow-x:auto;line-height:normal;font-family:Menlo,'DejaVu Sans Mono',consolas,'Courier New',monospace\">18:17:10.114 | <span style=\"color: #008080; text-decoration-color: #008080\">INFO</span>    | prefect.engine - Created flow run<span style=\"color: #800080; text-decoration-color: #800080\"> 'utopian-lori'</span> for flow<span style=\"color: #800080; text-decoration-color: #800080; font-weight: bold\"> 'fetch-games-for-date'</span>\n",
       "</pre>\n"
      ],
      "text/plain": [
       "18:17:10.114 | \u001b[36mINFO\u001b[0m    | prefect.engine - Created flow run\u001b[35m 'utopian-lori'\u001b[0m for flow\u001b[1;35m 'fetch-games-for-date'\u001b[0m\n"
      ]
     },
     "metadata": {},
     "output_type": "display_data"
    },
    {
     "data": {
      "text/html": [
       "<pre style=\"white-space:pre;overflow-x:auto;line-height:normal;font-family:Menlo,'DejaVu Sans Mono',consolas,'Courier New',monospace\">18:17:10.123 | <span style=\"color: #008080; text-decoration-color: #008080\">INFO</span>    | Flow run<span style=\"color: #800080; text-decoration-color: #800080\"> 'utopian-lori'</span> - View at <span style=\"color: #0000ff; text-decoration-color: #0000ff\">https://app.prefect.cloud/account/0915a191-39df-42e2-b744-13090d8bef96/workspace/aad552d2-34e7-48d3-b19e-69d06cf19a83/flow-runs/flow-run/7661cbda-f498-4b57-8947-9c0182afd893</span>\n",
       "</pre>\n"
      ],
      "text/plain": [
       "18:17:10.123 | \u001b[36mINFO\u001b[0m    | Flow run\u001b[35m 'utopian-lori'\u001b[0m - View at \u001b[94mhttps://app.prefect.cloud/account/0915a191-39df-42e2-b744-13090d8bef96/workspace/aad552d2-34e7-48d3-b19e-69d06cf19a83/flow-runs/flow-run/7661cbda-f498-4b57-8947-9c0182afd893\u001b[0m\n"
      ]
     },
     "metadata": {},
     "output_type": "display_data"
    },
    {
     "data": {
      "text/html": [
       "<pre style=\"white-space:pre;overflow-x:auto;line-height:normal;font-family:Menlo,'DejaVu Sans Mono',consolas,'Courier New',monospace\">18:17:11.138 | <span style=\"color: #008080; text-decoration-color: #008080\">INFO</span>    | Flow run<span style=\"color: #800080; text-decoration-color: #800080\"> 'utopian-lori'</span> - Created task run 'get_db_path-0' for task 'get_db_path'\n",
       "</pre>\n"
      ],
      "text/plain": [
       "18:17:11.138 | \u001b[36mINFO\u001b[0m    | Flow run\u001b[35m 'utopian-lori'\u001b[0m - Created task run 'get_db_path-0' for task 'get_db_path'\n"
      ]
     },
     "metadata": {},
     "output_type": "display_data"
    },
    {
     "data": {
      "text/html": [
       "<pre style=\"white-space:pre;overflow-x:auto;line-height:normal;font-family:Menlo,'DejaVu Sans Mono',consolas,'Courier New',monospace\">18:17:11.142 | <span style=\"color: #008080; text-decoration-color: #008080\">INFO</span>    | Flow run<span style=\"color: #800080; text-decoration-color: #800080\"> 'utopian-lori'</span> - Executing 'get_db_path-0' immediately...\n",
       "</pre>\n"
      ],
      "text/plain": [
       "18:17:11.142 | \u001b[36mINFO\u001b[0m    | Flow run\u001b[35m 'utopian-lori'\u001b[0m - Executing 'get_db_path-0' immediately...\n"
      ]
     },
     "metadata": {},
     "output_type": "display_data"
    },
    {
     "data": {
      "text/html": [
       "<pre style=\"white-space:pre;overflow-x:auto;line-height:normal;font-family:Menlo,'DejaVu Sans Mono',consolas,'Courier New',monospace\">18:17:12.383 | <span style=\"color: #008080; text-decoration-color: #008080\">INFO</span>    | Task run 'get_db_path-0' - DB path: 'basnya.db'\n",
       "</pre>\n"
      ],
      "text/plain": [
       "18:17:12.383 | \u001b[36mINFO\u001b[0m    | Task run 'get_db_path-0' - DB path: 'basnya.db'\n"
      ]
     },
     "metadata": {},
     "output_type": "display_data"
    },
    {
     "data": {
      "text/html": [
       "<pre style=\"white-space:pre;overflow-x:auto;line-height:normal;font-family:Menlo,'DejaVu Sans Mono',consolas,'Courier New',monospace\">18:17:12.676 | <span style=\"color: #008080; text-decoration-color: #008080\">INFO</span>    | Task run 'get_db_path-0' - Finished in state <span style=\"color: #008000; text-decoration-color: #008000\">Completed</span>()\n",
       "</pre>\n"
      ],
      "text/plain": [
       "18:17:12.676 | \u001b[36mINFO\u001b[0m    | Task run 'get_db_path-0' - Finished in state \u001b[32mCompleted\u001b[0m()\n"
      ]
     },
     "metadata": {},
     "output_type": "display_data"
    },
    {
     "data": {
      "text/html": [
       "<pre style=\"white-space:pre;overflow-x:auto;line-height:normal;font-family:Menlo,'DejaVu Sans Mono',consolas,'Courier New',monospace\">18:17:12.985 | <span style=\"color: #008080; text-decoration-color: #008080\">INFO</span>    | Flow run<span style=\"color: #800080; text-decoration-color: #800080\"> 'utopian-lori'</span> - Created task run 'get_game_ids_for_date-0' for task 'get_game_ids_for_date'\n",
       "</pre>\n"
      ],
      "text/plain": [
       "18:17:12.985 | \u001b[36mINFO\u001b[0m    | Flow run\u001b[35m 'utopian-lori'\u001b[0m - Created task run 'get_game_ids_for_date-0' for task 'get_game_ids_for_date'\n"
      ]
     },
     "metadata": {},
     "output_type": "display_data"
    },
    {
     "data": {
      "text/html": [
       "<pre style=\"white-space:pre;overflow-x:auto;line-height:normal;font-family:Menlo,'DejaVu Sans Mono',consolas,'Courier New',monospace\">18:17:12.987 | <span style=\"color: #008080; text-decoration-color: #008080\">INFO</span>    | Flow run<span style=\"color: #800080; text-decoration-color: #800080\"> 'utopian-lori'</span> - Executing 'get_game_ids_for_date-0' immediately...\n",
       "</pre>\n"
      ],
      "text/plain": [
       "18:17:12.987 | \u001b[36mINFO\u001b[0m    | Flow run\u001b[35m 'utopian-lori'\u001b[0m - Executing 'get_game_ids_for_date-0' immediately...\n"
      ]
     },
     "metadata": {},
     "output_type": "display_data"
    },
    {
     "data": {
      "text/html": [
       "<pre style=\"white-space:pre;overflow-x:auto;line-height:normal;font-family:Menlo,'DejaVu Sans Mono',consolas,'Courier New',monospace\">18:17:13.501 | <span style=\"color: #008080; text-decoration-color: #008080\">INFO</span>    | Task run 'get_game_ids_for_date-0' - calling GameFinder for 2023-12-12\n",
       "</pre>\n"
      ],
      "text/plain": [
       "18:17:13.501 | \u001b[36mINFO\u001b[0m    | Task run 'get_game_ids_for_date-0' - calling GameFinder for 2023-12-12\n"
      ]
     },
     "metadata": {},
     "output_type": "display_data"
    },
    {
     "data": {
      "text/html": [
       "<pre style=\"white-space:pre;overflow-x:auto;line-height:normal;font-family:Menlo,'DejaVu Sans Mono',consolas,'Courier New',monospace\">18:17:14.349 | <span style=\"color: #008080; text-decoration-color: #008080\">INFO</span>    | Task run 'get_game_ids_for_date-0' - found games for this date: 5\n",
       "</pre>\n"
      ],
      "text/plain": [
       "18:17:14.349 | \u001b[36mINFO\u001b[0m    | Task run 'get_game_ids_for_date-0' - found games for this date: 5\n"
      ]
     },
     "metadata": {},
     "output_type": "display_data"
    },
    {
     "data": {
      "text/html": [
       "<pre style=\"white-space:pre;overflow-x:auto;line-height:normal;font-family:Menlo,'DejaVu Sans Mono',consolas,'Courier New',monospace\">18:17:14.722 | <span style=\"color: #008080; text-decoration-color: #008080\">INFO</span>    | Task run 'get_game_ids_for_date-0' - Finished in state <span style=\"color: #008000; text-decoration-color: #008000\">Completed</span>()\n",
       "</pre>\n"
      ],
      "text/plain": [
       "18:17:14.722 | \u001b[36mINFO\u001b[0m    | Task run 'get_game_ids_for_date-0' - Finished in state \u001b[32mCompleted\u001b[0m()\n"
      ]
     },
     "metadata": {},
     "output_type": "display_data"
    },
    {
     "data": {
      "text/html": [
       "<pre style=\"white-space:pre;overflow-x:auto;line-height:normal;font-family:Menlo,'DejaVu Sans Mono',consolas,'Courier New',monospace\">18:17:15.644 | <span style=\"color: #008080; text-decoration-color: #008080\">INFO</span>    | Flow run<span style=\"color: #800080; text-decoration-color: #800080\"> 'utopian-lori'</span> - Created subflow run<span style=\"color: #800080; text-decoration-color: #800080\"> 'fluffy-mole'</span> for flow<span style=\"color: #800080; text-decoration-color: #800080; font-weight: bold\"> 'back-fill-games'</span>\n",
       "</pre>\n"
      ],
      "text/plain": [
       "18:17:15.644 | \u001b[36mINFO\u001b[0m    | Flow run\u001b[35m 'utopian-lori'\u001b[0m - Created subflow run\u001b[35m 'fluffy-mole'\u001b[0m for flow\u001b[1;35m 'back-fill-games'\u001b[0m\n"
      ]
     },
     "metadata": {},
     "output_type": "display_data"
    },
    {
     "data": {
      "text/html": [
       "<pre style=\"white-space:pre;overflow-x:auto;line-height:normal;font-family:Menlo,'DejaVu Sans Mono',consolas,'Courier New',monospace\">18:17:15.647 | <span style=\"color: #008080; text-decoration-color: #008080\">INFO</span>    | Flow run<span style=\"color: #800080; text-decoration-color: #800080\"> 'fluffy-mole'</span> - View at <span style=\"color: #0000ff; text-decoration-color: #0000ff\">https://app.prefect.cloud/account/0915a191-39df-42e2-b744-13090d8bef96/workspace/aad552d2-34e7-48d3-b19e-69d06cf19a83/flow-runs/flow-run/4740047c-c39b-448a-af4a-8ab76e70f720</span>\n",
       "</pre>\n"
      ],
      "text/plain": [
       "18:17:15.647 | \u001b[36mINFO\u001b[0m    | Flow run\u001b[35m 'fluffy-mole'\u001b[0m - View at \u001b[94mhttps://app.prefect.cloud/account/0915a191-39df-42e2-b744-13090d8bef96/workspace/aad552d2-34e7-48d3-b19e-69d06cf19a83/flow-runs/flow-run/4740047c-c39b-448a-af4a-8ab76e70f720\u001b[0m\n"
      ]
     },
     "metadata": {},
     "output_type": "display_data"
    },
    {
     "data": {
      "text/html": [
       "<pre style=\"white-space:pre;overflow-x:auto;line-height:normal;font-family:Menlo,'DejaVu Sans Mono',consolas,'Courier New',monospace\">18:17:16.487 | <span style=\"color: #008080; text-decoration-color: #008080\">INFO</span>    | Flow run<span style=\"color: #800080; text-decoration-color: #800080\"> 'fluffy-mole'</span> - Created task run 'get_latest_game-0' for task 'get_latest_game'\n",
       "</pre>\n"
      ],
      "text/plain": [
       "18:17:16.487 | \u001b[36mINFO\u001b[0m    | Flow run\u001b[35m 'fluffy-mole'\u001b[0m - Created task run 'get_latest_game-0' for task 'get_latest_game'\n"
      ]
     },
     "metadata": {},
     "output_type": "display_data"
    },
    {
     "data": {
      "text/html": [
       "<pre style=\"white-space:pre;overflow-x:auto;line-height:normal;font-family:Menlo,'DejaVu Sans Mono',consolas,'Courier New',monospace\">18:17:16.490 | <span style=\"color: #008080; text-decoration-color: #008080\">INFO</span>    | Flow run<span style=\"color: #800080; text-decoration-color: #800080\"> 'fluffy-mole'</span> - Executing 'get_latest_game-0' immediately...\n",
       "</pre>\n"
      ],
      "text/plain": [
       "18:17:16.490 | \u001b[36mINFO\u001b[0m    | Flow run\u001b[35m 'fluffy-mole'\u001b[0m - Executing 'get_latest_game-0' immediately...\n"
      ]
     },
     "metadata": {},
     "output_type": "display_data"
    },
    {
     "data": {
      "text/html": [
       "<pre style=\"white-space:pre;overflow-x:auto;line-height:normal;font-family:Menlo,'DejaVu Sans Mono',consolas,'Courier New',monospace\">18:17:17.006 | <span style=\"color: #008080; text-decoration-color: #008080\">INFO</span>    | Task run 'get_latest_game-0' - Found games on latest date of '2023-12-17T00:00:00': 5\n",
       "</pre>\n"
      ],
      "text/plain": [
       "18:17:17.006 | \u001b[36mINFO\u001b[0m    | Task run 'get_latest_game-0' - Found games on latest date of '2023-12-17T00:00:00': 5\n"
      ]
     },
     "metadata": {},
     "output_type": "display_data"
    },
    {
     "data": {
      "text/html": [
       "<pre style=\"white-space:pre;overflow-x:auto;line-height:normal;font-family:Menlo,'DejaVu Sans Mono',consolas,'Courier New',monospace\">18:17:17.384 | <span style=\"color: #008080; text-decoration-color: #008080\">INFO</span>    | Task run 'get_latest_game-0' - Finished in state <span style=\"color: #008000; text-decoration-color: #008000\">Completed</span>()\n",
       "</pre>\n"
      ],
      "text/plain": [
       "18:17:17.384 | \u001b[36mINFO\u001b[0m    | Task run 'get_latest_game-0' - Finished in state \u001b[32mCompleted\u001b[0m()\n"
      ]
     },
     "metadata": {},
     "output_type": "display_data"
    },
    {
     "data": {
      "text/html": [
       "<pre style=\"white-space:pre;overflow-x:auto;line-height:normal;font-family:Menlo,'DejaVu Sans Mono',consolas,'Courier New',monospace\">18:17:17.794 | <span style=\"color: #008080; text-decoration-color: #008080\">INFO</span>    | Flow run<span style=\"color: #800080; text-decoration-color: #800080\"> 'fluffy-mole'</span> - Created task run 'get_current_players-0' for task 'get_current_players'\n",
       "</pre>\n"
      ],
      "text/plain": [
       "18:17:17.794 | \u001b[36mINFO\u001b[0m    | Flow run\u001b[35m 'fluffy-mole'\u001b[0m - Created task run 'get_current_players-0' for task 'get_current_players'\n"
      ]
     },
     "metadata": {},
     "output_type": "display_data"
    },
    {
     "data": {
      "text/html": [
       "<pre style=\"white-space:pre;overflow-x:auto;line-height:normal;font-family:Menlo,'DejaVu Sans Mono',consolas,'Courier New',monospace\">18:17:17.795 | <span style=\"color: #008080; text-decoration-color: #008080\">INFO</span>    | Flow run<span style=\"color: #800080; text-decoration-color: #800080\"> 'fluffy-mole'</span> - Executing 'get_current_players-0' immediately...\n",
       "</pre>\n"
      ],
      "text/plain": [
       "18:17:17.795 | \u001b[36mINFO\u001b[0m    | Flow run\u001b[35m 'fluffy-mole'\u001b[0m - Executing 'get_current_players-0' immediately...\n"
      ]
     },
     "metadata": {},
     "output_type": "display_data"
    },
    {
     "data": {
      "text/html": [
       "<pre style=\"white-space:pre;overflow-x:auto;line-height:normal;font-family:Menlo,'DejaVu Sans Mono',consolas,'Courier New',monospace\">18:17:18.441 | <span style=\"color: #008080; text-decoration-color: #008080\">INFO</span>    | Task run 'get_current_players-0' - Found players: 4873\n",
       "</pre>\n"
      ],
      "text/plain": [
       "18:17:18.441 | \u001b[36mINFO\u001b[0m    | Task run 'get_current_players-0' - Found players: 4873\n"
      ]
     },
     "metadata": {},
     "output_type": "display_data"
    },
    {
     "data": {
      "text/html": [
       "<pre style=\"white-space:pre;overflow-x:auto;line-height:normal;font-family:Menlo,'DejaVu Sans Mono',consolas,'Courier New',monospace\">18:17:18.736 | <span style=\"color: #008080; text-decoration-color: #008080\">INFO</span>    | Task run 'get_current_players-0' - Finished in state <span style=\"color: #008000; text-decoration-color: #008000\">Completed</span>()\n",
       "</pre>\n"
      ],
      "text/plain": [
       "18:17:18.736 | \u001b[36mINFO\u001b[0m    | Task run 'get_current_players-0' - Finished in state \u001b[32mCompleted\u001b[0m()\n"
      ]
     },
     "metadata": {},
     "output_type": "display_data"
    },
    {
     "data": {
      "text/html": [
       "<pre style=\"white-space:pre;overflow-x:auto;line-height:normal;font-family:Menlo,'DejaVu Sans Mono',consolas,'Courier New',monospace\">18:17:19.637 | <span style=\"color: #008080; text-decoration-color: #008080\">INFO</span>    | Flow run<span style=\"color: #800080; text-decoration-color: #800080\"> 'fluffy-mole'</span> - Created subflow run<span style=\"color: #800080; text-decoration-color: #800080\"> 'congenial-robin'</span> for flow<span style=\"color: #800080; text-decoration-color: #800080; font-weight: bold\"> 'get-games-ids-to-append'</span>\n",
       "</pre>\n"
      ],
      "text/plain": [
       "18:17:19.637 | \u001b[36mINFO\u001b[0m    | Flow run\u001b[35m 'fluffy-mole'\u001b[0m - Created subflow run\u001b[35m 'congenial-robin'\u001b[0m for flow\u001b[1;35m 'get-games-ids-to-append'\u001b[0m\n"
      ]
     },
     "metadata": {},
     "output_type": "display_data"
    },
    {
     "data": {
      "text/html": [
       "<pre style=\"white-space:pre;overflow-x:auto;line-height:normal;font-family:Menlo,'DejaVu Sans Mono',consolas,'Courier New',monospace\">18:17:19.639 | <span style=\"color: #008080; text-decoration-color: #008080\">INFO</span>    | Flow run<span style=\"color: #800080; text-decoration-color: #800080\"> 'congenial-robin'</span> - View at <span style=\"color: #0000ff; text-decoration-color: #0000ff\">https://app.prefect.cloud/account/0915a191-39df-42e2-b744-13090d8bef96/workspace/aad552d2-34e7-48d3-b19e-69d06cf19a83/flow-runs/flow-run/e2726369-d690-4f0c-a3a5-bd9e1054d4e2</span>\n",
       "</pre>\n"
      ],
      "text/plain": [
       "18:17:19.639 | \u001b[36mINFO\u001b[0m    | Flow run\u001b[35m 'congenial-robin'\u001b[0m - View at \u001b[94mhttps://app.prefect.cloud/account/0915a191-39df-42e2-b744-13090d8bef96/workspace/aad552d2-34e7-48d3-b19e-69d06cf19a83/flow-runs/flow-run/e2726369-d690-4f0c-a3a5-bd9e1054d4e2\u001b[0m\n"
      ]
     },
     "metadata": {},
     "output_type": "display_data"
    },
    {
     "data": {
      "text/html": [
       "<pre style=\"white-space:pre;overflow-x:auto;line-height:normal;font-family:Menlo,'DejaVu Sans Mono',consolas,'Courier New',monospace\">18:17:20.559 | <span style=\"color: #008080; text-decoration-color: #008080\">INFO</span>    | Flow run<span style=\"color: #800080; text-decoration-color: #800080\"> 'congenial-robin'</span> - Created task run 'get_games_by_ids-0' for task 'get_games_by_ids'\n",
       "</pre>\n"
      ],
      "text/plain": [
       "18:17:20.559 | \u001b[36mINFO\u001b[0m    | Flow run\u001b[35m 'congenial-robin'\u001b[0m - Created task run 'get_games_by_ids-0' for task 'get_games_by_ids'\n"
      ]
     },
     "metadata": {},
     "output_type": "display_data"
    },
    {
     "data": {
      "text/html": [
       "<pre style=\"white-space:pre;overflow-x:auto;line-height:normal;font-family:Menlo,'DejaVu Sans Mono',consolas,'Courier New',monospace\">18:17:20.562 | <span style=\"color: #008080; text-decoration-color: #008080\">INFO</span>    | Flow run<span style=\"color: #800080; text-decoration-color: #800080\"> 'congenial-robin'</span> - Executing 'get_games_by_ids-0' immediately...\n",
       "</pre>\n"
      ],
      "text/plain": [
       "18:17:20.562 | \u001b[36mINFO\u001b[0m    | Flow run\u001b[35m 'congenial-robin'\u001b[0m - Executing 'get_games_by_ids-0' immediately...\n"
      ]
     },
     "metadata": {},
     "output_type": "display_data"
    },
    {
     "data": {
      "text/html": [
       "<pre style=\"white-space:pre;overflow-x:auto;line-height:normal;font-family:Menlo,'DejaVu Sans Mono',consolas,'Courier New',monospace\">18:17:24.963 | <span style=\"color: #008080; text-decoration-color: #008080\">INFO</span>    | Task run 'get_games_by_ids-0' - Finished in state <span style=\"color: #008000; text-decoration-color: #008000\">Completed</span>()\n",
       "</pre>\n"
      ],
      "text/plain": [
       "18:17:24.963 | \u001b[36mINFO\u001b[0m    | Task run 'get_games_by_ids-0' - Finished in state \u001b[32mCompleted\u001b[0m()\n"
      ]
     },
     "metadata": {},
     "output_type": "display_data"
    },
    {
     "data": {
      "text/html": [
       "<pre style=\"white-space:pre;overflow-x:auto;line-height:normal;font-family:Menlo,'DejaVu Sans Mono',consolas,'Courier New',monospace\">18:17:25.036 | <span style=\"color: #008080; text-decoration-color: #008080\">INFO</span>    | Flow run<span style=\"color: #800080; text-decoration-color: #800080\"> 'congenial-robin'</span> - Searching for games from 12/17/2023 to 12/12/2023\n",
       "</pre>\n"
      ],
      "text/plain": [
       "18:17:25.036 | \u001b[36mINFO\u001b[0m    | Flow run\u001b[35m 'congenial-robin'\u001b[0m - Searching for games from 12/17/2023 to 12/12/2023\n"
      ]
     },
     "metadata": {},
     "output_type": "display_data"
    },
    {
     "data": {
      "text/html": [
       "<pre style=\"white-space:pre;overflow-x:auto;line-height:normal;font-family:Menlo,'DejaVu Sans Mono',consolas,'Courier New',monospace\">18:17:25.374 | <span style=\"color: #008080; text-decoration-color: #008080\">INFO</span>    | Flow run<span style=\"color: #800080; text-decoration-color: #800080\"> 'congenial-robin'</span> - Created task run 'get_games_from_to-0' for task 'get_games_from_to'\n",
       "</pre>\n"
      ],
      "text/plain": [
       "18:17:25.374 | \u001b[36mINFO\u001b[0m    | Flow run\u001b[35m 'congenial-robin'\u001b[0m - Created task run 'get_games_from_to-0' for task 'get_games_from_to'\n"
      ]
     },
     "metadata": {},
     "output_type": "display_data"
    },
    {
     "data": {
      "text/html": [
       "<pre style=\"white-space:pre;overflow-x:auto;line-height:normal;font-family:Menlo,'DejaVu Sans Mono',consolas,'Courier New',monospace\">18:17:25.377 | <span style=\"color: #008080; text-decoration-color: #008080\">INFO</span>    | Flow run<span style=\"color: #800080; text-decoration-color: #800080\"> 'congenial-robin'</span> - Executing 'get_games_from_to-0' immediately...\n",
       "</pre>\n"
      ],
      "text/plain": [
       "18:17:25.377 | \u001b[36mINFO\u001b[0m    | Flow run\u001b[35m 'congenial-robin'\u001b[0m - Executing 'get_games_from_to-0' immediately...\n"
      ]
     },
     "metadata": {},
     "output_type": "display_data"
    },
    {
     "data": {
      "text/html": [
       "<pre style=\"white-space:pre;overflow-x:auto;line-height:normal;font-family:Menlo,'DejaVu Sans Mono',consolas,'Courier New',monospace\">18:17:28.648 | <span style=\"color: #008080; text-decoration-color: #008080\">INFO</span>    | Task run 'get_games_from_to-0' - Finished in state <span style=\"color: #008000; text-decoration-color: #008000\">Completed</span>()\n",
       "</pre>\n"
      ],
      "text/plain": [
       "18:17:28.648 | \u001b[36mINFO\u001b[0m    | Task run 'get_games_from_to-0' - Finished in state \u001b[32mCompleted\u001b[0m()\n"
      ]
     },
     "metadata": {},
     "output_type": "display_data"
    },
    {
     "data": {
      "text/html": [
       "<pre style=\"white-space:pre;overflow-x:auto;line-height:normal;font-family:Menlo,'DejaVu Sans Mono',consolas,'Courier New',monospace\">18:17:28.711 | <span style=\"color: #008080; text-decoration-color: #008080\">INFO</span>    | Flow run<span style=\"color: #800080; text-decoration-color: #800080\"> 'congenial-robin'</span> - need to append games: 5\n",
       "</pre>\n"
      ],
      "text/plain": [
       "18:17:28.711 | \u001b[36mINFO\u001b[0m    | Flow run\u001b[35m 'congenial-robin'\u001b[0m - need to append games: 5\n"
      ]
     },
     "metadata": {},
     "output_type": "display_data"
    },
    {
     "data": {
      "text/html": [
       "<pre style=\"white-space:pre;overflow-x:auto;line-height:normal;font-family:Menlo,'DejaVu Sans Mono',consolas,'Courier New',monospace\">18:17:29.058 | <span style=\"color: #008080; text-decoration-color: #008080\">INFO</span>    | Flow run<span style=\"color: #800080; text-decoration-color: #800080\"> 'congenial-robin'</span> - Finished in state <span style=\"color: #008000; text-decoration-color: #008000\">Completed</span>()\n",
       "</pre>\n"
      ],
      "text/plain": [
       "18:17:29.058 | \u001b[36mINFO\u001b[0m    | Flow run\u001b[35m 'congenial-robin'\u001b[0m - Finished in state \u001b[32mCompleted\u001b[0m()\n"
      ]
     },
     "metadata": {},
     "output_type": "display_data"
    },
    {
     "data": {
      "text/html": [
       "<pre style=\"white-space:pre;overflow-x:auto;line-height:normal;font-family:Menlo,'DejaVu Sans Mono',consolas,'Courier New',monospace\">18:17:29.365 | <span style=\"color: #008080; text-decoration-color: #008080\">INFO</span>    | Flow run<span style=\"color: #800080; text-decoration-color: #800080\"> 'fluffy-mole'</span> - Created task run 'prepare_games_to_append-0' for task 'prepare_games_to_append'\n",
       "</pre>\n"
      ],
      "text/plain": [
       "18:17:29.365 | \u001b[36mINFO\u001b[0m    | Flow run\u001b[35m 'fluffy-mole'\u001b[0m - Created task run 'prepare_games_to_append-0' for task 'prepare_games_to_append'\n"
      ]
     },
     "metadata": {},
     "output_type": "display_data"
    },
    {
     "data": {
      "text/html": [
       "<pre style=\"white-space:pre;overflow-x:auto;line-height:normal;font-family:Menlo,'DejaVu Sans Mono',consolas,'Courier New',monospace\">18:17:29.367 | <span style=\"color: #008080; text-decoration-color: #008080\">INFO</span>    | Flow run<span style=\"color: #800080; text-decoration-color: #800080\"> 'fluffy-mole'</span> - Executing 'prepare_games_to_append-0' immediately...\n",
       "</pre>\n"
      ],
      "text/plain": [
       "18:17:29.367 | \u001b[36mINFO\u001b[0m    | Flow run\u001b[35m 'fluffy-mole'\u001b[0m - Executing 'prepare_games_to_append-0' immediately...\n"
      ]
     },
     "metadata": {},
     "output_type": "display_data"
    },
    {
     "data": {
      "text/html": [
       "<pre style=\"white-space:pre;overflow-x:auto;line-height:normal;font-family:Menlo,'DejaVu Sans Mono',consolas,'Courier New',monospace\">18:17:36.022 | <span style=\"color: #008080; text-decoration-color: #008080\">INFO</span>    | Task run 'prepare_games_to_append-0' - Finished in state <span style=\"color: #008000; text-decoration-color: #008000\">Completed</span>()\n",
       "</pre>\n"
      ],
      "text/plain": [
       "18:17:36.022 | \u001b[36mINFO\u001b[0m    | Task run 'prepare_games_to_append-0' - Finished in state \u001b[32mCompleted\u001b[0m()\n"
      ]
     },
     "metadata": {},
     "output_type": "display_data"
    },
    {
     "data": {
      "text/html": [
       "<pre style=\"white-space:pre;overflow-x:auto;line-height:normal;font-family:Menlo,'DejaVu Sans Mono',consolas,'Courier New',monospace\">18:17:36.430 | <span style=\"color: #008080; text-decoration-color: #008080\">INFO</span>    | Flow run<span style=\"color: #800080; text-decoration-color: #800080\"> 'fluffy-mole'</span> - Created task run 'prepare_players_to_append-0' for task 'prepare_players_to_append'\n",
       "</pre>\n"
      ],
      "text/plain": [
       "18:17:36.430 | \u001b[36mINFO\u001b[0m    | Flow run\u001b[35m 'fluffy-mole'\u001b[0m - Created task run 'prepare_players_to_append-0' for task 'prepare_players_to_append'\n"
      ]
     },
     "metadata": {},
     "output_type": "display_data"
    },
    {
     "data": {
      "text/html": [
       "<pre style=\"white-space:pre;overflow-x:auto;line-height:normal;font-family:Menlo,'DejaVu Sans Mono',consolas,'Courier New',monospace\">18:17:36.432 | <span style=\"color: #008080; text-decoration-color: #008080\">INFO</span>    | Flow run<span style=\"color: #800080; text-decoration-color: #800080\"> 'fluffy-mole'</span> - Executing 'prepare_players_to_append-0' immediately...\n",
       "</pre>\n"
      ],
      "text/plain": [
       "18:17:36.432 | \u001b[36mINFO\u001b[0m    | Flow run\u001b[35m 'fluffy-mole'\u001b[0m - Executing 'prepare_players_to_append-0' immediately...\n"
      ]
     },
     "metadata": {},
     "output_type": "display_data"
    },
    {
     "data": {
      "text/html": [
       "<pre style=\"white-space:pre;overflow-x:auto;line-height:normal;font-family:Menlo,'DejaVu Sans Mono',consolas,'Courier New',monospace\">18:17:37.046 | <span style=\"color: #008080; text-decoration-color: #008080\">INFO</span>    | Task run 'prepare_players_to_append-0' - no need to append players\n",
       "</pre>\n"
      ],
      "text/plain": [
       "18:17:37.046 | \u001b[36mINFO\u001b[0m    | Task run 'prepare_players_to_append-0' - no need to append players\n"
      ]
     },
     "metadata": {},
     "output_type": "display_data"
    },
    {
     "data": {
      "text/html": [
       "<pre style=\"white-space:pre;overflow-x:auto;line-height:normal;font-family:Menlo,'DejaVu Sans Mono',consolas,'Courier New',monospace\">18:17:37.353 | <span style=\"color: #008080; text-decoration-color: #008080\">INFO</span>    | Task run 'prepare_players_to_append-0' - Finished in state <span style=\"color: #008000; text-decoration-color: #008000\">Completed</span>()\n",
       "</pre>\n"
      ],
      "text/plain": [
       "18:17:37.353 | \u001b[36mINFO\u001b[0m    | Task run 'prepare_players_to_append-0' - Finished in state \u001b[32mCompleted\u001b[0m()\n"
      ]
     },
     "metadata": {},
     "output_type": "display_data"
    },
    {
     "data": {
      "text/html": [
       "<pre style=\"white-space:pre;overflow-x:auto;line-height:normal;font-family:Menlo,'DejaVu Sans Mono',consolas,'Courier New',monospace\">18:17:37.764 | <span style=\"color: #008080; text-decoration-color: #008080\">INFO</span>    | Flow run<span style=\"color: #800080; text-decoration-color: #800080\"> 'fluffy-mole'</span> - Created task run 'append_tables-0' for task 'append_tables'\n",
       "</pre>\n"
      ],
      "text/plain": [
       "18:17:37.764 | \u001b[36mINFO\u001b[0m    | Flow run\u001b[35m 'fluffy-mole'\u001b[0m - Created task run 'append_tables-0' for task 'append_tables'\n"
      ]
     },
     "metadata": {},
     "output_type": "display_data"
    },
    {
     "data": {
      "text/html": [
       "<pre style=\"white-space:pre;overflow-x:auto;line-height:normal;font-family:Menlo,'DejaVu Sans Mono',consolas,'Courier New',monospace\">18:17:37.766 | <span style=\"color: #008080; text-decoration-color: #008080\">INFO</span>    | Flow run<span style=\"color: #800080; text-decoration-color: #800080\"> 'fluffy-mole'</span> - Executing 'append_tables-0' immediately...\n",
       "</pre>\n"
      ],
      "text/plain": [
       "18:17:37.766 | \u001b[36mINFO\u001b[0m    | Flow run\u001b[35m 'fluffy-mole'\u001b[0m - Executing 'append_tables-0' immediately...\n"
      ]
     },
     "metadata": {},
     "output_type": "display_data"
    },
    {
     "data": {
      "text/html": [
       "<pre style=\"white-space:pre;overflow-x:auto;line-height:normal;font-family:Menlo,'DejaVu Sans Mono',consolas,'Courier New',monospace\">18:17:38.274 | <span style=\"color: #008080; text-decoration-color: #008080\">INFO</span>    | Task run 'append_tables-0' - writing 0 records to games\n",
       "</pre>\n"
      ],
      "text/plain": [
       "18:17:38.274 | \u001b[36mINFO\u001b[0m    | Task run 'append_tables-0' - writing 0 records to games\n"
      ]
     },
     "metadata": {},
     "output_type": "display_data"
    },
    {
     "data": {
      "text/html": [
       "<pre style=\"white-space:pre;overflow-x:auto;line-height:normal;font-family:Menlo,'DejaVu Sans Mono',consolas,'Courier New',monospace\">18:17:38.277 | <span style=\"color: #008080; text-decoration-color: #008080\">INFO</span>    | Task run 'append_tables-0' - writing 5 records to boxscoresummaryv2_0\n",
       "</pre>\n"
      ],
      "text/plain": [
       "18:17:38.277 | \u001b[36mINFO\u001b[0m    | Task run 'append_tables-0' - writing 5 records to boxscoresummaryv2_0\n"
      ]
     },
     "metadata": {},
     "output_type": "display_data"
    },
    {
     "data": {
      "text/html": [
       "<pre style=\"white-space:pre;overflow-x:auto;line-height:normal;font-family:Menlo,'DejaVu Sans Mono',consolas,'Courier New',monospace\">18:17:38.298 | <span style=\"color: #008080; text-decoration-color: #008080\">INFO</span>    | Task run 'append_tables-0' - writing 10 records to boxscoresummaryv2_1\n",
       "</pre>\n"
      ],
      "text/plain": [
       "18:17:38.298 | \u001b[36mINFO\u001b[0m    | Task run 'append_tables-0' - writing 10 records to boxscoresummaryv2_1\n"
      ]
     },
     "metadata": {},
     "output_type": "display_data"
    },
    {
     "data": {
      "text/html": [
       "<pre style=\"white-space:pre;overflow-x:auto;line-height:normal;font-family:Menlo,'DejaVu Sans Mono',consolas,'Courier New',monospace\">18:17:38.311 | <span style=\"color: #008080; text-decoration-color: #008080\">INFO</span>    | Task run 'append_tables-0' - writing 15 records to boxscoresummaryv2_2\n",
       "</pre>\n"
      ],
      "text/plain": [
       "18:17:38.311 | \u001b[36mINFO\u001b[0m    | Task run 'append_tables-0' - writing 15 records to boxscoresummaryv2_2\n"
      ]
     },
     "metadata": {},
     "output_type": "display_data"
    },
    {
     "data": {
      "text/html": [
       "<pre style=\"white-space:pre;overflow-x:auto;line-height:normal;font-family:Menlo,'DejaVu Sans Mono',consolas,'Courier New',monospace\">18:17:38.324 | <span style=\"color: #008080; text-decoration-color: #008080\">INFO</span>    | Task run 'append_tables-0' - writing 43 records to boxscoresummaryv2_3\n",
       "</pre>\n"
      ],
      "text/plain": [
       "18:17:38.324 | \u001b[36mINFO\u001b[0m    | Task run 'append_tables-0' - writing 43 records to boxscoresummaryv2_3\n"
      ]
     },
     "metadata": {},
     "output_type": "display_data"
    },
    {
     "data": {
      "text/html": [
       "<pre style=\"white-space:pre;overflow-x:auto;line-height:normal;font-family:Menlo,'DejaVu Sans Mono',consolas,'Courier New',monospace\">18:17:38.341 | <span style=\"color: #008080; text-decoration-color: #008080\">INFO</span>    | Task run 'append_tables-0' - writing 5 records to boxscoresummaryv2_4\n",
       "</pre>\n"
      ],
      "text/plain": [
       "18:17:38.341 | \u001b[36mINFO\u001b[0m    | Task run 'append_tables-0' - writing 5 records to boxscoresummaryv2_4\n"
      ]
     },
     "metadata": {},
     "output_type": "display_data"
    },
    {
     "data": {
      "text/html": [
       "<pre style=\"white-space:pre;overflow-x:auto;line-height:normal;font-family:Menlo,'DejaVu Sans Mono',consolas,'Courier New',monospace\">18:17:38.353 | <span style=\"color: #008080; text-decoration-color: #008080\">INFO</span>    | Task run 'append_tables-0' - writing 10 records to boxscoresummaryv2_5\n",
       "</pre>\n"
      ],
      "text/plain": [
       "18:17:38.353 | \u001b[36mINFO\u001b[0m    | Task run 'append_tables-0' - writing 10 records to boxscoresummaryv2_5\n"
      ]
     },
     "metadata": {},
     "output_type": "display_data"
    },
    {
     "data": {
      "text/html": [
       "<pre style=\"white-space:pre;overflow-x:auto;line-height:normal;font-family:Menlo,'DejaVu Sans Mono',consolas,'Courier New',monospace\">18:17:38.366 | <span style=\"color: #008080; text-decoration-color: #008080\">INFO</span>    | Task run 'append_tables-0' - writing 5 records to boxscoresummaryv2_6\n",
       "</pre>\n"
      ],
      "text/plain": [
       "18:17:38.366 | \u001b[36mINFO\u001b[0m    | Task run 'append_tables-0' - writing 5 records to boxscoresummaryv2_6\n"
      ]
     },
     "metadata": {},
     "output_type": "display_data"
    },
    {
     "data": {
      "text/html": [
       "<pre style=\"white-space:pre;overflow-x:auto;line-height:normal;font-family:Menlo,'DejaVu Sans Mono',consolas,'Courier New',monospace\">18:17:38.383 | <span style=\"color: #008080; text-decoration-color: #008080\">INFO</span>    | Task run 'append_tables-0' - writing 5 records to boxscoresummaryv2_7\n",
       "</pre>\n"
      ],
      "text/plain": [
       "18:17:38.383 | \u001b[36mINFO\u001b[0m    | Task run 'append_tables-0' - writing 5 records to boxscoresummaryv2_7\n"
      ]
     },
     "metadata": {},
     "output_type": "display_data"
    },
    {
     "data": {
      "text/html": [
       "<pre style=\"white-space:pre;overflow-x:auto;line-height:normal;font-family:Menlo,'DejaVu Sans Mono',consolas,'Courier New',monospace\">18:17:38.396 | <span style=\"color: #008080; text-decoration-color: #008080\">INFO</span>    | Task run 'append_tables-0' - writing 5 records to boxscoresummaryv2_8\n",
       "</pre>\n"
      ],
      "text/plain": [
       "18:17:38.396 | \u001b[36mINFO\u001b[0m    | Task run 'append_tables-0' - writing 5 records to boxscoresummaryv2_8\n"
      ]
     },
     "metadata": {},
     "output_type": "display_data"
    },
    {
     "data": {
      "text/html": [
       "<pre style=\"white-space:pre;overflow-x:auto;line-height:normal;font-family:Menlo,'DejaVu Sans Mono',consolas,'Courier New',monospace\">18:17:38.408 | <span style=\"color: #008080; text-decoration-color: #008080\">INFO</span>    | Task run 'append_tables-0' - writing 129 records to boxscoretraditionalv2_0\n",
       "</pre>\n"
      ],
      "text/plain": [
       "18:17:38.408 | \u001b[36mINFO\u001b[0m    | Task run 'append_tables-0' - writing 129 records to boxscoretraditionalv2_0\n"
      ]
     },
     "metadata": {},
     "output_type": "display_data"
    },
    {
     "data": {
      "text/html": [
       "<pre style=\"white-space:pre;overflow-x:auto;line-height:normal;font-family:Menlo,'DejaVu Sans Mono',consolas,'Courier New',monospace\">18:17:38.427 | <span style=\"color: #008080; text-decoration-color: #008080\">INFO</span>    | Task run 'append_tables-0' - writing 10 records to boxscoretraditionalv2_1\n",
       "</pre>\n"
      ],
      "text/plain": [
       "18:17:38.427 | \u001b[36mINFO\u001b[0m    | Task run 'append_tables-0' - writing 10 records to boxscoretraditionalv2_1\n"
      ]
     },
     "metadata": {},
     "output_type": "display_data"
    },
    {
     "data": {
      "text/html": [
       "<pre style=\"white-space:pre;overflow-x:auto;line-height:normal;font-family:Menlo,'DejaVu Sans Mono',consolas,'Courier New',monospace\">18:17:38.441 | <span style=\"color: #008080; text-decoration-color: #008080\">INFO</span>    | Task run 'append_tables-0' - writing 20 records to boxscoretraditionalv2_2\n",
       "</pre>\n"
      ],
      "text/plain": [
       "18:17:38.441 | \u001b[36mINFO\u001b[0m    | Task run 'append_tables-0' - writing 20 records to boxscoretraditionalv2_2\n"
      ]
     },
     "metadata": {},
     "output_type": "display_data"
    },
    {
     "data": {
      "text/html": [
       "<pre style=\"white-space:pre;overflow-x:auto;line-height:normal;font-family:Menlo,'DejaVu Sans Mono',consolas,'Courier New',monospace\">18:17:39.404 | <span style=\"color: #d70000; text-decoration-color: #d70000\">ERROR</span>   | Task run 'append_tables-0' - Encountered exception during execution:\n",
       "Traceback (most recent call last):\n",
       "  File \"/home/noone/.virtualenvs/env_83/lib/python3.8/site-packages/prefect/engine.py\", line 1760, in orchestrate_task_run\n",
       "    result = await call.aresult()\n",
       "  File \"/home/noone/.virtualenvs/env_83/lib/python3.8/site-packages/prefect/_internal/concurrency/calls.py\", line 293, in aresult\n",
       "    return await asyncio.wrap_future(self.future)\n",
       "  File \"/home/noone/.virtualenvs/env_83/lib/python3.8/site-packages/prefect/_internal/concurrency/calls.py\", line 318, in _run_sync\n",
       "    result = self.fn(*self.args, **self.kwargs)\n",
       "  File \"/home/noone/work/ml_design_course/basnya_streamlit/basnya/back_fill_games.py\", line 343, in append_tables\n",
       "    origin.push()\n",
       "  File \"/home/noone/.virtualenvs/env_83/lib/python3.8/site-packages/git/remote.py\", line 1117, in push\n",
       "    return self._get_push_info(proc, progress, kill_after_timeout=kill_after_timeout)\n",
       "  File \"/home/noone/.virtualenvs/env_83/lib/python3.8/site-packages/git/remote.py\", line 926, in _get_push_info\n",
       "    proc.wait(stderr=stderr_text)\n",
       "  File \"/home/noone/.virtualenvs/env_83/lib/python3.8/site-packages/git/cmd.py\", line 600, in wait\n",
       "    raise GitCommandError(remove_password_if_present(self.args), status, errstr)\n",
       "git.exc.GitCommandError: Cmd('git') failed due to: exit code(128)\n",
       "  cmdline: git push --porcelain -- origin\n",
       "  stderr: 'fatal: could not read Username for '<span style=\"color: #0000ff; text-decoration-color: #0000ff\">https://github.com</span>': No such device or address'\n",
       "</pre>\n"
      ],
      "text/plain": [
       "18:17:39.404 | \u001b[38;5;160mERROR\u001b[0m   | Task run 'append_tables-0' - Encountered exception during execution:\n",
       "Traceback (most recent call last):\n",
       "  File \"/home/noone/.virtualenvs/env_83/lib/python3.8/site-packages/prefect/engine.py\", line 1760, in orchestrate_task_run\n",
       "    result = await call.aresult()\n",
       "  File \"/home/noone/.virtualenvs/env_83/lib/python3.8/site-packages/prefect/_internal/concurrency/calls.py\", line 293, in aresult\n",
       "    return await asyncio.wrap_future(self.future)\n",
       "  File \"/home/noone/.virtualenvs/env_83/lib/python3.8/site-packages/prefect/_internal/concurrency/calls.py\", line 318, in _run_sync\n",
       "    result = self.fn(*self.args, **self.kwargs)\n",
       "  File \"/home/noone/work/ml_design_course/basnya_streamlit/basnya/back_fill_games.py\", line 343, in append_tables\n",
       "    origin.push()\n",
       "  File \"/home/noone/.virtualenvs/env_83/lib/python3.8/site-packages/git/remote.py\", line 1117, in push\n",
       "    return self._get_push_info(proc, progress, kill_after_timeout=kill_after_timeout)\n",
       "  File \"/home/noone/.virtualenvs/env_83/lib/python3.8/site-packages/git/remote.py\", line 926, in _get_push_info\n",
       "    proc.wait(stderr=stderr_text)\n",
       "  File \"/home/noone/.virtualenvs/env_83/lib/python3.8/site-packages/git/cmd.py\", line 600, in wait\n",
       "    raise GitCommandError(remove_password_if_present(self.args), status, errstr)\n",
       "git.exc.GitCommandError: Cmd('git') failed due to: exit code(128)\n",
       "  cmdline: git push --porcelain -- origin\n",
       "  stderr: 'fatal: could not read Username for '\u001b[94mhttps://github.com\u001b[0m': No such device or address'\n"
      ]
     },
     "metadata": {},
     "output_type": "display_data"
    },
    {
     "data": {
      "text/html": [
       "<pre style=\"white-space:pre;overflow-x:auto;line-height:normal;font-family:Menlo,'DejaVu Sans Mono',consolas,'Courier New',monospace\">18:17:39.815 | <span style=\"color: #008080; text-decoration-color: #008080\">INFO</span>    | Task run 'append_tables-0' - Received non-final state 'AwaitingRetry' when proposing final state '<span style=\"color: #d70000; text-decoration-color: #d70000\">Failed</span>' and will attempt to run again...\n",
       "</pre>\n"
      ],
      "text/plain": [
       "18:17:39.815 | \u001b[36mINFO\u001b[0m    | Task run 'append_tables-0' - Received non-final state 'AwaitingRetry' when proposing final state '\u001b[38;5;160mFailed\u001b[0m' and will attempt to run again...\n"
      ]
     },
     "metadata": {},
     "output_type": "display_data"
    },
    {
     "data": {
      "text/html": [
       "<pre style=\"white-space:pre;overflow-x:auto;line-height:normal;font-family:Menlo,'DejaVu Sans Mono',consolas,'Courier New',monospace\">18:17:41.765 | <span style=\"color: #008080; text-decoration-color: #008080\">INFO</span>    | Task run 'append_tables-0' - writing 0 records to games\n",
       "</pre>\n"
      ],
      "text/plain": [
       "18:17:41.765 | \u001b[36mINFO\u001b[0m    | Task run 'append_tables-0' - writing 0 records to games\n"
      ]
     },
     "metadata": {},
     "output_type": "display_data"
    },
    {
     "data": {
      "text/html": [
       "<pre style=\"white-space:pre;overflow-x:auto;line-height:normal;font-family:Menlo,'DejaVu Sans Mono',consolas,'Courier New',monospace\">18:17:41.768 | <span style=\"color: #008080; text-decoration-color: #008080\">INFO</span>    | Task run 'append_tables-0' - writing 5 records to boxscoresummaryv2_0\n",
       "</pre>\n"
      ],
      "text/plain": [
       "18:17:41.768 | \u001b[36mINFO\u001b[0m    | Task run 'append_tables-0' - writing 5 records to boxscoresummaryv2_0\n"
      ]
     },
     "metadata": {},
     "output_type": "display_data"
    },
    {
     "data": {
      "text/html": [
       "<pre style=\"white-space:pre;overflow-x:auto;line-height:normal;font-family:Menlo,'DejaVu Sans Mono',consolas,'Courier New',monospace\">18:17:41.785 | <span style=\"color: #008080; text-decoration-color: #008080\">INFO</span>    | Task run 'append_tables-0' - writing 10 records to boxscoresummaryv2_1\n",
       "</pre>\n"
      ],
      "text/plain": [
       "18:17:41.785 | \u001b[36mINFO\u001b[0m    | Task run 'append_tables-0' - writing 10 records to boxscoresummaryv2_1\n"
      ]
     },
     "metadata": {},
     "output_type": "display_data"
    },
    {
     "data": {
      "text/html": [
       "<pre style=\"white-space:pre;overflow-x:auto;line-height:normal;font-family:Menlo,'DejaVu Sans Mono',consolas,'Courier New',monospace\">18:17:41.797 | <span style=\"color: #008080; text-decoration-color: #008080\">INFO</span>    | Task run 'append_tables-0' - writing 15 records to boxscoresummaryv2_2\n",
       "</pre>\n"
      ],
      "text/plain": [
       "18:17:41.797 | \u001b[36mINFO\u001b[0m    | Task run 'append_tables-0' - writing 15 records to boxscoresummaryv2_2\n"
      ]
     },
     "metadata": {},
     "output_type": "display_data"
    },
    {
     "data": {
      "text/html": [
       "<pre style=\"white-space:pre;overflow-x:auto;line-height:normal;font-family:Menlo,'DejaVu Sans Mono',consolas,'Courier New',monospace\">18:17:41.809 | <span style=\"color: #008080; text-decoration-color: #008080\">INFO</span>    | Task run 'append_tables-0' - writing 43 records to boxscoresummaryv2_3\n",
       "</pre>\n"
      ],
      "text/plain": [
       "18:17:41.809 | \u001b[36mINFO\u001b[0m    | Task run 'append_tables-0' - writing 43 records to boxscoresummaryv2_3\n"
      ]
     },
     "metadata": {},
     "output_type": "display_data"
    },
    {
     "data": {
      "text/html": [
       "<pre style=\"white-space:pre;overflow-x:auto;line-height:normal;font-family:Menlo,'DejaVu Sans Mono',consolas,'Courier New',monospace\">18:17:41.825 | <span style=\"color: #008080; text-decoration-color: #008080\">INFO</span>    | Task run 'append_tables-0' - writing 5 records to boxscoresummaryv2_4\n",
       "</pre>\n"
      ],
      "text/plain": [
       "18:17:41.825 | \u001b[36mINFO\u001b[0m    | Task run 'append_tables-0' - writing 5 records to boxscoresummaryv2_4\n"
      ]
     },
     "metadata": {},
     "output_type": "display_data"
    },
    {
     "data": {
      "text/html": [
       "<pre style=\"white-space:pre;overflow-x:auto;line-height:normal;font-family:Menlo,'DejaVu Sans Mono',consolas,'Courier New',monospace\">18:17:41.838 | <span style=\"color: #008080; text-decoration-color: #008080\">INFO</span>    | Task run 'append_tables-0' - writing 10 records to boxscoresummaryv2_5\n",
       "</pre>\n"
      ],
      "text/plain": [
       "18:17:41.838 | \u001b[36mINFO\u001b[0m    | Task run 'append_tables-0' - writing 10 records to boxscoresummaryv2_5\n"
      ]
     },
     "metadata": {},
     "output_type": "display_data"
    },
    {
     "data": {
      "text/html": [
       "<pre style=\"white-space:pre;overflow-x:auto;line-height:normal;font-family:Menlo,'DejaVu Sans Mono',consolas,'Courier New',monospace\">18:17:41.853 | <span style=\"color: #008080; text-decoration-color: #008080\">INFO</span>    | Task run 'append_tables-0' - writing 5 records to boxscoresummaryv2_6\n",
       "</pre>\n"
      ],
      "text/plain": [
       "18:17:41.853 | \u001b[36mINFO\u001b[0m    | Task run 'append_tables-0' - writing 5 records to boxscoresummaryv2_6\n"
      ]
     },
     "metadata": {},
     "output_type": "display_data"
    },
    {
     "data": {
      "text/html": [
       "<pre style=\"white-space:pre;overflow-x:auto;line-height:normal;font-family:Menlo,'DejaVu Sans Mono',consolas,'Courier New',monospace\">18:17:41.865 | <span style=\"color: #008080; text-decoration-color: #008080\">INFO</span>    | Task run 'append_tables-0' - writing 5 records to boxscoresummaryv2_7\n",
       "</pre>\n"
      ],
      "text/plain": [
       "18:17:41.865 | \u001b[36mINFO\u001b[0m    | Task run 'append_tables-0' - writing 5 records to boxscoresummaryv2_7\n"
      ]
     },
     "metadata": {},
     "output_type": "display_data"
    },
    {
     "data": {
      "text/html": [
       "<pre style=\"white-space:pre;overflow-x:auto;line-height:normal;font-family:Menlo,'DejaVu Sans Mono',consolas,'Courier New',monospace\">18:17:41.877 | <span style=\"color: #008080; text-decoration-color: #008080\">INFO</span>    | Task run 'append_tables-0' - writing 5 records to boxscoresummaryv2_8\n",
       "</pre>\n"
      ],
      "text/plain": [
       "18:17:41.877 | \u001b[36mINFO\u001b[0m    | Task run 'append_tables-0' - writing 5 records to boxscoresummaryv2_8\n"
      ]
     },
     "metadata": {},
     "output_type": "display_data"
    },
    {
     "data": {
      "text/html": [
       "<pre style=\"white-space:pre;overflow-x:auto;line-height:normal;font-family:Menlo,'DejaVu Sans Mono',consolas,'Courier New',monospace\">18:17:41.889 | <span style=\"color: #008080; text-decoration-color: #008080\">INFO</span>    | Task run 'append_tables-0' - writing 129 records to boxscoretraditionalv2_0\n",
       "</pre>\n"
      ],
      "text/plain": [
       "18:17:41.889 | \u001b[36mINFO\u001b[0m    | Task run 'append_tables-0' - writing 129 records to boxscoretraditionalv2_0\n"
      ]
     },
     "metadata": {},
     "output_type": "display_data"
    },
    {
     "data": {
      "text/html": [
       "<pre style=\"white-space:pre;overflow-x:auto;line-height:normal;font-family:Menlo,'DejaVu Sans Mono',consolas,'Courier New',monospace\">18:17:41.907 | <span style=\"color: #008080; text-decoration-color: #008080\">INFO</span>    | Task run 'append_tables-0' - writing 10 records to boxscoretraditionalv2_1\n",
       "</pre>\n"
      ],
      "text/plain": [
       "18:17:41.907 | \u001b[36mINFO\u001b[0m    | Task run 'append_tables-0' - writing 10 records to boxscoretraditionalv2_1\n"
      ]
     },
     "metadata": {},
     "output_type": "display_data"
    },
    {
     "data": {
      "text/html": [
       "<pre style=\"white-space:pre;overflow-x:auto;line-height:normal;font-family:Menlo,'DejaVu Sans Mono',consolas,'Courier New',monospace\">18:17:41.920 | <span style=\"color: #008080; text-decoration-color: #008080\">INFO</span>    | Task run 'append_tables-0' - writing 20 records to boxscoretraditionalv2_2\n",
       "</pre>\n"
      ],
      "text/plain": [
       "18:17:41.920 | \u001b[36mINFO\u001b[0m    | Task run 'append_tables-0' - writing 20 records to boxscoretraditionalv2_2\n"
      ]
     },
     "metadata": {},
     "output_type": "display_data"
    },
    {
     "data": {
      "text/html": [
       "<pre style=\"white-space:pre;overflow-x:auto;line-height:normal;font-family:Menlo,'DejaVu Sans Mono',consolas,'Courier New',monospace\">18:17:43.090 | <span style=\"color: #d70000; text-decoration-color: #d70000\">ERROR</span>   | Task run 'append_tables-0' - Encountered exception during execution:\n",
       "Traceback (most recent call last):\n",
       "  File \"/home/noone/.virtualenvs/env_83/lib/python3.8/site-packages/prefect/engine.py\", line 1760, in orchestrate_task_run\n",
       "    result = await call.aresult()\n",
       "  File \"/home/noone/.virtualenvs/env_83/lib/python3.8/site-packages/prefect/_internal/concurrency/calls.py\", line 293, in aresult\n",
       "    return await asyncio.wrap_future(self.future)\n",
       "  File \"/home/noone/.virtualenvs/env_83/lib/python3.8/site-packages/prefect/_internal/concurrency/calls.py\", line 318, in _run_sync\n",
       "    result = self.fn(*self.args, **self.kwargs)\n",
       "  File \"/home/noone/work/ml_design_course/basnya_streamlit/basnya/back_fill_games.py\", line 343, in append_tables\n",
       "    origin.push()\n",
       "  File \"/home/noone/.virtualenvs/env_83/lib/python3.8/site-packages/git/remote.py\", line 1117, in push\n",
       "    return self._get_push_info(proc, progress, kill_after_timeout=kill_after_timeout)\n",
       "  File \"/home/noone/.virtualenvs/env_83/lib/python3.8/site-packages/git/remote.py\", line 926, in _get_push_info\n",
       "    proc.wait(stderr=stderr_text)\n",
       "  File \"/home/noone/.virtualenvs/env_83/lib/python3.8/site-packages/git/cmd.py\", line 600, in wait\n",
       "    raise GitCommandError(remove_password_if_present(self.args), status, errstr)\n",
       "git.exc.GitCommandError: Cmd('git') failed due to: exit code(128)\n",
       "  cmdline: git push --porcelain -- origin\n",
       "  stderr: 'fatal: could not read Username for '<span style=\"color: #0000ff; text-decoration-color: #0000ff\">https://github.com</span>': No such device or address'\n",
       "</pre>\n"
      ],
      "text/plain": [
       "18:17:43.090 | \u001b[38;5;160mERROR\u001b[0m   | Task run 'append_tables-0' - Encountered exception during execution:\n",
       "Traceback (most recent call last):\n",
       "  File \"/home/noone/.virtualenvs/env_83/lib/python3.8/site-packages/prefect/engine.py\", line 1760, in orchestrate_task_run\n",
       "    result = await call.aresult()\n",
       "  File \"/home/noone/.virtualenvs/env_83/lib/python3.8/site-packages/prefect/_internal/concurrency/calls.py\", line 293, in aresult\n",
       "    return await asyncio.wrap_future(self.future)\n",
       "  File \"/home/noone/.virtualenvs/env_83/lib/python3.8/site-packages/prefect/_internal/concurrency/calls.py\", line 318, in _run_sync\n",
       "    result = self.fn(*self.args, **self.kwargs)\n",
       "  File \"/home/noone/work/ml_design_course/basnya_streamlit/basnya/back_fill_games.py\", line 343, in append_tables\n",
       "    origin.push()\n",
       "  File \"/home/noone/.virtualenvs/env_83/lib/python3.8/site-packages/git/remote.py\", line 1117, in push\n",
       "    return self._get_push_info(proc, progress, kill_after_timeout=kill_after_timeout)\n",
       "  File \"/home/noone/.virtualenvs/env_83/lib/python3.8/site-packages/git/remote.py\", line 926, in _get_push_info\n",
       "    proc.wait(stderr=stderr_text)\n",
       "  File \"/home/noone/.virtualenvs/env_83/lib/python3.8/site-packages/git/cmd.py\", line 600, in wait\n",
       "    raise GitCommandError(remove_password_if_present(self.args), status, errstr)\n",
       "git.exc.GitCommandError: Cmd('git') failed due to: exit code(128)\n",
       "  cmdline: git push --porcelain -- origin\n",
       "  stderr: 'fatal: could not read Username for '\u001b[94mhttps://github.com\u001b[0m': No such device or address'\n"
      ]
     },
     "metadata": {},
     "output_type": "display_data"
    },
    {
     "data": {
      "text/html": [
       "<pre style=\"white-space:pre;overflow-x:auto;line-height:normal;font-family:Menlo,'DejaVu Sans Mono',consolas,'Courier New',monospace\">18:17:43.394 | <span style=\"color: #008080; text-decoration-color: #008080\">INFO</span>    | Task run 'append_tables-0' - Received non-final state 'AwaitingRetry' when proposing final state '<span style=\"color: #d70000; text-decoration-color: #d70000\">Failed</span>' and will attempt to run again...\n",
       "</pre>\n"
      ],
      "text/plain": [
       "18:17:43.394 | \u001b[36mINFO\u001b[0m    | Task run 'append_tables-0' - Received non-final state 'AwaitingRetry' when proposing final state '\u001b[38;5;160mFailed\u001b[0m' and will attempt to run again...\n"
      ]
     },
     "metadata": {},
     "output_type": "display_data"
    },
    {
     "data": {
      "text/html": [
       "<pre style=\"white-space:pre;overflow-x:auto;line-height:normal;font-family:Menlo,'DejaVu Sans Mono',consolas,'Courier New',monospace\">18:17:45.146 | <span style=\"color: #008080; text-decoration-color: #008080\">INFO</span>    | Task run 'append_tables-0' - writing 0 records to games\n",
       "</pre>\n"
      ],
      "text/plain": [
       "18:17:45.146 | \u001b[36mINFO\u001b[0m    | Task run 'append_tables-0' - writing 0 records to games\n"
      ]
     },
     "metadata": {},
     "output_type": "display_data"
    },
    {
     "data": {
      "text/html": [
       "<pre style=\"white-space:pre;overflow-x:auto;line-height:normal;font-family:Menlo,'DejaVu Sans Mono',consolas,'Courier New',monospace\">18:17:45.148 | <span style=\"color: #008080; text-decoration-color: #008080\">INFO</span>    | Task run 'append_tables-0' - writing 5 records to boxscoresummaryv2_0\n",
       "</pre>\n"
      ],
      "text/plain": [
       "18:17:45.148 | \u001b[36mINFO\u001b[0m    | Task run 'append_tables-0' - writing 5 records to boxscoresummaryv2_0\n"
      ]
     },
     "metadata": {},
     "output_type": "display_data"
    },
    {
     "data": {
      "text/html": [
       "<pre style=\"white-space:pre;overflow-x:auto;line-height:normal;font-family:Menlo,'DejaVu Sans Mono',consolas,'Courier New',monospace\">18:17:45.168 | <span style=\"color: #008080; text-decoration-color: #008080\">INFO</span>    | Task run 'append_tables-0' - writing 10 records to boxscoresummaryv2_1\n",
       "</pre>\n"
      ],
      "text/plain": [
       "18:17:45.168 | \u001b[36mINFO\u001b[0m    | Task run 'append_tables-0' - writing 10 records to boxscoresummaryv2_1\n"
      ]
     },
     "metadata": {},
     "output_type": "display_data"
    },
    {
     "data": {
      "text/html": [
       "<pre style=\"white-space:pre;overflow-x:auto;line-height:normal;font-family:Menlo,'DejaVu Sans Mono',consolas,'Courier New',monospace\">18:17:45.180 | <span style=\"color: #008080; text-decoration-color: #008080\">INFO</span>    | Task run 'append_tables-0' - writing 15 records to boxscoresummaryv2_2\n",
       "</pre>\n"
      ],
      "text/plain": [
       "18:17:45.180 | \u001b[36mINFO\u001b[0m    | Task run 'append_tables-0' - writing 15 records to boxscoresummaryv2_2\n"
      ]
     },
     "metadata": {},
     "output_type": "display_data"
    },
    {
     "data": {
      "text/html": [
       "<pre style=\"white-space:pre;overflow-x:auto;line-height:normal;font-family:Menlo,'DejaVu Sans Mono',consolas,'Courier New',monospace\">18:17:45.192 | <span style=\"color: #008080; text-decoration-color: #008080\">INFO</span>    | Task run 'append_tables-0' - writing 43 records to boxscoresummaryv2_3\n",
       "</pre>\n"
      ],
      "text/plain": [
       "18:17:45.192 | \u001b[36mINFO\u001b[0m    | Task run 'append_tables-0' - writing 43 records to boxscoresummaryv2_3\n"
      ]
     },
     "metadata": {},
     "output_type": "display_data"
    },
    {
     "data": {
      "text/html": [
       "<pre style=\"white-space:pre;overflow-x:auto;line-height:normal;font-family:Menlo,'DejaVu Sans Mono',consolas,'Courier New',monospace\">18:17:45.203 | <span style=\"color: #008080; text-decoration-color: #008080\">INFO</span>    | Task run 'append_tables-0' - writing 5 records to boxscoresummaryv2_4\n",
       "</pre>\n"
      ],
      "text/plain": [
       "18:17:45.203 | \u001b[36mINFO\u001b[0m    | Task run 'append_tables-0' - writing 5 records to boxscoresummaryv2_4\n"
      ]
     },
     "metadata": {},
     "output_type": "display_data"
    },
    {
     "data": {
      "text/html": [
       "<pre style=\"white-space:pre;overflow-x:auto;line-height:normal;font-family:Menlo,'DejaVu Sans Mono',consolas,'Courier New',monospace\">18:17:45.214 | <span style=\"color: #008080; text-decoration-color: #008080\">INFO</span>    | Task run 'append_tables-0' - writing 10 records to boxscoresummaryv2_5\n",
       "</pre>\n"
      ],
      "text/plain": [
       "18:17:45.214 | \u001b[36mINFO\u001b[0m    | Task run 'append_tables-0' - writing 10 records to boxscoresummaryv2_5\n"
      ]
     },
     "metadata": {},
     "output_type": "display_data"
    },
    {
     "data": {
      "text/html": [
       "<pre style=\"white-space:pre;overflow-x:auto;line-height:normal;font-family:Menlo,'DejaVu Sans Mono',consolas,'Courier New',monospace\">18:17:45.226 | <span style=\"color: #008080; text-decoration-color: #008080\">INFO</span>    | Task run 'append_tables-0' - writing 5 records to boxscoresummaryv2_6\n",
       "</pre>\n"
      ],
      "text/plain": [
       "18:17:45.226 | \u001b[36mINFO\u001b[0m    | Task run 'append_tables-0' - writing 5 records to boxscoresummaryv2_6\n"
      ]
     },
     "metadata": {},
     "output_type": "display_data"
    },
    {
     "data": {
      "text/html": [
       "<pre style=\"white-space:pre;overflow-x:auto;line-height:normal;font-family:Menlo,'DejaVu Sans Mono',consolas,'Courier New',monospace\">18:17:45.238 | <span style=\"color: #008080; text-decoration-color: #008080\">INFO</span>    | Task run 'append_tables-0' - writing 5 records to boxscoresummaryv2_7\n",
       "</pre>\n"
      ],
      "text/plain": [
       "18:17:45.238 | \u001b[36mINFO\u001b[0m    | Task run 'append_tables-0' - writing 5 records to boxscoresummaryv2_7\n"
      ]
     },
     "metadata": {},
     "output_type": "display_data"
    },
    {
     "data": {
      "text/html": [
       "<pre style=\"white-space:pre;overflow-x:auto;line-height:normal;font-family:Menlo,'DejaVu Sans Mono',consolas,'Courier New',monospace\">18:17:45.250 | <span style=\"color: #008080; text-decoration-color: #008080\">INFO</span>    | Task run 'append_tables-0' - writing 5 records to boxscoresummaryv2_8\n",
       "</pre>\n"
      ],
      "text/plain": [
       "18:17:45.250 | \u001b[36mINFO\u001b[0m    | Task run 'append_tables-0' - writing 5 records to boxscoresummaryv2_8\n"
      ]
     },
     "metadata": {},
     "output_type": "display_data"
    },
    {
     "data": {
      "text/html": [
       "<pre style=\"white-space:pre;overflow-x:auto;line-height:normal;font-family:Menlo,'DejaVu Sans Mono',consolas,'Courier New',monospace\">18:17:45.261 | <span style=\"color: #008080; text-decoration-color: #008080\">INFO</span>    | Task run 'append_tables-0' - writing 129 records to boxscoretraditionalv2_0\n",
       "</pre>\n"
      ],
      "text/plain": [
       "18:17:45.261 | \u001b[36mINFO\u001b[0m    | Task run 'append_tables-0' - writing 129 records to boxscoretraditionalv2_0\n"
      ]
     },
     "metadata": {},
     "output_type": "display_data"
    },
    {
     "data": {
      "text/html": [
       "<pre style=\"white-space:pre;overflow-x:auto;line-height:normal;font-family:Menlo,'DejaVu Sans Mono',consolas,'Courier New',monospace\">18:17:45.279 | <span style=\"color: #008080; text-decoration-color: #008080\">INFO</span>    | Task run 'append_tables-0' - writing 10 records to boxscoretraditionalv2_1\n",
       "</pre>\n"
      ],
      "text/plain": [
       "18:17:45.279 | \u001b[36mINFO\u001b[0m    | Task run 'append_tables-0' - writing 10 records to boxscoretraditionalv2_1\n"
      ]
     },
     "metadata": {},
     "output_type": "display_data"
    },
    {
     "data": {
      "text/html": [
       "<pre style=\"white-space:pre;overflow-x:auto;line-height:normal;font-family:Menlo,'DejaVu Sans Mono',consolas,'Courier New',monospace\">18:17:45.291 | <span style=\"color: #008080; text-decoration-color: #008080\">INFO</span>    | Task run 'append_tables-0' - writing 20 records to boxscoretraditionalv2_2\n",
       "</pre>\n"
      ],
      "text/plain": [
       "18:17:45.291 | \u001b[36mINFO\u001b[0m    | Task run 'append_tables-0' - writing 20 records to boxscoretraditionalv2_2\n"
      ]
     },
     "metadata": {},
     "output_type": "display_data"
    },
    {
     "data": {
      "text/html": [
       "<pre style=\"white-space:pre;overflow-x:auto;line-height:normal;font-family:Menlo,'DejaVu Sans Mono',consolas,'Courier New',monospace\">18:17:46.470 | <span style=\"color: #d70000; text-decoration-color: #d70000\">ERROR</span>   | Task run 'append_tables-0' - Encountered exception during execution:\n",
       "Traceback (most recent call last):\n",
       "  File \"/home/noone/.virtualenvs/env_83/lib/python3.8/site-packages/prefect/engine.py\", line 1760, in orchestrate_task_run\n",
       "    result = await call.aresult()\n",
       "  File \"/home/noone/.virtualenvs/env_83/lib/python3.8/site-packages/prefect/_internal/concurrency/calls.py\", line 293, in aresult\n",
       "    return await asyncio.wrap_future(self.future)\n",
       "  File \"/home/noone/.virtualenvs/env_83/lib/python3.8/site-packages/prefect/_internal/concurrency/calls.py\", line 318, in _run_sync\n",
       "    result = self.fn(*self.args, **self.kwargs)\n",
       "  File \"/home/noone/work/ml_design_course/basnya_streamlit/basnya/back_fill_games.py\", line 343, in append_tables\n",
       "    origin.push()\n",
       "  File \"/home/noone/.virtualenvs/env_83/lib/python3.8/site-packages/git/remote.py\", line 1117, in push\n",
       "    return self._get_push_info(proc, progress, kill_after_timeout=kill_after_timeout)\n",
       "  File \"/home/noone/.virtualenvs/env_83/lib/python3.8/site-packages/git/remote.py\", line 926, in _get_push_info\n",
       "    proc.wait(stderr=stderr_text)\n",
       "  File \"/home/noone/.virtualenvs/env_83/lib/python3.8/site-packages/git/cmd.py\", line 600, in wait\n",
       "    raise GitCommandError(remove_password_if_present(self.args), status, errstr)\n",
       "git.exc.GitCommandError: Cmd('git') failed due to: exit code(128)\n",
       "  cmdline: git push --porcelain -- origin\n",
       "  stderr: 'fatal: could not read Username for '<span style=\"color: #0000ff; text-decoration-color: #0000ff\">https://github.com</span>': No such device or address'\n",
       "</pre>\n"
      ],
      "text/plain": [
       "18:17:46.470 | \u001b[38;5;160mERROR\u001b[0m   | Task run 'append_tables-0' - Encountered exception during execution:\n",
       "Traceback (most recent call last):\n",
       "  File \"/home/noone/.virtualenvs/env_83/lib/python3.8/site-packages/prefect/engine.py\", line 1760, in orchestrate_task_run\n",
       "    result = await call.aresult()\n",
       "  File \"/home/noone/.virtualenvs/env_83/lib/python3.8/site-packages/prefect/_internal/concurrency/calls.py\", line 293, in aresult\n",
       "    return await asyncio.wrap_future(self.future)\n",
       "  File \"/home/noone/.virtualenvs/env_83/lib/python3.8/site-packages/prefect/_internal/concurrency/calls.py\", line 318, in _run_sync\n",
       "    result = self.fn(*self.args, **self.kwargs)\n",
       "  File \"/home/noone/work/ml_design_course/basnya_streamlit/basnya/back_fill_games.py\", line 343, in append_tables\n",
       "    origin.push()\n",
       "  File \"/home/noone/.virtualenvs/env_83/lib/python3.8/site-packages/git/remote.py\", line 1117, in push\n",
       "    return self._get_push_info(proc, progress, kill_after_timeout=kill_after_timeout)\n",
       "  File \"/home/noone/.virtualenvs/env_83/lib/python3.8/site-packages/git/remote.py\", line 926, in _get_push_info\n",
       "    proc.wait(stderr=stderr_text)\n",
       "  File \"/home/noone/.virtualenvs/env_83/lib/python3.8/site-packages/git/cmd.py\", line 600, in wait\n",
       "    raise GitCommandError(remove_password_if_present(self.args), status, errstr)\n",
       "git.exc.GitCommandError: Cmd('git') failed due to: exit code(128)\n",
       "  cmdline: git push --porcelain -- origin\n",
       "  stderr: 'fatal: could not read Username for '\u001b[94mhttps://github.com\u001b[0m': No such device or address'\n"
      ]
     },
     "metadata": {},
     "output_type": "display_data"
    },
    {
     "data": {
      "text/html": [
       "<pre style=\"white-space:pre;overflow-x:auto;line-height:normal;font-family:Menlo,'DejaVu Sans Mono',consolas,'Courier New',monospace\">18:17:46.774 | <span style=\"color: #d70000; text-decoration-color: #d70000\">ERROR</span>   | Task run 'append_tables-0' - Finished in state <span style=\"color: #d70000; text-decoration-color: #d70000\">Failed</span>(\"Task run encountered an exception GitCommandError: Cmd('git') failed due to: exit code(128)\\n  cmdline: git push --porcelain -- origin\\n  stderr: 'fatal: could not read Username for '<span style=\"color: #0000ff; text-decoration-color: #0000ff\">https://github.com</span>': No such device or address'\")\n",
       "</pre>\n"
      ],
      "text/plain": [
       "18:17:46.774 | \u001b[38;5;160mERROR\u001b[0m   | Task run 'append_tables-0' - Finished in state \u001b[38;5;160mFailed\u001b[0m(\"Task run encountered an exception GitCommandError: Cmd('git') failed due to: exit code(128)\\n  cmdline: git push --porcelain -- origin\\n  stderr: 'fatal: could not read Username for '\u001b[94mhttps://github.com\u001b[0m': No such device or address'\")\n"
      ]
     },
     "metadata": {},
     "output_type": "display_data"
    },
    {
     "data": {
      "text/html": [
       "<pre style=\"white-space:pre;overflow-x:auto;line-height:normal;font-family:Menlo,'DejaVu Sans Mono',consolas,'Courier New',monospace\">18:17:46.833 | <span style=\"color: #d70000; text-decoration-color: #d70000\">ERROR</span>   | Flow run<span style=\"color: #800080; text-decoration-color: #800080\"> 'fluffy-mole'</span> - Encountered exception during execution:\n",
       "Traceback (most recent call last):\n",
       "  File \"/home/noone/.virtualenvs/env_83/lib/python3.8/site-packages/prefect/engine.py\", line 841, in orchestrate_flow_run\n",
       "    result = await flow_call.aresult()\n",
       "  File \"/home/noone/.virtualenvs/env_83/lib/python3.8/site-packages/prefect/_internal/concurrency/calls.py\", line 293, in aresult\n",
       "    return await asyncio.wrap_future(self.future)\n",
       "  File \"/home/noone/.virtualenvs/env_83/lib/python3.8/site-packages/prefect/_internal/concurrency/calls.py\", line 318, in _run_sync\n",
       "    result = self.fn(*self.args, **self.kwargs)\n",
       "  File \"/home/noone/work/ml_design_course/basnya_streamlit/basnya/back_fill_games.py\", line 381, in back_fill_games\n",
       "    append_tables(\n",
       "  File \"/home/noone/.virtualenvs/env_83/lib/python3.8/site-packages/prefect/tasks.py\", line 549, in __call__\n",
       "    return enter_task_run_engine(\n",
       "  File \"/home/noone/.virtualenvs/env_83/lib/python3.8/site-packages/prefect/engine.py\", line 1156, in enter_task_run_engine\n",
       "    return from_sync.wait_for_call_in_loop_thread(begin_run)\n",
       "  File \"/home/noone/.virtualenvs/env_83/lib/python3.8/site-packages/prefect/_internal/concurrency/api.py\", line 243, in wait_for_call_in_loop_thread\n",
       "    return call.result()\n",
       "  File \"/home/noone/.virtualenvs/env_83/lib/python3.8/site-packages/prefect/_internal/concurrency/calls.py\", line 284, in result\n",
       "    return self.future.result(timeout=timeout)\n",
       "  File \"/home/noone/.virtualenvs/env_83/lib/python3.8/site-packages/prefect/_internal/concurrency/calls.py\", line 168, in result\n",
       "    return self.__get_result()\n",
       "  File \"/usr/lib/python3.8/concurrent/futures/_base.py\", line 389, in __get_result\n",
       "    raise self._exception\n",
       "  File \"/home/noone/.virtualenvs/env_83/lib/python3.8/site-packages/prefect/_internal/concurrency/calls.py\", line 355, in _run_async\n",
       "    result = await coro\n",
       "  File \"/home/noone/.virtualenvs/env_83/lib/python3.8/site-packages/prefect/engine.py\", line 1324, in get_task_call_return_value\n",
       "    return await future._result()\n",
       "  File \"/home/noone/.virtualenvs/env_83/lib/python3.8/site-packages/prefect/futures.py\", line 237, in _result\n",
       "    return await final_state.result(raise_on_failure=raise_on_failure, fetch=True)\n",
       "  File \"/home/noone/.virtualenvs/env_83/lib/python3.8/site-packages/prefect/states.py\", line 91, in _get_state_result\n",
       "    raise await get_state_exception(state)\n",
       "  File \"/home/noone/.virtualenvs/env_83/lib/python3.8/site-packages/prefect/engine.py\", line 1760, in orchestrate_task_run\n",
       "    result = await call.aresult()\n",
       "  File \"/home/noone/.virtualenvs/env_83/lib/python3.8/site-packages/prefect/_internal/concurrency/calls.py\", line 293, in aresult\n",
       "    return await asyncio.wrap_future(self.future)\n",
       "  File \"/home/noone/.virtualenvs/env_83/lib/python3.8/site-packages/prefect/_internal/concurrency/calls.py\", line 318, in _run_sync\n",
       "    result = self.fn(*self.args, **self.kwargs)\n",
       "  File \"/home/noone/work/ml_design_course/basnya_streamlit/basnya/back_fill_games.py\", line 343, in append_tables\n",
       "    origin.push()\n",
       "  File \"/home/noone/.virtualenvs/env_83/lib/python3.8/site-packages/git/remote.py\", line 1117, in push\n",
       "    return self._get_push_info(proc, progress, kill_after_timeout=kill_after_timeout)\n",
       "  File \"/home/noone/.virtualenvs/env_83/lib/python3.8/site-packages/git/remote.py\", line 926, in _get_push_info\n",
       "    proc.wait(stderr=stderr_text)\n",
       "  File \"/home/noone/.virtualenvs/env_83/lib/python3.8/site-packages/git/cmd.py\", line 600, in wait\n",
       "    raise GitCommandError(remove_password_if_present(self.args), status, errstr)\n",
       "git.exc.GitCommandError: Cmd('git') failed due to: exit code(128)\n",
       "  cmdline: git push --porcelain -- origin\n",
       "  stderr: 'fatal: could not read Username for '<span style=\"color: #0000ff; text-decoration-color: #0000ff\">https://github.com</span>': No such device or address'\n",
       "</pre>\n"
      ],
      "text/plain": [
       "18:17:46.833 | \u001b[38;5;160mERROR\u001b[0m   | Flow run\u001b[35m 'fluffy-mole'\u001b[0m - Encountered exception during execution:\n",
       "Traceback (most recent call last):\n",
       "  File \"/home/noone/.virtualenvs/env_83/lib/python3.8/site-packages/prefect/engine.py\", line 841, in orchestrate_flow_run\n",
       "    result = await flow_call.aresult()\n",
       "  File \"/home/noone/.virtualenvs/env_83/lib/python3.8/site-packages/prefect/_internal/concurrency/calls.py\", line 293, in aresult\n",
       "    return await asyncio.wrap_future(self.future)\n",
       "  File \"/home/noone/.virtualenvs/env_83/lib/python3.8/site-packages/prefect/_internal/concurrency/calls.py\", line 318, in _run_sync\n",
       "    result = self.fn(*self.args, **self.kwargs)\n",
       "  File \"/home/noone/work/ml_design_course/basnya_streamlit/basnya/back_fill_games.py\", line 381, in back_fill_games\n",
       "    append_tables(\n",
       "  File \"/home/noone/.virtualenvs/env_83/lib/python3.8/site-packages/prefect/tasks.py\", line 549, in __call__\n",
       "    return enter_task_run_engine(\n",
       "  File \"/home/noone/.virtualenvs/env_83/lib/python3.8/site-packages/prefect/engine.py\", line 1156, in enter_task_run_engine\n",
       "    return from_sync.wait_for_call_in_loop_thread(begin_run)\n",
       "  File \"/home/noone/.virtualenvs/env_83/lib/python3.8/site-packages/prefect/_internal/concurrency/api.py\", line 243, in wait_for_call_in_loop_thread\n",
       "    return call.result()\n",
       "  File \"/home/noone/.virtualenvs/env_83/lib/python3.8/site-packages/prefect/_internal/concurrency/calls.py\", line 284, in result\n",
       "    return self.future.result(timeout=timeout)\n",
       "  File \"/home/noone/.virtualenvs/env_83/lib/python3.8/site-packages/prefect/_internal/concurrency/calls.py\", line 168, in result\n",
       "    return self.__get_result()\n",
       "  File \"/usr/lib/python3.8/concurrent/futures/_base.py\", line 389, in __get_result\n",
       "    raise self._exception\n",
       "  File \"/home/noone/.virtualenvs/env_83/lib/python3.8/site-packages/prefect/_internal/concurrency/calls.py\", line 355, in _run_async\n",
       "    result = await coro\n",
       "  File \"/home/noone/.virtualenvs/env_83/lib/python3.8/site-packages/prefect/engine.py\", line 1324, in get_task_call_return_value\n",
       "    return await future._result()\n",
       "  File \"/home/noone/.virtualenvs/env_83/lib/python3.8/site-packages/prefect/futures.py\", line 237, in _result\n",
       "    return await final_state.result(raise_on_failure=raise_on_failure, fetch=True)\n",
       "  File \"/home/noone/.virtualenvs/env_83/lib/python3.8/site-packages/prefect/states.py\", line 91, in _get_state_result\n",
       "    raise await get_state_exception(state)\n",
       "  File \"/home/noone/.virtualenvs/env_83/lib/python3.8/site-packages/prefect/engine.py\", line 1760, in orchestrate_task_run\n",
       "    result = await call.aresult()\n",
       "  File \"/home/noone/.virtualenvs/env_83/lib/python3.8/site-packages/prefect/_internal/concurrency/calls.py\", line 293, in aresult\n",
       "    return await asyncio.wrap_future(self.future)\n",
       "  File \"/home/noone/.virtualenvs/env_83/lib/python3.8/site-packages/prefect/_internal/concurrency/calls.py\", line 318, in _run_sync\n",
       "    result = self.fn(*self.args, **self.kwargs)\n",
       "  File \"/home/noone/work/ml_design_course/basnya_streamlit/basnya/back_fill_games.py\", line 343, in append_tables\n",
       "    origin.push()\n",
       "  File \"/home/noone/.virtualenvs/env_83/lib/python3.8/site-packages/git/remote.py\", line 1117, in push\n",
       "    return self._get_push_info(proc, progress, kill_after_timeout=kill_after_timeout)\n",
       "  File \"/home/noone/.virtualenvs/env_83/lib/python3.8/site-packages/git/remote.py\", line 926, in _get_push_info\n",
       "    proc.wait(stderr=stderr_text)\n",
       "  File \"/home/noone/.virtualenvs/env_83/lib/python3.8/site-packages/git/cmd.py\", line 600, in wait\n",
       "    raise GitCommandError(remove_password_if_present(self.args), status, errstr)\n",
       "git.exc.GitCommandError: Cmd('git') failed due to: exit code(128)\n",
       "  cmdline: git push --porcelain -- origin\n",
       "  stderr: 'fatal: could not read Username for '\u001b[94mhttps://github.com\u001b[0m': No such device or address'\n"
      ]
     },
     "metadata": {},
     "output_type": "display_data"
    },
    {
     "data": {
      "text/html": [
       "<pre style=\"white-space:pre;overflow-x:auto;line-height:normal;font-family:Menlo,'DejaVu Sans Mono',consolas,'Courier New',monospace\">18:17:47.185 | <span style=\"color: #d70000; text-decoration-color: #d70000\">ERROR</span>   | Flow run<span style=\"color: #800080; text-decoration-color: #800080\"> 'fluffy-mole'</span> - Finished in state <span style=\"color: #d70000; text-decoration-color: #d70000\">Failed</span>(\"Flow run encountered an exception. GitCommandError: Cmd('git') failed due to: exit code(128)\\n  cmdline: git push --porcelain -- origin\\n  stderr: 'fatal: could not read Username for '<span style=\"color: #0000ff; text-decoration-color: #0000ff\">https://github.com</span>': No such device or address'\")\n",
       "</pre>\n"
      ],
      "text/plain": [
       "18:17:47.185 | \u001b[38;5;160mERROR\u001b[0m   | Flow run\u001b[35m 'fluffy-mole'\u001b[0m - Finished in state \u001b[38;5;160mFailed\u001b[0m(\"Flow run encountered an exception. GitCommandError: Cmd('git') failed due to: exit code(128)\\n  cmdline: git push --porcelain -- origin\\n  stderr: 'fatal: could not read Username for '\u001b[94mhttps://github.com\u001b[0m': No such device or address'\")\n"
      ]
     },
     "metadata": {},
     "output_type": "display_data"
    },
    {
     "data": {
      "text/html": [
       "<pre style=\"white-space:pre;overflow-x:auto;line-height:normal;font-family:Menlo,'DejaVu Sans Mono',consolas,'Courier New',monospace\">18:17:47.190 | <span style=\"color: #d70000; text-decoration-color: #d70000\">ERROR</span>   | Flow run<span style=\"color: #800080; text-decoration-color: #800080\"> 'utopian-lori'</span> - Encountered exception during execution:\n",
       "Traceback (most recent call last):\n",
       "  File \"/home/noone/.virtualenvs/env_83/lib/python3.8/site-packages/prefect/engine.py\", line 841, in orchestrate_flow_run\n",
       "    result = await flow_call.aresult()\n",
       "  File \"/home/noone/.virtualenvs/env_83/lib/python3.8/site-packages/prefect/_internal/concurrency/calls.py\", line 293, in aresult\n",
       "    return await asyncio.wrap_future(self.future)\n",
       "  File \"/home/noone/.virtualenvs/env_83/lib/python3.8/site-packages/prefect/_internal/concurrency/calls.py\", line 318, in _run_sync\n",
       "    result = self.fn(*self.args, **self.kwargs)\n",
       "  File \"/home/noone/work/ml_design_course/basnya_streamlit/basnya/back_fill_games.py\", line 493, in fetch_games_for_date\n",
       "    back_filled_dfs = back_fill_games(game_ids=game_ids, db_path=db_path)\n",
       "  File \"/home/noone/.virtualenvs/env_83/lib/python3.8/site-packages/prefect/flows.py\", line 1097, in __call__\n",
       "    return enter_flow_run_engine_from_flow_call(\n",
       "  File \"/home/noone/.virtualenvs/env_83/lib/python3.8/site-packages/prefect/engine.py\", line 283, in enter_flow_run_engine_from_flow_call\n",
       "    retval = from_sync.wait_for_call_in_loop_thread(\n",
       "  File \"/home/noone/.virtualenvs/env_83/lib/python3.8/site-packages/prefect/_internal/concurrency/api.py\", line 243, in wait_for_call_in_loop_thread\n",
       "    return call.result()\n",
       "  File \"/home/noone/.virtualenvs/env_83/lib/python3.8/site-packages/prefect/_internal/concurrency/calls.py\", line 284, in result\n",
       "    return self.future.result(timeout=timeout)\n",
       "  File \"/home/noone/.virtualenvs/env_83/lib/python3.8/site-packages/prefect/_internal/concurrency/calls.py\", line 168, in result\n",
       "    return self.__get_result()\n",
       "  File \"/usr/lib/python3.8/concurrent/futures/_base.py\", line 389, in __get_result\n",
       "    raise self._exception\n",
       "  File \"/home/noone/.virtualenvs/env_83/lib/python3.8/site-packages/prefect/_internal/concurrency/calls.py\", line 355, in _run_async\n",
       "    result = await coro\n",
       "  File \"/home/noone/.virtualenvs/env_83/lib/python3.8/site-packages/prefect/client/utilities.py\", line 51, in with_injected_client\n",
       "    return await fn(*args, **kwargs)\n",
       "  File \"/home/noone/.virtualenvs/env_83/lib/python3.8/site-packages/prefect/engine.py\", line 725, in create_and_begin_subflow_run\n",
       "    return await terminal_state.result(fetch=True)\n",
       "  File \"/home/noone/.virtualenvs/env_83/lib/python3.8/site-packages/prefect/states.py\", line 91, in _get_state_result\n",
       "    raise await get_state_exception(state)\n",
       "  File \"/home/noone/.virtualenvs/env_83/lib/python3.8/site-packages/prefect/engine.py\", line 841, in orchestrate_flow_run\n",
       "    result = await flow_call.aresult()\n",
       "  File \"/home/noone/.virtualenvs/env_83/lib/python3.8/site-packages/prefect/_internal/concurrency/calls.py\", line 293, in aresult\n",
       "    return await asyncio.wrap_future(self.future)\n",
       "  File \"/home/noone/.virtualenvs/env_83/lib/python3.8/site-packages/prefect/_internal/concurrency/calls.py\", line 318, in _run_sync\n",
       "    result = self.fn(*self.args, **self.kwargs)\n",
       "  File \"/home/noone/work/ml_design_course/basnya_streamlit/basnya/back_fill_games.py\", line 381, in back_fill_games\n",
       "    append_tables(\n",
       "  File \"/home/noone/.virtualenvs/env_83/lib/python3.8/site-packages/prefect/tasks.py\", line 549, in __call__\n",
       "    return enter_task_run_engine(\n",
       "  File \"/home/noone/.virtualenvs/env_83/lib/python3.8/site-packages/prefect/engine.py\", line 1156, in enter_task_run_engine\n",
       "    return from_sync.wait_for_call_in_loop_thread(begin_run)\n",
       "  File \"/home/noone/.virtualenvs/env_83/lib/python3.8/site-packages/prefect/_internal/concurrency/api.py\", line 243, in wait_for_call_in_loop_thread\n",
       "    return call.result()\n",
       "  File \"/home/noone/.virtualenvs/env_83/lib/python3.8/site-packages/prefect/_internal/concurrency/calls.py\", line 284, in result\n",
       "    return self.future.result(timeout=timeout)\n",
       "  File \"/home/noone/.virtualenvs/env_83/lib/python3.8/site-packages/prefect/_internal/concurrency/calls.py\", line 168, in result\n",
       "    return self.__get_result()\n",
       "  File \"/usr/lib/python3.8/concurrent/futures/_base.py\", line 389, in __get_result\n",
       "    raise self._exception\n",
       "  File \"/home/noone/.virtualenvs/env_83/lib/python3.8/site-packages/prefect/_internal/concurrency/calls.py\", line 355, in _run_async\n",
       "    result = await coro\n",
       "  File \"/home/noone/.virtualenvs/env_83/lib/python3.8/site-packages/prefect/engine.py\", line 1324, in get_task_call_return_value\n",
       "    return await future._result()\n",
       "  File \"/home/noone/.virtualenvs/env_83/lib/python3.8/site-packages/prefect/futures.py\", line 237, in _result\n",
       "    return await final_state.result(raise_on_failure=raise_on_failure, fetch=True)\n",
       "  File \"/home/noone/.virtualenvs/env_83/lib/python3.8/site-packages/prefect/states.py\", line 91, in _get_state_result\n",
       "    raise await get_state_exception(state)\n",
       "  File \"/home/noone/.virtualenvs/env_83/lib/python3.8/site-packages/prefect/engine.py\", line 1760, in orchestrate_task_run\n",
       "    result = await call.aresult()\n",
       "  File \"/home/noone/.virtualenvs/env_83/lib/python3.8/site-packages/prefect/_internal/concurrency/calls.py\", line 293, in aresult\n",
       "    return await asyncio.wrap_future(self.future)\n",
       "  File \"/home/noone/.virtualenvs/env_83/lib/python3.8/site-packages/prefect/_internal/concurrency/calls.py\", line 318, in _run_sync\n",
       "    result = self.fn(*self.args, **self.kwargs)\n",
       "  File \"/home/noone/work/ml_design_course/basnya_streamlit/basnya/back_fill_games.py\", line 343, in append_tables\n",
       "    origin.push()\n",
       "  File \"/home/noone/.virtualenvs/env_83/lib/python3.8/site-packages/git/remote.py\", line 1117, in push\n",
       "    return self._get_push_info(proc, progress, kill_after_timeout=kill_after_timeout)\n",
       "  File \"/home/noone/.virtualenvs/env_83/lib/python3.8/site-packages/git/remote.py\", line 926, in _get_push_info\n",
       "    proc.wait(stderr=stderr_text)\n",
       "  File \"/home/noone/.virtualenvs/env_83/lib/python3.8/site-packages/git/cmd.py\", line 600, in wait\n",
       "    raise GitCommandError(remove_password_if_present(self.args), status, errstr)\n",
       "git.exc.GitCommandError: Cmd('git') failed due to: exit code(128)\n",
       "  cmdline: git push --porcelain -- origin\n",
       "  stderr: 'fatal: could not read Username for '<span style=\"color: #0000ff; text-decoration-color: #0000ff\">https://github.com</span>': No such device or address'\n",
       "</pre>\n"
      ],
      "text/plain": [
       "18:17:47.190 | \u001b[38;5;160mERROR\u001b[0m   | Flow run\u001b[35m 'utopian-lori'\u001b[0m - Encountered exception during execution:\n",
       "Traceback (most recent call last):\n",
       "  File \"/home/noone/.virtualenvs/env_83/lib/python3.8/site-packages/prefect/engine.py\", line 841, in orchestrate_flow_run\n",
       "    result = await flow_call.aresult()\n",
       "  File \"/home/noone/.virtualenvs/env_83/lib/python3.8/site-packages/prefect/_internal/concurrency/calls.py\", line 293, in aresult\n",
       "    return await asyncio.wrap_future(self.future)\n",
       "  File \"/home/noone/.virtualenvs/env_83/lib/python3.8/site-packages/prefect/_internal/concurrency/calls.py\", line 318, in _run_sync\n",
       "    result = self.fn(*self.args, **self.kwargs)\n",
       "  File \"/home/noone/work/ml_design_course/basnya_streamlit/basnya/back_fill_games.py\", line 493, in fetch_games_for_date\n",
       "    back_filled_dfs = back_fill_games(game_ids=game_ids, db_path=db_path)\n",
       "  File \"/home/noone/.virtualenvs/env_83/lib/python3.8/site-packages/prefect/flows.py\", line 1097, in __call__\n",
       "    return enter_flow_run_engine_from_flow_call(\n",
       "  File \"/home/noone/.virtualenvs/env_83/lib/python3.8/site-packages/prefect/engine.py\", line 283, in enter_flow_run_engine_from_flow_call\n",
       "    retval = from_sync.wait_for_call_in_loop_thread(\n",
       "  File \"/home/noone/.virtualenvs/env_83/lib/python3.8/site-packages/prefect/_internal/concurrency/api.py\", line 243, in wait_for_call_in_loop_thread\n",
       "    return call.result()\n",
       "  File \"/home/noone/.virtualenvs/env_83/lib/python3.8/site-packages/prefect/_internal/concurrency/calls.py\", line 284, in result\n",
       "    return self.future.result(timeout=timeout)\n",
       "  File \"/home/noone/.virtualenvs/env_83/lib/python3.8/site-packages/prefect/_internal/concurrency/calls.py\", line 168, in result\n",
       "    return self.__get_result()\n",
       "  File \"/usr/lib/python3.8/concurrent/futures/_base.py\", line 389, in __get_result\n",
       "    raise self._exception\n",
       "  File \"/home/noone/.virtualenvs/env_83/lib/python3.8/site-packages/prefect/_internal/concurrency/calls.py\", line 355, in _run_async\n",
       "    result = await coro\n",
       "  File \"/home/noone/.virtualenvs/env_83/lib/python3.8/site-packages/prefect/client/utilities.py\", line 51, in with_injected_client\n",
       "    return await fn(*args, **kwargs)\n",
       "  File \"/home/noone/.virtualenvs/env_83/lib/python3.8/site-packages/prefect/engine.py\", line 725, in create_and_begin_subflow_run\n",
       "    return await terminal_state.result(fetch=True)\n",
       "  File \"/home/noone/.virtualenvs/env_83/lib/python3.8/site-packages/prefect/states.py\", line 91, in _get_state_result\n",
       "    raise await get_state_exception(state)\n",
       "  File \"/home/noone/.virtualenvs/env_83/lib/python3.8/site-packages/prefect/engine.py\", line 841, in orchestrate_flow_run\n",
       "    result = await flow_call.aresult()\n",
       "  File \"/home/noone/.virtualenvs/env_83/lib/python3.8/site-packages/prefect/_internal/concurrency/calls.py\", line 293, in aresult\n",
       "    return await asyncio.wrap_future(self.future)\n",
       "  File \"/home/noone/.virtualenvs/env_83/lib/python3.8/site-packages/prefect/_internal/concurrency/calls.py\", line 318, in _run_sync\n",
       "    result = self.fn(*self.args, **self.kwargs)\n",
       "  File \"/home/noone/work/ml_design_course/basnya_streamlit/basnya/back_fill_games.py\", line 381, in back_fill_games\n",
       "    append_tables(\n",
       "  File \"/home/noone/.virtualenvs/env_83/lib/python3.8/site-packages/prefect/tasks.py\", line 549, in __call__\n",
       "    return enter_task_run_engine(\n",
       "  File \"/home/noone/.virtualenvs/env_83/lib/python3.8/site-packages/prefect/engine.py\", line 1156, in enter_task_run_engine\n",
       "    return from_sync.wait_for_call_in_loop_thread(begin_run)\n",
       "  File \"/home/noone/.virtualenvs/env_83/lib/python3.8/site-packages/prefect/_internal/concurrency/api.py\", line 243, in wait_for_call_in_loop_thread\n",
       "    return call.result()\n",
       "  File \"/home/noone/.virtualenvs/env_83/lib/python3.8/site-packages/prefect/_internal/concurrency/calls.py\", line 284, in result\n",
       "    return self.future.result(timeout=timeout)\n",
       "  File \"/home/noone/.virtualenvs/env_83/lib/python3.8/site-packages/prefect/_internal/concurrency/calls.py\", line 168, in result\n",
       "    return self.__get_result()\n",
       "  File \"/usr/lib/python3.8/concurrent/futures/_base.py\", line 389, in __get_result\n",
       "    raise self._exception\n",
       "  File \"/home/noone/.virtualenvs/env_83/lib/python3.8/site-packages/prefect/_internal/concurrency/calls.py\", line 355, in _run_async\n",
       "    result = await coro\n",
       "  File \"/home/noone/.virtualenvs/env_83/lib/python3.8/site-packages/prefect/engine.py\", line 1324, in get_task_call_return_value\n",
       "    return await future._result()\n",
       "  File \"/home/noone/.virtualenvs/env_83/lib/python3.8/site-packages/prefect/futures.py\", line 237, in _result\n",
       "    return await final_state.result(raise_on_failure=raise_on_failure, fetch=True)\n",
       "  File \"/home/noone/.virtualenvs/env_83/lib/python3.8/site-packages/prefect/states.py\", line 91, in _get_state_result\n",
       "    raise await get_state_exception(state)\n",
       "  File \"/home/noone/.virtualenvs/env_83/lib/python3.8/site-packages/prefect/engine.py\", line 1760, in orchestrate_task_run\n",
       "    result = await call.aresult()\n",
       "  File \"/home/noone/.virtualenvs/env_83/lib/python3.8/site-packages/prefect/_internal/concurrency/calls.py\", line 293, in aresult\n",
       "    return await asyncio.wrap_future(self.future)\n",
       "  File \"/home/noone/.virtualenvs/env_83/lib/python3.8/site-packages/prefect/_internal/concurrency/calls.py\", line 318, in _run_sync\n",
       "    result = self.fn(*self.args, **self.kwargs)\n",
       "  File \"/home/noone/work/ml_design_course/basnya_streamlit/basnya/back_fill_games.py\", line 343, in append_tables\n",
       "    origin.push()\n",
       "  File \"/home/noone/.virtualenvs/env_83/lib/python3.8/site-packages/git/remote.py\", line 1117, in push\n",
       "    return self._get_push_info(proc, progress, kill_after_timeout=kill_after_timeout)\n",
       "  File \"/home/noone/.virtualenvs/env_83/lib/python3.8/site-packages/git/remote.py\", line 926, in _get_push_info\n",
       "    proc.wait(stderr=stderr_text)\n",
       "  File \"/home/noone/.virtualenvs/env_83/lib/python3.8/site-packages/git/cmd.py\", line 600, in wait\n",
       "    raise GitCommandError(remove_password_if_present(self.args), status, errstr)\n",
       "git.exc.GitCommandError: Cmd('git') failed due to: exit code(128)\n",
       "  cmdline: git push --porcelain -- origin\n",
       "  stderr: 'fatal: could not read Username for '\u001b[94mhttps://github.com\u001b[0m': No such device or address'\n"
      ]
     },
     "metadata": {},
     "output_type": "display_data"
    },
    {
     "data": {
      "text/html": [
       "<pre style=\"white-space:pre;overflow-x:auto;line-height:normal;font-family:Menlo,'DejaVu Sans Mono',consolas,'Courier New',monospace\">18:17:47.593 | <span style=\"color: #d70000; text-decoration-color: #d70000\">ERROR</span>   | Flow run<span style=\"color: #800080; text-decoration-color: #800080\"> 'utopian-lori'</span> - Finished in state <span style=\"color: #d70000; text-decoration-color: #d70000\">Failed</span>(\"Flow run encountered an exception. GitCommandError: Cmd('git') failed due to: exit code(128)\\n  cmdline: git push --porcelain -- origin\\n  stderr: 'fatal: could not read Username for '<span style=\"color: #0000ff; text-decoration-color: #0000ff\">https://github.com</span>': No such device or address'\")\n",
       "</pre>\n"
      ],
      "text/plain": [
       "18:17:47.593 | \u001b[38;5;160mERROR\u001b[0m   | Flow run\u001b[35m 'utopian-lori'\u001b[0m - Finished in state \u001b[38;5;160mFailed\u001b[0m(\"Flow run encountered an exception. GitCommandError: Cmd('git') failed due to: exit code(128)\\n  cmdline: git push --porcelain -- origin\\n  stderr: 'fatal: could not read Username for '\u001b[94mhttps://github.com\u001b[0m': No such device or address'\")\n"
      ]
     },
     "metadata": {},
     "output_type": "display_data"
    },
    {
     "ename": "GitCommandError",
     "evalue": "Cmd('git') failed due to: exit code(128)\n  cmdline: git push --porcelain -- origin\n  stderr: 'fatal: could not read Username for 'https://github.com': No such device or address'",
     "output_type": "error",
     "traceback": [
      "\u001b[0;31m---------------------------------------------------------------------------\u001b[0m",
      "\u001b[0;31mGitCommandError\u001b[0m                           Traceback (most recent call last)",
      "Cell \u001b[0;32mIn[2], line 1\u001b[0m\n\u001b[0;32m----> 1\u001b[0m res \u001b[38;5;241m=\u001b[39m \u001b[43mfetch_games_for_date\u001b[49m\u001b[43m(\u001b[49m\u001b[43mdt\u001b[49m\u001b[38;5;241;43m.\u001b[39;49m\u001b[43mdate\u001b[49m\u001b[43m(\u001b[49m\u001b[38;5;241;43m2023\u001b[39;49m\u001b[43m,\u001b[49m\u001b[43m \u001b[49m\u001b[38;5;241;43m12\u001b[39;49m\u001b[43m,\u001b[49m\u001b[43m \u001b[49m\u001b[38;5;241;43m12\u001b[39;49m\u001b[43m)\u001b[49m\u001b[43m)\u001b[49m\n",
      "File \u001b[0;32m~/.virtualenvs/env_83/lib/python3.8/site-packages/prefect/flows.py:1097\u001b[0m, in \u001b[0;36mFlow.__call__\u001b[0;34m(self, return_state, wait_for, *args, **kwargs)\u001b[0m\n\u001b[1;32m   1092\u001b[0m \u001b[38;5;28;01mif\u001b[39;00m task_viz_tracker:\n\u001b[1;32m   1093\u001b[0m     \u001b[38;5;66;03m# this is a subflow, for now return a single task and do not go further\u001b[39;00m\n\u001b[1;32m   1094\u001b[0m     \u001b[38;5;66;03m# we can add support for exploring subflows for tasks in the future.\u001b[39;00m\n\u001b[1;32m   1095\u001b[0m     \u001b[38;5;28;01mreturn\u001b[39;00m track_viz_task(\u001b[38;5;28mself\u001b[39m\u001b[38;5;241m.\u001b[39misasync, \u001b[38;5;28mself\u001b[39m\u001b[38;5;241m.\u001b[39mname, parameters)\n\u001b[0;32m-> 1097\u001b[0m \u001b[38;5;28;01mreturn\u001b[39;00m \u001b[43menter_flow_run_engine_from_flow_call\u001b[49m\u001b[43m(\u001b[49m\n\u001b[1;32m   1098\u001b[0m \u001b[43m    \u001b[49m\u001b[38;5;28;43mself\u001b[39;49m\u001b[43m,\u001b[49m\n\u001b[1;32m   1099\u001b[0m \u001b[43m    \u001b[49m\u001b[43mparameters\u001b[49m\u001b[43m,\u001b[49m\n\u001b[1;32m   1100\u001b[0m \u001b[43m    \u001b[49m\u001b[43mwait_for\u001b[49m\u001b[38;5;241;43m=\u001b[39;49m\u001b[43mwait_for\u001b[49m\u001b[43m,\u001b[49m\n\u001b[1;32m   1101\u001b[0m \u001b[43m    \u001b[49m\u001b[43mreturn_type\u001b[49m\u001b[38;5;241;43m=\u001b[39;49m\u001b[43mreturn_type\u001b[49m\u001b[43m,\u001b[49m\n\u001b[1;32m   1102\u001b[0m \u001b[43m\u001b[49m\u001b[43m)\u001b[49m\n",
      "File \u001b[0;32m~/.virtualenvs/env_83/lib/python3.8/site-packages/prefect/engine.py:283\u001b[0m, in \u001b[0;36menter_flow_run_engine_from_flow_call\u001b[0;34m(flow, parameters, wait_for, return_type)\u001b[0m\n\u001b[1;32m    276\u001b[0m     retval \u001b[38;5;241m=\u001b[39m from_async\u001b[38;5;241m.\u001b[39mwait_for_call_in_loop_thread(\n\u001b[1;32m    277\u001b[0m         begin_run,\n\u001b[1;32m    278\u001b[0m         done_callbacks\u001b[38;5;241m=\u001b[39mdone_callbacks,\n\u001b[1;32m    279\u001b[0m         contexts\u001b[38;5;241m=\u001b[39mcontexts,\n\u001b[1;32m    280\u001b[0m     )\n\u001b[1;32m    282\u001b[0m \u001b[38;5;28;01melse\u001b[39;00m:\n\u001b[0;32m--> 283\u001b[0m     retval \u001b[38;5;241m=\u001b[39m \u001b[43mfrom_sync\u001b[49m\u001b[38;5;241;43m.\u001b[39;49m\u001b[43mwait_for_call_in_loop_thread\u001b[49m\u001b[43m(\u001b[49m\n\u001b[1;32m    284\u001b[0m \u001b[43m        \u001b[49m\u001b[43mbegin_run\u001b[49m\u001b[43m,\u001b[49m\n\u001b[1;32m    285\u001b[0m \u001b[43m        \u001b[49m\u001b[43mdone_callbacks\u001b[49m\u001b[38;5;241;43m=\u001b[39;49m\u001b[43mdone_callbacks\u001b[49m\u001b[43m,\u001b[49m\n\u001b[1;32m    286\u001b[0m \u001b[43m        \u001b[49m\u001b[43mcontexts\u001b[49m\u001b[38;5;241;43m=\u001b[39;49m\u001b[43mcontexts\u001b[49m\u001b[43m,\u001b[49m\n\u001b[1;32m    287\u001b[0m \u001b[43m    \u001b[49m\u001b[43m)\u001b[49m\n\u001b[1;32m    289\u001b[0m \u001b[38;5;28;01mreturn\u001b[39;00m retval\n",
      "File \u001b[0;32m~/.virtualenvs/env_83/lib/python3.8/site-packages/prefect/_internal/concurrency/api.py:243\u001b[0m, in \u001b[0;36mfrom_sync.wait_for_call_in_loop_thread\u001b[0;34m(_from_sync__call, timeout, done_callbacks, contexts)\u001b[0m\n\u001b[1;32m    241\u001b[0m     stack\u001b[38;5;241m.\u001b[39menter_context(context)\n\u001b[1;32m    242\u001b[0m waiter\u001b[38;5;241m.\u001b[39mwait()\n\u001b[0;32m--> 243\u001b[0m \u001b[38;5;28;01mreturn\u001b[39;00m \u001b[43mcall\u001b[49m\u001b[38;5;241;43m.\u001b[39;49m\u001b[43mresult\u001b[49m\u001b[43m(\u001b[49m\u001b[43m)\u001b[49m\n",
      "File \u001b[0;32m~/.virtualenvs/env_83/lib/python3.8/site-packages/prefect/_internal/concurrency/calls.py:284\u001b[0m, in \u001b[0;36mCall.result\u001b[0;34m(self, timeout)\u001b[0m\n\u001b[1;32m    278\u001b[0m \u001b[38;5;28;01mdef\u001b[39;00m \u001b[38;5;21mresult\u001b[39m(\u001b[38;5;28mself\u001b[39m, timeout: Optional[\u001b[38;5;28mfloat\u001b[39m] \u001b[38;5;241m=\u001b[39m \u001b[38;5;28;01mNone\u001b[39;00m) \u001b[38;5;241m-\u001b[39m\u001b[38;5;241m>\u001b[39m T:\n\u001b[1;32m    279\u001b[0m \u001b[38;5;250m    \u001b[39m\u001b[38;5;124;03m\"\"\"\u001b[39;00m\n\u001b[1;32m    280\u001b[0m \u001b[38;5;124;03m    Wait for the result of the call.\u001b[39;00m\n\u001b[1;32m    281\u001b[0m \n\u001b[1;32m    282\u001b[0m \u001b[38;5;124;03m    Not safe for use from asynchronous contexts.\u001b[39;00m\n\u001b[1;32m    283\u001b[0m \u001b[38;5;124;03m    \"\"\"\u001b[39;00m\n\u001b[0;32m--> 284\u001b[0m     \u001b[38;5;28;01mreturn\u001b[39;00m \u001b[38;5;28;43mself\u001b[39;49m\u001b[38;5;241;43m.\u001b[39;49m\u001b[43mfuture\u001b[49m\u001b[38;5;241;43m.\u001b[39;49m\u001b[43mresult\u001b[49m\u001b[43m(\u001b[49m\u001b[43mtimeout\u001b[49m\u001b[38;5;241;43m=\u001b[39;49m\u001b[43mtimeout\u001b[49m\u001b[43m)\u001b[49m\n",
      "File \u001b[0;32m~/.virtualenvs/env_83/lib/python3.8/site-packages/prefect/_internal/concurrency/calls.py:168\u001b[0m, in \u001b[0;36mFuture.result\u001b[0;34m(self, timeout)\u001b[0m\n\u001b[1;32m    166\u001b[0m     \u001b[38;5;28;01mraise\u001b[39;00m CancelledError()\n\u001b[1;32m    167\u001b[0m \u001b[38;5;28;01melif\u001b[39;00m \u001b[38;5;28mself\u001b[39m\u001b[38;5;241m.\u001b[39m_state \u001b[38;5;241m==\u001b[39m FINISHED:\n\u001b[0;32m--> 168\u001b[0m     \u001b[38;5;28;01mreturn\u001b[39;00m \u001b[38;5;28;43mself\u001b[39;49m\u001b[38;5;241;43m.\u001b[39;49m\u001b[43m__get_result\u001b[49m\u001b[43m(\u001b[49m\u001b[43m)\u001b[49m\n\u001b[1;32m    170\u001b[0m \u001b[38;5;28mself\u001b[39m\u001b[38;5;241m.\u001b[39m_condition\u001b[38;5;241m.\u001b[39mwait(timeout)\n\u001b[1;32m    172\u001b[0m \u001b[38;5;28;01mif\u001b[39;00m \u001b[38;5;28mself\u001b[39m\u001b[38;5;241m.\u001b[39m_state \u001b[38;5;129;01min\u001b[39;00m [CANCELLED, CANCELLED_AND_NOTIFIED]:\n\u001b[1;32m    173\u001b[0m     \u001b[38;5;66;03m# Raise Prefect cancelled error instead of\u001b[39;00m\n\u001b[1;32m    174\u001b[0m     \u001b[38;5;66;03m# `concurrent.futures._base.CancelledError`\u001b[39;00m\n",
      "File \u001b[0;32m/usr/lib/python3.8/concurrent/futures/_base.py:389\u001b[0m, in \u001b[0;36mFuture.__get_result\u001b[0;34m(self)\u001b[0m\n\u001b[1;32m    387\u001b[0m \u001b[38;5;28;01mif\u001b[39;00m \u001b[38;5;28mself\u001b[39m\u001b[38;5;241m.\u001b[39m_exception:\n\u001b[1;32m    388\u001b[0m     \u001b[38;5;28;01mtry\u001b[39;00m:\n\u001b[0;32m--> 389\u001b[0m         \u001b[38;5;28;01mraise\u001b[39;00m \u001b[38;5;28mself\u001b[39m\u001b[38;5;241m.\u001b[39m_exception\n\u001b[1;32m    390\u001b[0m     \u001b[38;5;28;01mfinally\u001b[39;00m:\n\u001b[1;32m    391\u001b[0m         \u001b[38;5;66;03m# Break a reference cycle with the exception in self._exception\u001b[39;00m\n\u001b[1;32m    392\u001b[0m         \u001b[38;5;28mself\u001b[39m \u001b[38;5;241m=\u001b[39m \u001b[38;5;28;01mNone\u001b[39;00m\n",
      "File \u001b[0;32m~/.virtualenvs/env_83/lib/python3.8/site-packages/prefect/_internal/concurrency/calls.py:355\u001b[0m, in \u001b[0;36mCall._run_async\u001b[0;34m(***failed resolving arguments***)\u001b[0m\n\u001b[1;32m    353\u001b[0m \u001b[38;5;28;01mwith\u001b[39;00m \u001b[38;5;28mself\u001b[39m\u001b[38;5;241m.\u001b[39mfuture\u001b[38;5;241m.\u001b[39menforce_async_deadline() \u001b[38;5;28;01mas\u001b[39;00m cancel_scope:\n\u001b[1;32m    354\u001b[0m     \u001b[38;5;28;01mtry\u001b[39;00m:\n\u001b[0;32m--> 355\u001b[0m         result \u001b[38;5;241m=\u001b[39m \u001b[38;5;28;01mawait\u001b[39;00m coro\n\u001b[1;32m    356\u001b[0m     \u001b[38;5;28;01mfinally\u001b[39;00m:\n\u001b[1;32m    357\u001b[0m         \u001b[38;5;66;03m# Forget this call's arguments in order to free up any memory\u001b[39;00m\n\u001b[1;32m    358\u001b[0m         \u001b[38;5;66;03m# that may be referenced by them; after a call has happened,\u001b[39;00m\n\u001b[1;32m    359\u001b[0m         \u001b[38;5;66;03m# there's no need to keep a reference to them\u001b[39;00m\n\u001b[1;32m    360\u001b[0m         \u001b[38;5;28mself\u001b[39m\u001b[38;5;241m.\u001b[39margs \u001b[38;5;241m=\u001b[39m \u001b[38;5;28;01mNone\u001b[39;00m\n",
      "File \u001b[0;32m~/.virtualenvs/env_83/lib/python3.8/site-packages/prefect/client/utilities.py:51\u001b[0m, in \u001b[0;36minject_client.<locals>.with_injected_client\u001b[0;34m(*args, **kwargs)\u001b[0m\n\u001b[1;32m     49\u001b[0m \u001b[38;5;28;01masync\u001b[39;00m \u001b[38;5;28;01mwith\u001b[39;00m client_context \u001b[38;5;28;01mas\u001b[39;00m new_client:\n\u001b[1;32m     50\u001b[0m     kwargs\u001b[38;5;241m.\u001b[39msetdefault(\u001b[38;5;124m\"\u001b[39m\u001b[38;5;124mclient\u001b[39m\u001b[38;5;124m\"\u001b[39m, new_client \u001b[38;5;129;01mor\u001b[39;00m client)\n\u001b[0;32m---> 51\u001b[0m     \u001b[38;5;28;01mreturn\u001b[39;00m \u001b[38;5;28;01mawait\u001b[39;00m fn(\u001b[38;5;241m*\u001b[39margs, \u001b[38;5;241m*\u001b[39m\u001b[38;5;241m*\u001b[39mkwargs)\n",
      "File \u001b[0;32m~/.virtualenvs/env_83/lib/python3.8/site-packages/prefect/engine.py:386\u001b[0m, in \u001b[0;36mcreate_then_begin_flow_run\u001b[0;34m(flow, parameters, wait_for, return_type, client, user_thread)\u001b[0m\n\u001b[1;32m    384\u001b[0m     \u001b[38;5;28;01mreturn\u001b[39;00m state\n\u001b[1;32m    385\u001b[0m \u001b[38;5;28;01melif\u001b[39;00m return_type \u001b[38;5;241m==\u001b[39m \u001b[38;5;124m\"\u001b[39m\u001b[38;5;124mresult\u001b[39m\u001b[38;5;124m\"\u001b[39m:\n\u001b[0;32m--> 386\u001b[0m     \u001b[38;5;28;01mreturn\u001b[39;00m \u001b[38;5;28;01mawait\u001b[39;00m state\u001b[38;5;241m.\u001b[39mresult(fetch\u001b[38;5;241m=\u001b[39m\u001b[38;5;28;01mTrue\u001b[39;00m)\n\u001b[1;32m    387\u001b[0m \u001b[38;5;28;01melse\u001b[39;00m:\n\u001b[1;32m    388\u001b[0m     \u001b[38;5;28;01mraise\u001b[39;00m \u001b[38;5;167;01mValueError\u001b[39;00m(\u001b[38;5;124mf\u001b[39m\u001b[38;5;124m\"\u001b[39m\u001b[38;5;124mInvalid return type for flow engine \u001b[39m\u001b[38;5;132;01m{\u001b[39;00mreturn_type\u001b[38;5;132;01m!r}\u001b[39;00m\u001b[38;5;124m.\u001b[39m\u001b[38;5;124m\"\u001b[39m)\n",
      "File \u001b[0;32m~/.virtualenvs/env_83/lib/python3.8/site-packages/prefect/states.py:91\u001b[0m, in \u001b[0;36m_get_state_result\u001b[0;34m(state, raise_on_failure)\u001b[0m\n\u001b[1;32m     84\u001b[0m     \u001b[38;5;28;01mraise\u001b[39;00m UnfinishedRun(\n\u001b[1;32m     85\u001b[0m         \u001b[38;5;124mf\u001b[39m\u001b[38;5;124m\"\u001b[39m\u001b[38;5;124mRun is in \u001b[39m\u001b[38;5;132;01m{\u001b[39;00mstate\u001b[38;5;241m.\u001b[39mtype\u001b[38;5;241m.\u001b[39mname\u001b[38;5;132;01m}\u001b[39;00m\u001b[38;5;124m state, its result is not available.\u001b[39m\u001b[38;5;124m\"\u001b[39m\n\u001b[1;32m     86\u001b[0m     )\n\u001b[1;32m     88\u001b[0m \u001b[38;5;28;01mif\u001b[39;00m raise_on_failure \u001b[38;5;129;01mand\u001b[39;00m (\n\u001b[1;32m     89\u001b[0m     state\u001b[38;5;241m.\u001b[39mis_crashed() \u001b[38;5;129;01mor\u001b[39;00m state\u001b[38;5;241m.\u001b[39mis_failed() \u001b[38;5;129;01mor\u001b[39;00m state\u001b[38;5;241m.\u001b[39mis_cancelled()\n\u001b[1;32m     90\u001b[0m ):\n\u001b[0;32m---> 91\u001b[0m     \u001b[38;5;28;01mraise\u001b[39;00m \u001b[38;5;28;01mawait\u001b[39;00m get_state_exception(state)\n\u001b[1;32m     93\u001b[0m \u001b[38;5;28;01mif\u001b[39;00m \u001b[38;5;28misinstance\u001b[39m(state\u001b[38;5;241m.\u001b[39mdata, DataDocument):\n\u001b[1;32m     94\u001b[0m     result \u001b[38;5;241m=\u001b[39m result_from_state_with_data_document(\n\u001b[1;32m     95\u001b[0m         state, raise_on_failure\u001b[38;5;241m=\u001b[39mraise_on_failure\n\u001b[1;32m     96\u001b[0m     )\n",
      "File \u001b[0;32m~/.virtualenvs/env_83/lib/python3.8/site-packages/prefect/engine.py:841\u001b[0m, in \u001b[0;36morchestrate_flow_run\u001b[0;34m(flow, flow_run, parameters, wait_for, interruptible, client, partial_flow_run_context, user_thread)\u001b[0m\n\u001b[1;32m    836\u001b[0m         \u001b[38;5;28;01melse\u001b[39;00m:\n\u001b[1;32m    837\u001b[0m             from_async\u001b[38;5;241m.\u001b[39mcall_soon_in_new_thread(\n\u001b[1;32m    838\u001b[0m                 flow_call, timeout\u001b[38;5;241m=\u001b[39mflow\u001b[38;5;241m.\u001b[39mtimeout_seconds\n\u001b[1;32m    839\u001b[0m             )\n\u001b[0;32m--> 841\u001b[0m         result \u001b[38;5;241m=\u001b[39m \u001b[38;5;28;01mawait\u001b[39;00m flow_call\u001b[38;5;241m.\u001b[39maresult()\n\u001b[1;32m    843\u001b[0m         waited_for_task_runs \u001b[38;5;241m=\u001b[39m \u001b[38;5;28;01mawait\u001b[39;00m wait_for_task_runs_and_report_crashes(\n\u001b[1;32m    844\u001b[0m             flow_run_context\u001b[38;5;241m.\u001b[39mtask_run_futures, client\u001b[38;5;241m=\u001b[39mclient\n\u001b[1;32m    845\u001b[0m         )\n\u001b[1;32m    846\u001b[0m \u001b[38;5;28;01mexcept\u001b[39;00m PausedRun \u001b[38;5;28;01mas\u001b[39;00m exc:\n\u001b[1;32m    847\u001b[0m     \u001b[38;5;66;03m# could get raised either via utility or by returning Paused from a task run\u001b[39;00m\n\u001b[1;32m    848\u001b[0m     \u001b[38;5;66;03m# if a task run pauses, we set its state as the flow's state\u001b[39;00m\n\u001b[1;32m    849\u001b[0m     \u001b[38;5;66;03m# to preserve reschedule and timeout behavior\u001b[39;00m\n",
      "File \u001b[0;32m~/.virtualenvs/env_83/lib/python3.8/site-packages/prefect/_internal/concurrency/calls.py:293\u001b[0m, in \u001b[0;36mCall.aresult\u001b[0;34m(self)\u001b[0m\n\u001b[1;32m    287\u001b[0m \u001b[38;5;250m\u001b[39m\u001b[38;5;124;03m\"\"\"\u001b[39;00m\n\u001b[1;32m    288\u001b[0m \u001b[38;5;124;03mWait for the result of the call.\u001b[39;00m\n\u001b[1;32m    289\u001b[0m \n\u001b[1;32m    290\u001b[0m \u001b[38;5;124;03mFor use from asynchronous contexts.\u001b[39;00m\n\u001b[1;32m    291\u001b[0m \u001b[38;5;124;03m\"\"\"\u001b[39;00m\n\u001b[1;32m    292\u001b[0m \u001b[38;5;28;01mtry\u001b[39;00m:\n\u001b[0;32m--> 293\u001b[0m     \u001b[38;5;28;01mreturn\u001b[39;00m \u001b[38;5;28;01mawait\u001b[39;00m asyncio\u001b[38;5;241m.\u001b[39mwrap_future(\u001b[38;5;28mself\u001b[39m\u001b[38;5;241m.\u001b[39mfuture)\n\u001b[1;32m    294\u001b[0m \u001b[38;5;28;01mexcept\u001b[39;00m asyncio\u001b[38;5;241m.\u001b[39mCancelledError \u001b[38;5;28;01mas\u001b[39;00m exc:\n\u001b[1;32m    295\u001b[0m     \u001b[38;5;28;01mraise\u001b[39;00m CancelledError() \u001b[38;5;28;01mfrom\u001b[39;00m \u001b[38;5;21;01mexc\u001b[39;00m\n",
      "File \u001b[0;32m~/.virtualenvs/env_83/lib/python3.8/site-packages/prefect/_internal/concurrency/calls.py:318\u001b[0m, in \u001b[0;36mCall._run_sync\u001b[0;34m(***failed resolving arguments***)\u001b[0m\n\u001b[1;32m    316\u001b[0m \u001b[38;5;28;01mwith\u001b[39;00m \u001b[38;5;28mself\u001b[39m\u001b[38;5;241m.\u001b[39mfuture\u001b[38;5;241m.\u001b[39menforce_sync_deadline() \u001b[38;5;28;01mas\u001b[39;00m cancel_scope:\n\u001b[1;32m    317\u001b[0m     \u001b[38;5;28;01mtry\u001b[39;00m:\n\u001b[0;32m--> 318\u001b[0m         result \u001b[38;5;241m=\u001b[39m \u001b[38;5;28;43mself\u001b[39;49m\u001b[38;5;241;43m.\u001b[39;49m\u001b[43mfn\u001b[49m\u001b[43m(\u001b[49m\u001b[38;5;241;43m*\u001b[39;49m\u001b[38;5;28;43mself\u001b[39;49m\u001b[38;5;241;43m.\u001b[39;49m\u001b[43margs\u001b[49m\u001b[43m,\u001b[49m\u001b[43m \u001b[49m\u001b[38;5;241;43m*\u001b[39;49m\u001b[38;5;241;43m*\u001b[39;49m\u001b[38;5;28;43mself\u001b[39;49m\u001b[38;5;241;43m.\u001b[39;49m\u001b[43mkwargs\u001b[49m\u001b[43m)\u001b[49m\n\u001b[1;32m    319\u001b[0m     \u001b[38;5;28;01mfinally\u001b[39;00m:\n\u001b[1;32m    320\u001b[0m         \u001b[38;5;66;03m# Forget this call's arguments in order to free up any memory\u001b[39;00m\n\u001b[1;32m    321\u001b[0m         \u001b[38;5;66;03m# that may be referenced by them; after a call has happened,\u001b[39;00m\n\u001b[1;32m    322\u001b[0m         \u001b[38;5;66;03m# there's no need to keep a reference to them\u001b[39;00m\n\u001b[1;32m    323\u001b[0m         \u001b[38;5;28mself\u001b[39m\u001b[38;5;241m.\u001b[39margs \u001b[38;5;241m=\u001b[39m \u001b[38;5;28;01mNone\u001b[39;00m\n",
      "File \u001b[0;32m~/work/ml_design_course/basnya_streamlit/basnya/back_fill_games.py:493\u001b[0m, in \u001b[0;36mfetch_games_for_date\u001b[0;34m(date)\u001b[0m\n\u001b[1;32m    489\u001b[0m db_path \u001b[38;5;241m=\u001b[39m get_db_path()\n\u001b[1;32m    490\u001b[0m game_ids \u001b[38;5;241m=\u001b[39m get_game_ids_for_date(date\u001b[38;5;241m=\u001b[39mdate)\n\u001b[0;32m--> 493\u001b[0m back_filled_dfs \u001b[38;5;241m=\u001b[39m \u001b[43mback_fill_games\u001b[49m\u001b[43m(\u001b[49m\u001b[43mgame_ids\u001b[49m\u001b[38;5;241;43m=\u001b[39;49m\u001b[43mgame_ids\u001b[49m\u001b[43m,\u001b[49m\u001b[43m \u001b[49m\u001b[43mdb_path\u001b[49m\u001b[38;5;241;43m=\u001b[39;49m\u001b[43mdb_path\u001b[49m\u001b[43m)\u001b[49m\n\u001b[1;32m    494\u001b[0m on_date_games_df \u001b[38;5;241m=\u001b[39m (\n\u001b[1;32m    495\u001b[0m     split_games_dfs(\n\u001b[1;32m    496\u001b[0m         game_ids\u001b[38;5;241m=\u001b[39mgame_ids,\n\u001b[0;32m   (...)\u001b[0m\n\u001b[1;32m    499\u001b[0m     )\n\u001b[1;32m    500\u001b[0m )\n\u001b[1;32m    501\u001b[0m \u001b[38;5;28;01mreturn\u001b[39;00m prepare_game_df(on_date_games_df)\n",
      "File \u001b[0;32m~/.virtualenvs/env_83/lib/python3.8/site-packages/prefect/flows.py:1097\u001b[0m, in \u001b[0;36mFlow.__call__\u001b[0;34m(self, return_state, wait_for, *args, **kwargs)\u001b[0m\n\u001b[1;32m   1092\u001b[0m \u001b[38;5;28;01mif\u001b[39;00m task_viz_tracker:\n\u001b[1;32m   1093\u001b[0m     \u001b[38;5;66;03m# this is a subflow, for now return a single task and do not go further\u001b[39;00m\n\u001b[1;32m   1094\u001b[0m     \u001b[38;5;66;03m# we can add support for exploring subflows for tasks in the future.\u001b[39;00m\n\u001b[1;32m   1095\u001b[0m     \u001b[38;5;28;01mreturn\u001b[39;00m track_viz_task(\u001b[38;5;28mself\u001b[39m\u001b[38;5;241m.\u001b[39misasync, \u001b[38;5;28mself\u001b[39m\u001b[38;5;241m.\u001b[39mname, parameters)\n\u001b[0;32m-> 1097\u001b[0m \u001b[38;5;28;01mreturn\u001b[39;00m \u001b[43menter_flow_run_engine_from_flow_call\u001b[49m\u001b[43m(\u001b[49m\n\u001b[1;32m   1098\u001b[0m \u001b[43m    \u001b[49m\u001b[38;5;28;43mself\u001b[39;49m\u001b[43m,\u001b[49m\n\u001b[1;32m   1099\u001b[0m \u001b[43m    \u001b[49m\u001b[43mparameters\u001b[49m\u001b[43m,\u001b[49m\n\u001b[1;32m   1100\u001b[0m \u001b[43m    \u001b[49m\u001b[43mwait_for\u001b[49m\u001b[38;5;241;43m=\u001b[39;49m\u001b[43mwait_for\u001b[49m\u001b[43m,\u001b[49m\n\u001b[1;32m   1101\u001b[0m \u001b[43m    \u001b[49m\u001b[43mreturn_type\u001b[49m\u001b[38;5;241;43m=\u001b[39;49m\u001b[43mreturn_type\u001b[49m\u001b[43m,\u001b[49m\n\u001b[1;32m   1102\u001b[0m \u001b[43m\u001b[49m\u001b[43m)\u001b[49m\n",
      "File \u001b[0;32m~/.virtualenvs/env_83/lib/python3.8/site-packages/prefect/engine.py:283\u001b[0m, in \u001b[0;36menter_flow_run_engine_from_flow_call\u001b[0;34m(flow, parameters, wait_for, return_type)\u001b[0m\n\u001b[1;32m    276\u001b[0m     retval \u001b[38;5;241m=\u001b[39m from_async\u001b[38;5;241m.\u001b[39mwait_for_call_in_loop_thread(\n\u001b[1;32m    277\u001b[0m         begin_run,\n\u001b[1;32m    278\u001b[0m         done_callbacks\u001b[38;5;241m=\u001b[39mdone_callbacks,\n\u001b[1;32m    279\u001b[0m         contexts\u001b[38;5;241m=\u001b[39mcontexts,\n\u001b[1;32m    280\u001b[0m     )\n\u001b[1;32m    282\u001b[0m \u001b[38;5;28;01melse\u001b[39;00m:\n\u001b[0;32m--> 283\u001b[0m     retval \u001b[38;5;241m=\u001b[39m \u001b[43mfrom_sync\u001b[49m\u001b[38;5;241;43m.\u001b[39;49m\u001b[43mwait_for_call_in_loop_thread\u001b[49m\u001b[43m(\u001b[49m\n\u001b[1;32m    284\u001b[0m \u001b[43m        \u001b[49m\u001b[43mbegin_run\u001b[49m\u001b[43m,\u001b[49m\n\u001b[1;32m    285\u001b[0m \u001b[43m        \u001b[49m\u001b[43mdone_callbacks\u001b[49m\u001b[38;5;241;43m=\u001b[39;49m\u001b[43mdone_callbacks\u001b[49m\u001b[43m,\u001b[49m\n\u001b[1;32m    286\u001b[0m \u001b[43m        \u001b[49m\u001b[43mcontexts\u001b[49m\u001b[38;5;241;43m=\u001b[39;49m\u001b[43mcontexts\u001b[49m\u001b[43m,\u001b[49m\n\u001b[1;32m    287\u001b[0m \u001b[43m    \u001b[49m\u001b[43m)\u001b[49m\n\u001b[1;32m    289\u001b[0m \u001b[38;5;28;01mreturn\u001b[39;00m retval\n",
      "File \u001b[0;32m~/.virtualenvs/env_83/lib/python3.8/site-packages/prefect/_internal/concurrency/api.py:243\u001b[0m, in \u001b[0;36mfrom_sync.wait_for_call_in_loop_thread\u001b[0;34m(_from_sync__call, timeout, done_callbacks, contexts)\u001b[0m\n\u001b[1;32m    241\u001b[0m     stack\u001b[38;5;241m.\u001b[39menter_context(context)\n\u001b[1;32m    242\u001b[0m waiter\u001b[38;5;241m.\u001b[39mwait()\n\u001b[0;32m--> 243\u001b[0m \u001b[38;5;28;01mreturn\u001b[39;00m \u001b[43mcall\u001b[49m\u001b[38;5;241;43m.\u001b[39;49m\u001b[43mresult\u001b[49m\u001b[43m(\u001b[49m\u001b[43m)\u001b[49m\n",
      "File \u001b[0;32m~/.virtualenvs/env_83/lib/python3.8/site-packages/prefect/_internal/concurrency/calls.py:284\u001b[0m, in \u001b[0;36mCall.result\u001b[0;34m(self, timeout)\u001b[0m\n\u001b[1;32m    278\u001b[0m \u001b[38;5;28;01mdef\u001b[39;00m \u001b[38;5;21mresult\u001b[39m(\u001b[38;5;28mself\u001b[39m, timeout: Optional[\u001b[38;5;28mfloat\u001b[39m] \u001b[38;5;241m=\u001b[39m \u001b[38;5;28;01mNone\u001b[39;00m) \u001b[38;5;241m-\u001b[39m\u001b[38;5;241m>\u001b[39m T:\n\u001b[1;32m    279\u001b[0m \u001b[38;5;250m    \u001b[39m\u001b[38;5;124;03m\"\"\"\u001b[39;00m\n\u001b[1;32m    280\u001b[0m \u001b[38;5;124;03m    Wait for the result of the call.\u001b[39;00m\n\u001b[1;32m    281\u001b[0m \n\u001b[1;32m    282\u001b[0m \u001b[38;5;124;03m    Not safe for use from asynchronous contexts.\u001b[39;00m\n\u001b[1;32m    283\u001b[0m \u001b[38;5;124;03m    \"\"\"\u001b[39;00m\n\u001b[0;32m--> 284\u001b[0m     \u001b[38;5;28;01mreturn\u001b[39;00m \u001b[38;5;28;43mself\u001b[39;49m\u001b[38;5;241;43m.\u001b[39;49m\u001b[43mfuture\u001b[49m\u001b[38;5;241;43m.\u001b[39;49m\u001b[43mresult\u001b[49m\u001b[43m(\u001b[49m\u001b[43mtimeout\u001b[49m\u001b[38;5;241;43m=\u001b[39;49m\u001b[43mtimeout\u001b[49m\u001b[43m)\u001b[49m\n",
      "File \u001b[0;32m~/.virtualenvs/env_83/lib/python3.8/site-packages/prefect/_internal/concurrency/calls.py:168\u001b[0m, in \u001b[0;36mFuture.result\u001b[0;34m(self, timeout)\u001b[0m\n\u001b[1;32m    166\u001b[0m     \u001b[38;5;28;01mraise\u001b[39;00m CancelledError()\n\u001b[1;32m    167\u001b[0m \u001b[38;5;28;01melif\u001b[39;00m \u001b[38;5;28mself\u001b[39m\u001b[38;5;241m.\u001b[39m_state \u001b[38;5;241m==\u001b[39m FINISHED:\n\u001b[0;32m--> 168\u001b[0m     \u001b[38;5;28;01mreturn\u001b[39;00m \u001b[38;5;28;43mself\u001b[39;49m\u001b[38;5;241;43m.\u001b[39;49m\u001b[43m__get_result\u001b[49m\u001b[43m(\u001b[49m\u001b[43m)\u001b[49m\n\u001b[1;32m    170\u001b[0m \u001b[38;5;28mself\u001b[39m\u001b[38;5;241m.\u001b[39m_condition\u001b[38;5;241m.\u001b[39mwait(timeout)\n\u001b[1;32m    172\u001b[0m \u001b[38;5;28;01mif\u001b[39;00m \u001b[38;5;28mself\u001b[39m\u001b[38;5;241m.\u001b[39m_state \u001b[38;5;129;01min\u001b[39;00m [CANCELLED, CANCELLED_AND_NOTIFIED]:\n\u001b[1;32m    173\u001b[0m     \u001b[38;5;66;03m# Raise Prefect cancelled error instead of\u001b[39;00m\n\u001b[1;32m    174\u001b[0m     \u001b[38;5;66;03m# `concurrent.futures._base.CancelledError`\u001b[39;00m\n",
      "File \u001b[0;32m/usr/lib/python3.8/concurrent/futures/_base.py:389\u001b[0m, in \u001b[0;36mFuture.__get_result\u001b[0;34m(self)\u001b[0m\n\u001b[1;32m    387\u001b[0m \u001b[38;5;28;01mif\u001b[39;00m \u001b[38;5;28mself\u001b[39m\u001b[38;5;241m.\u001b[39m_exception:\n\u001b[1;32m    388\u001b[0m     \u001b[38;5;28;01mtry\u001b[39;00m:\n\u001b[0;32m--> 389\u001b[0m         \u001b[38;5;28;01mraise\u001b[39;00m \u001b[38;5;28mself\u001b[39m\u001b[38;5;241m.\u001b[39m_exception\n\u001b[1;32m    390\u001b[0m     \u001b[38;5;28;01mfinally\u001b[39;00m:\n\u001b[1;32m    391\u001b[0m         \u001b[38;5;66;03m# Break a reference cycle with the exception in self._exception\u001b[39;00m\n\u001b[1;32m    392\u001b[0m         \u001b[38;5;28mself\u001b[39m \u001b[38;5;241m=\u001b[39m \u001b[38;5;28;01mNone\u001b[39;00m\n",
      "File \u001b[0;32m~/.virtualenvs/env_83/lib/python3.8/site-packages/prefect/_internal/concurrency/calls.py:355\u001b[0m, in \u001b[0;36mCall._run_async\u001b[0;34m(***failed resolving arguments***)\u001b[0m\n\u001b[1;32m    353\u001b[0m \u001b[38;5;28;01mwith\u001b[39;00m \u001b[38;5;28mself\u001b[39m\u001b[38;5;241m.\u001b[39mfuture\u001b[38;5;241m.\u001b[39menforce_async_deadline() \u001b[38;5;28;01mas\u001b[39;00m cancel_scope:\n\u001b[1;32m    354\u001b[0m     \u001b[38;5;28;01mtry\u001b[39;00m:\n\u001b[0;32m--> 355\u001b[0m         result \u001b[38;5;241m=\u001b[39m \u001b[38;5;28;01mawait\u001b[39;00m coro\n\u001b[1;32m    356\u001b[0m     \u001b[38;5;28;01mfinally\u001b[39;00m:\n\u001b[1;32m    357\u001b[0m         \u001b[38;5;66;03m# Forget this call's arguments in order to free up any memory\u001b[39;00m\n\u001b[1;32m    358\u001b[0m         \u001b[38;5;66;03m# that may be referenced by them; after a call has happened,\u001b[39;00m\n\u001b[1;32m    359\u001b[0m         \u001b[38;5;66;03m# there's no need to keep a reference to them\u001b[39;00m\n\u001b[1;32m    360\u001b[0m         \u001b[38;5;28mself\u001b[39m\u001b[38;5;241m.\u001b[39margs \u001b[38;5;241m=\u001b[39m \u001b[38;5;28;01mNone\u001b[39;00m\n",
      "File \u001b[0;32m~/.virtualenvs/env_83/lib/python3.8/site-packages/prefect/client/utilities.py:51\u001b[0m, in \u001b[0;36minject_client.<locals>.with_injected_client\u001b[0;34m(*args, **kwargs)\u001b[0m\n\u001b[1;32m     49\u001b[0m \u001b[38;5;28;01masync\u001b[39;00m \u001b[38;5;28;01mwith\u001b[39;00m client_context \u001b[38;5;28;01mas\u001b[39;00m new_client:\n\u001b[1;32m     50\u001b[0m     kwargs\u001b[38;5;241m.\u001b[39msetdefault(\u001b[38;5;124m\"\u001b[39m\u001b[38;5;124mclient\u001b[39m\u001b[38;5;124m\"\u001b[39m, new_client \u001b[38;5;129;01mor\u001b[39;00m client)\n\u001b[0;32m---> 51\u001b[0m     \u001b[38;5;28;01mreturn\u001b[39;00m \u001b[38;5;28;01mawait\u001b[39;00m fn(\u001b[38;5;241m*\u001b[39margs, \u001b[38;5;241m*\u001b[39m\u001b[38;5;241m*\u001b[39mkwargs)\n",
      "File \u001b[0;32m~/.virtualenvs/env_83/lib/python3.8/site-packages/prefect/engine.py:725\u001b[0m, in \u001b[0;36mcreate_and_begin_subflow_run\u001b[0;34m(flow, parameters, wait_for, return_type, client, user_thread)\u001b[0m\n\u001b[1;32m    723\u001b[0m     \u001b[38;5;28;01mreturn\u001b[39;00m terminal_state\n\u001b[1;32m    724\u001b[0m \u001b[38;5;28;01melif\u001b[39;00m return_type \u001b[38;5;241m==\u001b[39m \u001b[38;5;124m\"\u001b[39m\u001b[38;5;124mresult\u001b[39m\u001b[38;5;124m\"\u001b[39m:\n\u001b[0;32m--> 725\u001b[0m     \u001b[38;5;28;01mreturn\u001b[39;00m \u001b[38;5;28;01mawait\u001b[39;00m terminal_state\u001b[38;5;241m.\u001b[39mresult(fetch\u001b[38;5;241m=\u001b[39m\u001b[38;5;28;01mTrue\u001b[39;00m)\n\u001b[1;32m    726\u001b[0m \u001b[38;5;28;01melse\u001b[39;00m:\n\u001b[1;32m    727\u001b[0m     \u001b[38;5;28;01mraise\u001b[39;00m \u001b[38;5;167;01mValueError\u001b[39;00m(\u001b[38;5;124mf\u001b[39m\u001b[38;5;124m\"\u001b[39m\u001b[38;5;124mInvalid return type for flow engine \u001b[39m\u001b[38;5;132;01m{\u001b[39;00mreturn_type\u001b[38;5;132;01m!r}\u001b[39;00m\u001b[38;5;124m.\u001b[39m\u001b[38;5;124m\"\u001b[39m)\n",
      "File \u001b[0;32m~/.virtualenvs/env_83/lib/python3.8/site-packages/prefect/states.py:91\u001b[0m, in \u001b[0;36m_get_state_result\u001b[0;34m(state, raise_on_failure)\u001b[0m\n\u001b[1;32m     84\u001b[0m     \u001b[38;5;28;01mraise\u001b[39;00m UnfinishedRun(\n\u001b[1;32m     85\u001b[0m         \u001b[38;5;124mf\u001b[39m\u001b[38;5;124m\"\u001b[39m\u001b[38;5;124mRun is in \u001b[39m\u001b[38;5;132;01m{\u001b[39;00mstate\u001b[38;5;241m.\u001b[39mtype\u001b[38;5;241m.\u001b[39mname\u001b[38;5;132;01m}\u001b[39;00m\u001b[38;5;124m state, its result is not available.\u001b[39m\u001b[38;5;124m\"\u001b[39m\n\u001b[1;32m     86\u001b[0m     )\n\u001b[1;32m     88\u001b[0m \u001b[38;5;28;01mif\u001b[39;00m raise_on_failure \u001b[38;5;129;01mand\u001b[39;00m (\n\u001b[1;32m     89\u001b[0m     state\u001b[38;5;241m.\u001b[39mis_crashed() \u001b[38;5;129;01mor\u001b[39;00m state\u001b[38;5;241m.\u001b[39mis_failed() \u001b[38;5;129;01mor\u001b[39;00m state\u001b[38;5;241m.\u001b[39mis_cancelled()\n\u001b[1;32m     90\u001b[0m ):\n\u001b[0;32m---> 91\u001b[0m     \u001b[38;5;28;01mraise\u001b[39;00m \u001b[38;5;28;01mawait\u001b[39;00m get_state_exception(state)\n\u001b[1;32m     93\u001b[0m \u001b[38;5;28;01mif\u001b[39;00m \u001b[38;5;28misinstance\u001b[39m(state\u001b[38;5;241m.\u001b[39mdata, DataDocument):\n\u001b[1;32m     94\u001b[0m     result \u001b[38;5;241m=\u001b[39m result_from_state_with_data_document(\n\u001b[1;32m     95\u001b[0m         state, raise_on_failure\u001b[38;5;241m=\u001b[39mraise_on_failure\n\u001b[1;32m     96\u001b[0m     )\n",
      "File \u001b[0;32m~/.virtualenvs/env_83/lib/python3.8/site-packages/prefect/engine.py:841\u001b[0m, in \u001b[0;36morchestrate_flow_run\u001b[0;34m(flow, flow_run, parameters, wait_for, interruptible, client, partial_flow_run_context, user_thread)\u001b[0m\n\u001b[1;32m    836\u001b[0m         \u001b[38;5;28;01melse\u001b[39;00m:\n\u001b[1;32m    837\u001b[0m             from_async\u001b[38;5;241m.\u001b[39mcall_soon_in_new_thread(\n\u001b[1;32m    838\u001b[0m                 flow_call, timeout\u001b[38;5;241m=\u001b[39mflow\u001b[38;5;241m.\u001b[39mtimeout_seconds\n\u001b[1;32m    839\u001b[0m             )\n\u001b[0;32m--> 841\u001b[0m         result \u001b[38;5;241m=\u001b[39m \u001b[38;5;28;01mawait\u001b[39;00m flow_call\u001b[38;5;241m.\u001b[39maresult()\n\u001b[1;32m    843\u001b[0m         waited_for_task_runs \u001b[38;5;241m=\u001b[39m \u001b[38;5;28;01mawait\u001b[39;00m wait_for_task_runs_and_report_crashes(\n\u001b[1;32m    844\u001b[0m             flow_run_context\u001b[38;5;241m.\u001b[39mtask_run_futures, client\u001b[38;5;241m=\u001b[39mclient\n\u001b[1;32m    845\u001b[0m         )\n\u001b[1;32m    846\u001b[0m \u001b[38;5;28;01mexcept\u001b[39;00m PausedRun \u001b[38;5;28;01mas\u001b[39;00m exc:\n\u001b[1;32m    847\u001b[0m     \u001b[38;5;66;03m# could get raised either via utility or by returning Paused from a task run\u001b[39;00m\n\u001b[1;32m    848\u001b[0m     \u001b[38;5;66;03m# if a task run pauses, we set its state as the flow's state\u001b[39;00m\n\u001b[1;32m    849\u001b[0m     \u001b[38;5;66;03m# to preserve reschedule and timeout behavior\u001b[39;00m\n",
      "File \u001b[0;32m~/.virtualenvs/env_83/lib/python3.8/site-packages/prefect/_internal/concurrency/calls.py:293\u001b[0m, in \u001b[0;36mCall.aresult\u001b[0;34m(self)\u001b[0m\n\u001b[1;32m    287\u001b[0m \u001b[38;5;250m\u001b[39m\u001b[38;5;124;03m\"\"\"\u001b[39;00m\n\u001b[1;32m    288\u001b[0m \u001b[38;5;124;03mWait for the result of the call.\u001b[39;00m\n\u001b[1;32m    289\u001b[0m \n\u001b[1;32m    290\u001b[0m \u001b[38;5;124;03mFor use from asynchronous contexts.\u001b[39;00m\n\u001b[1;32m    291\u001b[0m \u001b[38;5;124;03m\"\"\"\u001b[39;00m\n\u001b[1;32m    292\u001b[0m \u001b[38;5;28;01mtry\u001b[39;00m:\n\u001b[0;32m--> 293\u001b[0m     \u001b[38;5;28;01mreturn\u001b[39;00m \u001b[38;5;28;01mawait\u001b[39;00m asyncio\u001b[38;5;241m.\u001b[39mwrap_future(\u001b[38;5;28mself\u001b[39m\u001b[38;5;241m.\u001b[39mfuture)\n\u001b[1;32m    294\u001b[0m \u001b[38;5;28;01mexcept\u001b[39;00m asyncio\u001b[38;5;241m.\u001b[39mCancelledError \u001b[38;5;28;01mas\u001b[39;00m exc:\n\u001b[1;32m    295\u001b[0m     \u001b[38;5;28;01mraise\u001b[39;00m CancelledError() \u001b[38;5;28;01mfrom\u001b[39;00m \u001b[38;5;21;01mexc\u001b[39;00m\n",
      "File \u001b[0;32m~/.virtualenvs/env_83/lib/python3.8/site-packages/prefect/_internal/concurrency/calls.py:318\u001b[0m, in \u001b[0;36mCall._run_sync\u001b[0;34m(***failed resolving arguments***)\u001b[0m\n\u001b[1;32m    316\u001b[0m \u001b[38;5;28;01mwith\u001b[39;00m \u001b[38;5;28mself\u001b[39m\u001b[38;5;241m.\u001b[39mfuture\u001b[38;5;241m.\u001b[39menforce_sync_deadline() \u001b[38;5;28;01mas\u001b[39;00m cancel_scope:\n\u001b[1;32m    317\u001b[0m     \u001b[38;5;28;01mtry\u001b[39;00m:\n\u001b[0;32m--> 318\u001b[0m         result \u001b[38;5;241m=\u001b[39m \u001b[38;5;28;43mself\u001b[39;49m\u001b[38;5;241;43m.\u001b[39;49m\u001b[43mfn\u001b[49m\u001b[43m(\u001b[49m\u001b[38;5;241;43m*\u001b[39;49m\u001b[38;5;28;43mself\u001b[39;49m\u001b[38;5;241;43m.\u001b[39;49m\u001b[43margs\u001b[49m\u001b[43m,\u001b[49m\u001b[43m \u001b[49m\u001b[38;5;241;43m*\u001b[39;49m\u001b[38;5;241;43m*\u001b[39;49m\u001b[38;5;28;43mself\u001b[39;49m\u001b[38;5;241;43m.\u001b[39;49m\u001b[43mkwargs\u001b[49m\u001b[43m)\u001b[49m\n\u001b[1;32m    319\u001b[0m     \u001b[38;5;28;01mfinally\u001b[39;00m:\n\u001b[1;32m    320\u001b[0m         \u001b[38;5;66;03m# Forget this call's arguments in order to free up any memory\u001b[39;00m\n\u001b[1;32m    321\u001b[0m         \u001b[38;5;66;03m# that may be referenced by them; after a call has happened,\u001b[39;00m\n\u001b[1;32m    322\u001b[0m         \u001b[38;5;66;03m# there's no need to keep a reference to them\u001b[39;00m\n\u001b[1;32m    323\u001b[0m         \u001b[38;5;28mself\u001b[39m\u001b[38;5;241m.\u001b[39margs \u001b[38;5;241m=\u001b[39m \u001b[38;5;28;01mNone\u001b[39;00m\n",
      "File \u001b[0;32m~/work/ml_design_course/basnya_streamlit/basnya/back_fill_games.py:381\u001b[0m, in \u001b[0;36mback_fill_games\u001b[0;34m(game_ids, db_path)\u001b[0m\n\u001b[1;32m    375\u001b[0m players_to_append_list \u001b[38;5;241m=\u001b[39m prepare_players_to_append(\n\u001b[1;32m    376\u001b[0m     current_players\u001b[38;5;241m=\u001b[39mcurrent_players,\n\u001b[1;32m    377\u001b[0m     games_dataframe_list\u001b[38;5;241m=\u001b[39mgames_to_append_list\n\u001b[1;32m    378\u001b[0m )\n\u001b[1;32m    380\u001b[0m tables_to_append \u001b[38;5;241m=\u001b[39m players_to_append_list \u001b[38;5;241m+\u001b[39m games_to_append_list  \u001b[38;5;66;03m# insert players first\u001b[39;00m\n\u001b[0;32m--> 381\u001b[0m \u001b[43mappend_tables\u001b[49m\u001b[43m(\u001b[49m\n\u001b[1;32m    382\u001b[0m \u001b[43m    \u001b[49m\u001b[43mdb_path\u001b[49m\u001b[38;5;241;43m=\u001b[39;49m\u001b[43mdb_path\u001b[49m\u001b[43m,\u001b[49m\n\u001b[1;32m    383\u001b[0m \u001b[43m    \u001b[49m\u001b[43mdataframe_list\u001b[49m\u001b[38;5;241;43m=\u001b[39;49m\u001b[43mtables_to_append\u001b[49m\n\u001b[1;32m    384\u001b[0m \u001b[43m\u001b[49m\u001b[43m)\u001b[49m\n\u001b[1;32m    386\u001b[0m \u001b[38;5;28;01mreturn\u001b[39;00m tables_to_append\n",
      "File \u001b[0;32m~/.virtualenvs/env_83/lib/python3.8/site-packages/prefect/tasks.py:549\u001b[0m, in \u001b[0;36mTask.__call__\u001b[0;34m(self, return_state, wait_for, *args, **kwargs)\u001b[0m\n\u001b[1;32m    544\u001b[0m \u001b[38;5;28;01mif\u001b[39;00m task_run_tracker:\n\u001b[1;32m    545\u001b[0m     \u001b[38;5;28;01mreturn\u001b[39;00m track_viz_task(\n\u001b[1;32m    546\u001b[0m         \u001b[38;5;28mself\u001b[39m\u001b[38;5;241m.\u001b[39misasync, \u001b[38;5;28mself\u001b[39m\u001b[38;5;241m.\u001b[39mname, parameters, \u001b[38;5;28mself\u001b[39m\u001b[38;5;241m.\u001b[39mviz_return_value\n\u001b[1;32m    547\u001b[0m     )\n\u001b[0;32m--> 549\u001b[0m \u001b[38;5;28;01mreturn\u001b[39;00m \u001b[43menter_task_run_engine\u001b[49m\u001b[43m(\u001b[49m\n\u001b[1;32m    550\u001b[0m \u001b[43m    \u001b[49m\u001b[38;5;28;43mself\u001b[39;49m\u001b[43m,\u001b[49m\n\u001b[1;32m    551\u001b[0m \u001b[43m    \u001b[49m\u001b[43mparameters\u001b[49m\u001b[38;5;241;43m=\u001b[39;49m\u001b[43mparameters\u001b[49m\u001b[43m,\u001b[49m\n\u001b[1;32m    552\u001b[0m \u001b[43m    \u001b[49m\u001b[43mwait_for\u001b[49m\u001b[38;5;241;43m=\u001b[39;49m\u001b[43mwait_for\u001b[49m\u001b[43m,\u001b[49m\n\u001b[1;32m    553\u001b[0m \u001b[43m    \u001b[49m\u001b[43mtask_runner\u001b[49m\u001b[38;5;241;43m=\u001b[39;49m\u001b[43mSequentialTaskRunner\u001b[49m\u001b[43m(\u001b[49m\u001b[43m)\u001b[49m\u001b[43m,\u001b[49m\n\u001b[1;32m    554\u001b[0m \u001b[43m    \u001b[49m\u001b[43mreturn_type\u001b[49m\u001b[38;5;241;43m=\u001b[39;49m\u001b[43mreturn_type\u001b[49m\u001b[43m,\u001b[49m\n\u001b[1;32m    555\u001b[0m \u001b[43m    \u001b[49m\u001b[43mmapped\u001b[49m\u001b[38;5;241;43m=\u001b[39;49m\u001b[38;5;28;43;01mFalse\u001b[39;49;00m\u001b[43m,\u001b[49m\n\u001b[1;32m    556\u001b[0m \u001b[43m\u001b[49m\u001b[43m)\u001b[49m\n",
      "File \u001b[0;32m~/.virtualenvs/env_83/lib/python3.8/site-packages/prefect/engine.py:1156\u001b[0m, in \u001b[0;36menter_task_run_engine\u001b[0;34m(task, parameters, wait_for, return_type, task_runner, mapped)\u001b[0m\n\u001b[1;32m   1154\u001b[0m     \u001b[38;5;28;01mreturn\u001b[39;00m from_async\u001b[38;5;241m.\u001b[39mwait_for_call_in_loop_thread(begin_run)\n\u001b[1;32m   1155\u001b[0m \u001b[38;5;28;01melse\u001b[39;00m:\n\u001b[0;32m-> 1156\u001b[0m     \u001b[38;5;28;01mreturn\u001b[39;00m \u001b[43mfrom_sync\u001b[49m\u001b[38;5;241;43m.\u001b[39;49m\u001b[43mwait_for_call_in_loop_thread\u001b[49m\u001b[43m(\u001b[49m\u001b[43mbegin_run\u001b[49m\u001b[43m)\u001b[49m\n",
      "File \u001b[0;32m~/.virtualenvs/env_83/lib/python3.8/site-packages/prefect/_internal/concurrency/api.py:243\u001b[0m, in \u001b[0;36mfrom_sync.wait_for_call_in_loop_thread\u001b[0;34m(_from_sync__call, timeout, done_callbacks, contexts)\u001b[0m\n\u001b[1;32m    241\u001b[0m     stack\u001b[38;5;241m.\u001b[39menter_context(context)\n\u001b[1;32m    242\u001b[0m waiter\u001b[38;5;241m.\u001b[39mwait()\n\u001b[0;32m--> 243\u001b[0m \u001b[38;5;28;01mreturn\u001b[39;00m \u001b[43mcall\u001b[49m\u001b[38;5;241;43m.\u001b[39;49m\u001b[43mresult\u001b[49m\u001b[43m(\u001b[49m\u001b[43m)\u001b[49m\n",
      "File \u001b[0;32m~/.virtualenvs/env_83/lib/python3.8/site-packages/prefect/_internal/concurrency/calls.py:284\u001b[0m, in \u001b[0;36mCall.result\u001b[0;34m(self, timeout)\u001b[0m\n\u001b[1;32m    278\u001b[0m \u001b[38;5;28;01mdef\u001b[39;00m \u001b[38;5;21mresult\u001b[39m(\u001b[38;5;28mself\u001b[39m, timeout: Optional[\u001b[38;5;28mfloat\u001b[39m] \u001b[38;5;241m=\u001b[39m \u001b[38;5;28;01mNone\u001b[39;00m) \u001b[38;5;241m-\u001b[39m\u001b[38;5;241m>\u001b[39m T:\n\u001b[1;32m    279\u001b[0m \u001b[38;5;250m    \u001b[39m\u001b[38;5;124;03m\"\"\"\u001b[39;00m\n\u001b[1;32m    280\u001b[0m \u001b[38;5;124;03m    Wait for the result of the call.\u001b[39;00m\n\u001b[1;32m    281\u001b[0m \n\u001b[1;32m    282\u001b[0m \u001b[38;5;124;03m    Not safe for use from asynchronous contexts.\u001b[39;00m\n\u001b[1;32m    283\u001b[0m \u001b[38;5;124;03m    \"\"\"\u001b[39;00m\n\u001b[0;32m--> 284\u001b[0m     \u001b[38;5;28;01mreturn\u001b[39;00m \u001b[38;5;28;43mself\u001b[39;49m\u001b[38;5;241;43m.\u001b[39;49m\u001b[43mfuture\u001b[49m\u001b[38;5;241;43m.\u001b[39;49m\u001b[43mresult\u001b[49m\u001b[43m(\u001b[49m\u001b[43mtimeout\u001b[49m\u001b[38;5;241;43m=\u001b[39;49m\u001b[43mtimeout\u001b[49m\u001b[43m)\u001b[49m\n",
      "File \u001b[0;32m~/.virtualenvs/env_83/lib/python3.8/site-packages/prefect/_internal/concurrency/calls.py:168\u001b[0m, in \u001b[0;36mFuture.result\u001b[0;34m(self, timeout)\u001b[0m\n\u001b[1;32m    166\u001b[0m     \u001b[38;5;28;01mraise\u001b[39;00m CancelledError()\n\u001b[1;32m    167\u001b[0m \u001b[38;5;28;01melif\u001b[39;00m \u001b[38;5;28mself\u001b[39m\u001b[38;5;241m.\u001b[39m_state \u001b[38;5;241m==\u001b[39m FINISHED:\n\u001b[0;32m--> 168\u001b[0m     \u001b[38;5;28;01mreturn\u001b[39;00m \u001b[38;5;28;43mself\u001b[39;49m\u001b[38;5;241;43m.\u001b[39;49m\u001b[43m__get_result\u001b[49m\u001b[43m(\u001b[49m\u001b[43m)\u001b[49m\n\u001b[1;32m    170\u001b[0m \u001b[38;5;28mself\u001b[39m\u001b[38;5;241m.\u001b[39m_condition\u001b[38;5;241m.\u001b[39mwait(timeout)\n\u001b[1;32m    172\u001b[0m \u001b[38;5;28;01mif\u001b[39;00m \u001b[38;5;28mself\u001b[39m\u001b[38;5;241m.\u001b[39m_state \u001b[38;5;129;01min\u001b[39;00m [CANCELLED, CANCELLED_AND_NOTIFIED]:\n\u001b[1;32m    173\u001b[0m     \u001b[38;5;66;03m# Raise Prefect cancelled error instead of\u001b[39;00m\n\u001b[1;32m    174\u001b[0m     \u001b[38;5;66;03m# `concurrent.futures._base.CancelledError`\u001b[39;00m\n",
      "File \u001b[0;32m/usr/lib/python3.8/concurrent/futures/_base.py:389\u001b[0m, in \u001b[0;36mFuture.__get_result\u001b[0;34m(self)\u001b[0m\n\u001b[1;32m    387\u001b[0m \u001b[38;5;28;01mif\u001b[39;00m \u001b[38;5;28mself\u001b[39m\u001b[38;5;241m.\u001b[39m_exception:\n\u001b[1;32m    388\u001b[0m     \u001b[38;5;28;01mtry\u001b[39;00m:\n\u001b[0;32m--> 389\u001b[0m         \u001b[38;5;28;01mraise\u001b[39;00m \u001b[38;5;28mself\u001b[39m\u001b[38;5;241m.\u001b[39m_exception\n\u001b[1;32m    390\u001b[0m     \u001b[38;5;28;01mfinally\u001b[39;00m:\n\u001b[1;32m    391\u001b[0m         \u001b[38;5;66;03m# Break a reference cycle with the exception in self._exception\u001b[39;00m\n\u001b[1;32m    392\u001b[0m         \u001b[38;5;28mself\u001b[39m \u001b[38;5;241m=\u001b[39m \u001b[38;5;28;01mNone\u001b[39;00m\n",
      "File \u001b[0;32m~/.virtualenvs/env_83/lib/python3.8/site-packages/prefect/_internal/concurrency/calls.py:355\u001b[0m, in \u001b[0;36mCall._run_async\u001b[0;34m(***failed resolving arguments***)\u001b[0m\n\u001b[1;32m    353\u001b[0m \u001b[38;5;28;01mwith\u001b[39;00m \u001b[38;5;28mself\u001b[39m\u001b[38;5;241m.\u001b[39mfuture\u001b[38;5;241m.\u001b[39menforce_async_deadline() \u001b[38;5;28;01mas\u001b[39;00m cancel_scope:\n\u001b[1;32m    354\u001b[0m     \u001b[38;5;28;01mtry\u001b[39;00m:\n\u001b[0;32m--> 355\u001b[0m         result \u001b[38;5;241m=\u001b[39m \u001b[38;5;28;01mawait\u001b[39;00m coro\n\u001b[1;32m    356\u001b[0m     \u001b[38;5;28;01mfinally\u001b[39;00m:\n\u001b[1;32m    357\u001b[0m         \u001b[38;5;66;03m# Forget this call's arguments in order to free up any memory\u001b[39;00m\n\u001b[1;32m    358\u001b[0m         \u001b[38;5;66;03m# that may be referenced by them; after a call has happened,\u001b[39;00m\n\u001b[1;32m    359\u001b[0m         \u001b[38;5;66;03m# there's no need to keep a reference to them\u001b[39;00m\n\u001b[1;32m    360\u001b[0m         \u001b[38;5;28mself\u001b[39m\u001b[38;5;241m.\u001b[39margs \u001b[38;5;241m=\u001b[39m \u001b[38;5;28;01mNone\u001b[39;00m\n",
      "File \u001b[0;32m~/.virtualenvs/env_83/lib/python3.8/site-packages/prefect/engine.py:1324\u001b[0m, in \u001b[0;36mget_task_call_return_value\u001b[0;34m(task, flow_run_context, parameters, wait_for, return_type, task_runner, extra_task_inputs)\u001b[0m\n\u001b[1;32m   1322\u001b[0m     \u001b[38;5;28;01mreturn\u001b[39;00m \u001b[38;5;28;01mawait\u001b[39;00m future\u001b[38;5;241m.\u001b[39m_wait()\n\u001b[1;32m   1323\u001b[0m \u001b[38;5;28;01melif\u001b[39;00m return_type \u001b[38;5;241m==\u001b[39m \u001b[38;5;124m\"\u001b[39m\u001b[38;5;124mresult\u001b[39m\u001b[38;5;124m\"\u001b[39m:\n\u001b[0;32m-> 1324\u001b[0m     \u001b[38;5;28;01mreturn\u001b[39;00m \u001b[38;5;28;01mawait\u001b[39;00m future\u001b[38;5;241m.\u001b[39m_result()\n\u001b[1;32m   1325\u001b[0m \u001b[38;5;28;01melse\u001b[39;00m:\n\u001b[1;32m   1326\u001b[0m     \u001b[38;5;28;01mraise\u001b[39;00m \u001b[38;5;167;01mValueError\u001b[39;00m(\u001b[38;5;124mf\u001b[39m\u001b[38;5;124m\"\u001b[39m\u001b[38;5;124mInvalid return type for task engine \u001b[39m\u001b[38;5;132;01m{\u001b[39;00mreturn_type\u001b[38;5;132;01m!r}\u001b[39;00m\u001b[38;5;124m.\u001b[39m\u001b[38;5;124m\"\u001b[39m)\n",
      "File \u001b[0;32m~/.virtualenvs/env_83/lib/python3.8/site-packages/prefect/futures.py:237\u001b[0m, in \u001b[0;36mPrefectFuture._result\u001b[0;34m(self, timeout, raise_on_failure)\u001b[0m\n\u001b[1;32m    235\u001b[0m \u001b[38;5;28;01mif\u001b[39;00m \u001b[38;5;129;01mnot\u001b[39;00m final_state:\n\u001b[1;32m    236\u001b[0m     \u001b[38;5;28;01mraise\u001b[39;00m \u001b[38;5;167;01mTimeoutError\u001b[39;00m(\u001b[38;5;124m\"\u001b[39m\u001b[38;5;124mCall timed out before task finished.\u001b[39m\u001b[38;5;124m\"\u001b[39m)\n\u001b[0;32m--> 237\u001b[0m \u001b[38;5;28;01mreturn\u001b[39;00m \u001b[38;5;28;01mawait\u001b[39;00m final_state\u001b[38;5;241m.\u001b[39mresult(raise_on_failure\u001b[38;5;241m=\u001b[39mraise_on_failure, fetch\u001b[38;5;241m=\u001b[39m\u001b[38;5;28;01mTrue\u001b[39;00m)\n",
      "File \u001b[0;32m~/.virtualenvs/env_83/lib/python3.8/site-packages/prefect/states.py:91\u001b[0m, in \u001b[0;36m_get_state_result\u001b[0;34m(state, raise_on_failure)\u001b[0m\n\u001b[1;32m     84\u001b[0m     \u001b[38;5;28;01mraise\u001b[39;00m UnfinishedRun(\n\u001b[1;32m     85\u001b[0m         \u001b[38;5;124mf\u001b[39m\u001b[38;5;124m\"\u001b[39m\u001b[38;5;124mRun is in \u001b[39m\u001b[38;5;132;01m{\u001b[39;00mstate\u001b[38;5;241m.\u001b[39mtype\u001b[38;5;241m.\u001b[39mname\u001b[38;5;132;01m}\u001b[39;00m\u001b[38;5;124m state, its result is not available.\u001b[39m\u001b[38;5;124m\"\u001b[39m\n\u001b[1;32m     86\u001b[0m     )\n\u001b[1;32m     88\u001b[0m \u001b[38;5;28;01mif\u001b[39;00m raise_on_failure \u001b[38;5;129;01mand\u001b[39;00m (\n\u001b[1;32m     89\u001b[0m     state\u001b[38;5;241m.\u001b[39mis_crashed() \u001b[38;5;129;01mor\u001b[39;00m state\u001b[38;5;241m.\u001b[39mis_failed() \u001b[38;5;129;01mor\u001b[39;00m state\u001b[38;5;241m.\u001b[39mis_cancelled()\n\u001b[1;32m     90\u001b[0m ):\n\u001b[0;32m---> 91\u001b[0m     \u001b[38;5;28;01mraise\u001b[39;00m \u001b[38;5;28;01mawait\u001b[39;00m get_state_exception(state)\n\u001b[1;32m     93\u001b[0m \u001b[38;5;28;01mif\u001b[39;00m \u001b[38;5;28misinstance\u001b[39m(state\u001b[38;5;241m.\u001b[39mdata, DataDocument):\n\u001b[1;32m     94\u001b[0m     result \u001b[38;5;241m=\u001b[39m result_from_state_with_data_document(\n\u001b[1;32m     95\u001b[0m         state, raise_on_failure\u001b[38;5;241m=\u001b[39mraise_on_failure\n\u001b[1;32m     96\u001b[0m     )\n",
      "File \u001b[0;32m~/.virtualenvs/env_83/lib/python3.8/site-packages/prefect/engine.py:1760\u001b[0m, in \u001b[0;36morchestrate_task_run\u001b[0;34m(task, task_run, parameters, wait_for, result_factory, log_prints, interruptible, client)\u001b[0m\n\u001b[1;32m   1753\u001b[0m         logger\u001b[38;5;241m.\u001b[39mdebug(\n\u001b[1;32m   1754\u001b[0m             \u001b[38;5;124m\"\u001b[39m\u001b[38;5;124mBeginning execution...\u001b[39m\u001b[38;5;124m\"\u001b[39m, extra\u001b[38;5;241m=\u001b[39m{\u001b[38;5;124m\"\u001b[39m\u001b[38;5;124mstate_message\u001b[39m\u001b[38;5;124m\"\u001b[39m: \u001b[38;5;28;01mTrue\u001b[39;00m}\n\u001b[1;32m   1755\u001b[0m         )\n\u001b[1;32m   1757\u001b[0m     call \u001b[38;5;241m=\u001b[39m from_async\u001b[38;5;241m.\u001b[39mcall_soon_in_new_thread(\n\u001b[1;32m   1758\u001b[0m         create_call(task\u001b[38;5;241m.\u001b[39mfn, \u001b[38;5;241m*\u001b[39margs, \u001b[38;5;241m*\u001b[39m\u001b[38;5;241m*\u001b[39mkwargs), timeout\u001b[38;5;241m=\u001b[39mtask\u001b[38;5;241m.\u001b[39mtimeout_seconds\n\u001b[1;32m   1759\u001b[0m     )\n\u001b[0;32m-> 1760\u001b[0m     result \u001b[38;5;241m=\u001b[39m \u001b[38;5;28;01mawait\u001b[39;00m call\u001b[38;5;241m.\u001b[39maresult()\n\u001b[1;32m   1762\u001b[0m \u001b[38;5;28;01mexcept\u001b[39;00m (CancelledError, asyncio\u001b[38;5;241m.\u001b[39mCancelledError) \u001b[38;5;28;01mas\u001b[39;00m exc:\n\u001b[1;32m   1763\u001b[0m     \u001b[38;5;28;01mif\u001b[39;00m \u001b[38;5;129;01mnot\u001b[39;00m call\u001b[38;5;241m.\u001b[39mtimedout():\n\u001b[1;32m   1764\u001b[0m         \u001b[38;5;66;03m# If the task call was not cancelled by us; this is a crash\u001b[39;00m\n",
      "File \u001b[0;32m~/.virtualenvs/env_83/lib/python3.8/site-packages/prefect/_internal/concurrency/calls.py:293\u001b[0m, in \u001b[0;36mCall.aresult\u001b[0;34m(self)\u001b[0m\n\u001b[1;32m    287\u001b[0m \u001b[38;5;250m\u001b[39m\u001b[38;5;124;03m\"\"\"\u001b[39;00m\n\u001b[1;32m    288\u001b[0m \u001b[38;5;124;03mWait for the result of the call.\u001b[39;00m\n\u001b[1;32m    289\u001b[0m \n\u001b[1;32m    290\u001b[0m \u001b[38;5;124;03mFor use from asynchronous contexts.\u001b[39;00m\n\u001b[1;32m    291\u001b[0m \u001b[38;5;124;03m\"\"\"\u001b[39;00m\n\u001b[1;32m    292\u001b[0m \u001b[38;5;28;01mtry\u001b[39;00m:\n\u001b[0;32m--> 293\u001b[0m     \u001b[38;5;28;01mreturn\u001b[39;00m \u001b[38;5;28;01mawait\u001b[39;00m asyncio\u001b[38;5;241m.\u001b[39mwrap_future(\u001b[38;5;28mself\u001b[39m\u001b[38;5;241m.\u001b[39mfuture)\n\u001b[1;32m    294\u001b[0m \u001b[38;5;28;01mexcept\u001b[39;00m asyncio\u001b[38;5;241m.\u001b[39mCancelledError \u001b[38;5;28;01mas\u001b[39;00m exc:\n\u001b[1;32m    295\u001b[0m     \u001b[38;5;28;01mraise\u001b[39;00m CancelledError() \u001b[38;5;28;01mfrom\u001b[39;00m \u001b[38;5;21;01mexc\u001b[39;00m\n",
      "File \u001b[0;32m~/.virtualenvs/env_83/lib/python3.8/site-packages/prefect/_internal/concurrency/calls.py:318\u001b[0m, in \u001b[0;36mCall._run_sync\u001b[0;34m(***failed resolving arguments***)\u001b[0m\n\u001b[1;32m    316\u001b[0m \u001b[38;5;28;01mwith\u001b[39;00m \u001b[38;5;28mself\u001b[39m\u001b[38;5;241m.\u001b[39mfuture\u001b[38;5;241m.\u001b[39menforce_sync_deadline() \u001b[38;5;28;01mas\u001b[39;00m cancel_scope:\n\u001b[1;32m    317\u001b[0m     \u001b[38;5;28;01mtry\u001b[39;00m:\n\u001b[0;32m--> 318\u001b[0m         result \u001b[38;5;241m=\u001b[39m \u001b[38;5;28;43mself\u001b[39;49m\u001b[38;5;241;43m.\u001b[39;49m\u001b[43mfn\u001b[49m\u001b[43m(\u001b[49m\u001b[38;5;241;43m*\u001b[39;49m\u001b[38;5;28;43mself\u001b[39;49m\u001b[38;5;241;43m.\u001b[39;49m\u001b[43margs\u001b[49m\u001b[43m,\u001b[49m\u001b[43m \u001b[49m\u001b[38;5;241;43m*\u001b[39;49m\u001b[38;5;241;43m*\u001b[39;49m\u001b[38;5;28;43mself\u001b[39;49m\u001b[38;5;241;43m.\u001b[39;49m\u001b[43mkwargs\u001b[49m\u001b[43m)\u001b[49m\n\u001b[1;32m    319\u001b[0m     \u001b[38;5;28;01mfinally\u001b[39;00m:\n\u001b[1;32m    320\u001b[0m         \u001b[38;5;66;03m# Forget this call's arguments in order to free up any memory\u001b[39;00m\n\u001b[1;32m    321\u001b[0m         \u001b[38;5;66;03m# that may be referenced by them; after a call has happened,\u001b[39;00m\n\u001b[1;32m    322\u001b[0m         \u001b[38;5;66;03m# there's no need to keep a reference to them\u001b[39;00m\n\u001b[1;32m    323\u001b[0m         \u001b[38;5;28mself\u001b[39m\u001b[38;5;241m.\u001b[39margs \u001b[38;5;241m=\u001b[39m \u001b[38;5;28;01mNone\u001b[39;00m\n",
      "File \u001b[0;32m~/work/ml_design_course/basnya_streamlit/basnya/back_fill_games.py:343\u001b[0m, in \u001b[0;36mappend_tables\u001b[0;34m(db_path, dataframe_list)\u001b[0m\n\u001b[1;32m    340\u001b[0m             origin \u001b[38;5;241m=\u001b[39m repo\u001b[38;5;241m.\u001b[39mcreate_remote(\u001b[38;5;124m'\u001b[39m\u001b[38;5;124morigin\u001b[39m\u001b[38;5;124m'\u001b[39m, remote_url)\n\u001b[1;32m    342\u001b[0m         origin \u001b[38;5;241m=\u001b[39m repo\u001b[38;5;241m.\u001b[39mremote(name\u001b[38;5;241m=\u001b[39m\u001b[38;5;124m'\u001b[39m\u001b[38;5;124morigin\u001b[39m\u001b[38;5;124m'\u001b[39m)\n\u001b[0;32m--> 343\u001b[0m         \u001b[43morigin\u001b[49m\u001b[38;5;241;43m.\u001b[39;49m\u001b[43mpush\u001b[49m\u001b[43m(\u001b[49m\u001b[43m)\u001b[49m\n\u001b[1;32m    344\u001b[0m         \u001b[38;5;28mprint\u001b[39m(\u001b[38;5;124m'\u001b[39m\u001b[38;5;124mDB basnya push in repo\u001b[39m\u001b[38;5;124m'\u001b[39m)\n\u001b[1;32m    345\u001b[0m \u001b[38;5;28;01melse\u001b[39;00m:\n",
      "File \u001b[0;32m~/.virtualenvs/env_83/lib/python3.8/site-packages/git/remote.py:1117\u001b[0m, in \u001b[0;36mRemote.push\u001b[0;34m(self, refspec, progress, kill_after_timeout, allow_unsafe_protocols, allow_unsafe_options, **kwargs)\u001b[0m\n\u001b[1;32m   1105\u001b[0m     Git\u001b[38;5;241m.\u001b[39mcheck_unsafe_options(options\u001b[38;5;241m=\u001b[39m\u001b[38;5;28mlist\u001b[39m(kwargs\u001b[38;5;241m.\u001b[39mkeys()), unsafe_options\u001b[38;5;241m=\u001b[39m\u001b[38;5;28mself\u001b[39m\u001b[38;5;241m.\u001b[39munsafe_git_push_options)\n\u001b[1;32m   1107\u001b[0m proc \u001b[38;5;241m=\u001b[39m \u001b[38;5;28mself\u001b[39m\u001b[38;5;241m.\u001b[39mrepo\u001b[38;5;241m.\u001b[39mgit\u001b[38;5;241m.\u001b[39mpush(\n\u001b[1;32m   1108\u001b[0m     \u001b[38;5;124m\"\u001b[39m\u001b[38;5;124m--\u001b[39m\u001b[38;5;124m\"\u001b[39m,\n\u001b[1;32m   1109\u001b[0m     \u001b[38;5;28mself\u001b[39m,\n\u001b[0;32m   (...)\u001b[0m\n\u001b[1;32m   1115\u001b[0m     \u001b[38;5;241m*\u001b[39m\u001b[38;5;241m*\u001b[39mkwargs,\n\u001b[1;32m   1116\u001b[0m )\n\u001b[0;32m-> 1117\u001b[0m \u001b[38;5;28;01mreturn\u001b[39;00m \u001b[38;5;28;43mself\u001b[39;49m\u001b[38;5;241;43m.\u001b[39;49m\u001b[43m_get_push_info\u001b[49m\u001b[43m(\u001b[49m\u001b[43mproc\u001b[49m\u001b[43m,\u001b[49m\u001b[43m \u001b[49m\u001b[43mprogress\u001b[49m\u001b[43m,\u001b[49m\u001b[43m \u001b[49m\u001b[43mkill_after_timeout\u001b[49m\u001b[38;5;241;43m=\u001b[39;49m\u001b[43mkill_after_timeout\u001b[49m\u001b[43m)\u001b[49m\n",
      "File \u001b[0;32m~/.virtualenvs/env_83/lib/python3.8/site-packages/git/remote.py:926\u001b[0m, in \u001b[0;36mRemote._get_push_info\u001b[0;34m(self, proc, progress, kill_after_timeout)\u001b[0m\n\u001b[1;32m    924\u001b[0m stderr_text \u001b[38;5;241m=\u001b[39m progress\u001b[38;5;241m.\u001b[39merror_lines \u001b[38;5;129;01mand\u001b[39;00m \u001b[38;5;124m\"\u001b[39m\u001b[38;5;130;01m\\n\u001b[39;00m\u001b[38;5;124m\"\u001b[39m\u001b[38;5;241m.\u001b[39mjoin(progress\u001b[38;5;241m.\u001b[39merror_lines) \u001b[38;5;129;01mor\u001b[39;00m \u001b[38;5;124m\"\u001b[39m\u001b[38;5;124m\"\u001b[39m\n\u001b[1;32m    925\u001b[0m \u001b[38;5;28;01mtry\u001b[39;00m:\n\u001b[0;32m--> 926\u001b[0m     \u001b[43mproc\u001b[49m\u001b[38;5;241;43m.\u001b[39;49m\u001b[43mwait\u001b[49m\u001b[43m(\u001b[49m\u001b[43mstderr\u001b[49m\u001b[38;5;241;43m=\u001b[39;49m\u001b[43mstderr_text\u001b[49m\u001b[43m)\u001b[49m\n\u001b[1;32m    927\u001b[0m \u001b[38;5;28;01mexcept\u001b[39;00m \u001b[38;5;167;01mException\u001b[39;00m \u001b[38;5;28;01mas\u001b[39;00m e:\n\u001b[1;32m    928\u001b[0m     \u001b[38;5;66;03m# This is different than fetch (which fails if there is any std_err\u001b[39;00m\n\u001b[1;32m    929\u001b[0m     \u001b[38;5;66;03m# even if there is an output)\u001b[39;00m\n\u001b[1;32m    930\u001b[0m     \u001b[38;5;28;01mif\u001b[39;00m \u001b[38;5;129;01mnot\u001b[39;00m output:\n",
      "File \u001b[0;32m~/.virtualenvs/env_83/lib/python3.8/site-packages/git/cmd.py:600\u001b[0m, in \u001b[0;36mGit.AutoInterrupt.wait\u001b[0;34m(self, stderr)\u001b[0m\n\u001b[1;32m    598\u001b[0m     errstr \u001b[38;5;241m=\u001b[39m read_all_from_possibly_closed_stream(p_stderr)\n\u001b[1;32m    599\u001b[0m     log\u001b[38;5;241m.\u001b[39mdebug(\u001b[38;5;124m\"\u001b[39m\u001b[38;5;124mAutoInterrupt wait stderr: \u001b[39m\u001b[38;5;132;01m%r\u001b[39;00m\u001b[38;5;124m\"\u001b[39m \u001b[38;5;241m%\u001b[39m (errstr,))\n\u001b[0;32m--> 600\u001b[0m     \u001b[38;5;28;01mraise\u001b[39;00m GitCommandError(remove_password_if_present(\u001b[38;5;28mself\u001b[39m\u001b[38;5;241m.\u001b[39margs), status, errstr)\n\u001b[1;32m    601\u001b[0m \u001b[38;5;28;01mreturn\u001b[39;00m status\n",
      "\u001b[0;31mGitCommandError\u001b[0m: Cmd('git') failed due to: exit code(128)\n  cmdline: git push --porcelain -- origin\n  stderr: 'fatal: could not read Username for 'https://github.com': No such device or address'"
     ]
    }
   ],
   "source": [
    "res = fetch_games_for_date(dt.date(2023, 12, 12))"
   ]
  },
  {
   "cell_type": "code",
   "execution_count": 3,
   "id": "a18fcf6e-5106-4802-a596-098f62681262",
   "metadata": {},
   "outputs": [
    {
     "ename": "NameError",
     "evalue": "name 'res' is not defined",
     "output_type": "error",
     "traceback": [
      "\u001b[0;31m---------------------------------------------------------------------------\u001b[0m",
      "\u001b[0;31mNameError\u001b[0m                                 Traceback (most recent call last)",
      "Cell \u001b[0;32mIn[3], line 1\u001b[0m\n\u001b[0;32m----> 1\u001b[0m \u001b[43mres\u001b[49m\u001b[38;5;66;03m#.sort_values('GAME_ID')\u001b[39;00m\n",
      "\u001b[0;31mNameError\u001b[0m: name 'res' is not defined"
     ]
    }
   ],
   "source": [
    "res#.sort_values('GAME_ID')"
   ]
  },
  {
   "cell_type": "code",
   "execution_count": 5,
   "id": "86d98308-bb41-4724-bf11-d766d4efd24d",
   "metadata": {},
   "outputs": [
    {
     "name": "stdout",
     "output_type": "stream",
     "text": [
      "calling GameFinder for 2023-12-12\n",
      "found games for this date: 5\n"
     ]
    },
    {
     "data": {
      "text/plain": [
       "['0022300305', '0022300306', '0022300307', '0022300308', '0022300309']"
      ]
     },
     "execution_count": 5,
     "metadata": {},
     "output_type": "execute_result"
    }
   ],
   "source": [
    "sorted(get_game_ids_for_date.fn(dt.date(2023, 12, 12)))"
   ]
  },
  {
   "cell_type": "markdown",
   "id": "a4ef4ca1-df75-4bd6-a28f-d745126a5796",
   "metadata": {},
   "source": [
    "# Gen tweets by stats"
   ]
  },
  {
   "cell_type": "code",
   "execution_count": 7,
   "id": "a21a7fd9-29d4-420b-b06e-bfe697fdb981",
   "metadata": {},
   "outputs": [],
   "source": [
    "from signal_indicator.resource.prompts_template import prompt\n",
    "from signal_indicator.resource.strategies import *\n",
    "from signal_indicator.resource.utils import *\n",
    "\n",
    "import logging\n",
    "import os\n",
    "from pprint import pprint\n",
    "\n",
    "DB_PATH = 'basnya.db'\n",
    "selected_game_ids = ['0022300305', '0022300306', '0022300307', '0022300308', '0022300309']"
   ]
  },
  {
   "cell_type": "code",
   "execution_count": null,
   "id": "02d380e4-47fd-4ffd-8ec2-34d529410b3a",
   "metadata": {},
   "outputs": [],
   "source": []
  },
  {
   "cell_type": "code",
   "execution_count": 8,
   "id": "5d0d01f3-4f2d-4f7e-b9d5-c5accb973402",
   "metadata": {},
   "outputs": [],
   "source": [
    "stats = StatsHolder.from_sql(db_path=DB_PATH, prompt=prompt)\n",
    "strategy_top_10 = StrategyRating(top=10, player_id_to_name_dict=stats.player_id_to_name_dict)\n",
    "stats.add_strategy(strategy_top_10)"
   ]
  },
  {
   "cell_type": "code",
   "execution_count": 11,
   "id": "1b72b792-b0ef-4f9a-b138-9b6a27e82ee9",
   "metadata": {},
   "outputs": [
    {
     "data": {
      "text/plain": [
       "{'title': \"For ['0022300305'] games\",\n",
       " 'result': [{'description': 'Top 10 players',\n",
       "   'values': {'in_top': {'MIN': [{'NAME': 'Jrue Holiday', 'COUNTRY': 'USA'},\n",
       "      {'NAME': 'Max Strus', 'COUNTRY': 'USA'},\n",
       "      {'NAME': 'Jaylen Brown', 'COUNTRY': 'USA'}],\n",
       "     'FGM': [{'NAME': 'Jaylen Brown', 'COUNTRY': 'USA'}],\n",
       "     'FGA': [{'NAME': 'Jaylen Brown', 'COUNTRY': 'USA'}],\n",
       "     'FG3M': [{'NAME': 'Jayson Tatum', 'COUNTRY': 'USA'},\n",
       "      {'NAME': 'Sam Hauser', 'COUNTRY': 'USA'}],\n",
       "     'FTM': [{'NAME': 'Jayson Tatum', 'COUNTRY': 'USA'}],\n",
       "     'FT_PCT': [{'NAME': 'Jayson Tatum', 'COUNTRY': 'USA'},\n",
       "      {'NAME': 'Derrick White', 'COUNTRY': 'USA'}],\n",
       "     'STL': [{'NAME': 'Donovan Mitchell', 'COUNTRY': 'USA'}],\n",
       "     'TO': [{'NAME': 'Jayson Tatum', 'COUNTRY': 'USA'}]},\n",
       "    'out_top': {'MIN': [{'NAME': 'Julius Randle', 'COUNTRY': 'USA'},\n",
       "      {'NAME': 'Jalen Brunson', 'COUNTRY': 'USA'},\n",
       "      {'NAME': 'Dejounte Murray', 'COUNTRY': 'USA'}],\n",
       "     'FGM': [{'NAME': 'Anthony Davis', 'COUNTRY': 'USA'}],\n",
       "     'FGA': [{'NAME': 'Kevin Durant', 'COUNTRY': 'USA'}],\n",
       "     'FG3M': [{'NAME': 'Devin Vassell', 'COUNTRY': 'USA'},\n",
       "      {'NAME': 'Tyrese Maxey', 'COUNTRY': 'USA'}],\n",
       "     'FTM': [{'NAME': 'Devin Booker', 'COUNTRY': 'USA'}],\n",
       "     'FT_PCT': [{'NAME': 'Joel Embiid', 'COUNTRY': 'Cameroon'},\n",
       "      {'NAME': 'Tyrese Maxey', 'COUNTRY': 'USA'}],\n",
       "     'STL': [{'NAME': 'Scottie Barnes', 'COUNTRY': 'USA'}],\n",
       "     'TO': [{'NAME': 'Victor Wembanyama', 'COUNTRY': 'France'}]}}}]}"
      ]
     },
     "execution_count": 11,
     "metadata": {},
     "output_type": "execute_result"
    }
   ],
   "source": [
    "stats.run_strategies(selected_game_ids=selected_game_ids[:1])"
   ]
  },
  {
   "cell_type": "code",
   "execution_count": 13,
   "id": "0c057cb6-5e51-446a-aade-40a60a7d36d1",
   "metadata": {},
   "outputs": [
    {
     "data": {
      "text/plain": [
       "[Tweet(game_id=None, player_id=None, tweet_text=\"\\n🚨🏀🔥 The top 10 players in the league have been announced and it's 🔝🔥! Congrats to all the players who made it in, especially 🇺🇸's own LeBron James and Stephen Curry. But let's not forget about the players who dropped out, keep grinding 💪 and you'll make it back in next time! #NBA #Top10 #Basketball 🏀🔝🔥\", tweet_type=<TweetType.RATING_CHANGE_SEASON_SUM: 'rating_change_season_sum'>)]"
      ]
     },
     "execution_count": 13,
     "metadata": {},
     "output_type": "execute_result"
    }
   ],
   "source": [
    "# openai.api_key  = os.getenv('OPENAI_API_KEY')\n",
    "stats.get_tweets(selected_game_ids=selected_game_ids)"
   ]
  },
  {
   "cell_type": "code",
   "execution_count": null,
   "id": "63b96848-537b-4c5e-bb53-0ddce1f8c5d7",
   "metadata": {},
   "outputs": [],
   "source": []
  },
  {
   "cell_type": "code",
   "execution_count": 31,
   "id": "619a89e4-3d08-4a0d-af6e-4a3a7a4bd2d2",
   "metadata": {},
   "outputs": [
    {
     "name": "stderr",
     "output_type": "stream",
     "text": [
      "100%|█████████████████████████████████████████████| 5/5 [00:01<00:00,  3.07it/s]\n",
      "100%|█████████████████████████████████████████████| 1/1 [00:00<00:00,  1.13it/s]\n",
      "0it [00:00, ?it/s]\n"
     ]
    }
   ],
   "source": [
    "# strategy_top_100 = StrategyRating(top=100, playerID2name=stats.playerId2name)\n",
    "strategy_top_50 = StrategyRating(top=50, playerID2name=stats.playerId2name)\n",
    "# strategy_top_10= StrategyRating(top=10, playerID2name=stats.playerId2name)\n",
    "# stats.add_strategy(strategy_top_10)\n",
    "stats.add_strategy(strategy_top_50)\n",
    "# # stats.add_strategy(strategy_top_100)\n",
    "# # result signal\n",
    "twits_signal = stats.get_twits(N_last_game=5)\n",
    "\n",
    "for twit in twits_signal:\n",
    "    print('===============================================================================================')\n",
    "    pprint(twit)"
   ]
  },
  {
   "cell_type": "code",
   "execution_count": null,
   "id": "1e7918ce-3f79-423e-8b1d-b52e9c03bf58",
   "metadata": {},
   "outputs": [],
   "source": []
  },
  {
   "cell_type": "markdown",
   "id": "0d49b2ef-92e2-4dad-9bc9-01c6dfa51f22",
   "metadata": {},
   "source": [
    "# Gen tweets by AD"
   ]
  },
  {
   "cell_type": "code",
   "execution_count": 19,
   "id": "6bbb2672-e7e3-468d-8846-4180614467f4",
   "metadata": {},
   "outputs": [],
   "source": [
    "from anomaly.resource.utils import AnomalyCalculation"
   ]
  },
  {
   "cell_type": "code",
   "execution_count": 29,
   "id": "3e128768-c1f2-4df0-b979-0b48c5fa73fd",
   "metadata": {},
   "outputs": [],
   "source": [
    "anomaly = AnomalyCalculation(db_path=DB_PATH, path_model_weights='isolation_forest_model_2021-10-19_2023-10-23.joblib')"
   ]
  },
  {
   "cell_type": "code",
   "execution_count": 37,
   "id": "0d833900-8591-4824-823a-6899edc155b1",
   "metadata": {},
   "outputs": [
    {
     "name": "stderr",
     "output_type": "stream",
     "text": [
      "X does not have valid feature names, but StandardScaler was fitted with feature names\n",
      "X does not have valid feature names, but StandardScaler was fitted with feature names\n"
     ]
    },
    {
     "name": "stdout",
     "output_type": "stream",
     "text": [
      "use analog: False\n"
     ]
    },
    {
     "data": {
      "text/plain": [
       "[Tweet(game_id=None, player_id=None, tweet_text=\"\\n    Luka Doncic is a beast on the court! With 17 assists and 33 points, he led Dallas to victory. And let's not forget his 12 made shots and 10 three-point attempts. Simply incredible. #MVP #Dallas #Basketball\", tweet_type=<TweetType.ANOMALY_UNIQUE: 'anomaly_unique'>)]"
      ]
     },
     "execution_count": 37,
     "metadata": {},
     "output_type": "execute_result"
    }
   ],
   "source": [
    "tweets_anomaly = anomaly.get_tweets(selected_game_ids=selected_game_ids)\n",
    "tweets_anomaly"
   ]
  },
  {
   "cell_type": "code",
   "execution_count": 33,
   "id": "bccda9f5-6145-413a-a3c4-016b5fb7f93d",
   "metadata": {},
   "outputs": [
    {
     "name": "stdout",
     "output_type": "stream",
     "text": [
      "> \u001b[0;32m/home/noone/.virtualenvs/env_83/lib/python3.8/site-packages/shap/explainers/_tree.py\u001b[0m(1133)\u001b[0;36m__init__\u001b[0;34m()\u001b[0m\n",
      "\u001b[0;32m   1131 \u001b[0;31m            \u001b[0mself\u001b[0m\u001b[0;34m.\u001b[0m\u001b[0mbase_offset\u001b[0m \u001b[0;34m=\u001b[0m \u001b[0mmodel\u001b[0m\u001b[0;34m.\u001b[0m\u001b[0minit_params\u001b[0m\u001b[0;34m[\u001b[0m\u001b[0mparam_idx\u001b[0m\u001b[0;34m]\u001b[0m\u001b[0;34m\u001b[0m\u001b[0;34m\u001b[0m\u001b[0m\n",
      "\u001b[0m\u001b[0;32m   1132 \u001b[0;31m        \u001b[0;32melse\u001b[0m\u001b[0;34m:\u001b[0m\u001b[0;34m\u001b[0m\u001b[0;34m\u001b[0m\u001b[0m\n",
      "\u001b[0m\u001b[0;32m-> 1133 \u001b[0;31m            \u001b[0;32mraise\u001b[0m \u001b[0mInvalidModelError\u001b[0m\u001b[0;34m(\u001b[0m\u001b[0;34m\"Model type not yet supported by TreeExplainer: \"\u001b[0m \u001b[0;34m+\u001b[0m \u001b[0mstr\u001b[0m\u001b[0;34m(\u001b[0m\u001b[0mtype\u001b[0m\u001b[0;34m(\u001b[0m\u001b[0mmodel\u001b[0m\u001b[0;34m)\u001b[0m\u001b[0;34m)\u001b[0m\u001b[0;34m)\u001b[0m\u001b[0;34m\u001b[0m\u001b[0;34m\u001b[0m\u001b[0m\n",
      "\u001b[0m\u001b[0;32m   1134 \u001b[0;31m\u001b[0;34m\u001b[0m\u001b[0m\n",
      "\u001b[0m\u001b[0;32m   1135 \u001b[0;31m        \u001b[0;31m# build a dense numpy version of all the tree objects\u001b[0m\u001b[0;34m\u001b[0m\u001b[0;34m\u001b[0m\u001b[0;34m\u001b[0m\u001b[0m\n",
      "\u001b[0m\n"
     ]
    },
    {
     "name": "stdin",
     "output_type": "stream",
     "text": [
      "ipdb>  u\n"
     ]
    },
    {
     "name": "stdout",
     "output_type": "stream",
     "text": [
      "> \u001b[0;32m/home/noone/.virtualenvs/env_83/lib/python3.8/site-packages/shap/explainers/_tree.py\u001b[0m(166)\u001b[0;36m__init__\u001b[0;34m()\u001b[0m\n",
      "\u001b[0;32m    164 \u001b[0;31m        \u001b[0mself\u001b[0m\u001b[0;34m.\u001b[0m\u001b[0mfeature_perturbation\u001b[0m \u001b[0;34m=\u001b[0m \u001b[0mfeature_perturbation\u001b[0m\u001b[0;34m\u001b[0m\u001b[0;34m\u001b[0m\u001b[0m\n",
      "\u001b[0m\u001b[0;32m    165 \u001b[0;31m        \u001b[0mself\u001b[0m\u001b[0;34m.\u001b[0m\u001b[0mexpected_value\u001b[0m \u001b[0;34m=\u001b[0m \u001b[0;32mNone\u001b[0m\u001b[0;34m\u001b[0m\u001b[0;34m\u001b[0m\u001b[0m\n",
      "\u001b[0m\u001b[0;32m--> 166 \u001b[0;31m        \u001b[0mself\u001b[0m\u001b[0;34m.\u001b[0m\u001b[0mmodel\u001b[0m \u001b[0;34m=\u001b[0m \u001b[0mTreeEnsemble\u001b[0m\u001b[0;34m(\u001b[0m\u001b[0mmodel\u001b[0m\u001b[0;34m,\u001b[0m \u001b[0mself\u001b[0m\u001b[0;34m.\u001b[0m\u001b[0mdata\u001b[0m\u001b[0;34m,\u001b[0m \u001b[0mself\u001b[0m\u001b[0;34m.\u001b[0m\u001b[0mdata_missing\u001b[0m\u001b[0;34m,\u001b[0m \u001b[0mmodel_output\u001b[0m\u001b[0;34m)\u001b[0m\u001b[0;34m\u001b[0m\u001b[0;34m\u001b[0m\u001b[0m\n",
      "\u001b[0m\u001b[0;32m    167 \u001b[0;31m        \u001b[0mself\u001b[0m\u001b[0;34m.\u001b[0m\u001b[0mmodel_output\u001b[0m \u001b[0;34m=\u001b[0m \u001b[0mmodel_output\u001b[0m\u001b[0;34m\u001b[0m\u001b[0;34m\u001b[0m\u001b[0m\n",
      "\u001b[0m\u001b[0;32m    168 \u001b[0;31m        \u001b[0;31m#self.model_output = self.model.model_output # this allows the TreeEnsemble to translate model outputs types by how it loads the model\u001b[0m\u001b[0;34m\u001b[0m\u001b[0;34m\u001b[0m\u001b[0;34m\u001b[0m\u001b[0m\n",
      "\u001b[0m\n"
     ]
    },
    {
     "name": "stdin",
     "output_type": "stream",
     "text": [
      "ipdb>  model\n"
     ]
    },
    {
     "name": "stdout",
     "output_type": "stream",
     "text": [
      "Pipeline(steps=[('scaler', StandardScaler()),\n",
      "                ('isolation_forest',\n",
      "                 IsolationForest(contamination=0.01, random_state=42))])\n"
     ]
    },
    {
     "name": "stdin",
     "output_type": "stream",
     "text": [
      "ipdb>  dir(model.steps)\n"
     ]
    },
    {
     "name": "stdout",
     "output_type": "stream",
     "text": [
      "['__add__', '__class__', '__contains__', '__delattr__', '__delitem__', '__dir__', '__doc__', '__eq__', '__format__', '__ge__', '__getattribute__', '__getitem__', '__gt__', '__hash__', '__iadd__', '__imul__', '__init__', '__init_subclass__', '__iter__', '__le__', '__len__', '__lt__', '__mul__', '__ne__', '__new__', '__reduce__', '__reduce_ex__', '__repr__', '__reversed__', '__rmul__', '__setattr__', '__setitem__', '__sizeof__', '__str__', '__subclasshook__', 'append', 'clear', 'copy', 'count', 'extend', 'index', 'insert', 'pop', 'remove', 'reverse', 'sort']\n"
     ]
    },
    {
     "name": "stdin",
     "output_type": "stream",
     "text": [
      "ipdb>  q\n"
     ]
    }
   ],
   "source": [
    "%debug"
   ]
  },
  {
   "cell_type": "code",
   "execution_count": null,
   "id": "f3decd1b-dccc-4de0-b309-6b267a2bbafe",
   "metadata": {},
   "outputs": [],
   "source": []
  },
  {
   "cell_type": "code",
   "execution_count": null,
   "id": "64f3af6d-6f2a-46e5-8916-e8fd0217ec00",
   "metadata": {},
   "outputs": [],
   "source": []
  },
  {
   "cell_type": "code",
   "execution_count": null,
   "id": "cd2fd3f9-5fc2-4636-a14a-cbba2da63640",
   "metadata": {},
   "outputs": [],
   "source": []
  },
  {
   "cell_type": "code",
   "execution_count": null,
   "id": "d71b8d04-4527-42e2-b474-e32b5df33a50",
   "metadata": {},
   "outputs": [],
   "source": []
  }
 ],
 "metadata": {
  "kernelspec": {
   "display_name": "Python 3 (ipykernel)",
   "language": "python",
   "name": "python3"
  },
  "language_info": {
   "codemirror_mode": {
    "name": "ipython",
    "version": 3
   },
   "file_extension": ".py",
   "mimetype": "text/x-python",
   "name": "python",
   "nbconvert_exporter": "python",
   "pygments_lexer": "ipython3",
   "version": "3.8.18"
  }
 },
 "nbformat": 4,
 "nbformat_minor": 5
}
