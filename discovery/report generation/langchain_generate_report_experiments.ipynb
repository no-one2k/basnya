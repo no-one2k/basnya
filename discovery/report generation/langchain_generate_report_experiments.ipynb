{
 "cells": [
  {
   "cell_type": "code",
   "execution_count": 1,
   "metadata": {},
   "outputs": [],
   "source": [
    "import os \n",
    "import json \n",
    "\n",
    "from dotenv import load_dotenv\n",
    "import openai\n",
    "import pandas as pd\n",
    "from tqdm import tqdm\n",
    "\n",
    "load_dotenv('openai.env')\n",
    "openai.api_key  = os.getenv('OPENAI_API_KEY')"
   ]
  },
  {
   "cell_type": "markdown",
   "metadata": {},
   "source": [
    "### utils"
   ]
  },
  {
   "cell_type": "code",
   "execution_count": 3,
   "metadata": {},
   "outputs": [],
   "source": [
    "def get_completion(prompt: str, model=\"gpt-3.5-turbo\") -> str:\n",
    "    \n",
    "    \"\"\"\n",
    "    Get a response to the prompt\n",
    "    Args:\n",
    "       prompt: instructions\n",
    "    return:\n",
    "        response to instructions\n",
    "    \"\"\"\n",
    "\n",
    "    messages = [{\"role\": \"user\", \"content\": prompt}]\n",
    "    response = openai.ChatCompletion.create(\n",
    "        model=model,\n",
    "        messages=messages,\n",
    "        temperature=0.7, # this is the degree of randomness of the model's output\n",
    "    )\n",
    "    return response.choices[0].message[\"content\"]\n",
    "\n",
    "def get_sample(df: pd.DataFrame, sample_size=50) -> str:\n",
    "    \"\"\"\n",
    "    Breakdown of data into individual samples\n",
    "    Args:\n",
    "        df: data\n",
    "        sample_size: sample size\n",
    "    return table in .csv format\n",
    "    \"\"\"\n",
    "    length = df.shape[0]\n",
    "    chunk_size = length // sample_size\n",
    "    remainder = df.shape[0] % sample_size\n",
    "    start = 0\n",
    "    \n",
    "    for i in range(sample_size):\n",
    "        end = start + chunk_size \n",
    "        if i < remainder:\n",
    "            end += 1\n",
    "        yield df.iloc[start:end, :].to_csv()\n",
    "        start = end"
   ]
  },
  {
   "cell_type": "markdown",
   "metadata": {},
   "source": [
    "### data processing"
   ]
  },
  {
   "cell_type": "markdown",
   "metadata": {},
   "source": [
    "#### Extract data and reduce table"
   ]
  },
  {
   "cell_type": "code",
   "execution_count": 6,
   "metadata": {},
   "outputs": [
    {
     "name": "stderr",
     "output_type": "stream",
     "text": [
      "  0%|          | 0/20 [00:00<?, ?it/s]"
     ]
    },
    {
     "name": "stderr",
     "output_type": "stream",
     "text": [
      "100%|██████████| 20/20 [12:03<00:00, 36.18s/it]\n"
     ]
    }
   ],
   "source": [
    "df = pd.read_csv('playbyplayv2_0012000001.csv')\n",
    "sample_size = 20\n",
    "\n",
    "samples_generator = get_sample(df=df, sample_size=sample_size)\n",
    "\n",
    "prompt =\"\"\"\n",
    "You are a professional observer of a basketball game. You always find interesting moments in the data, highlight special moments.\n",
    "You are given a table in the format .csv:\n",
    "{text}\n",
    "\n",
    "Highlight the most interesting points by reducing the size of the table \\\n",
    "    by at least three times. Then describe these points as a professional \\\n",
    "        observer. In the end give only your overview\n",
    "The data should be in the following format:\n",
    "{{\n",
    "    \"source\": This should be the most important data from the table. There should always be a field \"PERIOD\"\n",
    "    \"report\" should be your review of this data. Start the report with a list of important events\n",
    "}}\n",
    "\n",
    "\"\"\"\n",
    "\n",
    "processed_data = list()\n",
    "for table in tqdm(samples_generator, total = sample_size ):\n",
    "    prompt_for_model = prompt.format(text=table)\n",
    "    res = get_completion(prompt_for_model, model=\"gpt-3.5-turbo\")\n",
    "    processed_data.append(res)\n",
    "    \n",
    "    "
   ]
  },
  {
   "cell_type": "markdown",
   "metadata": {},
   "source": []
  },
  {
   "cell_type": "code",
   "execution_count": 9,
   "metadata": {},
   "outputs": [],
   "source": [
    "with open('output.json', 'w') as f:\n",
    "    f.write(json.dumps(processed_data))\n"
   ]
  },
  {
   "cell_type": "code",
   "execution_count": null,
   "metadata": {},
   "outputs": [],
   "source": []
  }
 ],
 "metadata": {
  "kernelspec": {
   "display_name": "Python 3",
   "language": "python",
   "name": "python3"
  },
  "language_info": {
   "codemirror_mode": {
    "name": "ipython",
    "version": 3
   },
   "file_extension": ".py",
   "mimetype": "text/x-python",
   "name": "python",
   "nbconvert_exporter": "python",
   "pygments_lexer": "ipython3",
   "version": "3.9.13"
  },
  "orig_nbformat": 4
 },
 "nbformat": 4,
 "nbformat_minor": 2
}
