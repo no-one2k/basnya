{
 "cells": [
  {
   "cell_type": "code",
   "execution_count": 1,
   "id": "723e9b54-1611-4e6a-8bd6-ad1e121368e4",
   "metadata": {},
   "outputs": [],
   "source": [
    "# %pip install -U prefect"
   ]
  },
  {
   "cell_type": "code",
   "execution_count": 2,
   "id": "8ec892ca-770d-4ccd-90a2-b6f9f9ddc059",
   "metadata": {},
   "outputs": [
    {
     "name": "stderr",
     "output_type": "stream",
     "text": [
      "Using `tqdm.autonotebook.tqdm` in notebook mode. Use `tqdm.tqdm` instead to force console mode (e.g. in jupyter console)\n"
     ]
    }
   ],
   "source": [
    "import os\n",
    "import shap\n",
    "import pandas as pd\n",
    "import numpy as np\n",
    "import time\n",
    "from typing import Optional, List, Dict\n",
    "import sqlite3\n",
    "from collections import defaultdict\n",
    "from prefect import task, flow\n",
    "from nba_api.stats.static import teams, players\n",
    "from nba_api.stats.endpoints import leaguegamefinder, boxscoresummaryv2, boxscoretraditionalv2, playerprofilev2, playerindex, playercareerstats, commonplayerinfo\n",
    "pd.set_option('display.max_columns', None)\n",
    "pd.set_option('display.max_rows', 100)"
   ]
  },
  {
   "cell_type": "code",
   "execution_count": 3,
   "id": "85abd4fa-9861-4d5c-9d3c-0ae5ab4b1f78",
   "metadata": {},
   "outputs": [
    {
     "data": {
      "text/html": [
       "<pre style=\"white-space:pre;overflow-x:auto;line-height:normal;font-family:Menlo,'DejaVu Sans Mono',consolas,'Courier New',monospace\">19:55:48.901 | <span style=\"color: #008080; text-decoration-color: #008080\">INFO</span>    | prefect.engine - Created flow run<span style=\"color: #800080; text-decoration-color: #800080\"> 'petite-dingo'</span> for flow<span style=\"color: #800080; text-decoration-color: #800080; font-weight: bold\"> 'backfill-games'</span>\n",
       "</pre>\n"
      ],
      "text/plain": [
       "19:55:48.901 | \u001b[36mINFO\u001b[0m    | prefect.engine - Created flow run\u001b[35m 'petite-dingo'\u001b[0m for flow\u001b[1;35m 'backfill-games'\u001b[0m\n"
      ]
     },
     "metadata": {},
     "output_type": "display_data"
    },
    {
     "data": {
      "text/html": [
       "<pre style=\"white-space:pre;overflow-x:auto;line-height:normal;font-family:Menlo,'DejaVu Sans Mono',consolas,'Courier New',monospace\">19:55:49.032 | <span style=\"color: #008080; text-decoration-color: #008080\">INFO</span>    | Flow run<span style=\"color: #800080; text-decoration-color: #800080\"> 'petite-dingo'</span> - Created task run 'get_db_path-0' for task 'get_db_path'\n",
       "</pre>\n"
      ],
      "text/plain": [
       "19:55:49.032 | \u001b[36mINFO\u001b[0m    | Flow run\u001b[35m 'petite-dingo'\u001b[0m - Created task run 'get_db_path-0' for task 'get_db_path'\n"
      ]
     },
     "metadata": {},
     "output_type": "display_data"
    },
    {
     "data": {
      "text/html": [
       "<pre style=\"white-space:pre;overflow-x:auto;line-height:normal;font-family:Menlo,'DejaVu Sans Mono',consolas,'Courier New',monospace\">19:55:49.033 | <span style=\"color: #008080; text-decoration-color: #008080\">INFO</span>    | Flow run<span style=\"color: #800080; text-decoration-color: #800080\"> 'petite-dingo'</span> - Executing 'get_db_path-0' immediately...\n",
       "</pre>\n"
      ],
      "text/plain": [
       "19:55:49.033 | \u001b[36mINFO\u001b[0m    | Flow run\u001b[35m 'petite-dingo'\u001b[0m - Executing 'get_db_path-0' immediately...\n"
      ]
     },
     "metadata": {},
     "output_type": "display_data"
    },
    {
     "data": {
      "text/html": [
       "<pre style=\"white-space:pre;overflow-x:auto;line-height:normal;font-family:Menlo,'DejaVu Sans Mono',consolas,'Courier New',monospace\">19:55:49.085 | <span style=\"color: #008080; text-decoration-color: #008080\">INFO</span>    | Task run 'get_db_path-0' - DB path: '../../../data/basnya.db'\n",
       "</pre>\n"
      ],
      "text/plain": [
       "19:55:49.085 | \u001b[36mINFO\u001b[0m    | Task run 'get_db_path-0' - DB path: '../../../data/basnya.db'\n"
      ]
     },
     "metadata": {},
     "output_type": "display_data"
    },
    {
     "data": {
      "text/html": [
       "<pre style=\"white-space:pre;overflow-x:auto;line-height:normal;font-family:Menlo,'DejaVu Sans Mono',consolas,'Courier New',monospace\">19:55:49.123 | <span style=\"color: #008080; text-decoration-color: #008080\">INFO</span>    | Task run 'get_db_path-0' - Finished in state <span style=\"color: #008000; text-decoration-color: #008000\">Completed</span>()\n",
       "</pre>\n"
      ],
      "text/plain": [
       "19:55:49.123 | \u001b[36mINFO\u001b[0m    | Task run 'get_db_path-0' - Finished in state \u001b[32mCompleted\u001b[0m()\n"
      ]
     },
     "metadata": {},
     "output_type": "display_data"
    },
    {
     "data": {
      "text/html": [
       "<pre style=\"white-space:pre;overflow-x:auto;line-height:normal;font-family:Menlo,'DejaVu Sans Mono',consolas,'Courier New',monospace\">19:55:49.155 | <span style=\"color: #008080; text-decoration-color: #008080\">INFO</span>    | Flow run<span style=\"color: #800080; text-decoration-color: #800080\"> 'petite-dingo'</span> - Created task run 'get_latest_game-0' for task 'get_latest_game'\n",
       "</pre>\n"
      ],
      "text/plain": [
       "19:55:49.155 | \u001b[36mINFO\u001b[0m    | Flow run\u001b[35m 'petite-dingo'\u001b[0m - Created task run 'get_latest_game-0' for task 'get_latest_game'\n"
      ]
     },
     "metadata": {},
     "output_type": "display_data"
    },
    {
     "data": {
      "text/html": [
       "<pre style=\"white-space:pre;overflow-x:auto;line-height:normal;font-family:Menlo,'DejaVu Sans Mono',consolas,'Courier New',monospace\">19:55:49.157 | <span style=\"color: #008080; text-decoration-color: #008080\">INFO</span>    | Flow run<span style=\"color: #800080; text-decoration-color: #800080\"> 'petite-dingo'</span> - Executing 'get_latest_game-0' immediately...\n",
       "</pre>\n"
      ],
      "text/plain": [
       "19:55:49.157 | \u001b[36mINFO\u001b[0m    | Flow run\u001b[35m 'petite-dingo'\u001b[0m - Executing 'get_latest_game-0' immediately...\n"
      ]
     },
     "metadata": {},
     "output_type": "display_data"
    },
    {
     "data": {
      "text/html": [
       "<pre style=\"white-space:pre;overflow-x:auto;line-height:normal;font-family:Menlo,'DejaVu Sans Mono',consolas,'Courier New',monospace\">19:55:49.213 | <span style=\"color: #008080; text-decoration-color: #008080\">INFO</span>    | Task run 'get_latest_game-0' - Found games on latest date of '2022-06-16T00:00:00': 1\n",
       "</pre>\n"
      ],
      "text/plain": [
       "19:55:49.213 | \u001b[36mINFO\u001b[0m    | Task run 'get_latest_game-0' - Found games on latest date of '2022-06-16T00:00:00': 1\n"
      ]
     },
     "metadata": {},
     "output_type": "display_data"
    },
    {
     "data": {
      "text/html": [
       "<pre style=\"white-space:pre;overflow-x:auto;line-height:normal;font-family:Menlo,'DejaVu Sans Mono',consolas,'Courier New',monospace\">19:55:49.258 | <span style=\"color: #008080; text-decoration-color: #008080\">INFO</span>    | Task run 'get_latest_game-0' - Finished in state <span style=\"color: #008000; text-decoration-color: #008000\">Completed</span>()\n",
       "</pre>\n"
      ],
      "text/plain": [
       "19:55:49.258 | \u001b[36mINFO\u001b[0m    | Task run 'get_latest_game-0' - Finished in state \u001b[32mCompleted\u001b[0m()\n"
      ]
     },
     "metadata": {},
     "output_type": "display_data"
    },
    {
     "data": {
      "text/html": [
       "<pre style=\"white-space:pre;overflow-x:auto;line-height:normal;font-family:Menlo,'DejaVu Sans Mono',consolas,'Courier New',monospace\">19:55:49.291 | <span style=\"color: #008080; text-decoration-color: #008080\">INFO</span>    | Flow run<span style=\"color: #800080; text-decoration-color: #800080\"> 'petite-dingo'</span> - Created task run 'get_current_players-0' for task 'get_current_players'\n",
       "</pre>\n"
      ],
      "text/plain": [
       "19:55:49.291 | \u001b[36mINFO\u001b[0m    | Flow run\u001b[35m 'petite-dingo'\u001b[0m - Created task run 'get_current_players-0' for task 'get_current_players'\n"
      ]
     },
     "metadata": {},
     "output_type": "display_data"
    },
    {
     "data": {
      "text/html": [
       "<pre style=\"white-space:pre;overflow-x:auto;line-height:normal;font-family:Menlo,'DejaVu Sans Mono',consolas,'Courier New',monospace\">19:55:49.294 | <span style=\"color: #008080; text-decoration-color: #008080\">INFO</span>    | Flow run<span style=\"color: #800080; text-decoration-color: #800080\"> 'petite-dingo'</span> - Executing 'get_current_players-0' immediately...\n",
       "</pre>\n"
      ],
      "text/plain": [
       "19:55:49.294 | \u001b[36mINFO\u001b[0m    | Flow run\u001b[35m 'petite-dingo'\u001b[0m - Executing 'get_current_players-0' immediately...\n"
      ]
     },
     "metadata": {},
     "output_type": "display_data"
    },
    {
     "data": {
      "text/html": [
       "<pre style=\"white-space:pre;overflow-x:auto;line-height:normal;font-family:Menlo,'DejaVu Sans Mono',consolas,'Courier New',monospace\">19:55:49.375 | <span style=\"color: #008080; text-decoration-color: #008080\">INFO</span>    | Task run 'get_current_players-0' - Found players: 4815\n",
       "</pre>\n"
      ],
      "text/plain": [
       "19:55:49.375 | \u001b[36mINFO\u001b[0m    | Task run 'get_current_players-0' - Found players: 4815\n"
      ]
     },
     "metadata": {},
     "output_type": "display_data"
    },
    {
     "data": {
      "text/html": [
       "<pre style=\"white-space:pre;overflow-x:auto;line-height:normal;font-family:Menlo,'DejaVu Sans Mono',consolas,'Courier New',monospace\">19:55:49.413 | <span style=\"color: #008080; text-decoration-color: #008080\">INFO</span>    | Task run 'get_current_players-0' - Finished in state <span style=\"color: #008000; text-decoration-color: #008000\">Completed</span>()\n",
       "</pre>\n"
      ],
      "text/plain": [
       "19:55:49.413 | \u001b[36mINFO\u001b[0m    | Task run 'get_current_players-0' - Finished in state \u001b[32mCompleted\u001b[0m()\n"
      ]
     },
     "metadata": {},
     "output_type": "display_data"
    },
    {
     "data": {
      "text/html": [
       "<pre style=\"white-space:pre;overflow-x:auto;line-height:normal;font-family:Menlo,'DejaVu Sans Mono',consolas,'Courier New',monospace\">19:55:49.513 | <span style=\"color: #008080; text-decoration-color: #008080\">INFO</span>    | Flow run<span style=\"color: #800080; text-decoration-color: #800080\"> 'petite-dingo'</span> - Created subflow run<span style=\"color: #800080; text-decoration-color: #800080\"> 'funny-nightingale'</span> for flow<span style=\"color: #800080; text-decoration-color: #800080; font-weight: bold\"> 'get-games-ids-to-append'</span>\n",
       "</pre>\n"
      ],
      "text/plain": [
       "19:55:49.513 | \u001b[36mINFO\u001b[0m    | Flow run\u001b[35m 'petite-dingo'\u001b[0m - Created subflow run\u001b[35m 'funny-nightingale'\u001b[0m for flow\u001b[1;35m 'get-games-ids-to-append'\u001b[0m\n"
      ]
     },
     "metadata": {},
     "output_type": "display_data"
    },
    {
     "data": {
      "text/html": [
       "<pre style=\"white-space:pre;overflow-x:auto;line-height:normal;font-family:Menlo,'DejaVu Sans Mono',consolas,'Courier New',monospace\">19:55:49.594 | <span style=\"color: #008080; text-decoration-color: #008080\">INFO</span>    | Flow run<span style=\"color: #800080; text-decoration-color: #800080\"> 'funny-nightingale'</span> - Created task run 'get_games_by_ids-0' for task 'get_games_by_ids'\n",
       "</pre>\n"
      ],
      "text/plain": [
       "19:55:49.594 | \u001b[36mINFO\u001b[0m    | Flow run\u001b[35m 'funny-nightingale'\u001b[0m - Created task run 'get_games_by_ids-0' for task 'get_games_by_ids'\n"
      ]
     },
     "metadata": {},
     "output_type": "display_data"
    },
    {
     "data": {
      "text/html": [
       "<pre style=\"white-space:pre;overflow-x:auto;line-height:normal;font-family:Menlo,'DejaVu Sans Mono',consolas,'Courier New',monospace\">19:55:49.596 | <span style=\"color: #008080; text-decoration-color: #008080\">INFO</span>    | Flow run<span style=\"color: #800080; text-decoration-color: #800080\"> 'funny-nightingale'</span> - Executing 'get_games_by_ids-0' immediately...\n",
       "</pre>\n"
      ],
      "text/plain": [
       "19:55:49.596 | \u001b[36mINFO\u001b[0m    | Flow run\u001b[35m 'funny-nightingale'\u001b[0m - Executing 'get_games_by_ids-0' immediately...\n"
      ]
     },
     "metadata": {},
     "output_type": "display_data"
    },
    {
     "data": {
      "text/html": [
       "<pre style=\"white-space:pre;overflow-x:auto;line-height:normal;font-family:Menlo,'DejaVu Sans Mono',consolas,'Courier New',monospace\">19:55:51.288 | <span style=\"color: #008080; text-decoration-color: #008080\">INFO</span>    | Task run 'get_games_by_ids-0' - Finished in state <span style=\"color: #008000; text-decoration-color: #008000\">Completed</span>()\n",
       "</pre>\n"
      ],
      "text/plain": [
       "19:55:51.288 | \u001b[36mINFO\u001b[0m    | Task run 'get_games_by_ids-0' - Finished in state \u001b[32mCompleted\u001b[0m()\n"
      ]
     },
     "metadata": {},
     "output_type": "display_data"
    },
    {
     "data": {
      "text/html": [
       "<pre style=\"white-space:pre;overflow-x:auto;line-height:normal;font-family:Menlo,'DejaVu Sans Mono',consolas,'Courier New',monospace\">19:55:51.294 | <span style=\"color: #008080; text-decoration-color: #008080\">INFO</span>    | Flow run<span style=\"color: #800080; text-decoration-color: #800080\"> 'funny-nightingale'</span> - earching for games from 06/16/2022 to 10/18/2022\n",
       "</pre>\n"
      ],
      "text/plain": [
       "19:55:51.294 | \u001b[36mINFO\u001b[0m    | Flow run\u001b[35m 'funny-nightingale'\u001b[0m - earching for games from 06/16/2022 to 10/18/2022\n"
      ]
     },
     "metadata": {},
     "output_type": "display_data"
    },
    {
     "data": {
      "text/html": [
       "<pre style=\"white-space:pre;overflow-x:auto;line-height:normal;font-family:Menlo,'DejaVu Sans Mono',consolas,'Courier New',monospace\">19:55:51.336 | <span style=\"color: #008080; text-decoration-color: #008080\">INFO</span>    | Flow run<span style=\"color: #800080; text-decoration-color: #800080\"> 'funny-nightingale'</span> - Created task run 'get_games_from_to-0' for task 'get_games_from_to'\n",
       "</pre>\n"
      ],
      "text/plain": [
       "19:55:51.336 | \u001b[36mINFO\u001b[0m    | Flow run\u001b[35m 'funny-nightingale'\u001b[0m - Created task run 'get_games_from_to-0' for task 'get_games_from_to'\n"
      ]
     },
     "metadata": {},
     "output_type": "display_data"
    },
    {
     "data": {
      "text/html": [
       "<pre style=\"white-space:pre;overflow-x:auto;line-height:normal;font-family:Menlo,'DejaVu Sans Mono',consolas,'Courier New',monospace\">19:55:51.339 | <span style=\"color: #008080; text-decoration-color: #008080\">INFO</span>    | Flow run<span style=\"color: #800080; text-decoration-color: #800080\"> 'funny-nightingale'</span> - Executing 'get_games_from_to-0' immediately...\n",
       "</pre>\n"
      ],
      "text/plain": [
       "19:55:51.339 | \u001b[36mINFO\u001b[0m    | Flow run\u001b[35m 'funny-nightingale'\u001b[0m - Executing 'get_games_from_to-0' immediately...\n"
      ]
     },
     "metadata": {},
     "output_type": "display_data"
    },
    {
     "data": {
      "text/html": [
       "<pre style=\"white-space:pre;overflow-x:auto;line-height:normal;font-family:Menlo,'DejaVu Sans Mono',consolas,'Courier New',monospace\">19:55:52.196 | <span style=\"color: #008080; text-decoration-color: #008080\">INFO</span>    | Task run 'get_games_from_to-0' - Finished in state <span style=\"color: #008000; text-decoration-color: #008000\">Completed</span>()\n",
       "</pre>\n"
      ],
      "text/plain": [
       "19:55:52.196 | \u001b[36mINFO\u001b[0m    | Task run 'get_games_from_to-0' - Finished in state \u001b[32mCompleted\u001b[0m()\n"
      ]
     },
     "metadata": {},
     "output_type": "display_data"
    },
    {
     "data": {
      "text/html": [
       "<pre style=\"white-space:pre;overflow-x:auto;line-height:normal;font-family:Menlo,'DejaVu Sans Mono',consolas,'Courier New',monospace\">19:55:52.200 | <span style=\"color: #008080; text-decoration-color: #008080\">INFO</span>    | Flow run<span style=\"color: #800080; text-decoration-color: #800080\"> 'funny-nightingale'</span> - need to append games: 2\n",
       "</pre>\n"
      ],
      "text/plain": [
       "19:55:52.200 | \u001b[36mINFO\u001b[0m    | Flow run\u001b[35m 'funny-nightingale'\u001b[0m - need to append games: 2\n"
      ]
     },
     "metadata": {},
     "output_type": "display_data"
    },
    {
     "data": {
      "text/html": [
       "<pre style=\"white-space:pre;overflow-x:auto;line-height:normal;font-family:Menlo,'DejaVu Sans Mono',consolas,'Courier New',monospace\">19:55:52.250 | <span style=\"color: #008080; text-decoration-color: #008080\">INFO</span>    | Flow run<span style=\"color: #800080; text-decoration-color: #800080\"> 'funny-nightingale'</span> - Finished in state <span style=\"color: #008000; text-decoration-color: #008000\">Completed</span>()\n",
       "</pre>\n"
      ],
      "text/plain": [
       "19:55:52.250 | \u001b[36mINFO\u001b[0m    | Flow run\u001b[35m 'funny-nightingale'\u001b[0m - Finished in state \u001b[32mCompleted\u001b[0m()\n"
      ]
     },
     "metadata": {},
     "output_type": "display_data"
    },
    {
     "data": {
      "text/html": [
       "<pre style=\"white-space:pre;overflow-x:auto;line-height:normal;font-family:Menlo,'DejaVu Sans Mono',consolas,'Courier New',monospace\">19:55:52.287 | <span style=\"color: #008080; text-decoration-color: #008080\">INFO</span>    | Flow run<span style=\"color: #800080; text-decoration-color: #800080\"> 'petite-dingo'</span> - Created task run 'prepare_games_to_append-0' for task 'prepare_games_to_append'\n",
       "</pre>\n"
      ],
      "text/plain": [
       "19:55:52.287 | \u001b[36mINFO\u001b[0m    | Flow run\u001b[35m 'petite-dingo'\u001b[0m - Created task run 'prepare_games_to_append-0' for task 'prepare_games_to_append'\n"
      ]
     },
     "metadata": {},
     "output_type": "display_data"
    },
    {
     "data": {
      "text/html": [
       "<pre style=\"white-space:pre;overflow-x:auto;line-height:normal;font-family:Menlo,'DejaVu Sans Mono',consolas,'Courier New',monospace\">19:55:52.289 | <span style=\"color: #008080; text-decoration-color: #008080\">INFO</span>    | Flow run<span style=\"color: #800080; text-decoration-color: #800080\"> 'petite-dingo'</span> - Executing 'prepare_games_to_append-0' immediately...\n",
       "</pre>\n"
      ],
      "text/plain": [
       "19:55:52.289 | \u001b[36mINFO\u001b[0m    | Flow run\u001b[35m 'petite-dingo'\u001b[0m - Executing 'prepare_games_to_append-0' immediately...\n"
      ]
     },
     "metadata": {},
     "output_type": "display_data"
    },
    {
     "data": {
      "text/html": [
       "<pre style=\"white-space:pre;overflow-x:auto;line-height:normal;font-family:Menlo,'DejaVu Sans Mono',consolas,'Courier New',monospace\">19:55:53.821 | <span style=\"color: #008080; text-decoration-color: #008080\">INFO</span>    | Task run 'prepare_games_to_append-0' - Finished in state <span style=\"color: #008000; text-decoration-color: #008000\">Completed</span>()\n",
       "</pre>\n"
      ],
      "text/plain": [
       "19:55:53.821 | \u001b[36mINFO\u001b[0m    | Task run 'prepare_games_to_append-0' - Finished in state \u001b[32mCompleted\u001b[0m()\n"
      ]
     },
     "metadata": {},
     "output_type": "display_data"
    },
    {
     "data": {
      "text/html": [
       "<pre style=\"white-space:pre;overflow-x:auto;line-height:normal;font-family:Menlo,'DejaVu Sans Mono',consolas,'Courier New',monospace\">19:55:53.853 | <span style=\"color: #008080; text-decoration-color: #008080\">INFO</span>    | Flow run<span style=\"color: #800080; text-decoration-color: #800080\"> 'petite-dingo'</span> - Created task run 'prepare_players_to_append-0' for task 'prepare_players_to_append'\n",
       "</pre>\n"
      ],
      "text/plain": [
       "19:55:53.853 | \u001b[36mINFO\u001b[0m    | Flow run\u001b[35m 'petite-dingo'\u001b[0m - Created task run 'prepare_players_to_append-0' for task 'prepare_players_to_append'\n"
      ]
     },
     "metadata": {},
     "output_type": "display_data"
    },
    {
     "data": {
      "text/html": [
       "<pre style=\"white-space:pre;overflow-x:auto;line-height:normal;font-family:Menlo,'DejaVu Sans Mono',consolas,'Courier New',monospace\">19:55:53.855 | <span style=\"color: #008080; text-decoration-color: #008080\">INFO</span>    | Flow run<span style=\"color: #800080; text-decoration-color: #800080\"> 'petite-dingo'</span> - Executing 'prepare_players_to_append-0' immediately...\n",
       "</pre>\n"
      ],
      "text/plain": [
       "19:55:53.855 | \u001b[36mINFO\u001b[0m    | Flow run\u001b[35m 'petite-dingo'\u001b[0m - Executing 'prepare_players_to_append-0' immediately...\n"
      ]
     },
     "metadata": {},
     "output_type": "display_data"
    },
    {
     "data": {
      "text/html": [
       "<pre style=\"white-space:pre;overflow-x:auto;line-height:normal;font-family:Menlo,'DejaVu Sans Mono',consolas,'Courier New',monospace\">19:55:53.907 | <span style=\"color: #008080; text-decoration-color: #008080\">INFO</span>    | Task run 'prepare_players_to_append-0' - no need to append players\n",
       "</pre>\n"
      ],
      "text/plain": [
       "19:55:53.907 | \u001b[36mINFO\u001b[0m    | Task run 'prepare_players_to_append-0' - no need to append players\n"
      ]
     },
     "metadata": {},
     "output_type": "display_data"
    },
    {
     "data": {
      "text/html": [
       "<pre style=\"white-space:pre;overflow-x:auto;line-height:normal;font-family:Menlo,'DejaVu Sans Mono',consolas,'Courier New',monospace\">19:55:53.945 | <span style=\"color: #008080; text-decoration-color: #008080\">INFO</span>    | Task run 'prepare_players_to_append-0' - Finished in state <span style=\"color: #008000; text-decoration-color: #008000\">Completed</span>()\n",
       "</pre>\n"
      ],
      "text/plain": [
       "19:55:53.945 | \u001b[36mINFO\u001b[0m    | Task run 'prepare_players_to_append-0' - Finished in state \u001b[32mCompleted\u001b[0m()\n"
      ]
     },
     "metadata": {},
     "output_type": "display_data"
    },
    {
     "data": {
      "text/html": [
       "<pre style=\"white-space:pre;overflow-x:auto;line-height:normal;font-family:Menlo,'DejaVu Sans Mono',consolas,'Courier New',monospace\">19:55:53.978 | <span style=\"color: #008080; text-decoration-color: #008080\">INFO</span>    | Flow run<span style=\"color: #800080; text-decoration-color: #800080\"> 'petite-dingo'</span> - Created task run 'append_tables-0' for task 'append_tables'\n",
       "</pre>\n"
      ],
      "text/plain": [
       "19:55:53.978 | \u001b[36mINFO\u001b[0m    | Flow run\u001b[35m 'petite-dingo'\u001b[0m - Created task run 'append_tables-0' for task 'append_tables'\n"
      ]
     },
     "metadata": {},
     "output_type": "display_data"
    },
    {
     "data": {
      "text/html": [
       "<pre style=\"white-space:pre;overflow-x:auto;line-height:normal;font-family:Menlo,'DejaVu Sans Mono',consolas,'Courier New',monospace\">19:55:53.979 | <span style=\"color: #008080; text-decoration-color: #008080\">INFO</span>    | Flow run<span style=\"color: #800080; text-decoration-color: #800080\"> 'petite-dingo'</span> - Executing 'append_tables-0' immediately...\n",
       "</pre>\n"
      ],
      "text/plain": [
       "19:55:53.979 | \u001b[36mINFO\u001b[0m    | Flow run\u001b[35m 'petite-dingo'\u001b[0m - Executing 'append_tables-0' immediately...\n"
      ]
     },
     "metadata": {},
     "output_type": "display_data"
    },
    {
     "data": {
      "text/html": [
       "<pre style=\"white-space:pre;overflow-x:auto;line-height:normal;font-family:Menlo,'DejaVu Sans Mono',consolas,'Courier New',monospace\">19:55:54.034 | <span style=\"color: #008080; text-decoration-color: #008080\">INFO</span>    | Task run 'append_tables-0' - writing 2 records to boxscoresummaryv2_0\n",
       "</pre>\n"
      ],
      "text/plain": [
       "19:55:54.034 | \u001b[36mINFO\u001b[0m    | Task run 'append_tables-0' - writing 2 records to boxscoresummaryv2_0\n"
      ]
     },
     "metadata": {},
     "output_type": "display_data"
    },
    {
     "data": {
      "text/html": [
       "<pre style=\"white-space:pre;overflow-x:auto;line-height:normal;font-family:Menlo,'DejaVu Sans Mono',consolas,'Courier New',monospace\">19:55:54.049 | <span style=\"color: #008080; text-decoration-color: #008080\">INFO</span>    | Task run 'append_tables-0' - writing 4 records to boxscoresummaryv2_1\n",
       "</pre>\n"
      ],
      "text/plain": [
       "19:55:54.049 | \u001b[36mINFO\u001b[0m    | Task run 'append_tables-0' - writing 4 records to boxscoresummaryv2_1\n"
      ]
     },
     "metadata": {},
     "output_type": "display_data"
    },
    {
     "data": {
      "text/html": [
       "<pre style=\"white-space:pre;overflow-x:auto;line-height:normal;font-family:Menlo,'DejaVu Sans Mono',consolas,'Courier New',monospace\">19:55:54.064 | <span style=\"color: #008080; text-decoration-color: #008080\">INFO</span>    | Task run 'append_tables-0' - writing 6 records to boxscoresummaryv2_2\n",
       "</pre>\n"
      ],
      "text/plain": [
       "19:55:54.064 | \u001b[36mINFO\u001b[0m    | Task run 'append_tables-0' - writing 6 records to boxscoresummaryv2_2\n"
      ]
     },
     "metadata": {},
     "output_type": "display_data"
    },
    {
     "data": {
      "text/html": [
       "<pre style=\"white-space:pre;overflow-x:auto;line-height:normal;font-family:Menlo,'DejaVu Sans Mono',consolas,'Courier New',monospace\">19:55:54.077 | <span style=\"color: #008080; text-decoration-color: #008080\">INFO</span>    | Task run 'append_tables-0' - writing 10 records to boxscoresummaryv2_3\n",
       "</pre>\n"
      ],
      "text/plain": [
       "19:55:54.077 | \u001b[36mINFO\u001b[0m    | Task run 'append_tables-0' - writing 10 records to boxscoresummaryv2_3\n"
      ]
     },
     "metadata": {},
     "output_type": "display_data"
    },
    {
     "data": {
      "text/html": [
       "<pre style=\"white-space:pre;overflow-x:auto;line-height:normal;font-family:Menlo,'DejaVu Sans Mono',consolas,'Courier New',monospace\">19:55:54.092 | <span style=\"color: #008080; text-decoration-color: #008080\">INFO</span>    | Task run 'append_tables-0' - writing 2 records to boxscoresummaryv2_4\n",
       "</pre>\n"
      ],
      "text/plain": [
       "19:55:54.092 | \u001b[36mINFO\u001b[0m    | Task run 'append_tables-0' - writing 2 records to boxscoresummaryv2_4\n"
      ]
     },
     "metadata": {},
     "output_type": "display_data"
    },
    {
     "data": {
      "text/html": [
       "<pre style=\"white-space:pre;overflow-x:auto;line-height:normal;font-family:Menlo,'DejaVu Sans Mono',consolas,'Courier New',monospace\">19:55:54.105 | <span style=\"color: #008080; text-decoration-color: #008080\">INFO</span>    | Task run 'append_tables-0' - writing 4 records to boxscoresummaryv2_5\n",
       "</pre>\n"
      ],
      "text/plain": [
       "19:55:54.105 | \u001b[36mINFO\u001b[0m    | Task run 'append_tables-0' - writing 4 records to boxscoresummaryv2_5\n"
      ]
     },
     "metadata": {},
     "output_type": "display_data"
    },
    {
     "data": {
      "text/html": [
       "<pre style=\"white-space:pre;overflow-x:auto;line-height:normal;font-family:Menlo,'DejaVu Sans Mono',consolas,'Courier New',monospace\">19:55:54.121 | <span style=\"color: #008080; text-decoration-color: #008080\">INFO</span>    | Task run 'append_tables-0' - writing 2 records to boxscoresummaryv2_6\n",
       "</pre>\n"
      ],
      "text/plain": [
       "19:55:54.121 | \u001b[36mINFO\u001b[0m    | Task run 'append_tables-0' - writing 2 records to boxscoresummaryv2_6\n"
      ]
     },
     "metadata": {},
     "output_type": "display_data"
    },
    {
     "data": {
      "text/html": [
       "<pre style=\"white-space:pre;overflow-x:auto;line-height:normal;font-family:Menlo,'DejaVu Sans Mono',consolas,'Courier New',monospace\">19:55:54.134 | <span style=\"color: #008080; text-decoration-color: #008080\">INFO</span>    | Task run 'append_tables-0' - writing 2 records to boxscoresummaryv2_7\n",
       "</pre>\n"
      ],
      "text/plain": [
       "19:55:54.134 | \u001b[36mINFO\u001b[0m    | Task run 'append_tables-0' - writing 2 records to boxscoresummaryv2_7\n"
      ]
     },
     "metadata": {},
     "output_type": "display_data"
    },
    {
     "data": {
      "text/html": [
       "<pre style=\"white-space:pre;overflow-x:auto;line-height:normal;font-family:Menlo,'DejaVu Sans Mono',consolas,'Courier New',monospace\">19:55:54.148 | <span style=\"color: #008080; text-decoration-color: #008080\">INFO</span>    | Task run 'append_tables-0' - writing 2 records to boxscoresummaryv2_8\n",
       "</pre>\n"
      ],
      "text/plain": [
       "19:55:54.148 | \u001b[36mINFO\u001b[0m    | Task run 'append_tables-0' - writing 2 records to boxscoresummaryv2_8\n"
      ]
     },
     "metadata": {},
     "output_type": "display_data"
    },
    {
     "data": {
      "text/html": [
       "<pre style=\"white-space:pre;overflow-x:auto;line-height:normal;font-family:Menlo,'DejaVu Sans Mono',consolas,'Courier New',monospace\">19:55:54.160 | <span style=\"color: #008080; text-decoration-color: #008080\">INFO</span>    | Task run 'append_tables-0' - writing 56 records to boxscoretraditionalv2_0\n",
       "</pre>\n"
      ],
      "text/plain": [
       "19:55:54.160 | \u001b[36mINFO\u001b[0m    | Task run 'append_tables-0' - writing 56 records to boxscoretraditionalv2_0\n"
      ]
     },
     "metadata": {},
     "output_type": "display_data"
    },
    {
     "data": {
      "text/html": [
       "<pre style=\"white-space:pre;overflow-x:auto;line-height:normal;font-family:Menlo,'DejaVu Sans Mono',consolas,'Courier New',monospace\">19:55:54.184 | <span style=\"color: #008080; text-decoration-color: #008080\">INFO</span>    | Task run 'append_tables-0' - writing 4 records to boxscoretraditionalv2_1\n",
       "</pre>\n"
      ],
      "text/plain": [
       "19:55:54.184 | \u001b[36mINFO\u001b[0m    | Task run 'append_tables-0' - writing 4 records to boxscoretraditionalv2_1\n"
      ]
     },
     "metadata": {},
     "output_type": "display_data"
    },
    {
     "data": {
      "text/html": [
       "<pre style=\"white-space:pre;overflow-x:auto;line-height:normal;font-family:Menlo,'DejaVu Sans Mono',consolas,'Courier New',monospace\">19:55:54.200 | <span style=\"color: #008080; text-decoration-color: #008080\">INFO</span>    | Task run 'append_tables-0' - writing 8 records to boxscoretraditionalv2_2\n",
       "</pre>\n"
      ],
      "text/plain": [
       "19:55:54.200 | \u001b[36mINFO\u001b[0m    | Task run 'append_tables-0' - writing 8 records to boxscoretraditionalv2_2\n"
      ]
     },
     "metadata": {},
     "output_type": "display_data"
    },
    {
     "data": {
      "text/html": [
       "<pre style=\"white-space:pre;overflow-x:auto;line-height:normal;font-family:Menlo,'DejaVu Sans Mono',consolas,'Courier New',monospace\">19:55:54.254 | <span style=\"color: #008080; text-decoration-color: #008080\">INFO</span>    | Task run 'append_tables-0' - Finished in state <span style=\"color: #008000; text-decoration-color: #008000\">Completed</span>()\n",
       "</pre>\n"
      ],
      "text/plain": [
       "19:55:54.254 | \u001b[36mINFO\u001b[0m    | Task run 'append_tables-0' - Finished in state \u001b[32mCompleted\u001b[0m()\n"
      ]
     },
     "metadata": {},
     "output_type": "display_data"
    },
    {
     "data": {
      "text/html": [
       "<pre style=\"white-space:pre;overflow-x:auto;line-height:normal;font-family:Menlo,'DejaVu Sans Mono',consolas,'Courier New',monospace\">19:55:54.296 | <span style=\"color: #008080; text-decoration-color: #008080\">INFO</span>    | Flow run<span style=\"color: #800080; text-decoration-color: #800080\"> 'petite-dingo'</span> - Finished in state <span style=\"color: #008000; text-decoration-color: #008000\">Completed</span>()\n",
       "</pre>\n"
      ],
      "text/plain": [
       "19:55:54.296 | \u001b[36mINFO\u001b[0m    | Flow run\u001b[35m 'petite-dingo'\u001b[0m - Finished in state \u001b[32mCompleted\u001b[0m()\n"
      ]
     },
     "metadata": {},
     "output_type": "display_data"
    },
    {
     "data": {
      "text/plain": [
       "12"
      ]
     },
     "execution_count": 3,
     "metadata": {},
     "output_type": "execute_result"
    }
   ],
   "source": [
    "@task(log_prints=True)\n",
    "def get_db_path() -> str:\n",
    "    # TODO: add reading prefect variables\n",
    "    result = '../../../data/basnya.db'\n",
    "    print(f\"DB path: '{result}'\")\n",
    "    return result\n",
    "\n",
    "@task(retries=2, log_prints=True)\n",
    "def get_latest_game(db_path: str) -> pd.DataFrame:\n",
    "    \"\"\"\n",
    "    Retrieve the row(s) for the game(s) with the latest GAME_DATE_EST from the \"GAMES\" table.\n",
    "\n",
    "    Parameters:\n",
    "    - db_path (str): The path to the SQLite database file.\n",
    "\n",
    "    Returns:\n",
    "    - pd.DataFrame or None: A DataFrame containing the row(s) for the game(s) with the latest GAME_DATE_EST,\n",
    "      or None if an error occurs.\n",
    "    \"\"\"\n",
    "    # SQL query to find the game with the latest GAME_DATE_EST\n",
    "    sql_query = \"\"\"\n",
    "    SELECT *\n",
    "    FROM \"GAMES\"\n",
    "    WHERE \"GAME_DATE_EST\" = (SELECT MAX(\"GAME_DATE_EST\") FROM \"GAMES\");\n",
    "    \"\"\"\n",
    "\n",
    "    # Use 'with' statement to automatically close the connection\n",
    "    with sqlite3.connect(db_path) as connection:\n",
    "        # Use pandas to execute the SQL query and read the results into a DataFrame\n",
    "        result_df = pd.read_sql(sql_query, connection)\n",
    "    if result_df.empty:\n",
    "        print(\"DB seems to be empty\")\n",
    "    else:\n",
    "        print(f\"Found games on latest date of '{result_df.GAME_DATE_EST.iloc[0]}': {len(result_df)}\")\n",
    "    return result_df\n",
    "\n",
    "\n",
    "@task(retries=2, log_prints=True)\n",
    "def get_games_from_to(date_from, date_to):\n",
    "    _dfs = []\n",
    "    for s_t in [leaguegamefinder.SeasonTypeNullable.regular, leaguegamefinder.SeasonTypeNullable.playoffs]:\n",
    "        _df = leaguegamefinder.LeagueGameFinder(\n",
    "            date_from_nullable=(pd.to_datetime(date_from) + pd.Timedelta(days=1)).strftime('%m/%d/%Y'), \n",
    "            date_to_nullable=pd.to_datetime(date_to).strftime('%m/%d/%Y'), \n",
    "            # season_nullable=season, \n",
    "            season_type_nullable=s_t,\n",
    "            league_id_nullable=leaguegamefinder.LeagueIDNullable.nba\n",
    "        ).get_data_frames()[0]\n",
    "        _dfs.append(_df)\n",
    "    return pd.concat(_dfs, axis=0)\n",
    "\n",
    "@task(retries=2, log_prints=True)\n",
    "def get_games_by_ids(game_ids: List[str]) -> pd.DataFrame:\n",
    "    _dfs = []\n",
    "    for g_i in game_ids:\n",
    "        _game_df = boxscoresummaryv2.BoxScoreSummaryV2(game_id=g_i).get_data_frames()[0]\n",
    "        if _game_df.empty:\n",
    "            print(f'not found game for id: {g_i}')\n",
    "        _dfs.append(_game_df)\n",
    "    return pd.concat(_dfs, axis=0)\n",
    "\n",
    "def get_games_minimal_date(games_by_ids_df: pd.DataFrame) -> str:\n",
    "    min_dt = pd.to_datetime(games_by_ids_df.GAME_DATE_EST.min())\n",
    "    return min_dt.date().strftime('%m/%d/%Y')\n",
    "\n",
    "@flow(retries=2, log_prints=True)\n",
    "def get_games_ids_to_append(latest_games: pd.DataFrame, game_ids: List[str]) -> List[str]:\n",
    "    games_by_ids_df = get_games_by_ids(game_ids=game_ids)\n",
    "    latest_game_date_from_db = pd.to_datetime(latest_games.GAME_DATE_EST.max()).date().strftime('%m/%d/%Y')\n",
    "    earliest_game_date_from_game_ids = get_games_minimal_date(games_by_ids_df)\n",
    "    print(f\"earching for games from {latest_game_date_from_db} to {earliest_game_date_from_game_ids}\")\n",
    "    missing_games = get_games_from_to(\n",
    "        date_from=latest_game_date_from_db,\n",
    "        date_to=earliest_game_date_from_game_ids)\n",
    "    result = list(set(missing_games.GAME_ID.to_list() + game_ids))\n",
    "    print(f\"need to append games: {len(result)}\")\n",
    "    return result\n",
    "\n",
    "@task(retries=2, log_prints=True)\n",
    "def get_current_players(db_path: str) -> pd.DataFrame:\n",
    "    \"\"\"\n",
    "    Retrieves players from \"player_0\" table.\n",
    "\n",
    "    Parameters:\n",
    "    - db_path (str): The path to the SQLite database file.\n",
    "\n",
    "    Returns:\n",
    "    - pd.DataFrame or None: A DataFrame containing all players in DB,\n",
    "      or None if an error occurs.\n",
    "    \"\"\"\n",
    "    # SQL query to find the game with the latest GAME_DATE_EST\n",
    "    sql_query = \"\"\"\n",
    "    SELECT *\n",
    "    FROM \"player_0\";\n",
    "    \"\"\"\n",
    "    with sqlite3.connect(db_path) as connection:\n",
    "        result_df = pd.read_sql(sql_query, connection)\n",
    "    if result_df.empty:\n",
    "        print(\"DB seems to be empty\")\n",
    "    else:\n",
    "        print(f\"Found players: {len(result_df)}\")\n",
    "    return result_df\n",
    "\n",
    "@task(retries=2, log_prints=True)\n",
    "def prepare_games_to_append(game_ids_to_append) -> Dict[str, pd.DataFrame]:\n",
    "    result = defaultdict(list)\n",
    "    for g_i in game_ids_to_append:\n",
    "        for endpoint, table_prefix in zip([boxscoresummaryv2.BoxScoreSummaryV2, boxscoretraditionalv2.BoxScoreTraditionalV2],\n",
    "                                          ['boxscoresummaryv2', 'boxscoretraditionalv2']):\n",
    "            _frames = endpoint(game_id=g_i).get_data_frames()\n",
    "            for i, _df in enumerate(_frames):\n",
    "                result[f\"{table_prefix}_{i}\"].append(_df)\n",
    "    return {k: pd.concat(v, axis=0) for k, v in result.items()}\n",
    "    \n",
    "@task(retries=2, log_prints=True)\n",
    "def prepare_players_to_append(current_players: pd.DataFrame, games_dataframe_dict: Dict[str, pd.DataFrame]) -> Dict[str, pd.DataFrame]:\n",
    "    players_from_games = games_dataframe_dict.get('boxscoretraditionalv2_0', pd.DataFrame({'PLAYER_ID': []}))\n",
    "    players_to_append = set(players_from_games.PLAYER_ID) - set(current_players.PERSON_ID)\n",
    "    if players_to_append:\n",
    "        print(f\"need to append players: {len(players_to_append)}\")\n",
    "        result = defaultdict(list)\n",
    "        for pl_i in players_to_append:\n",
    "            _frames = commonplayerinfo.CommonPlayerInfo(player_id=pl_i).get_data_frames()\n",
    "            for i, _df in enumerate(_frames):\n",
    "                result[f\"player_{i}\"].append(_df)\n",
    "        return {k: pd.concat(v, axis=0) for k, v in result.items()}    \n",
    "    else:\n",
    "        print(\"no need to append players\")\n",
    "        return {}                                              \n",
    "\n",
    "\n",
    "@task(retries=2, log_prints=True)\n",
    "def append_tables(db_path: str, dataframe_dict: Dict[str, pd.DataFrame]):\n",
    "    with sqlite3.connect(db_path) as connection:\n",
    "        for table_name, _df in dataframe_dict.items():\n",
    "            print(f\"writing {len(_df)} records to {table_name}\")\n",
    "            _df.to_sql(table_name, con=connection, if_exists='append')\n",
    "    return\n",
    "        \n",
    "\n",
    "\n",
    "@flow(log_prints=True)\n",
    "def backfill_games(game_ids: List[str]) -> Dict[str, pd.DataFrame]:\n",
    "    db_path = get_db_path()\n",
    "    latest_game_df = get_latest_game(db_path=db_path)\n",
    "    current_players = get_current_players(db_path=db_path)\n",
    "    game_ids_to_append = get_games_ids_to_append(\n",
    "        latest_games=latest_game_df, \n",
    "        game_ids=game_ids\n",
    "    )\n",
    "    games_to_append_dict = prepare_games_to_append(game_ids_to_append)\n",
    "    players_to_append_dict = prepare_players_to_append(\n",
    "        current_players=current_players, \n",
    "        games_dataframe_dict=games_to_append_dict\n",
    "    )\n",
    "    games_to_append_dict.update(players_to_append_dict)\n",
    "    append_tables(\n",
    "        db_path=db_path, \n",
    "        dataframe_dict=games_to_append_dict\n",
    "    )\n",
    "    \n",
    "    return games_to_append_dict\n",
    "\n",
    "_d = backfill_games(game_ids=['0022200002'])\n",
    "len(_d)"
   ]
  },
  {
   "cell_type": "code",
   "execution_count": 4,
   "id": "0933f486-eb84-4d00-b743-e5fa3ff35956",
   "metadata": {},
   "outputs": [
    {
     "data": {
      "text/html": [
       "<div>\n",
       "<style scoped>\n",
       "    .dataframe tbody tr th:only-of-type {\n",
       "        vertical-align: middle;\n",
       "    }\n",
       "\n",
       "    .dataframe tbody tr th {\n",
       "        vertical-align: top;\n",
       "    }\n",
       "\n",
       "    .dataframe thead th {\n",
       "        text-align: right;\n",
       "    }\n",
       "</style>\n",
       "<table border=\"1\" class=\"dataframe\">\n",
       "  <thead>\n",
       "    <tr style=\"text-align: right;\">\n",
       "      <th></th>\n",
       "      <th>GAME_ID</th>\n",
       "      <th>TEAM_ID</th>\n",
       "      <th>TEAM_NAME</th>\n",
       "      <th>TEAM_ABBREVIATION</th>\n",
       "      <th>TEAM_CITY</th>\n",
       "      <th>MIN</th>\n",
       "      <th>FGM</th>\n",
       "      <th>FGA</th>\n",
       "      <th>FG_PCT</th>\n",
       "      <th>FG3M</th>\n",
       "      <th>FG3A</th>\n",
       "      <th>FG3_PCT</th>\n",
       "      <th>FTM</th>\n",
       "      <th>FTA</th>\n",
       "      <th>FT_PCT</th>\n",
       "      <th>OREB</th>\n",
       "      <th>DREB</th>\n",
       "      <th>REB</th>\n",
       "      <th>AST</th>\n",
       "      <th>STL</th>\n",
       "      <th>BLK</th>\n",
       "      <th>TO</th>\n",
       "      <th>PF</th>\n",
       "      <th>PTS</th>\n",
       "      <th>PLUS_MINUS</th>\n",
       "    </tr>\n",
       "  </thead>\n",
       "  <tbody>\n",
       "    <tr>\n",
       "      <th>0</th>\n",
       "      <td>0022200002</td>\n",
       "      <td>1610612747</td>\n",
       "      <td>Lakers</td>\n",
       "      <td>LAL</td>\n",
       "      <td>Los Angeles</td>\n",
       "      <td>240.000000:00</td>\n",
       "      <td>40</td>\n",
       "      <td>94</td>\n",
       "      <td>0.426</td>\n",
       "      <td>10</td>\n",
       "      <td>40</td>\n",
       "      <td>0.250</td>\n",
       "      <td>19</td>\n",
       "      <td>25</td>\n",
       "      <td>0.760</td>\n",
       "      <td>9</td>\n",
       "      <td>39</td>\n",
       "      <td>48</td>\n",
       "      <td>23</td>\n",
       "      <td>12</td>\n",
       "      <td>4</td>\n",
       "      <td>21</td>\n",
       "      <td>18</td>\n",
       "      <td>109</td>\n",
       "      <td>-14.0</td>\n",
       "    </tr>\n",
       "    <tr>\n",
       "      <th>1</th>\n",
       "      <td>0022200002</td>\n",
       "      <td>1610612744</td>\n",
       "      <td>Warriors</td>\n",
       "      <td>GSW</td>\n",
       "      <td>Golden State</td>\n",
       "      <td>240.000000:00</td>\n",
       "      <td>45</td>\n",
       "      <td>99</td>\n",
       "      <td>0.455</td>\n",
       "      <td>16</td>\n",
       "      <td>45</td>\n",
       "      <td>0.356</td>\n",
       "      <td>17</td>\n",
       "      <td>23</td>\n",
       "      <td>0.739</td>\n",
       "      <td>11</td>\n",
       "      <td>37</td>\n",
       "      <td>48</td>\n",
       "      <td>31</td>\n",
       "      <td>11</td>\n",
       "      <td>4</td>\n",
       "      <td>18</td>\n",
       "      <td>23</td>\n",
       "      <td>123</td>\n",
       "      <td>14.0</td>\n",
       "    </tr>\n",
       "    <tr>\n",
       "      <th>0</th>\n",
       "      <td>0022200001</td>\n",
       "      <td>1610612755</td>\n",
       "      <td>76ers</td>\n",
       "      <td>PHI</td>\n",
       "      <td>Philadelphia</td>\n",
       "      <td>240.000000:00</td>\n",
       "      <td>40</td>\n",
       "      <td>80</td>\n",
       "      <td>0.500</td>\n",
       "      <td>13</td>\n",
       "      <td>34</td>\n",
       "      <td>0.382</td>\n",
       "      <td>24</td>\n",
       "      <td>28</td>\n",
       "      <td>0.857</td>\n",
       "      <td>4</td>\n",
       "      <td>27</td>\n",
       "      <td>31</td>\n",
       "      <td>16</td>\n",
       "      <td>8</td>\n",
       "      <td>3</td>\n",
       "      <td>14</td>\n",
       "      <td>25</td>\n",
       "      <td>117</td>\n",
       "      <td>-9.0</td>\n",
       "    </tr>\n",
       "    <tr>\n",
       "      <th>1</th>\n",
       "      <td>0022200001</td>\n",
       "      <td>1610612738</td>\n",
       "      <td>Celtics</td>\n",
       "      <td>BOS</td>\n",
       "      <td>Boston</td>\n",
       "      <td>240.000000:00</td>\n",
       "      <td>46</td>\n",
       "      <td>82</td>\n",
       "      <td>0.561</td>\n",
       "      <td>12</td>\n",
       "      <td>35</td>\n",
       "      <td>0.343</td>\n",
       "      <td>22</td>\n",
       "      <td>28</td>\n",
       "      <td>0.786</td>\n",
       "      <td>6</td>\n",
       "      <td>30</td>\n",
       "      <td>36</td>\n",
       "      <td>24</td>\n",
       "      <td>8</td>\n",
       "      <td>3</td>\n",
       "      <td>10</td>\n",
       "      <td>24</td>\n",
       "      <td>126</td>\n",
       "      <td>9.0</td>\n",
       "    </tr>\n",
       "  </tbody>\n",
       "</table>\n",
       "</div>"
      ],
      "text/plain": [
       "      GAME_ID     TEAM_ID TEAM_NAME TEAM_ABBREVIATION     TEAM_CITY  \\\n",
       "0  0022200002  1610612747    Lakers               LAL   Los Angeles   \n",
       "1  0022200002  1610612744  Warriors               GSW  Golden State   \n",
       "0  0022200001  1610612755     76ers               PHI  Philadelphia   \n",
       "1  0022200001  1610612738   Celtics               BOS        Boston   \n",
       "\n",
       "             MIN  FGM  FGA  FG_PCT  FG3M  FG3A  FG3_PCT  FTM  FTA  FT_PCT  \\\n",
       "0  240.000000:00   40   94   0.426    10    40    0.250   19   25   0.760   \n",
       "1  240.000000:00   45   99   0.455    16    45    0.356   17   23   0.739   \n",
       "0  240.000000:00   40   80   0.500    13    34    0.382   24   28   0.857   \n",
       "1  240.000000:00   46   82   0.561    12    35    0.343   22   28   0.786   \n",
       "\n",
       "   OREB  DREB  REB  AST  STL  BLK  TO  PF  PTS  PLUS_MINUS  \n",
       "0     9    39   48   23   12    4  21  18  109       -14.0  \n",
       "1    11    37   48   31   11    4  18  23  123        14.0  \n",
       "0     4    27   31   16    8    3  14  25  117        -9.0  \n",
       "1     6    30   36   24    8    3  10  24  126         9.0  "
      ]
     },
     "execution_count": 4,
     "metadata": {},
     "output_type": "execute_result"
    }
   ],
   "source": [
    "_d['boxscoretraditionalv2_1']"
   ]
  },
  {
   "cell_type": "code",
   "execution_count": null,
   "id": "2811c807-156b-40de-8338-22eee8f7f648",
   "metadata": {},
   "outputs": [],
   "source": []
  }
 ],
 "metadata": {
  "kernelspec": {
   "display_name": "Python 3 (ipykernel)",
   "language": "python",
   "name": "python3"
  },
  "language_info": {
   "codemirror_mode": {
    "name": "ipython",
    "version": 3
   },
   "file_extension": ".py",
   "mimetype": "text/x-python",
   "name": "python",
   "nbconvert_exporter": "python",
   "pygments_lexer": "ipython3",
   "version": "3.8.18"
  }
 },
 "nbformat": 4,
 "nbformat_minor": 5
}
