{
 "cells": [
  {
   "cell_type": "code",
   "execution_count": 1,
   "metadata": {},
   "outputs": [],
   "source": [
    "import logging\n",
    "import os \n",
    "\n",
    "from dotenv import load_dotenv\n",
    "import openai\n",
    "import pandas as pd\n",
    "import pandas as pd \n",
    "\n",
    "from strategies import StrategyRating\n",
    "from utils import StatsHolder\n",
    "\n",
    "load_dotenv('../openai.env')\n",
    "openai.api_key  = os.getenv('API_KEY')\n",
    "logger = logging.getLogger()"
   ]
  },
  {
   "cell_type": "code",
   "execution_count": 2,
   "metadata": {},
   "outputs": [
    {
     "name": "stderr",
     "output_type": "stream",
     "text": [
      "100%|██████████| 3454/3454 [00:45<00:00, 76.02it/s]\n"
     ]
    }
   ],
   "source": [
    "# инициализация объекта StatsHolder для хранения агрегированной статистики по игрокам\n",
    "db_path = r'../../data/basnya.db'\n",
    "stats = StatsHolder.from_sql(db_path=db_path)"
   ]
  },
  {
   "cell_type": "code",
   "execution_count": 3,
   "metadata": {},
   "outputs": [
    {
     "name": "stderr",
     "output_type": "stream",
     "text": [
      "2023-11-12 18:36:42,684 - INFO - Added \"StrategyRating Top-10\" strategy\n",
      "2023-11-12 18:36:42,685 - INFO - Added \"StrategyRating Top-50\" strategy\n",
      "2023-11-12 18:36:42,685 - INFO - Added \"StrategyRating Top-100\" strategy\n"
     ]
    }
   ],
   "source": [
    "# Добавление интересующих стратегий\n",
    "\n",
    "strategy_top_100 = StrategyRating(top=100)\n",
    "strategy_top_50 = StrategyRating(top=50)\n",
    "strategy_top_10= StrategyRating(top=10)\n",
    "\n",
    "stats.add_strategy(strategy_top_10)\n",
    "stats.add_strategy(strategy_top_50)\n",
    "stats.add_strategy(strategy_top_100)"
   ]
  },
  {
   "cell_type": "code",
   "execution_count": 4,
   "metadata": {},
   "outputs": [
    {
     "name": "stderr",
     "output_type": "stream",
     "text": [
      "2023-11-12 18:36:51,418 - INFO - Start processing...\n",
      "100%|██████████| 10/10 [00:37<00:00,  3.75s/it]\n"
     ]
    },
    {
     "name": "stdout",
     "output_type": "stream",
     "text": [
      "For the past 10 games\n",
      "'StrategyRating Top-10'\n",
      "{'description': 'Top 10 players', 'values': {'in_top': {}, 'out_top': {}}}\n",
      "'==========================================================='\n",
      "'StrategyRating Top-50'\n",
      "{'description': 'Top 50 players',\n",
      " 'values': {'in_top': {'BLK': {1629605}}, 'out_top': {'BLK': {1628467}}}}\n",
      "'==========================================================='\n",
      "'StrategyRating Top-100'\n",
      "{'description': 'Top 100 players',\n",
      " 'values': {'in_top': {'BLK': {1629646}, 'FT_PCT': {1630171, 1629629}},\n",
      "            'out_top': {'BLK': {203920}, 'FT_PCT': {200746, 1627814}}}}\n",
      "'==========================================================='\n"
     ]
    }
   ],
   "source": [
    "# Получение отчёта по результатм работы\n",
    "stats.get_report(10)"
   ]
  },
  {
   "cell_type": "code",
   "execution_count": 14,
   "metadata": {},
   "outputs": [],
   "source": [
    "prompt = ''\n",
    "  \n",
    "def get_completion(prompt, model=\"gpt-3.5-turbo\"):\n",
    "    messages = [{\"role\": \"user\", \"content\": prompt}]\n",
    "    response = openai.ChatCompletion.create(\n",
    "        model=model,\n",
    "        messages=messages,\n",
    "        temperature=0, # this is the degree of randomness of the model's output\n",
    "    )\n",
    "    return response.choices[0].message[\"content\"]\n",
    "# get_completion(prompt, model=\"gpt-3.5-turbo\")\n"
   ]
  }
 ],
 "metadata": {
  "kernelspec": {
   "display_name": "venv",
   "language": "python",
   "name": "python3"
  },
  "language_info": {
   "codemirror_mode": {
    "name": "ipython",
    "version": 3
   },
   "file_extension": ".py",
   "mimetype": "text/x-python",
   "name": "python",
   "nbconvert_exporter": "python",
   "pygments_lexer": "ipython3",
   "version": "3.9.13"
  }
 },
 "nbformat": 4,
 "nbformat_minor": 2
}
