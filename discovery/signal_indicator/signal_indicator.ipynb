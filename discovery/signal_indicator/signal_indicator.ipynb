{
 "cells": [
  {
   "cell_type": "code",
   "execution_count": 1,
   "metadata": {},
   "outputs": [],
   "source": [
    "import pandas as pd \n",
    "import logging\n",
    "\n",
    "from dotenv import load_dotenv\n",
    "import openai\n",
    "import pandas as pd\n",
    "\n",
    "from strategies import StrategyRating\n",
    "from utils import StatsHolder\n",
    "\n",
    "load_dotenv('../openai.env')\n",
    "openai.api_key  =None# os.getenv('API_KEY')\n",
    "logger = logging.getLogger()"
   ]
  },
  {
   "cell_type": "code",
   "execution_count": 5,
   "metadata": {},
   "outputs": [
    {
     "name": "stderr",
     "output_type": "stream",
     "text": [
      "  0%|          | 0/100 [00:00<?, ?it/s]"
     ]
    },
    {
     "name": "stderr",
     "output_type": "stream",
     "text": [
      "100%|██████████| 100/100 [00:02<00:00, 40.24it/s]\n",
      "2023-10-31 16:57:50,059 - INFO - Added \"StrategyRating Top-10\" strategy\n",
      "2023-10-31 16:57:50,537 - INFO - Added \"StrategyRating Top-10\" strategy\n",
      "2023-10-31 16:57:50,551 - INFO - added game_id: 12100003.0\n",
      "2023-10-31 16:57:51,086 - INFO - {'description': 'Top 5 players', 'values': {'in_top': {'FGM': {201939}, 'FGA': {1628369}, 'DREB': {1630596}, 'BLK': {1629057}}, 'out_top': {'FGM': {1629640}, 'FGA': {203897}, 'DREB': {203944}, 'BLK': {201572}}}}\n"
     ]
    }
   ],
   "source": [
    "stats = StatsHolder.from_csv(path_docs='resource/boxscoretraditionalv2/')\n",
    "stats.add_strategy(StrategyRating)\n",
    "s = StrategyRating\n",
    "s.top =1\n",
    "stats.add_strategy(s)\n",
    "new_record = pd.read_csv('boxscoretraditionalv2_0_0012100003.csv') \n",
    "stats.add_record(new_record)"
   ]
  },
  {
   "cell_type": "code",
   "execution_count": 7,
   "metadata": {},
   "outputs": [
    {
     "name": "stdout",
     "output_type": "stream",
     "text": [
      "all strategy: StrategyRating Top-10\n"
     ]
    },
    {
     "data": {
      "text/plain": [
       "{'description': 'Top 10 players',\n",
       " 'values': {'in_top': {'FGA': {1628369},\n",
       "   'FG3M': {203897, 1627741},\n",
       "   'FT_PCT': {1627846},\n",
       "   'DREB': {1628976},\n",
       "   'REB': {1628976},\n",
       "   'STL': {204456}},\n",
       "  'out_top': {'FGA': {1630163},\n",
       "   'FG3M': {203468, 1629670},\n",
       "   'FT_PCT': {1629639},\n",
       "   'DREB': {203999},\n",
       "   'REB': {1628381},\n",
       "   'STL': {1630163}}}}"
      ]
     },
     "execution_count": 7,
     "metadata": {},
     "output_type": "execute_result"
    }
   ],
   "source": [
    "strategies =  ' '.join(stats.show_strategies())\n",
    "print(f'all strategy: {strategies}')\n",
    "stats.strategies['StrategyRating Top-10'].show_data_strategy(10)"
   ]
  },
  {
   "cell_type": "code",
   "execution_count": 31,
   "metadata": {},
   "outputs": [
    {
     "name": "stdout",
     "output_type": "stream",
     "text": [
      "Структура диалога:\n",
      "\n",
      "I. Подготовка к игре\n",
      "   A. Ознакомление с правилами\n",
      "      1. Вопрос о знании правил\n",
      "         - Игорь Охотников: \"Ознакомлены ли вы с содержанием статей 'Об Игре' и 'О Клубе' и особенно с этическими правилами в статье 'Об Игре'?\"\n",
      "         - Яся Маратова: \"1) да 2) не очень, сейчас все прочитаю\"\n",
      "      2. Подтверждение согласия с правилами\n",
      "         - Игорь Охотников: \"Согласны ли вы с этими правилами, готовы ли неукоснительно соблюдать их в ходе Игры? Есть ли какие-то сомнения или непонятные моменты в них?\"\n",
      "         - Яся Маратова: \"Да, конечно согласна.\"\n",
      "   B. Подтверждение слова чести\n",
      "      - Игорь Охотников: \"1) Вы согласны, что человек, подписавшийся под этими правилами, а затем злостно их нарушающий - человек непорядочный? 2) Даёте ли вы слово чести, что не будете так делать?\"\n",
      "      - Яся Маратова: \"1. Да, конечно. 2. Да.\"\n",
      "   C. Подтверждение понимания статьи о чести\n",
      "      - Игорь Охотников: \"Прочитайте еще раз статью о чести. Если вы согласны с ней, то повторите её содержание вот этими словами: 'Я согласна, что данное мной слово чести есть признание себя лишенной достоинства и самоуважения в случае отказа от соблюдения правил'.\"\n",
      "      - Яся Маратова: \"Я согласна, что данное мной слово чести есть признание себя лишенной достоинства и самоуважения в случае отказа от соблюдения правил\"\n",
      "\n",
      "II. Уточнение условий игры\n",
      "   A. Уклонение от ответа и бегство от игры\n",
      "      - Игорь Охотников: \"Уклонение от ответа - это не только прямой отказ, но и бегство от игры до её окончания. Бегство от игры - это когда гость 3 дня (подряд или не подряд, не считая дня отправки сообщения) выходит на свою личную страницу 'Вконтакте', но не отвечает на сообщение ведущего. В этом случае гостю засчитывается автоматическое поражение. Согласны ли вы с этим условием?\"\n",
      "      - Яся Маратова: \"Да.\"\n",
      "   B. Позиции по бегству от игры\n",
      "      - Игорь Охотников: \"Разделяете ли вы хоть одну из этих позиций?\"\n",
      "      - Яся Маратова: \"Нет. Хотя последний пункт несколько цепляет, но перестать отвечать хуже, чем честно признать поражение.\"\n",
      "\n",
      "III. Подтверждение потери чести при бегстве\n",
      "   - Игорь Охотников: \"Тогда давайте уточним смысл отвергн\n"
     ]
    }
   ],
   "source": [
    "prompt = ''\n",
    "  \n",
    "def get_completion(prompt, model=\"gpt-3.5-turbo\"):\n",
    "    messages = [{\"role\": \"user\", \"content\": prompt}]\n",
    "    response = openai.ChatCompletion.create(\n",
    "        model=model,\n",
    "        messages=messages,\n",
    "        temperature=0, # this is the degree of randomness of the model's output\n",
    "    )\n",
    "    return response.choices[0].message[\"content\"]\n",
    "  \n",
    "a = get_completion(prompt, model=\"gpt-3.5-turbo\")\n",
    "print(a)"
   ]
  }
 ],
 "metadata": {
  "kernelspec": {
   "display_name": "venv",
   "language": "python",
   "name": "python3"
  },
  "language_info": {
   "codemirror_mode": {
    "name": "ipython",
    "version": 3
   },
   "file_extension": ".py",
   "mimetype": "text/x-python",
   "name": "python",
   "nbconvert_exporter": "python",
   "pygments_lexer": "ipython3",
   "version": "3.9.0"
  }
 },
 "nbformat": 4,
 "nbformat_minor": 2
}
