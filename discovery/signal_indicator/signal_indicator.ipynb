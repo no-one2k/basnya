{
 "cells": [
  {
   "cell_type": "code",
   "execution_count": 1,
   "metadata": {},
   "outputs": [],
   "source": [
    "import logging\n",
    "import os \n",
    "\n",
    "from dotenv import load_dotenv\n",
    "import openai\n",
    "import pandas as pd\n",
    "import pandas as pd \n",
    "\n",
    "from strategies import StrategyRating\n",
    "from utils import StatsHolder\n",
    "\n",
    "load_dotenv('../openai.env')\n",
    "openai.api_key  = os.getenv('API_KEY')\n",
    "logger = logging.getLogger()"
   ]
  },
  {
   "cell_type": "code",
   "execution_count": 2,
   "metadata": {},
   "outputs": [
    {
     "name": "stderr",
     "output_type": "stream",
     "text": [
      "100%|██████████| 3454/3454 [01:17<00:00, 44.56it/s]\n"
     ]
    }
   ],
   "source": [
    "# инициализация объекта StatsHolder для хранения агрегированной статистики по игрокам\n",
    "db_path = r'../../data/basnya.db'\n",
    "stats = StatsHolder.from_sql(db_path=db_path)"
   ]
  },
  {
   "cell_type": "code",
   "execution_count": 3,
   "metadata": {},
   "outputs": [
    {
     "name": "stderr",
     "output_type": "stream",
     "text": [
      "2023-11-14 20:00:08,647 - INFO - Added \"StrategyRating Top-10\" strategy\n",
      "2023-11-14 20:00:08,651 - INFO - Added \"StrategyRating Top-50\" strategy\n",
      "2023-11-14 20:00:08,651 - INFO - Added \"StrategyRating Top-100\" strategy\n"
     ]
    }
   ],
   "source": [
    "# Добавление интересующих стратегий\n",
    "\n",
    "strategy_top_100 = StrategyRating(top=100)\n",
    "strategy_top_50 = StrategyRating(top=50)\n",
    "strategy_top_10= StrategyRating(top=10)\n",
    "\n",
    "stats.add_strategy(strategy_top_10)\n",
    "stats.add_strategy(strategy_top_50)\n",
    "stats.add_strategy(strategy_top_100)"
   ]
  },
  {
   "cell_type": "code",
   "execution_count": 4,
   "metadata": {},
   "outputs": [
    {
     "name": "stderr",
     "output_type": "stream",
     "text": [
      "2023-11-14 20:00:21,450 - INFO - Start processing...\n",
      "100%|██████████| 10/10 [00:56<00:00,  5.67s/it]\n"
     ]
    },
    {
     "name": "stdout",
     "output_type": "stream",
     "text": [
      "For the past 10 games\n",
      "'StrategyRating Top-10'\n"
     ]
    },
    {
     "ename": "AttributeError",
     "evalue": "'StrategyRating' object has no attribute 'new_rating'",
     "output_type": "error",
     "traceback": [
      "\u001b[1;31m---------------------------------------------------------------------------\u001b[0m",
      "\u001b[1;31mAttributeError\u001b[0m                            Traceback (most recent call last)",
      "\u001b[1;32mc:\\Users\\Project\\BASNYA\\basnya\\discovery\\signal_indicator\\signal_indicator.ipynb Ячейка 4\u001b[0m line \u001b[0;36m2\n\u001b[0;32m      <a href='vscode-notebook-cell:/c%3A/Users/Project/BASNYA/basnya/discovery/signal_indicator/signal_indicator.ipynb#W3sZmlsZQ%3D%3D?line=0'>1</a>\u001b[0m \u001b[39m# Получение отчёта по результатм работы\u001b[39;00m\n\u001b[1;32m----> <a href='vscode-notebook-cell:/c%3A/Users/Project/BASNYA/basnya/discovery/signal_indicator/signal_indicator.ipynb#W3sZmlsZQ%3D%3D?line=1'>2</a>\u001b[0m stats\u001b[39m.\u001b[39;49mget_report(\u001b[39m10\u001b[39;49m)\n",
      "File \u001b[1;32mc:\\Users\\Project\\BASNYA\\basnya\\discovery\\signal_indicator\\utils.py:182\u001b[0m, in \u001b[0;36mStatsHolder.get_report\u001b[1;34m(self, N_last_game, db_path)\u001b[0m\n\u001b[0;32m    180\u001b[0m \u001b[39mfor\u001b[39;00m strategy \u001b[39min\u001b[39;00m \u001b[39mself\u001b[39m\u001b[39m.\u001b[39mstrategies\u001b[39m.\u001b[39mvalues():\n\u001b[0;32m    181\u001b[0m     pprint(strategy\u001b[39m.\u001b[39mtitle)\n\u001b[1;32m--> 182\u001b[0m     pprint(strategy\u001b[39m.\u001b[39;49mresult(old_stats, new_stats))\n\u001b[0;32m    183\u001b[0m     pprint(\u001b[39m'\u001b[39m\u001b[39m===========================================================\u001b[39m\u001b[39m'\u001b[39m)\n",
      "File \u001b[1;32mc:\\Users\\Project\\BASNYA\\basnya\\discovery\\signal_indicator\\strategies.py:100\u001b[0m, in \u001b[0;36mStrategyRating.result\u001b[1;34m(self, old_stats, new_stats, top)\u001b[0m\n\u001b[0;32m     97\u001b[0m old_top \u001b[39m=\u001b[39m {col: \u001b[39mset\u001b[39m(old_rating_N[col][\u001b[39m'\u001b[39m\u001b[39mPLAYER_ID\u001b[39m\u001b[39m'\u001b[39m]\u001b[39m.\u001b[39mto_list()) \u001b[39mfor\u001b[39;00m col \u001b[39min\u001b[39;00m old_rating_N\u001b[39m.\u001b[39mkeys()}\n\u001b[0;32m     99\u001b[0m \u001b[39mif\u001b[39;00m new_rating_N:\n\u001b[1;32m--> 100\u001b[0m     new_rating_N \u001b[39m=\u001b[39m {indicator: value\u001b[39m.\u001b[39miloc[:top] \u001b[39mfor\u001b[39;00m indicator, value \u001b[39min\u001b[39;00m \u001b[39mself\u001b[39;49m\u001b[39m.\u001b[39;49mnew_rating\u001b[39m.\u001b[39mitems()}\n\u001b[0;32m    101\u001b[0m     new_top \u001b[39m=\u001b[39m {col: \u001b[39mset\u001b[39m(new_rating_N [col][\u001b[39m'\u001b[39m\u001b[39mPLAYER_ID\u001b[39m\u001b[39m'\u001b[39m]\u001b[39m.\u001b[39mto_list()) \u001b[39mfor\u001b[39;00m col \u001b[39min\u001b[39;00m new_rating_N\u001b[39m.\u001b[39mkeys()}\n\u001b[0;32m    102\u001b[0m \u001b[39melse\u001b[39;00m:\n",
      "\u001b[1;31mAttributeError\u001b[0m: 'StrategyRating' object has no attribute 'new_rating'"
     ]
    }
   ],
   "source": [
    "# Получение отчёта по результатм работы\n",
    "stats.get_report(10)"
   ]
  },
  {
   "cell_type": "code",
   "execution_count": 14,
   "metadata": {},
   "outputs": [],
   "source": [
    "prompt = ''\n",
    "  \n",
    "def get_completion(prompt, model=\"gpt-3.5-turbo\"):\n",
    "    messages = [{\"role\": \"user\", \"content\": prompt}]\n",
    "    response = openai.ChatCompletion.create(\n",
    "        model=model,\n",
    "        messages=messages,\n",
    "        temperature=0, # this is the degree of randomness of the model's output\n",
    "    )\n",
    "    return response.choices[0].message[\"content\"]\n",
    "# get_completion(prompt, model=\"gpt-3.5-turbo\")\n"
   ]
  }
 ],
 "metadata": {
  "kernelspec": {
   "display_name": "venv",
   "language": "python",
   "name": "python3"
  },
  "language_info": {
   "codemirror_mode": {
    "name": "ipython",
    "version": 3
   },
   "file_extension": ".py",
   "mimetype": "text/x-python",
   "name": "python",
   "nbconvert_exporter": "python",
   "pygments_lexer": "ipython3",
   "version": "3.9.13"
  }
 },
 "nbformat": 4,
 "nbformat_minor": 2
}
