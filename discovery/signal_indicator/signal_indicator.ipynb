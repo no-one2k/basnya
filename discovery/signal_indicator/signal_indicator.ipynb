{
 "cells": [
  {
   "cell_type": "code",
   "execution_count": 3,
   "metadata": {},
   "outputs": [],
   "source": [
    "from pprint import pprint\n",
    "import logging\n",
    "\n",
    "from dotenv import load_dotenv\n",
    "import openai\n",
    "import pandas as pd\n",
    "import pandas as pd \n",
    "\n",
    "from strategies import StrategyRating\n",
    "from utils import StatsHolder\n",
    "\n",
    "load_dotenv('../openai.env')\n",
    "openai.api_key  =None# os.getenv('API_KEY')\n",
    "logger = logging.getLogger()"
   ]
  },
  {
   "cell_type": "code",
   "execution_count": 4,
   "metadata": {},
   "outputs": [
    {
     "name": "stderr",
     "output_type": "stream",
     "text": [
      "100%|██████████| 100/100 [00:02<00:00, 48.94it/s]\n",
      "2023-10-31 17:57:23,457 - INFO - Added \"StrategyRating Top-1\" strategy\n",
      "2023-10-31 17:57:23,458 - INFO - Added \"StrategyRating Top-10\" strategy\n",
      "2023-10-31 17:57:23,459 - INFO - Added \"StrategyRating Top-30\" strategy\n",
      "2023-10-31 17:57:23,478 - INFO - added game_id: 12100003.0\n"
     ]
    }
   ],
   "source": [
    "stats = StatsHolder.from_csv(path_docs='resource/boxscoretraditionalv2/')\n",
    "\n",
    "strategy_top_10 = StrategyRating(stats.players_stats, stats.calculus_columns, 10)\n",
    "strategy_top_1 = StrategyRating(stats.players_stats, stats.calculus_columns, 1)\n",
    "strategy_top_30 = StrategyRating(stats.players_stats, stats.calculus_columns, 30)\n",
    "\n",
    "stats.add_strategy(strategy_top_1)\n",
    "stats.add_strategy(strategy_top_10)\n",
    "stats.add_strategy(strategy_top_30)\n",
    "\n",
    "new_record = pd.read_csv('boxscoretraditionalv2_0_0012100003.csv') \n",
    "stats.add_record(new_record)"
   ]
  },
  {
   "cell_type": "code",
   "execution_count": 6,
   "metadata": {},
   "outputs": [
    {
     "name": "stdout",
     "output_type": "stream",
     "text": [
      "StrategyRating Top-1\n",
      "{'description': 'Top 1 players', 'values': {'in_top': {}, 'out_top': {}}}\n",
      "----------------------------------------------------------------------\n",
      "StrategyRating Top-10\n",
      "{'description': 'Top 10 players',\n",
      " 'values': {'in_top': {'DREB': {1628976},\n",
      "                       'FG3M': {203897, 1627741},\n",
      "                       'FGA': {1628369},\n",
      "                       'FT_PCT': {1627846},\n",
      "                       'REB': {1628976},\n",
      "                       'STL': {204456}},\n",
      "            'out_top': {'DREB': {203999},\n",
      "                        'FG3M': {203468, 1629670},\n",
      "                        'FGA': {1630163},\n",
      "                        'FT_PCT': {1629639},\n",
      "                        'REB': {1628381},\n",
      "                        'STL': {1630163}}}}\n",
      "----------------------------------------------------------------------\n",
      "StrategyRating Top-30\n",
      "{'description': 'Top 30 players',\n",
      " 'values': {'in_top': {'AST': {203471},\n",
      "                       'BLK': {203083, 1630167},\n",
      "                       'DREB': {1628964},\n",
      "                       'FG3M': {203903, 1630175},\n",
      "                       'FGA': {1628384},\n",
      "                       'FTA': {1628372},\n",
      "                       'FTM': {1628369},\n",
      "                       'FT_PCT': {203897,\n",
      "                                  1628960,\n",
      "                                  1628970,\n",
      "                                  1628991,\n",
      "                                  1629004,\n",
      "                                  1630188},\n",
      "                       'MIN': {1628369, 1630532, 1630175},\n",
      "                       'OREB': {1628976, 1628389},\n",
      "                       'PF': {1629628, 1628964, 1630175},\n",
      "                       'PTS': {1630162},\n",
      "                       'REB': {1628369, 1630578, 1630175},\n",
      "                       'STL': {1630532, 203901, 203471},\n",
      "                       'TO': {1628976, 1630175}},\n",
      "            'out_top': {'AST': {200765},\n",
      "                        'BLK': {1628392, 1628401},\n",
      "                        'DREB': {1628366},\n",
      "                        'FG3M': {2546, 1629628},\n",
      "                        'FGA': {1628378},\n",
      "                        'FTA': {203994},\n",
      "                        'FTM': {1630175},\n",
      "                        'FT_PCT': {202696,\n",
      "                                   1628385,\n",
      "                                   1628386,\n",
      "                                   1628467,\n",
      "                                   1629750,\n",
      "                                   1630267},\n",
      "                        'MIN': {1630530, 201142, 201935},\n",
      "                        'OREB': {1630170, 203083},\n",
      "                        'PF': {1630163, 1629611, 1626174},\n",
      "                        'PTS': {1627763},\n",
      "                        'REB': {1629011, 1626158, 1630567},\n",
      "                        'STL': {1627832, 1627734, 203078},\n",
      "                        'TO': {203994, 1626156}}}}\n",
      "----------------------------------------------------------------------\n"
     ]
    }
   ],
   "source": [
    "for strategy in stats.strategies:#['StrategyRating Top-100'].show_data_strategy()\n",
    "    print(strategy)\n",
    "    pprint(stats.strategies[strategy].show_data_strategy())\n",
    "    print('----------------------------------------------------------------------')"
   ]
  },
  {
   "cell_type": "code",
   "execution_count": 14,
   "metadata": {},
   "outputs": [],
   "source": [
    "prompt = ''\n",
    "  \n",
    "def get_completion(prompt, model=\"gpt-3.5-turbo\"):\n",
    "    messages = [{\"role\": \"user\", \"content\": prompt}]\n",
    "    response = openai.ChatCompletion.create(\n",
    "        model=model,\n",
    "        messages=messages,\n",
    "        temperature=0, # this is the degree of randomness of the model's output\n",
    "    )\n",
    "    return response.choices[0].message[\"content\"]\n",
    "  \n",
    "# get_completion(prompt, model=\"gpt-3.5-turbo\")\n"
   ]
  }
 ],
 "metadata": {
  "kernelspec": {
   "display_name": "venv",
   "language": "python",
   "name": "python3"
  },
  "language_info": {
   "codemirror_mode": {
    "name": "ipython",
    "version": 3
   },
   "file_extension": ".py",
   "mimetype": "text/x-python",
   "name": "python",
   "nbconvert_exporter": "python",
   "pygments_lexer": "ipython3",
   "version": "3.9.0"
  }
 },
 "nbformat": 4,
 "nbformat_minor": 2
}
