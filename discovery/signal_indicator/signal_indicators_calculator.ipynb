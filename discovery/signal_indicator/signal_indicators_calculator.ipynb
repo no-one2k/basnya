{
 "cells": [
  {
   "cell_type": "code",
   "execution_count": 11,
   "metadata": {},
   "outputs": [],
   "source": [
    "import pandas as pd \n",
    "import os\n",
    "from pathlib import Path\n",
    "from tqdm import tqdm \n",
    "import os\n",
    "from pathlib import Path\n",
    "import pandas as pd\n",
    "from tqdm import tqdm\n",
    "from typing import Optional"
   ]
  },
  {
   "cell_type": "markdown",
   "metadata": {},
   "source": [
    "### utils\n"
   ]
  },
  {
   "cell_type": "code",
   "execution_count": 16,
   "metadata": {},
   "outputs": [],
   "source": [
    "def min_to_second(time_str: Optional[str]) -> int:\n",
    "    \"\"\"\n",
    "    Перевод времени в удобный формат (в секунды)\n",
    "    Аргументы:\n",
    "       time_str - время в формате str \n",
    "    Возвращает:\n",
    "        время в секундах\n",
    "    \"\"\"\n",
    "    \n",
    "    if isinstance(time_str, str):\n",
    "        minute, second =time_str.split(':')\n",
    "        minute = int(minute.split('.')[0]) * 60 \n",
    "        second = int(second)\n",
    "        return  second + minute\n",
    "    return time_str\n",
    "\n",
    "def search_signal_indicators(path_resource: str, player_id:int, targets: list[str]):\n",
    "    \"\"\"\n",
    "    Рассчёт показателей (targets) для игрока с указанным id для всех игр сезона \n",
    "    \n",
    "    Аргументы:\n",
    "       path_resource - путьдо папки с файлами для каждой игры сезона \n",
    "       player_id - идентификатор игрока \n",
    "       targets - целевые переменные, которые необходимо отслеживать\n",
    "    \"\"\"\n",
    "    file_list = os.listdir(path_resource) # список путей для всех файлов с играми сезона \n",
    "    all_stat = pd.Series()\n",
    "    for file_name in tqdm(file_list, total=len(file_list)):\n",
    "            df = pd.read_csv(Path(path_resource) / Path(file_name))\n",
    "            if  'PLAYER_ID' not in df.columns:\n",
    "                continue\n",
    "            elif df['PLAYER_ID'].isin([player_id]).any():\n",
    "                one_player = df.query(f\"\"\"PLAYER_ID=={player_id}\"\"\")[targets].iloc[0,:]\n",
    "                all_stat  = pd.concat([all_stat , one_player], axis=1).fillna(0) \n",
    "                \n",
    "                \n",
    "\n",
    "    all_stat = all_stat.fillna(0).T.rename(columns={'MIN':'SECOND'})    \n",
    "    all_stat['MIN'] = all_stat['MIN'].apply(min_to_second)\n",
    "    all_stat = all_stat.sum(0)\n",
    "    all_stat['PLAYER_ID'] = player_id\n",
    "    \n",
    "    return all_stat\n",
    "    "
   ]
  },
  {
   "cell_type": "markdown",
   "metadata": {},
   "source": [
    "### get stat"
   ]
  },
  {
   "cell_type": "code",
   "execution_count": 18,
   "metadata": {},
   "outputs": [
    {
     "name": "stderr",
     "output_type": "stream",
     "text": [
      "  0%|          | 0/6273 [00:00<?, ?it/s]"
     ]
    },
    {
     "name": "stderr",
     "output_type": "stream",
     "text": [
      " 13%|█▎        | 836/6273 [00:02<00:13, 404.32it/s]"
     ]
    }
   ],
   "source": [
    "\n",
    "\"\"\"\n",
    "- 'MIN': время на площадке (в минутах)\n",
    "- 'FGM': количество успешных попыток бросков из игры\n",
    "- 'FGA': количество попыток бросков из игры\n",
    "- 'FG3M': количество успешных трехочковых бросков\n",
    "- 'FG3A': количество попыток трехочковых бросков\n",
    "- 'FTM': количество успешных штрафных бросков\n",
    "- 'FTA': количество попыток штрафных бросков\n",
    "- 'FT_PCT': процент успешных штрафных бросков\n",
    "- 'OREB': количество подборов в нападении\n",
    "- 'DREB': количество подборов в защите\n",
    "- 'REB': общее количество подборов\n",
    "- 'AST': количество передач\n",
    "- 'STL': количество перехватов\n",
    "- 'BLK': количество блок-шотов\n",
    "- 'TO': количество потерь мяча\n",
    "- 'PF': количество фолов\n",
    "- 'PTS': количество набранных очков\n",
    "\"\"\"\n",
    "\n",
    "target_columns = ['MIN', 'FGM', 'FGA', 'FG3M','FTM','FTA','FT_PCT',  'OREB','DREB','REB','AST','STL','BLK', 'TO','PF','PTS']\n",
    "folder_path = r'resource\\boxscoretraditionalv2'  # Замените на путь к вашей папке c файлами \n",
    "file_list = os.listdir(folder_path)\n",
    "player_id = 1628975\n",
    "\n",
    "search_signal_indicators(path_resource=folder_path,\n",
    "                         player_id=player_id, \n",
    "                         targets=target_columns)"
   ]
  },
  {
   "cell_type": "code",
   "execution_count": 8,
   "metadata": {},
   "outputs": [
    {
     "data": {
      "text/plain": [
       "MIN       67384\n",
       "FGM       123.0\n",
       "FGA       308.0\n",
       "FG3M       80.0\n",
       "FTM        17.0\n",
       "FTA        20.0\n",
       "FT_PCT      7.5\n",
       "OREB       18.0\n",
       "DREB      114.0\n",
       "REB       132.0\n",
       "AST       111.0\n",
       "STL        35.0\n",
       "BLK        15.0\n",
       "TO         47.0\n",
       "PF         89.0\n",
       "PTS       343.0\n",
       "dtype: object"
      ]
     },
     "execution_count": 8,
     "metadata": {},
     "output_type": "execute_result"
    }
   ],
   "source": [
    "aggregation_data = all_stat.sum(0)\n",
    "aggregation_data"
   ]
  }
 ],
 "metadata": {
  "kernelspec": {
   "display_name": "Python 3",
   "language": "python",
   "name": "python3"
  },
  "language_info": {
   "codemirror_mode": {
    "name": "ipython",
    "version": 3
   },
   "file_extension": ".py",
   "mimetype": "text/x-python",
   "name": "python",
   "nbconvert_exporter": "python",
   "pygments_lexer": "ipython3",
   "version": "3.9.0"
  }
 },
 "nbformat": 4,
 "nbformat_minor": 2
}
