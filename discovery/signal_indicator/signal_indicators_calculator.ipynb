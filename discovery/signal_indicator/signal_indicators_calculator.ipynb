{
 "cells": [
  {
   "cell_type": "code",
   "execution_count": 228,
   "metadata": {},
   "outputs": [
    {
     "data": {
      "text/plain": [
       "\"\\n- 'MIN': время на площадке (в минутах)\\n- 'FGM': количество успешных попыток бросков из игры\\n- 'FGA': количество попыток бросков из игры\\n- 'FG3M': количество успешных трехочковых бросков\\n- 'FG3A': количество попыток трехочковых бросков\\n- 'FTM': количество успешных штрафных бросков\\n- 'FTA': количество попыток штрафных бросков\\n- 'FT_PCT': процент успешных штрафных бросков\\n- 'OREB': количество подборов в нападении\\n- 'DREB': количество подборов в защите\\n- 'REB': общее количество подборов\\n- 'AST': количество передач\\n- 'STL': количество перехватов\\n- 'BLK': количество блок-шотов\\n- 'TO': количество потерь мяча\\n- 'PF': количество фолов\\n- 'PTS': количество набранных очков\\n\""
      ]
     },
     "execution_count": 228,
     "metadata": {},
     "output_type": "execute_result"
    }
   ],
   "source": [
    "import pandas as pd \n",
    "import os\n",
    "from pathlib import Path\n",
    "from tqdm import tqdm \n",
    "import os\n",
    "from pathlib import Path\n",
    "import pandas as pd\n",
    "from tqdm import tqdm\n",
    "from typing import Optional\n",
    "from dataclasses import dataclass\n",
    "import re\n",
    "\"\"\"\n",
    "- 'MIN': время на площадке (в минутах)\n",
    "- 'FGM': количество успешных попыток бросков из игры\n",
    "- 'FGA': количество попыток бросков из игры\n",
    "- 'FG3M': количество успешных трехочковых бросков\n",
    "- 'FG3A': количество попыток трехочковых бросков\n",
    "- 'FTM': количество успешных штрафных бросков\n",
    "- 'FTA': количество попыток штрафных бросков\n",
    "- 'FT_PCT': процент успешных штрафных бросков\n",
    "- 'OREB': количество подборов в нападении\n",
    "- 'DREB': количество подборов в защите\n",
    "- 'REB': общее количество подборов\n",
    "- 'AST': количество передач\n",
    "- 'STL': количество перехватов\n",
    "- 'BLK': количество блок-шотов\n",
    "- 'TO': количество потерь мяча\n",
    "- 'PF': количество фолов\n",
    "- 'PTS': количество набранных очков\n",
    "\"\"\"\n",
    "\n",
    "# словарь с границами, по достижению которых срабатыват сигнальный показатель\n",
    "\n"
   ]
  },
  {
   "cell_type": "code",
   "execution_count": 242,
   "metadata": {},
   "outputs": [
    {
     "name": "stderr",
     "output_type": "stream",
     "text": [
      "100%|██████████| 6273/6273 [00:13<00:00, 475.47it/s]\n"
     ]
    }
   ],
   "source": [
    "def min_to_second(string):\n",
    "    if isinstance(string, str):\n",
    "        pattern = r\"(\\d+)\\.(\\d+):(\\d+)\"\n",
    "\n",
    "        match = re.match(pattern, string)\n",
    "        if match:\n",
    "            minutes = int(match.group(1))*60\n",
    "            seconds = int(match.group(3))\n",
    "            return minutes+seconds\n",
    "    else:\n",
    "        return 0\n",
    "\n",
    "\n",
    "class Indicator:\n",
    "    def __init__(self, title:str, tresholder:Optional[int], player_id):\n",
    "        self.title = title\n",
    "        self.tresholder = tresholder\n",
    "        self.game_id = None\n",
    "        self.value = 0\n",
    "        self.done = False\n",
    "        self.game_id = None\n",
    "        self.player_id = player_id\n",
    "        \n",
    "    def __repr__(self):\n",
    "        return f'{self.title} \\ntreshold:{self.tresholder}\\n value:{self.value}\\ndone: {self.done}\\ngame_id:{self.game_id}\\n player id:{self.player_id}\\n\\n'\n",
    "    \n",
    "    def add_value(self, value, game_id):\n",
    "        self.value += value\n",
    "        if not self.done:\n",
    "            if (self.tresholder != None) & (self.value != None):\n",
    "                if self.value >=self.tresholder:\n",
    "                    self.done = True\n",
    "                    self.game_id = game_id\n",
    "\n",
    "# Указать порог срабатывания сигнальных показателей      \n",
    "thresholds = {\n",
    "    'MIN': 1500, \n",
    "    'FGM': 10000000,\n",
    "    'FGA': 30000,\n",
    "    'FG3M': None,\n",
    "    'FTM': None,\n",
    "    'FTA': None,\n",
    "    'FT_PCT': None,\n",
    "    'OREB': None,\n",
    "    'DREB': None,\n",
    "    'REB': None,\n",
    "    'AST': 1000000,\n",
    "    'STL': None,\n",
    "    'BLK': None,\n",
    "    'TO': None,\n",
    "    'PF': None,\n",
    "    'PTS': 200\n",
    "            }\n",
    "\n",
    "# используемые колонки\n",
    "TARGET_COLUMNS = ['MIN', 'FGM','FGA','FG3M','FTM','FTA','FT_PCT','OREB','DREB','REB','AST','STL','BLK','TO','PF','PTS','GAME_ID']\n",
    "player_id = 1628975\n",
    "\n",
    "\n",
    "# путь до файлов .csv с результатами игр\n",
    "path_resource = r'resource\\boxscoretraditionalv2'      \n",
    "file_list = os.listdir(path_resource) # список путей для всех файлов с играми сезона \n",
    "indicators = {k:Indicator(title=k, tresholder=v,player_id=player_id) for k,v in thresholds.items()}\n",
    "\n",
    "for file_name in tqdm(file_list, total=len(file_list)):\n",
    "        df = pd.read_csv(Path(path_resource) / Path(file_name))\n",
    "        if  'PLAYER_ID' not in df.columns:\n",
    "            continue\n",
    "        # Если игрок участвовал в игре\n",
    "        elif df['PLAYER_ID'].isin([player_id]).any():\n",
    "            one_player = df.query(f\"\"\"PLAYER_ID=={player_id}\"\"\")[TARGET_COLUMNS].fillna(0)\n",
    "            one_player['MIN'] = one_player['MIN'].apply(min_to_second)\n",
    "            for col in thresholds.keys():\n",
    "                    value = one_player[col].values[0]\n",
    "                    game_id = one_player['GAME_ID'].values[0]\n",
    "                    obj = indicators[col]\n",
    "                    obj.add_value(value,game_id) \n",
    "                    indicators[col] =  obj \n",
    "                  "
   ]
  },
  {
   "cell_type": "code",
   "execution_count": 241,
   "metadata": {},
   "outputs": [
    {
     "data": {
      "text/plain": [
       "{'MIN': MIN \n",
       " treshold:1500\n",
       "  value:67384\n",
       " done: True\n",
       " game_id:12100001\n",
       "  player id:1628975\n",
       " ,\n",
       " 'PTS': PTS \n",
       " treshold:300\n",
       "  value:343.0\n",
       " done: True\n",
       " game_id:22101156\n",
       "  player id:1628975\n",
       " }"
      ]
     },
     "execution_count": 241,
     "metadata": {},
     "output_type": "execute_result"
    }
   ],
   "source": [
    "indicators_done = {k:v for k,v in indicators.items() if v.done}\n",
    "indicators_done"
   ]
  }
 ],
 "metadata": {
  "kernelspec": {
   "display_name": "Python 3",
   "language": "python",
   "name": "python3"
  },
  "language_info": {
   "codemirror_mode": {
    "name": "ipython",
    "version": 3
   },
   "file_extension": ".py",
   "mimetype": "text/x-python",
   "name": "python",
   "nbconvert_exporter": "python",
   "pygments_lexer": "ipython3",
   "version": "3.9.0"
  }
 },
 "nbformat": 4,
 "nbformat_minor": 2
}
