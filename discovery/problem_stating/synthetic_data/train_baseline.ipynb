{
 "cells": [
  {
   "cell_type": "code",
   "execution_count": 1,
   "id": "0d93b46d-55c0-4c53-b15c-df2e442ac1ae",
   "metadata": {},
   "outputs": [],
   "source": [
    "import pandas as pd\n",
    "from sklearn.model_selection import train_test_split\n",
    "from sklearn.ensemble import RandomForestClassifier\n",
    "from sklearn.metrics import accuracy_score, precision_score, recall_score, f1_score, roc_auc_score, confusion_matrix"
   ]
  },
  {
   "cell_type": "code",
   "execution_count": 2,
   "id": "c51686f0-6c04-40b9-bb2c-d5b921a2737e",
   "metadata": {},
   "outputs": [],
   "source": [
    "# Step 1: Load the data\n",
    "data = pd.read_csv(\"synth_2020_22.csv.zip\", compression=\"zip\")\n",
    "\n",
    "# Step 2: Preprocess the data\n",
    "# You'll need to specify the columns that are categorical and numerical.\n",
    "# Replace \"categorical_columns\" and \"numerical_columns\" with your actual column names.\n",
    "# For this example, I'll assume \"categorical_columns\" and \"numerical_columns\" are defined properly.\n",
    "\n",
    "# Handle missing values if needed\n",
    "# data.fillna(0, inplace=True)  # You can replace 0 with an appropriate value\n",
    "\n",
    "# # Encode categorical variables using one-hot encoding\n",
    "# data = pd.get_dummies(data, columns=categorical_columns)\n",
    "BASIC_COLS = ['PTS', 'REB', 'AST', 'STL', 'BLK', 'min_sec', 'FGM', 'FG3M', 'FTM', 'TO', 'PLUS_MINUS']\n",
    "PAIR_COLS = ['pts_plus_reb', 'pts_plus_ast', 'ast_plus_reb', 'ast_minus_to', 'str_plus_blk']\n",
    "COLS = BASIC_COLS + PAIR_COLS"
   ]
  },
  {
   "cell_type": "code",
   "execution_count": 3,
   "id": "7a5179de-999d-4eb5-8677-b72942218e7b",
   "metadata": {},
   "outputs": [
    {
     "name": "stdout",
     "output_type": "stream",
     "text": [
      "(39300, 16) (9793, 16) (39300,) (9793,)\n"
     ]
    }
   ],
   "source": [
    "# Split the dataset into training and testing sets based on GAME_DATE\n",
    "split_date = \"2022-02-01\"  # Replace with your desired date\n",
    "train_data = data[data[\"GAME_DATE\"] < split_date]\n",
    "test_data = data[data[\"GAME_DATE\"] >= split_date]\n",
    "\n",
    "# Define your target variable (y) and features (X)\n",
    "X_train = train_data[COLS]\n",
    "y_train = train_data[[\"synth_max_season\", \"synth_max_league\"]].max(axis=1)\n",
    "\n",
    "X_test = test_data[COLS]\n",
    "y_test = test_data[[\"synth_max_season\", \"synth_max_league\"]].max(axis=1)\n",
    "\n",
    "print(X_train.shape, X_test.shape, y_train.shape, y_test.shape)"
   ]
  },
  {
   "cell_type": "code",
   "execution_count": 6,
   "id": "86054ec7-9992-4680-9499-efbc49fa7aeb",
   "metadata": {},
   "outputs": [
    {
     "name": "stdout",
     "output_type": "stream",
     "text": [
      "Accuracy: 0.9976513836413765\n",
      "Precision: 0.7307692307692307\n",
      "Recall: 0.9661016949152542\n",
      "F1 Score: 0.8321167883211679\n",
      "ROC AUC Score: 0.981972154217438\n",
      "Confusion Matrix:\n",
      " [[9713   21]\n",
      " [   2   57]]\n"
     ]
    }
   ],
   "source": [
    "# Step 3: Train the Random Forest classifier\n",
    "rf_classifier = RandomForestClassifier(n_estimators=300, n_jobs=5, random_state=42)\n",
    "rf_classifier.fit(X_train, y_train)\n",
    "\n",
    "# Step 4: Evaluate the model\n",
    "y_pred = rf_classifier.predict(X_test)\n",
    "\n",
    "# Calculate proper metrics for unbalanced binary classification\n",
    "accuracy = accuracy_score(y_test, y_pred)\n",
    "precision = precision_score(y_test, y_pred)\n",
    "recall = recall_score(y_test, y_pred)\n",
    "f1 = f1_score(y_test, y_pred)\n",
    "roc_auc = roc_auc_score(y_test, y_pred)\n",
    "conf_matrix = confusion_matrix(y_test, y_pred)\n",
    "\n",
    "print(\"Accuracy:\", accuracy)\n",
    "print(\"Precision:\", precision)\n",
    "print(\"Recall:\", recall)\n",
    "print(\"F1 Score:\", f1)\n",
    "print(\"ROC AUC Score:\", roc_auc)\n",
    "print(\"Confusion Matrix:\\n\", conf_matrix)"
   ]
  }
 ],
 "metadata": {
  "kernelspec": {
   "display_name": "Python 3 (ipykernel)",
   "language": "python",
   "name": "python3"
  },
  "language_info": {
   "codemirror_mode": {
    "name": "ipython",
    "version": 3
   },
   "file_extension": ".py",
   "mimetype": "text/x-python",
   "name": "python",
   "nbconvert_exporter": "python",
   "pygments_lexer": "ipython3",
   "version": "3.8.18"
  }
 },
 "nbformat": 4,
 "nbformat_minor": 5
}
