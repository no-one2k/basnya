{
 "cells": [
  {
   "cell_type": "code",
   "execution_count": 1,
   "metadata": {
    "collapsed": true,
    "pycharm": {
     "name": "#%%\n"
    }
   },
   "outputs": [],
   "source": [
    "import great_expectations as ge\n",
    "import pandas as pd"
   ]
  },
  {
   "cell_type": "code",
   "execution_count": 28,
   "outputs": [
    {
     "data": {
      "text/plain": "     GAME_ID     TEAM_ID TEAM_ABBREVIATION TEAM_CITY  PLAYER_ID  \\\n0   12100011  1610612754               IND   Indiana     203087   \n1   12100011  1610612754               IND   Indiana    1627734   \n2   12100011  1610612754               IND   Indiana    1626167   \n3   12100011  1610612754               IND   Indiana    1627763   \n4   12100011  1610612754               IND   Indiana     203200   \n5   12100011  1610612754               IND   Indiana    1630537   \n6   12100011  1610612754               IND   Indiana    1628470   \n7   12100011  1610612754               IND   Indiana    1630543   \n8   12100011  1610612754               IND   Indiana     204456   \n9   12100011  1610612754               IND   Indiana    1629052   \n10  12100011  1610612754               IND   Indiana    1629048   \n11  12100011  1610612754               IND   Indiana    1629103   \n12  12100011  1610612754               IND   Indiana    1626208   \n13  12100011  1610612754               IND   Indiana    1630613   \n14  12100011  1610612754               IND   Indiana    1630207   \n15  12100011  1610612754               IND   Indiana    1630678   \n16  12100011  1610612754               IND   Indiana    1630610   \n17  12100011  1610612754               IND   Indiana    1627747   \n18  12100011  1610612754               IND   Indiana    1628410   \n19  12100011  1610612754               IND   Indiana     203933   \n20  12100011  1610612752               NYK  New York    1629628   \n21  12100011  1610612752               NYK  New York     203944   \n22  12100011  1610612752               NYK  New York     201959   \n23  12100011  1610612752               NYK  New York     203095   \n24  12100011  1610612752               NYK  New York     202689   \n25  12100011  1610612752               NYK  New York     201565   \n26  12100011  1610612752               NYK  New York     202692   \n27  12100011  1610612752               NYK  New York    1630579   \n28  12100011  1610612752               NYK  New York    1630167   \n29  12100011  1610612752               NYK  New York    1630193   \n30  12100011  1610612752               NYK  New York    1630540   \n31  12100011  1610612752               NYK  New York    1629656   \n32  12100011  1610612752               NYK  New York    1628995   \n33  12100011  1610612752               NYK  New York    1630603   \n34  12100011  1610612752               NYK  New York    1628407   \n35  12100011  1610612752               NYK  New York     203457   \n36  12100011  1610612752               NYK  New York    1629011   \n37  12100011  1610612752               NYK  New York    1627782   \n38  12100011  1610612752               NYK  New York    1630640   \n\n             PLAYER_NAME  NICKNAME START_POSITION                 COMMENT  \\\n0            Jeremy Lamb    Jeremy              F                     NaN   \n1       Domantas Sabonis  Domantas              F                     NaN   \n2           Myles Turner     Myles              C                     NaN   \n3        Malcolm Brogdon   Malcolm              G                     NaN   \n4         Justin Holiday    Justin              G                     NaN   \n5           Chris Duarte     Chris            NaN                     NaN   \n6           Torrey Craig    Torrey            NaN                     NaN   \n7         Isaiah Jackson    Isaiah            NaN                     NaN   \n8         T.J. McConnell      T.J.            NaN                     NaN   \n9         Oshae Brissett     Oshae            NaN                     NaN   \n10          Goga Bitadze      Goga            NaN                     NaN   \n11          Kelan Martin     Kelan            NaN                     NaN   \n12          Keifer Sykes    Keifer            NaN                     NaN   \n13  Duane Washington Jr.     Duane            NaN                     NaN   \n14           Nate Hinton      Nate            NaN                     NaN   \n15          Terry Taylor     Terry            NaN                     NaN   \n16         DeJon Jarreau     DeJon            NaN                     NaN   \n17          Caris LeVert     Caris            NaN    DNP - Injury/Illness   \n18         Edmond Sumner    Edmond            NaN    DNP - Injury/Illness   \n19           T.J. Warren      T.J.            NaN    DNP - Injury/Illness   \n20            RJ Barrett        RJ              F                     NaN   \n21         Julius Randle    Julius              F                     NaN   \n22            Taj Gibson       Taj              C                     NaN   \n23         Evan Fournier      Evan              G                     NaN   \n24          Kemba Walker     Kemba              G                     NaN   \n25          Derrick Rose   Derrick            NaN                     NaN   \n26            Alec Burks      Alec            NaN                     NaN   \n27          Jericho Sims   Jericho            NaN                     NaN   \n28            Obi Toppin       Obi            NaN                     NaN   \n29     Immanuel Quickley  Immanuel            NaN                     NaN   \n30         Miles McBride     Miles            NaN                     NaN   \n31        Quentin Grimes   Quentin            NaN                     NaN   \n32         Kevin Knox II     Kevin            NaN                     NaN   \n33           Aamir Simms     Aamir            NaN                     NaN   \n34          Dwayne Bacon    Dwayne            NaN  DNP - Coach's Decision   \n35          Nerlens Noel   Nerlens            NaN    DNP - Injury/Illness   \n36     Mitchell Robinson  Mitchell            NaN    DNP - Injury/Illness   \n37          Wayne Selden     Wayne            NaN  DNP - Coach's Decision   \n38             MJ Walker        MJ            NaN  DNP - Coach's Decision   \n\n             MIN  ...  OREB  DREB  REB  AST  STL  BLK   TO   PF   PTS  \\\n0   16.000000:29  ...   1.0   8.0  9.0  2.0  0.0  1.0  0.0  3.0   7.0   \n1   20.000000:28  ...   2.0   6.0  8.0  3.0  0.0  1.0  1.0  1.0   6.0   \n2   17.000000:48  ...   0.0   4.0  4.0  2.0  0.0  1.0  2.0  2.0  10.0   \n3   17.000000:48  ...   1.0   1.0  2.0  4.0  0.0  0.0  4.0  1.0   5.0   \n4   17.000000:48  ...   0.0   1.0  1.0  0.0  0.0  0.0  1.0  1.0  13.0   \n5   19.000000:31  ...   1.0   1.0  2.0  5.0  0.0  1.0  2.0  0.0  15.0   \n6   18.000000:12  ...   0.0   4.0  4.0  2.0  0.0  0.0  0.0  0.0   5.0   \n7   12.000000:51  ...   2.0   2.0  4.0  0.0  0.0  0.0  1.0  3.0   4.0   \n8   18.000000:12  ...   1.0   3.0  4.0  1.0  1.0  1.0  1.0  0.0  10.0   \n9   16.000000:18  ...   0.0   2.0  2.0  0.0  0.0  1.0  0.0  5.0   8.0   \n10  11.000000:44  ...   0.0   2.0  2.0  0.0  0.0  2.0  1.0  2.0   3.0   \n11  15.000000:10  ...   0.0   2.0  2.0  2.0  0.0  0.0  0.0  1.0   6.0   \n12  12.000000:00  ...   0.0   0.0  0.0  2.0  0.0  0.0  1.0  2.0   5.0   \n13   6.000000:23  ...   0.0   3.0  3.0  1.0  0.0  0.0  0.0  0.0   2.0   \n14   8.000000:04  ...   0.0   4.0  4.0  1.0  0.0  0.0  2.0  1.0   0.0   \n15   5.000000:37  ...   2.0   0.0  2.0  0.0  0.0  0.0  0.0  0.0   4.0   \n16   5.000000:37  ...   1.0   0.0  1.0  1.0  0.0  0.0  0.0  0.0   1.0   \n17           NaN  ...   NaN   NaN  NaN  NaN  NaN  NaN  NaN  NaN   NaN   \n18           NaN  ...   NaN   NaN  NaN  NaN  NaN  NaN  NaN  NaN   NaN   \n19           NaN  ...   NaN   NaN  NaN  NaN  NaN  NaN  NaN  NaN   NaN   \n20  25.000000:27  ...   0.0   3.0  3.0  2.0  1.0  0.0  0.0  2.0  17.0   \n21  29.000000:48  ...   1.0   8.0  9.0  2.0  2.0  1.0  0.0  1.0  20.0   \n22  21.000000:06  ...   1.0   5.0  6.0  3.0  1.0  1.0  0.0  3.0  14.0   \n23  26.000000:34  ...   0.0   4.0  4.0  1.0  0.0  0.0  1.0  1.0  12.0   \n24  21.000000:08  ...   0.0   3.0  3.0  4.0  0.0  0.0  0.0  0.0  12.0   \n25  21.000000:15  ...   1.0   3.0  4.0  3.0  1.0  0.0  0.0  0.0   8.0   \n26  18.000000:13  ...   0.0   0.0  0.0  2.0  1.0  0.0  0.0  2.0   8.0   \n27  24.000000:37  ...   3.0   3.0  6.0  2.0  0.0  0.0  1.0  2.0   8.0   \n28  14.000000:08  ...   1.0   4.0  5.0  0.0  0.0  0.0  1.0  1.0  10.0   \n29  21.000000:26  ...   0.0   6.0  6.0  7.0  0.0  1.0  0.0  0.0  10.0   \n30   5.000000:37  ...   0.0   0.0  0.0  0.0  0.0  0.0  0.0  0.0   0.0   \n31   4.000000:20  ...   0.0   0.0  0.0  0.0  0.0  0.0  0.0  2.0   0.0   \n32   4.000000:04  ...   0.0   2.0  2.0  0.0  0.0  0.0  0.0  0.0   4.0   \n33   2.000000:17  ...   0.0   1.0  1.0  0.0  0.0  0.0  0.0  0.0   2.0   \n34           NaN  ...   NaN   NaN  NaN  NaN  NaN  NaN  NaN  NaN   NaN   \n35           NaN  ...   NaN   NaN  NaN  NaN  NaN  NaN  NaN  NaN   NaN   \n36           NaN  ...   NaN   NaN  NaN  NaN  NaN  NaN  NaN  NaN   NaN   \n37           NaN  ...   NaN   NaN  NaN  NaN  NaN  NaN  NaN  NaN   NaN   \n38           NaN  ...   NaN   NaN  NaN  NaN  NaN  NaN  NaN  NaN   NaN   \n\n    PLUS_MINUS  \n0         -9.0  \n1        -10.0  \n2         -8.0  \n3         -8.0  \n4         -8.0  \n5        -12.0  \n6        -13.0  \n7        -15.0  \n8        -13.0  \n9        -11.0  \n10         1.0  \n11         4.0  \n12         0.0  \n13        -1.0  \n14        -4.0  \n15         1.0  \n16         1.0  \n17         NaN  \n18         NaN  \n19         NaN  \n20        20.0  \n21        17.0  \n22        22.0  \n23        19.0  \n24        12.0  \n25        10.0  \n26         0.0  \n27        -1.0  \n28         3.0  \n29         2.0  \n30        -1.0  \n31         1.0  \n32         1.0  \n33         0.0  \n34         NaN  \n35         NaN  \n36         NaN  \n37         NaN  \n38         NaN  \n\n[39 rows x 29 columns]",
      "text/html": "<div>\n<style scoped>\n    .dataframe tbody tr th:only-of-type {\n        vertical-align: middle;\n    }\n\n    .dataframe tbody tr th {\n        vertical-align: top;\n    }\n\n    .dataframe thead th {\n        text-align: right;\n    }\n</style>\n<table border=\"1\" class=\"dataframe\">\n  <thead>\n    <tr style=\"text-align: right;\">\n      <th></th>\n      <th>GAME_ID</th>\n      <th>TEAM_ID</th>\n      <th>TEAM_ABBREVIATION</th>\n      <th>TEAM_CITY</th>\n      <th>PLAYER_ID</th>\n      <th>PLAYER_NAME</th>\n      <th>NICKNAME</th>\n      <th>START_POSITION</th>\n      <th>COMMENT</th>\n      <th>MIN</th>\n      <th>...</th>\n      <th>OREB</th>\n      <th>DREB</th>\n      <th>REB</th>\n      <th>AST</th>\n      <th>STL</th>\n      <th>BLK</th>\n      <th>TO</th>\n      <th>PF</th>\n      <th>PTS</th>\n      <th>PLUS_MINUS</th>\n    </tr>\n  </thead>\n  <tbody>\n    <tr>\n      <th>0</th>\n      <td>12100011</td>\n      <td>1610612754</td>\n      <td>IND</td>\n      <td>Indiana</td>\n      <td>203087</td>\n      <td>Jeremy Lamb</td>\n      <td>Jeremy</td>\n      <td>F</td>\n      <td>NaN</td>\n      <td>16.000000:29</td>\n      <td>...</td>\n      <td>1.0</td>\n      <td>8.0</td>\n      <td>9.0</td>\n      <td>2.0</td>\n      <td>0.0</td>\n      <td>1.0</td>\n      <td>0.0</td>\n      <td>3.0</td>\n      <td>7.0</td>\n      <td>-9.0</td>\n    </tr>\n    <tr>\n      <th>1</th>\n      <td>12100011</td>\n      <td>1610612754</td>\n      <td>IND</td>\n      <td>Indiana</td>\n      <td>1627734</td>\n      <td>Domantas Sabonis</td>\n      <td>Domantas</td>\n      <td>F</td>\n      <td>NaN</td>\n      <td>20.000000:28</td>\n      <td>...</td>\n      <td>2.0</td>\n      <td>6.0</td>\n      <td>8.0</td>\n      <td>3.0</td>\n      <td>0.0</td>\n      <td>1.0</td>\n      <td>1.0</td>\n      <td>1.0</td>\n      <td>6.0</td>\n      <td>-10.0</td>\n    </tr>\n    <tr>\n      <th>2</th>\n      <td>12100011</td>\n      <td>1610612754</td>\n      <td>IND</td>\n      <td>Indiana</td>\n      <td>1626167</td>\n      <td>Myles Turner</td>\n      <td>Myles</td>\n      <td>C</td>\n      <td>NaN</td>\n      <td>17.000000:48</td>\n      <td>...</td>\n      <td>0.0</td>\n      <td>4.0</td>\n      <td>4.0</td>\n      <td>2.0</td>\n      <td>0.0</td>\n      <td>1.0</td>\n      <td>2.0</td>\n      <td>2.0</td>\n      <td>10.0</td>\n      <td>-8.0</td>\n    </tr>\n    <tr>\n      <th>3</th>\n      <td>12100011</td>\n      <td>1610612754</td>\n      <td>IND</td>\n      <td>Indiana</td>\n      <td>1627763</td>\n      <td>Malcolm Brogdon</td>\n      <td>Malcolm</td>\n      <td>G</td>\n      <td>NaN</td>\n      <td>17.000000:48</td>\n      <td>...</td>\n      <td>1.0</td>\n      <td>1.0</td>\n      <td>2.0</td>\n      <td>4.0</td>\n      <td>0.0</td>\n      <td>0.0</td>\n      <td>4.0</td>\n      <td>1.0</td>\n      <td>5.0</td>\n      <td>-8.0</td>\n    </tr>\n    <tr>\n      <th>4</th>\n      <td>12100011</td>\n      <td>1610612754</td>\n      <td>IND</td>\n      <td>Indiana</td>\n      <td>203200</td>\n      <td>Justin Holiday</td>\n      <td>Justin</td>\n      <td>G</td>\n      <td>NaN</td>\n      <td>17.000000:48</td>\n      <td>...</td>\n      <td>0.0</td>\n      <td>1.0</td>\n      <td>1.0</td>\n      <td>0.0</td>\n      <td>0.0</td>\n      <td>0.0</td>\n      <td>1.0</td>\n      <td>1.0</td>\n      <td>13.0</td>\n      <td>-8.0</td>\n    </tr>\n    <tr>\n      <th>5</th>\n      <td>12100011</td>\n      <td>1610612754</td>\n      <td>IND</td>\n      <td>Indiana</td>\n      <td>1630537</td>\n      <td>Chris Duarte</td>\n      <td>Chris</td>\n      <td>NaN</td>\n      <td>NaN</td>\n      <td>19.000000:31</td>\n      <td>...</td>\n      <td>1.0</td>\n      <td>1.0</td>\n      <td>2.0</td>\n      <td>5.0</td>\n      <td>0.0</td>\n      <td>1.0</td>\n      <td>2.0</td>\n      <td>0.0</td>\n      <td>15.0</td>\n      <td>-12.0</td>\n    </tr>\n    <tr>\n      <th>6</th>\n      <td>12100011</td>\n      <td>1610612754</td>\n      <td>IND</td>\n      <td>Indiana</td>\n      <td>1628470</td>\n      <td>Torrey Craig</td>\n      <td>Torrey</td>\n      <td>NaN</td>\n      <td>NaN</td>\n      <td>18.000000:12</td>\n      <td>...</td>\n      <td>0.0</td>\n      <td>4.0</td>\n      <td>4.0</td>\n      <td>2.0</td>\n      <td>0.0</td>\n      <td>0.0</td>\n      <td>0.0</td>\n      <td>0.0</td>\n      <td>5.0</td>\n      <td>-13.0</td>\n    </tr>\n    <tr>\n      <th>7</th>\n      <td>12100011</td>\n      <td>1610612754</td>\n      <td>IND</td>\n      <td>Indiana</td>\n      <td>1630543</td>\n      <td>Isaiah Jackson</td>\n      <td>Isaiah</td>\n      <td>NaN</td>\n      <td>NaN</td>\n      <td>12.000000:51</td>\n      <td>...</td>\n      <td>2.0</td>\n      <td>2.0</td>\n      <td>4.0</td>\n      <td>0.0</td>\n      <td>0.0</td>\n      <td>0.0</td>\n      <td>1.0</td>\n      <td>3.0</td>\n      <td>4.0</td>\n      <td>-15.0</td>\n    </tr>\n    <tr>\n      <th>8</th>\n      <td>12100011</td>\n      <td>1610612754</td>\n      <td>IND</td>\n      <td>Indiana</td>\n      <td>204456</td>\n      <td>T.J. McConnell</td>\n      <td>T.J.</td>\n      <td>NaN</td>\n      <td>NaN</td>\n      <td>18.000000:12</td>\n      <td>...</td>\n      <td>1.0</td>\n      <td>3.0</td>\n      <td>4.0</td>\n      <td>1.0</td>\n      <td>1.0</td>\n      <td>1.0</td>\n      <td>1.0</td>\n      <td>0.0</td>\n      <td>10.0</td>\n      <td>-13.0</td>\n    </tr>\n    <tr>\n      <th>9</th>\n      <td>12100011</td>\n      <td>1610612754</td>\n      <td>IND</td>\n      <td>Indiana</td>\n      <td>1629052</td>\n      <td>Oshae Brissett</td>\n      <td>Oshae</td>\n      <td>NaN</td>\n      <td>NaN</td>\n      <td>16.000000:18</td>\n      <td>...</td>\n      <td>0.0</td>\n      <td>2.0</td>\n      <td>2.0</td>\n      <td>0.0</td>\n      <td>0.0</td>\n      <td>1.0</td>\n      <td>0.0</td>\n      <td>5.0</td>\n      <td>8.0</td>\n      <td>-11.0</td>\n    </tr>\n    <tr>\n      <th>10</th>\n      <td>12100011</td>\n      <td>1610612754</td>\n      <td>IND</td>\n      <td>Indiana</td>\n      <td>1629048</td>\n      <td>Goga Bitadze</td>\n      <td>Goga</td>\n      <td>NaN</td>\n      <td>NaN</td>\n      <td>11.000000:44</td>\n      <td>...</td>\n      <td>0.0</td>\n      <td>2.0</td>\n      <td>2.0</td>\n      <td>0.0</td>\n      <td>0.0</td>\n      <td>2.0</td>\n      <td>1.0</td>\n      <td>2.0</td>\n      <td>3.0</td>\n      <td>1.0</td>\n    </tr>\n    <tr>\n      <th>11</th>\n      <td>12100011</td>\n      <td>1610612754</td>\n      <td>IND</td>\n      <td>Indiana</td>\n      <td>1629103</td>\n      <td>Kelan Martin</td>\n      <td>Kelan</td>\n      <td>NaN</td>\n      <td>NaN</td>\n      <td>15.000000:10</td>\n      <td>...</td>\n      <td>0.0</td>\n      <td>2.0</td>\n      <td>2.0</td>\n      <td>2.0</td>\n      <td>0.0</td>\n      <td>0.0</td>\n      <td>0.0</td>\n      <td>1.0</td>\n      <td>6.0</td>\n      <td>4.0</td>\n    </tr>\n    <tr>\n      <th>12</th>\n      <td>12100011</td>\n      <td>1610612754</td>\n      <td>IND</td>\n      <td>Indiana</td>\n      <td>1626208</td>\n      <td>Keifer Sykes</td>\n      <td>Keifer</td>\n      <td>NaN</td>\n      <td>NaN</td>\n      <td>12.000000:00</td>\n      <td>...</td>\n      <td>0.0</td>\n      <td>0.0</td>\n      <td>0.0</td>\n      <td>2.0</td>\n      <td>0.0</td>\n      <td>0.0</td>\n      <td>1.0</td>\n      <td>2.0</td>\n      <td>5.0</td>\n      <td>0.0</td>\n    </tr>\n    <tr>\n      <th>13</th>\n      <td>12100011</td>\n      <td>1610612754</td>\n      <td>IND</td>\n      <td>Indiana</td>\n      <td>1630613</td>\n      <td>Duane Washington Jr.</td>\n      <td>Duane</td>\n      <td>NaN</td>\n      <td>NaN</td>\n      <td>6.000000:23</td>\n      <td>...</td>\n      <td>0.0</td>\n      <td>3.0</td>\n      <td>3.0</td>\n      <td>1.0</td>\n      <td>0.0</td>\n      <td>0.0</td>\n      <td>0.0</td>\n      <td>0.0</td>\n      <td>2.0</td>\n      <td>-1.0</td>\n    </tr>\n    <tr>\n      <th>14</th>\n      <td>12100011</td>\n      <td>1610612754</td>\n      <td>IND</td>\n      <td>Indiana</td>\n      <td>1630207</td>\n      <td>Nate Hinton</td>\n      <td>Nate</td>\n      <td>NaN</td>\n      <td>NaN</td>\n      <td>8.000000:04</td>\n      <td>...</td>\n      <td>0.0</td>\n      <td>4.0</td>\n      <td>4.0</td>\n      <td>1.0</td>\n      <td>0.0</td>\n      <td>0.0</td>\n      <td>2.0</td>\n      <td>1.0</td>\n      <td>0.0</td>\n      <td>-4.0</td>\n    </tr>\n    <tr>\n      <th>15</th>\n      <td>12100011</td>\n      <td>1610612754</td>\n      <td>IND</td>\n      <td>Indiana</td>\n      <td>1630678</td>\n      <td>Terry Taylor</td>\n      <td>Terry</td>\n      <td>NaN</td>\n      <td>NaN</td>\n      <td>5.000000:37</td>\n      <td>...</td>\n      <td>2.0</td>\n      <td>0.0</td>\n      <td>2.0</td>\n      <td>0.0</td>\n      <td>0.0</td>\n      <td>0.0</td>\n      <td>0.0</td>\n      <td>0.0</td>\n      <td>4.0</td>\n      <td>1.0</td>\n    </tr>\n    <tr>\n      <th>16</th>\n      <td>12100011</td>\n      <td>1610612754</td>\n      <td>IND</td>\n      <td>Indiana</td>\n      <td>1630610</td>\n      <td>DeJon Jarreau</td>\n      <td>DeJon</td>\n      <td>NaN</td>\n      <td>NaN</td>\n      <td>5.000000:37</td>\n      <td>...</td>\n      <td>1.0</td>\n      <td>0.0</td>\n      <td>1.0</td>\n      <td>1.0</td>\n      <td>0.0</td>\n      <td>0.0</td>\n      <td>0.0</td>\n      <td>0.0</td>\n      <td>1.0</td>\n      <td>1.0</td>\n    </tr>\n    <tr>\n      <th>17</th>\n      <td>12100011</td>\n      <td>1610612754</td>\n      <td>IND</td>\n      <td>Indiana</td>\n      <td>1627747</td>\n      <td>Caris LeVert</td>\n      <td>Caris</td>\n      <td>NaN</td>\n      <td>DNP - Injury/Illness</td>\n      <td>NaN</td>\n      <td>...</td>\n      <td>NaN</td>\n      <td>NaN</td>\n      <td>NaN</td>\n      <td>NaN</td>\n      <td>NaN</td>\n      <td>NaN</td>\n      <td>NaN</td>\n      <td>NaN</td>\n      <td>NaN</td>\n      <td>NaN</td>\n    </tr>\n    <tr>\n      <th>18</th>\n      <td>12100011</td>\n      <td>1610612754</td>\n      <td>IND</td>\n      <td>Indiana</td>\n      <td>1628410</td>\n      <td>Edmond Sumner</td>\n      <td>Edmond</td>\n      <td>NaN</td>\n      <td>DNP - Injury/Illness</td>\n      <td>NaN</td>\n      <td>...</td>\n      <td>NaN</td>\n      <td>NaN</td>\n      <td>NaN</td>\n      <td>NaN</td>\n      <td>NaN</td>\n      <td>NaN</td>\n      <td>NaN</td>\n      <td>NaN</td>\n      <td>NaN</td>\n      <td>NaN</td>\n    </tr>\n    <tr>\n      <th>19</th>\n      <td>12100011</td>\n      <td>1610612754</td>\n      <td>IND</td>\n      <td>Indiana</td>\n      <td>203933</td>\n      <td>T.J. Warren</td>\n      <td>T.J.</td>\n      <td>NaN</td>\n      <td>DNP - Injury/Illness</td>\n      <td>NaN</td>\n      <td>...</td>\n      <td>NaN</td>\n      <td>NaN</td>\n      <td>NaN</td>\n      <td>NaN</td>\n      <td>NaN</td>\n      <td>NaN</td>\n      <td>NaN</td>\n      <td>NaN</td>\n      <td>NaN</td>\n      <td>NaN</td>\n    </tr>\n    <tr>\n      <th>20</th>\n      <td>12100011</td>\n      <td>1610612752</td>\n      <td>NYK</td>\n      <td>New York</td>\n      <td>1629628</td>\n      <td>RJ Barrett</td>\n      <td>RJ</td>\n      <td>F</td>\n      <td>NaN</td>\n      <td>25.000000:27</td>\n      <td>...</td>\n      <td>0.0</td>\n      <td>3.0</td>\n      <td>3.0</td>\n      <td>2.0</td>\n      <td>1.0</td>\n      <td>0.0</td>\n      <td>0.0</td>\n      <td>2.0</td>\n      <td>17.0</td>\n      <td>20.0</td>\n    </tr>\n    <tr>\n      <th>21</th>\n      <td>12100011</td>\n      <td>1610612752</td>\n      <td>NYK</td>\n      <td>New York</td>\n      <td>203944</td>\n      <td>Julius Randle</td>\n      <td>Julius</td>\n      <td>F</td>\n      <td>NaN</td>\n      <td>29.000000:48</td>\n      <td>...</td>\n      <td>1.0</td>\n      <td>8.0</td>\n      <td>9.0</td>\n      <td>2.0</td>\n      <td>2.0</td>\n      <td>1.0</td>\n      <td>0.0</td>\n      <td>1.0</td>\n      <td>20.0</td>\n      <td>17.0</td>\n    </tr>\n    <tr>\n      <th>22</th>\n      <td>12100011</td>\n      <td>1610612752</td>\n      <td>NYK</td>\n      <td>New York</td>\n      <td>201959</td>\n      <td>Taj Gibson</td>\n      <td>Taj</td>\n      <td>C</td>\n      <td>NaN</td>\n      <td>21.000000:06</td>\n      <td>...</td>\n      <td>1.0</td>\n      <td>5.0</td>\n      <td>6.0</td>\n      <td>3.0</td>\n      <td>1.0</td>\n      <td>1.0</td>\n      <td>0.0</td>\n      <td>3.0</td>\n      <td>14.0</td>\n      <td>22.0</td>\n    </tr>\n    <tr>\n      <th>23</th>\n      <td>12100011</td>\n      <td>1610612752</td>\n      <td>NYK</td>\n      <td>New York</td>\n      <td>203095</td>\n      <td>Evan Fournier</td>\n      <td>Evan</td>\n      <td>G</td>\n      <td>NaN</td>\n      <td>26.000000:34</td>\n      <td>...</td>\n      <td>0.0</td>\n      <td>4.0</td>\n      <td>4.0</td>\n      <td>1.0</td>\n      <td>0.0</td>\n      <td>0.0</td>\n      <td>1.0</td>\n      <td>1.0</td>\n      <td>12.0</td>\n      <td>19.0</td>\n    </tr>\n    <tr>\n      <th>24</th>\n      <td>12100011</td>\n      <td>1610612752</td>\n      <td>NYK</td>\n      <td>New York</td>\n      <td>202689</td>\n      <td>Kemba Walker</td>\n      <td>Kemba</td>\n      <td>G</td>\n      <td>NaN</td>\n      <td>21.000000:08</td>\n      <td>...</td>\n      <td>0.0</td>\n      <td>3.0</td>\n      <td>3.0</td>\n      <td>4.0</td>\n      <td>0.0</td>\n      <td>0.0</td>\n      <td>0.0</td>\n      <td>0.0</td>\n      <td>12.0</td>\n      <td>12.0</td>\n    </tr>\n    <tr>\n      <th>25</th>\n      <td>12100011</td>\n      <td>1610612752</td>\n      <td>NYK</td>\n      <td>New York</td>\n      <td>201565</td>\n      <td>Derrick Rose</td>\n      <td>Derrick</td>\n      <td>NaN</td>\n      <td>NaN</td>\n      <td>21.000000:15</td>\n      <td>...</td>\n      <td>1.0</td>\n      <td>3.0</td>\n      <td>4.0</td>\n      <td>3.0</td>\n      <td>1.0</td>\n      <td>0.0</td>\n      <td>0.0</td>\n      <td>0.0</td>\n      <td>8.0</td>\n      <td>10.0</td>\n    </tr>\n    <tr>\n      <th>26</th>\n      <td>12100011</td>\n      <td>1610612752</td>\n      <td>NYK</td>\n      <td>New York</td>\n      <td>202692</td>\n      <td>Alec Burks</td>\n      <td>Alec</td>\n      <td>NaN</td>\n      <td>NaN</td>\n      <td>18.000000:13</td>\n      <td>...</td>\n      <td>0.0</td>\n      <td>0.0</td>\n      <td>0.0</td>\n      <td>2.0</td>\n      <td>1.0</td>\n      <td>0.0</td>\n      <td>0.0</td>\n      <td>2.0</td>\n      <td>8.0</td>\n      <td>0.0</td>\n    </tr>\n    <tr>\n      <th>27</th>\n      <td>12100011</td>\n      <td>1610612752</td>\n      <td>NYK</td>\n      <td>New York</td>\n      <td>1630579</td>\n      <td>Jericho Sims</td>\n      <td>Jericho</td>\n      <td>NaN</td>\n      <td>NaN</td>\n      <td>24.000000:37</td>\n      <td>...</td>\n      <td>3.0</td>\n      <td>3.0</td>\n      <td>6.0</td>\n      <td>2.0</td>\n      <td>0.0</td>\n      <td>0.0</td>\n      <td>1.0</td>\n      <td>2.0</td>\n      <td>8.0</td>\n      <td>-1.0</td>\n    </tr>\n    <tr>\n      <th>28</th>\n      <td>12100011</td>\n      <td>1610612752</td>\n      <td>NYK</td>\n      <td>New York</td>\n      <td>1630167</td>\n      <td>Obi Toppin</td>\n      <td>Obi</td>\n      <td>NaN</td>\n      <td>NaN</td>\n      <td>14.000000:08</td>\n      <td>...</td>\n      <td>1.0</td>\n      <td>4.0</td>\n      <td>5.0</td>\n      <td>0.0</td>\n      <td>0.0</td>\n      <td>0.0</td>\n      <td>1.0</td>\n      <td>1.0</td>\n      <td>10.0</td>\n      <td>3.0</td>\n    </tr>\n    <tr>\n      <th>29</th>\n      <td>12100011</td>\n      <td>1610612752</td>\n      <td>NYK</td>\n      <td>New York</td>\n      <td>1630193</td>\n      <td>Immanuel Quickley</td>\n      <td>Immanuel</td>\n      <td>NaN</td>\n      <td>NaN</td>\n      <td>21.000000:26</td>\n      <td>...</td>\n      <td>0.0</td>\n      <td>6.0</td>\n      <td>6.0</td>\n      <td>7.0</td>\n      <td>0.0</td>\n      <td>1.0</td>\n      <td>0.0</td>\n      <td>0.0</td>\n      <td>10.0</td>\n      <td>2.0</td>\n    </tr>\n    <tr>\n      <th>30</th>\n      <td>12100011</td>\n      <td>1610612752</td>\n      <td>NYK</td>\n      <td>New York</td>\n      <td>1630540</td>\n      <td>Miles McBride</td>\n      <td>Miles</td>\n      <td>NaN</td>\n      <td>NaN</td>\n      <td>5.000000:37</td>\n      <td>...</td>\n      <td>0.0</td>\n      <td>0.0</td>\n      <td>0.0</td>\n      <td>0.0</td>\n      <td>0.0</td>\n      <td>0.0</td>\n      <td>0.0</td>\n      <td>0.0</td>\n      <td>0.0</td>\n      <td>-1.0</td>\n    </tr>\n    <tr>\n      <th>31</th>\n      <td>12100011</td>\n      <td>1610612752</td>\n      <td>NYK</td>\n      <td>New York</td>\n      <td>1629656</td>\n      <td>Quentin Grimes</td>\n      <td>Quentin</td>\n      <td>NaN</td>\n      <td>NaN</td>\n      <td>4.000000:20</td>\n      <td>...</td>\n      <td>0.0</td>\n      <td>0.0</td>\n      <td>0.0</td>\n      <td>0.0</td>\n      <td>0.0</td>\n      <td>0.0</td>\n      <td>0.0</td>\n      <td>2.0</td>\n      <td>0.0</td>\n      <td>1.0</td>\n    </tr>\n    <tr>\n      <th>32</th>\n      <td>12100011</td>\n      <td>1610612752</td>\n      <td>NYK</td>\n      <td>New York</td>\n      <td>1628995</td>\n      <td>Kevin Knox II</td>\n      <td>Kevin</td>\n      <td>NaN</td>\n      <td>NaN</td>\n      <td>4.000000:04</td>\n      <td>...</td>\n      <td>0.0</td>\n      <td>2.0</td>\n      <td>2.0</td>\n      <td>0.0</td>\n      <td>0.0</td>\n      <td>0.0</td>\n      <td>0.0</td>\n      <td>0.0</td>\n      <td>4.0</td>\n      <td>1.0</td>\n    </tr>\n    <tr>\n      <th>33</th>\n      <td>12100011</td>\n      <td>1610612752</td>\n      <td>NYK</td>\n      <td>New York</td>\n      <td>1630603</td>\n      <td>Aamir Simms</td>\n      <td>Aamir</td>\n      <td>NaN</td>\n      <td>NaN</td>\n      <td>2.000000:17</td>\n      <td>...</td>\n      <td>0.0</td>\n      <td>1.0</td>\n      <td>1.0</td>\n      <td>0.0</td>\n      <td>0.0</td>\n      <td>0.0</td>\n      <td>0.0</td>\n      <td>0.0</td>\n      <td>2.0</td>\n      <td>0.0</td>\n    </tr>\n    <tr>\n      <th>34</th>\n      <td>12100011</td>\n      <td>1610612752</td>\n      <td>NYK</td>\n      <td>New York</td>\n      <td>1628407</td>\n      <td>Dwayne Bacon</td>\n      <td>Dwayne</td>\n      <td>NaN</td>\n      <td>DNP - Coach's Decision</td>\n      <td>NaN</td>\n      <td>...</td>\n      <td>NaN</td>\n      <td>NaN</td>\n      <td>NaN</td>\n      <td>NaN</td>\n      <td>NaN</td>\n      <td>NaN</td>\n      <td>NaN</td>\n      <td>NaN</td>\n      <td>NaN</td>\n      <td>NaN</td>\n    </tr>\n    <tr>\n      <th>35</th>\n      <td>12100011</td>\n      <td>1610612752</td>\n      <td>NYK</td>\n      <td>New York</td>\n      <td>203457</td>\n      <td>Nerlens Noel</td>\n      <td>Nerlens</td>\n      <td>NaN</td>\n      <td>DNP - Injury/Illness</td>\n      <td>NaN</td>\n      <td>...</td>\n      <td>NaN</td>\n      <td>NaN</td>\n      <td>NaN</td>\n      <td>NaN</td>\n      <td>NaN</td>\n      <td>NaN</td>\n      <td>NaN</td>\n      <td>NaN</td>\n      <td>NaN</td>\n      <td>NaN</td>\n    </tr>\n    <tr>\n      <th>36</th>\n      <td>12100011</td>\n      <td>1610612752</td>\n      <td>NYK</td>\n      <td>New York</td>\n      <td>1629011</td>\n      <td>Mitchell Robinson</td>\n      <td>Mitchell</td>\n      <td>NaN</td>\n      <td>DNP - Injury/Illness</td>\n      <td>NaN</td>\n      <td>...</td>\n      <td>NaN</td>\n      <td>NaN</td>\n      <td>NaN</td>\n      <td>NaN</td>\n      <td>NaN</td>\n      <td>NaN</td>\n      <td>NaN</td>\n      <td>NaN</td>\n      <td>NaN</td>\n      <td>NaN</td>\n    </tr>\n    <tr>\n      <th>37</th>\n      <td>12100011</td>\n      <td>1610612752</td>\n      <td>NYK</td>\n      <td>New York</td>\n      <td>1627782</td>\n      <td>Wayne Selden</td>\n      <td>Wayne</td>\n      <td>NaN</td>\n      <td>DNP - Coach's Decision</td>\n      <td>NaN</td>\n      <td>...</td>\n      <td>NaN</td>\n      <td>NaN</td>\n      <td>NaN</td>\n      <td>NaN</td>\n      <td>NaN</td>\n      <td>NaN</td>\n      <td>NaN</td>\n      <td>NaN</td>\n      <td>NaN</td>\n      <td>NaN</td>\n    </tr>\n    <tr>\n      <th>38</th>\n      <td>12100011</td>\n      <td>1610612752</td>\n      <td>NYK</td>\n      <td>New York</td>\n      <td>1630640</td>\n      <td>MJ Walker</td>\n      <td>MJ</td>\n      <td>NaN</td>\n      <td>DNP - Coach's Decision</td>\n      <td>NaN</td>\n      <td>...</td>\n      <td>NaN</td>\n      <td>NaN</td>\n      <td>NaN</td>\n      <td>NaN</td>\n      <td>NaN</td>\n      <td>NaN</td>\n      <td>NaN</td>\n      <td>NaN</td>\n      <td>NaN</td>\n      <td>NaN</td>\n    </tr>\n  </tbody>\n</table>\n<p>39 rows × 29 columns</p>\n</div>"
     },
     "execution_count": 28,
     "metadata": {},
     "output_type": "execute_result"
    }
   ],
   "source": [
    "path_to_file = f'./season_21-22/boxscoretraditionalv2/boxscoretraditionalv2_0_0012100011.csv'\n",
    "df = pd.read_csv(path_to_file)\n",
    "df"
   ],
   "metadata": {
    "collapsed": false,
    "pycharm": {
     "name": "#%%\n"
    }
   }
  },
  {
   "cell_type": "code",
   "execution_count": 30,
   "outputs": [],
   "source": [
    "my_df = ge.from_pandas(df)"
   ],
   "metadata": {
    "collapsed": false,
    "pycharm": {
     "name": "#%%\n"
    }
   }
  },
  {
   "cell_type": "markdown",
   "source": [
    "boxscoretraditionalv2_0"
   ],
   "metadata": {
    "collapsed": false,
    "pycharm": {
     "name": "#%% md\n"
    }
   }
  },
  {
   "cell_type": "code",
   "execution_count": 33,
   "outputs": [
    {
     "name": "stdout",
     "output_type": "stream",
     "text": [
      "ok\n",
      "{\n",
      "  \"success\": false,\n",
      "  \"expectation_config\": {\n",
      "    \"expectation_type\": \"expect_column_values_to_be_null\",\n",
      "    \"kwargs\": {\n",
      "      \"column\": \"PTS\",\n",
      "      \"result_format\": \"BASIC\"\n",
      "    },\n",
      "    \"meta\": {}\n",
      "  },\n",
      "  \"result\": {\n",
      "    \"element_count\": 39,\n",
      "    \"unexpected_count\": 31,\n",
      "    \"unexpected_percent\": 79.48717948717949,\n",
      "    \"unexpected_percent_total\": 79.48717948717949,\n",
      "    \"partial_unexpected_list\": []\n",
      "  },\n",
      "  \"meta\": {},\n",
      "  \"exception_info\": {\n",
      "    \"raised_exception\": false,\n",
      "    \"exception_traceback\": null,\n",
      "    \"exception_message\": null\n",
      "  }\n",
      "}\n"
     ]
    }
   ],
   "source": [
    "equal_columns_bst0 = 29\n",
    "my_df = ge.from_pandas(df)\n",
    "columns = my_df.expect_table_column_count_to_equal(equal_columns_bst0)\n",
    "rows = my_df.expect_table_row_count_to_be_between(10, 50)\n",
    "pts = my_df.expect_column_values_to_be_null('PTS')\n",
    "if rows['success'] and columns['success']and not(pts['success']):\n",
    "    print('ok')\n",
    "else:\n",
    "    print('not ok')\n",
    "print(pts)"
   ],
   "metadata": {
    "collapsed": false,
    "pycharm": {
     "name": "#%%\n"
    }
   }
  },
  {
   "cell_type": "markdown",
   "source": [
    "Я вообще думаю, что можно проверять на то, есть ли"
   ],
   "metadata": {
    "collapsed": false,
    "pycharm": {
     "name": "#%% md\n"
    }
   }
  },
  {
   "cell_type": "code",
   "execution_count": 26,
   "outputs": [
    {
     "name": "stdout",
     "output_type": "stream",
     "text": [
      "{\n",
      "  \"success\": true,\n",
      "  \"expectation_config\": {\n",
      "    \"expectation_type\": \"expect_column_values_to_be_null\",\n",
      "    \"kwargs\": {\n",
      "      \"column\": \"PTS\",\n",
      "      \"result_format\": \"BASIC\"\n",
      "    },\n",
      "    \"meta\": {}\n",
      "  },\n",
      "  \"result\": {\n",
      "    \"element_count\": 0,\n",
      "    \"unexpected_count\": 0,\n",
      "    \"unexpected_percent\": null,\n",
      "    \"unexpected_percent_total\": null,\n",
      "    \"partial_unexpected_list\": []\n",
      "  },\n",
      "  \"meta\": {},\n",
      "  \"exception_info\": {\n",
      "    \"raised_exception\": false,\n",
      "    \"exception_traceback\": null,\n",
      "    \"exception_message\": null\n",
      "  }\n",
      "}\n"
     ]
    }
   ],
   "source": [
    "from nba_api.stats.endpoints.boxscoretraditionalv2 import BoxScoreTraditionalV2\n",
    "file = BoxScoreTraditionalV2(game_id='0022300364').get_data_frames()\n",
    "df = pd.DataFrame(file[0])\n",
    "my_df = ge.from_pandas(df)\n",
    "\n",
    "pts = my_df.expect_column_to_exist('PTS')\n",
    "pts = my_df.expect_column_values_to_be_null('PTS')\n",
    "print(pts)"
   ],
   "metadata": {
    "collapsed": false,
    "pycharm": {
     "name": "#%%\n"
    }
   }
  },
  {
   "cell_type": "code",
   "execution_count": null,
   "outputs": [],
   "source": [],
   "metadata": {
    "collapsed": false,
    "pycharm": {
     "name": "#%%\n"
    }
   }
  }
 ],
 "metadata": {
  "kernelspec": {
   "display_name": "Python 3",
   "language": "python",
   "name": "python3"
  },
  "language_info": {
   "codemirror_mode": {
    "name": "ipython",
    "version": 2
   },
   "file_extension": ".py",
   "mimetype": "text/x-python",
   "name": "python",
   "nbconvert_exporter": "python",
   "pygments_lexer": "ipython2",
   "version": "2.7.6"
  }
 },
 "nbformat": 4,
 "nbformat_minor": 0
}