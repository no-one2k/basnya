{
 "cells": [
  {
   "cell_type": "code",
   "execution_count": 1,
   "metadata": {},
   "outputs": [],
   "source": [
    "import logging\n",
    "import os \n",
    "\n",
    "from dotenv import load_dotenv\n",
    "import openai\n",
    "import pandas as pd\n",
    "import pandas as pd \n",
    "\n",
    "from strategies import StrategyRating\n",
    "from utils import StatsHolder, get_completion\n",
    "\n",
    "load_dotenv('openai.env')\n",
    "openai.api_key  = os.getenv('API_KEY')\n",
    "logger = logging.getLogger()"
   ]
  },
  {
   "cell_type": "code",
   "execution_count": 2,
   "metadata": {},
   "outputs": [
    {
     "name": "stderr",
     "output_type": "stream",
     "text": [
      "100%|██████████| 3454/3454 [00:44<00:00, 78.19it/s]\n"
     ]
    }
   ],
   "source": [
    "# инициализация объекта StatsHolder для хранения агрегированной статистики по игрокам\n",
    "db_path = r'../../data/basnya.db'\n",
    "stats = StatsHolder.from_sql(db_path=db_path)"
   ]
  },
  {
   "cell_type": "code",
   "execution_count": 6,
   "metadata": {},
   "outputs": [
    {
     "name": "stderr",
     "output_type": "stream",
     "text": [
      "2023-11-27 19:22:27,584 - INFO - Added \"Top-1\" strategy\n",
      "2023-11-27 19:22:27,585 - INFO - Added \"Top-10\" strategy\n",
      "2023-11-27 19:22:27,586 - INFO - Added \"Top-50\" strategy\n",
      "2023-11-27 19:22:27,587 - INFO - Added \"Top-100\" strategy\n"
     ]
    }
   ],
   "source": [
    "strategy_top_100 = StrategyRating(top=100, playerID2name=stats.playerId2name)\n",
    "strategy_top_50 = StrategyRating(top=50, playerID2name=stats.playerId2name)\n",
    "strategy_top_10= StrategyRating(top=10, playerID2name=stats.playerId2name)\n",
    "strategy_top_1= StrategyRating(top=1, playerID2name=stats.playerId2name)\n",
    "\n",
    "# Инициализация стратегий\n",
    "stats.add_strategy(strategy_top_1)\n",
    "stats.add_strategy(strategy_top_10)\n",
    "stats.add_strategy(strategy_top_50)\n",
    "stats.add_strategy(strategy_top_100)"
   ]
  },
  {
   "cell_type": "code",
   "execution_count": 4,
   "metadata": {},
   "outputs": [
    {
     "name": "stderr",
     "output_type": "stream",
     "text": [
      "2023-11-27 19:17:42,673 - INFO - Start processing...\n",
      "100%|██████████| 50/50 [02:54<00:00,  3.50s/it]\n",
      "2023-11-27 19:20:37,581 - INFO - calculation of strategy results ...\n",
      "100%|██████████| 4/4 [00:28<00:00,  7.23s/it]\n",
      "2023-11-27 19:21:06,905 - INFO - Tweeting ...\n",
      "100%|██████████| 2/2 [00:30<00:00, 15.10s/it]\n"
     ]
    }
   ],
   "source": [
    "# Получение отчёта по результатм последних N игр\n",
    "result = stats.get_twits(N_last_game=50)"
   ]
  },
  {
   "cell_type": "code",
   "execution_count": 6,
   "metadata": {},
   "outputs": [
    {
     "name": "stdout",
     "output_type": "stream",
     "text": [
      "(\"🏀🎙️ Wow! For the past 50 games, we've witnessed some incredible performances \"\n",
      " 'from the 🌟TOP 50 players! 📈🔥 But there were some surprises too! 😱🔄\\n'\n",
      " '\\n'\n",
      " '🇺🇸 Brandon Ingram from Team USA has been on fire with his free throw '\n",
      " \"shooting! 🎯🔥 He's definitely earned his spot in the top! 🙌🏼🔝\\n\"\n",
      " '\\n'\n",
      " 'On the other hand, we bid farewell to 🇺🇸 Coby White, who unfortunately '\n",
      " \"couldn't maintain his free throw percentage. 😔👋 But hey, there's always room \"\n",
      " 'for improvement! 💪🏼🔄\\n'\n",
      " '\\n'\n",
      " \"And let's not forget about the incredible defensive skills of 🇸🇳 Tacko Fall! \"\n",
      " \"🚫🔒 He's been dominating the court with his shot-blocking abilities! 🙌🏼💥\\n\"\n",
      " '\\n'\n",
      " \"However, it's time to welcome 🇩🇪 Maxi Kleber to the top! 🎉🔝 He's proven \"\n",
      " 'himself as a force to be reckoned with when it comes to blocking shots! 🚫💪🏼\\n'\n",
      " '\\n'\n",
      " \"Keep up the amazing work, players! 🏀💯 Can't wait to see what the next 50 \"\n",
      " 'games have in store for us! 🙌🏼🔥 #Basketball #Top50Players #ExcitingTimes')\n",
      "==========================================\n",
      "('🏀🎙️ Wow! For the past 50 games, the top 100 players have been making some '\n",
      " \"serious moves! 😱🔥 We've seen some incredible performances on the court! 🙌🌟 \\n\"\n",
      " '\\n'\n",
      " '📈 In the FT_PCT category, Grayson Allen, Isaac Okoro, and Cam Reddish from '\n",
      " '🇺🇸USA have entered the top, showcasing their shooting skills! 💯🔝\\n'\n",
      " '\\n'\n",
      " '🏀🤝 Zavier Simpson and Ahmad Caver from 🇺🇸USA have been dishing out some '\n",
      " 'amazing assists, securing their spots in the top! 👏🎯\\n'\n",
      " '\\n'\n",
      " '🚫🏀 Charles Bassey from 🇳🇬Nigeria has been dominating the court with his '\n",
      " 'impressive blocking skills, earning his place in the top! 💪🔥\\n'\n",
      " '\\n'\n",
      " '📉 On the other hand, some players have unfortunately dropped out of the top. '\n",
      " \"LaMarcus Aldridge, CJ McCollum, and Damion Lee from 🇺🇸USA couldn't maintain \"\n",
      " 'their FT_PCT positions. 😢\\n'\n",
      " '\\n'\n",
      " '🌍🏀 Steven Adams from 🇳🇿New Zealand and Kyle Kuzma from 🇺🇸USA have also '\n",
      " \"fallen out of the top in the AST category. Let's hope they bounce back \"\n",
      " 'stronger! 💥🙏\\n'\n",
      " '\\n'\n",
      " \"🚫🏀 LaMarcus Aldridge from 🇺🇸USA, despite his blocking skills, couldn't hold \"\n",
      " 'onto his position in the top. Keep pushing, LaMarcus! 💪\\n'\n",
      " '\\n'\n",
      " '#Basketball #Top100Players #GameChangers #OnTheRise #NeverGiveUp 🏀🔝🔥')\n",
      "==========================================\n",
      "('🏀🎙️ Wow! For the past 50 games, the top 11 players in Free Throw Percentage '\n",
      " \"have been on fire! 🔥🔥 But there's been a shakeup in the rankings! 😱 Jalen \"\n",
      " 'Brunson 🇺🇸 has entered the top, showcasing his incredible skills at the '\n",
      " \"free-throw line. 🙌 However, Immanuel Quickley 🇺🇸 couldn't hold his spot and \"\n",
      " \"dropped out. 😢 It's a rollercoaster of emotions in the world of basketball! \"\n",
      " '🎢 Stay tuned for more thrilling updates! 🏀💯 #Basketball #Top11 #FT_PCT '\n",
      " '#ExcitingChanges')\n",
      "==========================================\n"
     ]
    }
   ],
   "source": [
    "from pprint import pprint\n",
    "\n",
    "for twit in result:\n",
    "    pprint(twit)\n",
    "    print('====================================================\\n')"
   ]
  }
 ],
 "metadata": {
  "kernelspec": {
   "display_name": "venv",
   "language": "python",
   "name": "python3"
  },
  "language_info": {
   "codemirror_mode": {
    "name": "ipython",
    "version": 3
   },
   "file_extension": ".py",
   "mimetype": "text/x-python",
   "name": "python",
   "nbconvert_exporter": "python",
   "pygments_lexer": "ipython3",
   "version": "3.9.13"
  }
 },
 "nbformat": 4,
 "nbformat_minor": 2
}
