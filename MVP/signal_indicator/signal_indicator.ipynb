{
 "cells": [
  {
   "cell_type": "code",
   "execution_count": 1,
   "metadata": {},
   "outputs": [],
   "source": [
    "import logging\n",
    "import os \n",
    "from pprint import pprint\n",
    "\n",
    "from dotenv import load_dotenv\n",
    "import openai\n",
    "import pandas as pd \n",
    "\n",
    "from resource.strategies import StrategyRating\n",
    "from resource.utils import StatsHolder\n",
    "from resource.prompts_template import *\n",
    "\n",
    "load_dotenv('openai.env')\n",
    "openai.api_key  = os.getenv('OPENAI_API_KEY')\n",
    "logger = logging.getLogger()\n"
   ]
  },
  {
   "cell_type": "code",
   "execution_count": 6,
   "metadata": {},
   "outputs": [
    {
     "name": "stderr",
     "output_type": "stream",
     "text": [
      "100%|██████████| 3454/3454 [00:49<00:00, 69.86it/s]\n"
     ]
    }
   ],
   "source": [
    "# инициализация объекта StatsHolder для хранения агрегированной статистики по игрокам\n",
    "db_path = r'../../data/basnya.db'\n",
    "stats = StatsHolder.from_sql(db_path=db_path, prompt=prompt)"
   ]
  },
  {
   "cell_type": "code",
   "execution_count": 7,
   "metadata": {},
   "outputs": [
    {
     "name": "stderr",
     "output_type": "stream",
     "text": [
      "2023-12-09 13:15:39,607 - INFO - Added \"Top-10\" strategy\n",
      "2023-12-09 13:15:39,608 - INFO - Added \"Top-50\" strategy\n",
      "2023-12-09 13:15:39,609 - INFO - Added \"Top-100\" strategy\n"
     ]
    }
   ],
   "source": [
    "# Инициализация стратегий\n",
    "strategy_top_100 = StrategyRating(top=100, playerID2name=stats.playerId2name)\n",
    "strategy_top_50 = StrategyRating(top=50, playerID2name=stats.playerId2name)\n",
    "strategy_top_10= StrategyRating(top=10, playerID2name=stats.playerId2name)\n",
    "strategy_top_1= StrategyRating(top=1, playerID2name=stats.playerId2name)\n",
    "\n",
    "# добавление сратегий\n",
    "stats.add_strategy(strategy_top_10)\n",
    "stats.add_strategy(strategy_top_50)\n",
    "stats.add_strategy(strategy_top_100)"
   ]
  },
  {
   "cell_type": "code",
   "execution_count": 8,
   "metadata": {},
   "outputs": [
    {
     "name": "stderr",
     "output_type": "stream",
     "text": [
      "2023-12-09 13:15:48,273 - INFO - Start processing...\n",
      "100%|██████████| 10/10 [00:41<00:00,  4.14s/it]\n",
      "2023-12-09 13:16:29,657 - INFO - calculation of strategy results ...\n",
      "100%|██████████| 3/3 [00:22<00:00,  7.60s/it]\n",
      "2023-12-09 13:16:52,924 - INFO - Tweeting ...\n",
      "100%|██████████| 2/2 [00:07<00:00,  3.99s/it]\n"
     ]
    }
   ],
   "source": [
    "# Получение отчёта по результатм последних N игр\n",
    "twits = stats.get_twits(N_last_game=10)"
   ]
  },
  {
   "cell_type": "code",
   "execution_count": 9,
   "metadata": {},
   "outputs": [
    {
     "name": "stdout",
     "output_type": "stream",
     "text": [
      "('🏀 Wow! For the past 10 games, the TOP 50 players in BLOCKS have seen some '\n",
      " \"changes! 🔄 'Tacko Fall' from Senegal entered the top, while 'Maxi Kleber' \"\n",
      " 'from Germany unfortunately dropped out. 🌟 Exciting times in the basketball '\n",
      " 'world! 🤩🔥 #Top50Players #BLOCKS #GameChangers')\n",
      "====================================================\n",
      "\n",
      "('🚀🔥 Newcomers in the TOP 100 players for the past 10 games! 🙌🏀 Isaac Okoro '\n",
      " 'and Cam Reddish from USA are dominating the court! 🇺🇸 Their impressive '\n",
      " 'performance has earned them a well-deserved spot among the best. 👏 '\n",
      " 'Meanwhile, the departure of LaMarcus Aldridge and Damion Lee from the top '\n",
      " \"has left us in awe 😱 Let's see who will rise and fall in the next games! 🏀💥 \"\n",
      " '#Basketball #ExcitingTimes')\n",
      "====================================================\n",
      "\n"
     ]
    }
   ],
   "source": [
    "for twit in result:\n",
    "    pprint(twit)\n",
    "    print('====================================================\\n')"
   ]
  },
  {
   "cell_type": "code",
   "execution_count": null,
   "metadata": {},
   "outputs": [
    {
     "data": {
      "text/plain": [
       "'Привет! Я всего лишь искусственный интеллект, поэтому у меня нет физических или эмоциональных состояний. Я здесь для того, чтобы помочь вам с задачами и вопросами. Чем я могу вам помочь сегодня?'"
      ]
     },
     "execution_count": 3,
     "metadata": {},
     "output_type": "execute_result"
    }
   ],
   "source": [
    "def get_completion(prompt, model='gpt-3.5-turbo'):\n",
    "    \"\"\"\n",
    "    Получить ответ модели Openai\n",
    "    \"\"\"\n",
    "    \n",
    "    messages = [{\"role\": \"user\", \"content\": prompt}]\n",
    "    response = openai.ChatCompletion.create(\n",
    "        model=model,\n",
    "        messages=messages,\n",
    "        temperature=0.8, # this is the degree of randomness of the model's output\n",
    "    )\n",
    "    return response.choices[0].message[\"content\"]\n",
    "\n",
    "get_completion('Привет как твои дела', model='gpt-3.5-turbo')"
   ]
  }
 ],
 "metadata": {
  "kernelspec": {
   "display_name": "venv",
   "language": "python",
   "name": "python3"
  },
  "language_info": {
   "codemirror_mode": {
    "name": "ipython",
    "version": 3
   },
   "file_extension": ".py",
   "mimetype": "text/x-python",
   "name": "python",
   "nbconvert_exporter": "python",
   "pygments_lexer": "ipython3",
   "version": "3.9.13"
  }
 },
 "nbformat": 4,
 "nbformat_minor": 2
}
