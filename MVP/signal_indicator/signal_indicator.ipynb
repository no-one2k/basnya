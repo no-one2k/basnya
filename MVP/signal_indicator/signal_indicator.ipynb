{
 "cells": [
  {
   "cell_type": "code",
   "execution_count": 2,
   "metadata": {},
   "outputs": [],
   "source": [
    "import logging\n",
    "import os \n",
    "\n",
    "from dotenv import load_dotenv\n",
    "import openai\n",
    "import pandas as pd\n",
    "import pandas as pd \n",
    "\n",
    "from strategies import StrategyRating\n",
    "from utils import StatsHolder, get_completion\n",
    "\n",
    "load_dotenv('openai.env')\n",
    "openai.api_key  = os.getenv('API_KEY')\n",
    "logger = logging.getLogger()"
   ]
  },
  {
   "cell_type": "code",
   "execution_count": 3,
   "metadata": {},
   "outputs": [
    {
     "name": "stderr",
     "output_type": "stream",
     "text": [
      "100%|██████████| 3454/3454 [00:44<00:00, 77.26it/s]\n"
     ]
    }
   ],
   "source": [
    "# инициализация объекта StatsHolder для хранения агрегированной статистики по игрокам\n",
    "db_path = r'../../data/basnya.db'\n",
    "stats = StatsHolder.from_sql(db_path=db_path)"
   ]
  },
  {
   "cell_type": "code",
   "execution_count": 4,
   "metadata": {},
   "outputs": [
    {
     "name": "stderr",
     "output_type": "stream",
     "text": [
      "2023-11-27 19:28:10,811 - INFO - Added \"Top-10\" strategy\n",
      "2023-11-27 19:28:10,812 - INFO - Added \"Top-50\" strategy\n",
      "2023-11-27 19:28:10,813 - INFO - Added \"Top-100\" strategy\n"
     ]
    }
   ],
   "source": [
    "strategy_top_100 = StrategyRating(top=100, playerID2name=stats.playerId2name)\n",
    "strategy_top_50 = StrategyRating(top=50, playerID2name=stats.playerId2name)\n",
    "strategy_top_10= StrategyRating(top=10, playerID2name=stats.playerId2name)\n",
    "strategy_top_1= StrategyRating(top=1, playerID2name=stats.playerId2name)\n",
    "\n",
    "# Инициализация стратегий\n",
    "stats.add_strategy(strategy_top_10)\n",
    "stats.add_strategy(strategy_top_50)\n",
    "stats.add_strategy(strategy_top_100)"
   ]
  },
  {
   "cell_type": "code",
   "execution_count": 5,
   "metadata": {},
   "outputs": [
    {
     "name": "stderr",
     "output_type": "stream",
     "text": [
      "2023-11-27 19:28:25,863 - INFO - Start processing...\n",
      "100%|██████████| 25/25 [01:29<00:00,  3.58s/it]\n",
      "2023-11-27 19:29:55,421 - INFO - calculation of strategy results ...\n",
      "100%|██████████| 3/3 [00:20<00:00,  6.70s/it]\n",
      "2023-11-27 19:30:15,922 - INFO - Tweeting ...\n",
      "100%|██████████| 2/2 [00:46<00:00, 23.22s/it]\n"
     ]
    }
   ],
   "source": [
    "# Получение отчёта по результатм последних N игр\n",
    "result = stats.get_twits(N_last_game=25)"
   ]
  },
  {
   "cell_type": "code",
   "execution_count": 6,
   "metadata": {},
   "outputs": [
    {
     "name": "stdout",
     "output_type": "stream",
     "text": [
      "(\"Wow! 🤩 In the past 25 games, we've witnessed some incredible performances by \"\n",
      " 'the top 50 players! 🏀🔥 Congrats to Georges Niang 🇺🇸 for making it into the '\n",
      " \"spotlight with his amazing FG3M skills! 🎯👏 And let's not forget Brandon \"\n",
      " \"Ingram 🇺🇸 who's been nailing those free throws with an impressive FT_PCT! 🙌 \"\n",
      " 'But alas, we bid farewell to Jrue Holiday 🇺🇸 and Donovan Mitchell 🇺🇸, who '\n",
      " \"couldn't maintain their positions. 😢 On the bright side, Tacko Fall 🇸🇳 from \"\n",
      " 'Senegal and Maxi Kleber 🇩🇪 from Germany have shown their shot-blocking '\n",
      " 'prowess! 🚫💪 Keep shining, players! ✨✨ #NBA #Top50 #GameChangers')\n",
      "====================================================\n",
      "\n",
      "('🏀 Wow! For the past 25 games, the top 100 players have shown some major '\n",
      " 'changes! 💥🔥\\n'\n",
      " '\\n'\n",
      " '📈 Impressive entries in the top include Grayson Allen, Isaac Okoro, and Cam '\n",
      " 'Reddish representing USA! 🇺🇸 Keep shining, guys! ✨\\n'\n",
      " '\\n'\n",
      " \"💔 Unfortunately, some players couldn't hold their positions in the top. \"\n",
      " 'Farewell to LaMarcus Aldridge, CJ McCollum, and Aaron Gordon from Team USA! '\n",
      " '🙌\\n'\n",
      " '\\n'\n",
      " '🌍 Excitingly, Charles Bassey from Nigeria entered the top with his blocking '\n",
      " 'skills! 🇳🇬 And Khem Birch from Canada showed his shot-blocking prowess too! '\n",
      " '🇨🇦\\n'\n",
      " '\\n'\n",
      " \"🏆 The competition is fierce, and the rankings are constantly evolving. Can't \"\n",
      " 'wait to see who rises to the top next! Stay tuned! 📺🔝 #BasketballUpdates '\n",
      " '#GameChangers')\n",
      "====================================================\n",
      "\n"
     ]
    }
   ],
   "source": [
    "# распечатка твитов\n",
    "from pprint import pprint\n",
    "\n",
    "for twit in result:\n",
    "    pprint(twit)\n",
    "    print('====================================================\\n')"
   ]
  }
 ],
 "metadata": {
  "kernelspec": {
   "display_name": "venv",
   "language": "python",
   "name": "python3"
  },
  "language_info": {
   "codemirror_mode": {
    "name": "ipython",
    "version": 3
   },
   "file_extension": ".py",
   "mimetype": "text/x-python",
   "name": "python",
   "nbconvert_exporter": "python",
   "pygments_lexer": "ipython3",
   "version": "3.9.13"
  }
 },
 "nbformat": 4,
 "nbformat_minor": 2
}
