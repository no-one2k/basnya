{
 "cells": [
  {
   "cell_type": "code",
   "execution_count": 32,
   "metadata": {},
   "outputs": [],
   "source": [
    "from anomaly.resource.utils import AnomalyСalculation\n",
    "from signal_indicator.resource.prompts_template import prompt\n",
    "from signal_indicator.resource.strategies import *\n",
    "from signal_indicator.resource.utils import *\n",
    "\n",
    "import openai\n",
    "from dotenv import load_dotenv\n",
    "\n",
    "import logging\n",
    "import os\n",
    "from pprint import pprint\n",
    "\n",
    "load_dotenv('openai.env')\n",
    "openai.api_key  = os.getenv('OPENAI_API_KEY')\n",
    "logger = logging.getLogger()\n",
    "\n",
    "DB_PATH = r'../data/basnya.db'\n",
    "\n",
    "GAME_ID = 22300054\n",
    "N_LAST_GAME = 5"
   ]
  },
  {
   "cell_type": "code",
   "execution_count": 34,
   "metadata": {},
   "outputs": [
    {
     "name": "stdout",
     "output_type": "stream",
     "text": [
      "use analog: True\n",
      "use analog: True\n",
      "use analog: True\n",
      "use analog: True\n",
      "use analog: False\n",
      "use analog: True\n",
      "use analog: True\n",
      "use analog: True\n",
      "use analog: False\n",
      "use analog: True\n"
     ]
    },
    {
     "name": "stderr",
     "output_type": "stream",
     "text": [
      "100%|██████████| 7865/7865 [02:03<00:00, 63.88it/s]\n",
      "2023-12-09 16:31:10,612 - INFO - Added \"Top-10\" strategy\n",
      "2023-12-09 16:31:10,613 - INFO - Added \"Top-50\" strategy\n",
      "2023-12-09 16:31:10,613 - INFO - Added \"Top-100\" strategy\n",
      "2023-12-09 16:31:21,232 - INFO - Start processing...\n",
      "100%|██████████| 5/5 [00:51<00:00, 10.32s/it]\n",
      "2023-12-09 16:32:12,827 - INFO - calculation of strategy results ...\n",
      "100%|██████████| 3/3 [01:00<00:00, 20.12s/it]\n",
      "2023-12-09 16:33:14,312 - INFO - Tweeting ...\n",
      "100%|██████████| 2/2 [00:12<00:00,  6.16s/it]"
     ]
    },
    {
     "name": "stdout",
     "output_type": "stream",
     "text": [
      "===================================================================================================\n",
      "===============================================================================================\n",
      "('\\n'\n",
      " '    Anthony Davis put on a show for the Lakers tonight! He dropped 28 PTS, '\n",
      " 'grabbed 16 REB, and blocked 3 shots. He also went 10-13 from the free throw '\n",
      " 'line. #AD #Lakers #FearTheBrow')\n",
      "===============================================================================================\n",
      "('\\n'\n",
      " 'Terry Rozier had a huge night for Charlotte! He scored 37 points, shot 13-25 '\n",
      " 'from the field, and hit 7 3-pointers. He also dished out 13 assists. Chris '\n",
      " 'Clemons had a similar performance for Maine last season, but Rozier outdid '\n",
      " 'him with 37 points! #RozierTakeover')\n",
      "===============================================================================================\n",
      "('\\n'\n",
      " 'Tyrese Haliburton of the Indiana Pacers had a great game! He shot 6-of-16 '\n",
      " \"from 3-point range, 12 free throws, and dished out 10 assists. He's \"\n",
      " 'following in the footsteps of Stephen Curry, who had a similar performance '\n",
      " 'in 2021. #Haliburton #IndianaPacers #StephenCurry')\n",
      "===============================================================================================\n",
      "('\\n'\n",
      " 'Jalen Brunson put on a show for New York tonight! He went 7-12 from 3-point '\n",
      " \"range, 9-10 from the line, and finished with 42 points. He's the real deal! \"\n",
      " '#BrunsonShow #Knicks')\n",
      "===============================================================================================\n",
      "('\\n'\n",
      " '    Trae Young had an incredible game for the Atlanta Hawks! He had 45 '\n",
      " 'points, 16 free throws attempted, 14 assists, and 29 field goals attempted. '\n",
      " 'He was unstoppable! #YoungGuns #HawksNation')\n",
      "===============================================================================================\n",
      "('\\n'\n",
      " '    Kevin Durant put on a show for Phoenix tonight! He had 13 FTA, 11 AST, 3 '\n",
      " \"BLK, 25 FGA, and 13 FTM. He matched James Harden's performance from \"\n",
      " '2019-03-15! #Durant #Phoenix #RisingStar')\n",
      "===============================================================================================\n",
      "('\\n'\n",
      " 'Mikal Bridges had an impressive game for Brooklyn, scoring 42 points, 12 '\n",
      " \"FGM, 15 FTM, 18 FTA, and 3 blocks. He's been playing like Joel Embiid \"\n",
      " 'lately, matching his performance from a game in 2022! #Brooklyn '\n",
      " '#MikalBridges #JoelEmbiid')\n",
      "===============================================================================================\n",
      "('\\n'\n",
      " '    Trae Young had an impressive game for Atlanta! He recorded 12 assists, '\n",
      " '28 FGA, 13 FG3A, 5 FG3M and 13 FGM. He was only one assist shy of matching '\n",
      " \"LaMelo Ball's performance from earlier this season! #YoungGuns \"\n",
      " '#AtlantaRising')\n",
      "===============================================================================================\n",
      "('\\n'\n",
      " '    Luka Doncic had an incredible game for the Dallas Mavericks! He recorded '\n",
      " '18 assists, 14 free throws, 13 three-pointers, 7 turnovers, and 15 rebounds. '\n",
      " 'A true triple-double performance! #LukaMagic #Mavs')\n",
      "===============================================================================================\n",
      "('\\n'\n",
      " 'Nikola Jokic put up an incredible performance for Denver with 36 points, 14 '\n",
      " \"assists, and 9/12 from the line! He's the only player since Luka Doncic to \"\n",
      " 'put up similar numbers in a single game. #JokicMagic')\n",
      "===============================================================================================\n",
      "('🏀😱Wow! For the past 5 games, the top 10 players have seen some major '\n",
      " 'shakeups! 🔄🔥 Giving a warm welcome to Julius Randle 🇺🇸, who has entered the '\n",
      " 'top with his impressive performance! 🙌 Unfortunately, Rudy Gobert 🇫🇷 '\n",
      " \"couldn't hold his spot. 😢 The competition is fierce, and anything can happen \"\n",
      " 'in the world of basketball! 🏆🤩 #GameChangers #BasketballEmotions')\n",
      "===============================================================================================\n",
      "('🏀🔥 Wow! For the past 5 games, there have been some major shake-ups in the '\n",
      " 'Top 100 players! 😱📈 Cameron Johnson from 🇺🇸 has entered the top with an '\n",
      " 'impressive FT_PCT, while Thomas Bryant also made his mark with OREB! 👏 '\n",
      " \"However, Shake Milton's FT_PCT couldn't secure his spot, and Precious \"\n",
      " 'Achiuwa from 🇳🇬 unfortunately dropped out of the top with OREB. 😢 The '\n",
      " 'competition is fierce, and these stats prove it! Who will rise and who will '\n",
      " 'fall next? Stay tuned for more electrifying basketball action! 🎉🏀 '\n",
      " '#Top100Players #IntenseCompetition')\n"
     ]
    },
    {
     "name": "stderr",
     "output_type": "stream",
     "text": [
      "\n"
     ]
    }
   ],
   "source": [
    "# Anomaly\n",
    "anomaly = AnomalyСalculation(db_path=DB_PATH)\n",
    "# result anomaly\n",
    "twits_anomaly = anomaly.create_twits(game_id=GAME_ID)\n",
    "\n",
    "# Signal indicator\n",
    "stats = StatsHolder.from_sql(db_path=DB_PATH, prompt=prompt)\n",
    "strategy_top_100 = StrategyRating(top=100, playerID2name=stats.playerId2name)\n",
    "strategy_top_50 = StrategyRating(top=50, playerID2name=stats.playerId2name)\n",
    "strategy_top_10= StrategyRating(top=10, playerID2name=stats.playerId2name)\n",
    "stats.add_strategy(strategy_top_10)\n",
    "stats.add_strategy(strategy_top_50)\n",
    "stats.add_strategy(strategy_top_100)\n",
    "# result signal\n",
    "twits_signal = stats.get_twits(N_last_game=N_LAST_GAME)\n",
    "\n",
    "# Result\n",
    "twits = twits_anomaly + twits_signal\n",
    "print('===================================================================================================')\n",
    "for twit in twits:\n",
    "    print('===============================================================================================')\n",
    "    pprint(twit)"
   ]
  }
 ],
 "metadata": {
  "kernelspec": {
   "display_name": "venv",
   "language": "python",
   "name": "python3"
  },
  "language_info": {
   "codemirror_mode": {
    "name": "ipython",
    "version": 3
   },
   "file_extension": ".py",
   "mimetype": "text/x-python",
   "name": "python",
   "nbconvert_exporter": "python",
   "pygments_lexer": "ipython3",
   "version": "3.9.13"
  }
 },
 "nbformat": 4,
 "nbformat_minor": 2
}
